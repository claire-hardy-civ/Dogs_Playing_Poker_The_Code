{
 "cells": [
  {
   "cell_type": "code",
   "execution_count": 2,
   "metadata": {
    "colab": {
     "base_uri": "https://localhost:8080/"
    },
    "id": "NegyjwU70RgK",
    "outputId": "d0ffa6c0-f56e-4ea4-ff4c-1402a7a28632"
   },
   "outputs": [],
   "source": [
    "#Load the data\n",
    "from keras.datasets import cifar10\n",
    "import numpy as np\n",
    "(x_train, y_train), (x_test, y_test) = cifar10.load_data()\n"
   ]
  },
  {
   "cell_type": "code",
   "execution_count": null,
   "metadata": {
    "colab": {
     "base_uri": "https://localhost:8080/"
    },
    "id": "LUf916Cl0jg9",
    "outputId": "8f85237c-32d0-4841-b2d7-faff83467ea9"
   },
   "outputs": [],
   "source": [
    "from sklearn.decomposition import PCA\n",
    "print(x_train.shape)\n",
    "x_train_flattened = x_train.reshape(50000,3072) #reshaping cube arrays into a flat vector \n",
    "pca = PCA(svd_solver = 'full') #needs to be changed potentially with fancy graph information\n",
    "pca.fit(x_train_flattened)\n",
    "x_train_flattened.shape"
   ]
  },
  {
   "cell_type": "code",
   "execution_count": null,
   "metadata": {
    "id": "vLWUHkyq1y7o"
   },
   "outputs": [],
   "source": [
    "pca_features = pca.transform(x_train_flattened) #pca.transform(x_test.reshape(y, 3072)) <--- that would be testing for EVM "
   ]
  },
  {
   "cell_type": "code",
   "execution_count": null,
   "metadata": {
    "colab": {
     "base_uri": "https://localhost:8080/"
    },
    "id": "83t4Moej17Bu",
    "outputId": "bb5a3d0c-1952-4764-ed22-da211d446d1a"
   },
   "outputs": [
    {
     "data": {
      "text/plain": [
       "(50000, 3072)"
      ]
     },
     "execution_count": 13,
     "metadata": {
      "tags": []
     },
     "output_type": "execute_result"
    }
   ],
   "source": [
    "pca_features.shape #these are the PCA features that will go into evm  "
   ]
  },
  {
   "cell_type": "code",
   "execution_count": null,
   "metadata": {
    "colab": {
     "base_uri": "https://localhost:8080/"
    },
    "id": "Njgb8lhfEWDp",
    "outputId": "09177289-af47-4c94-fbad-293f648e08a9"
   },
   "outputs": [
    {
     "name": "stdout",
     "output_type": "stream",
     "text": [
      "[2.90766299e-01 1.12531437e-01 6.69441396e-02 ... 8.64946450e-09\n",
      " 8.45232138e-09 8.33587056e-09]\n"
     ]
    }
   ],
   "source": [
    "print(pca.explained_variance_ratio_)"
   ]
  }
 ],
 "metadata": {
  "colab": {
   "collapsed_sections": [],
   "name": "PCA.ipynb",
   "provenance": []
  },
  "kernelspec": {
   "display_name": "Python 3",
   "language": "python",
   "name": "python3"
  },
  "language_info": {
   "codemirror_mode": {
    "name": "ipython",
    "version": 3
   },
   "file_extension": ".py",
   "mimetype": "text/x-python",
   "name": "python",
   "nbconvert_exporter": "python",
   "pygments_lexer": "ipython3",
   "version": "3.7.7"
  }
 },
 "nbformat": 4,
 "nbformat_minor": 1
}
