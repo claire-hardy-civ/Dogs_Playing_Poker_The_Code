{
 "cells": [
  {
   "cell_type": "markdown",
   "metadata": {},
   "source": [
    "## Setup\n",
    "# PCA Cifar 5"
   ]
  },
  {
   "cell_type": "code",
   "execution_count": 7,
   "metadata": {},
   "outputs": [],
   "source": [
    "##\n",
    "## Restrict tensorflow to single GPU\n",
    "##\n",
    "import os \n",
    "os.environ['CUDA_DEVICE_ORDER'] = 'PCI_BUS_ID'\n",
    "os.environ['CUDA_VISIBLE_DEVICES'] = str(1)           \n",
    "## this says only use GPU 0  (can select 0-3)\n",
    "\n",
    "##\n",
    "## Import libraries\n",
    "##\n",
    "import evm_flat         ## We are using EVMs for a different project, so there are some things in here that may be confusing\n",
    "from utils import *     ## utils holds a few functions I wrote to help with the experiments in this notebook\n",
    "import numpy as np\n",
    "import tensorflow as tf\n",
    "\n",
    "##\n",
    "## Experiment Parameters\n",
    "##\n",
    "epochs = 10               ## Iterations to train CNN for feature extractors\n",
    "num_to_remove = 5           ## Number of classes to remove and make \"unknown\"\n",
    "iterations = 30              ## Number of iterations (full experiments) to run\n",
    "thresholds = [.1, .2, .3, .4, .5, .6, .7, .8, .9, 1]  ## Confidence thresholds to evaluate over\n",
    "\n",
    "##\n",
    "## EVM Parameters (good initial values, but could be further optimized)\n",
    "##\n",
    "tailsize = 10000              ## EVM tail size\n",
    "cover_threshold = 0.5      ## EVM cover threshold\n",
    "dist_func = 'cosine'     ## EVM distance function\n",
    "num_to_fuse = 4             ## EVM number to fuse\n",
    "margin_scale = 0.5          ## EVM margin scale"
   ]
  },
  {
   "cell_type": "markdown",
   "metadata": {},
   "source": [
    "## Data"
   ]
  },
  {
   "cell_type": "code",
   "execution_count": 8,
   "metadata": {},
   "outputs": [
    {
     "name": "stdout",
     "output_type": "stream",
     "text": [
      "(50000, 32, 32, 3)\n"
     ]
    }
   ],
   "source": [
    "##\n",
    "## Load CiFar10\n",
    "##\n",
    "import keras\n",
    "from keras.datasets import cifar10\n",
    "(x_train, y_train), (x_test, y_test) = cifar10.load_data()\n",
    "print(x_train.shape)\n",
    "##\n",
    "## Get data in correct shape and normalize\n",
    "##\n",
    "#x_train = x_train = np.reshape(x_train, (x_train.shape[0], x_train.shape[1], x_train.shape[2], 1))/255.0   ## Add dimension and normalize\n",
    "#x_test = x_test = np.reshape(x_test, (x_test.shape[0], x_test.shape[1], x_test.shape[2], 1))/255.0         ## Add dimension and normalize\n",
    "#y_train = tf.keras.utils.to_categorical(y_train)     ## Make one-hot\n",
    "#y_test = tf.keras.utils.to_categorical(y_test)       ## Make one-hot"
   ]
  },
  {
   "cell_type": "code",
   "execution_count": 9,
   "metadata": {},
   "outputs": [
    {
     "data": {
      "text/plain": [
       "(50000, 10)"
      ]
     },
     "execution_count": 9,
     "metadata": {},
     "output_type": "execute_result"
    }
   ],
   "source": [
    "import keras.utils\n",
    "y_train = tf.keras.utils.to_categorical(y_train) #one hot encode y vectors\n",
    "y_test = tf.keras.utils.to_categorical(y_test)\n",
    "\n",
    "y_train.shape"
   ]
  },
  {
   "cell_type": "code",
   "execution_count": 10,
   "metadata": {},
   "outputs": [
    {
     "name": "stdout",
     "output_type": "stream",
     "text": [
      "(50000, 32, 32, 3)\n"
     ]
    },
    {
     "data": {
      "text/plain": [
       "(15000, 32, 32, 3)"
      ]
     },
     "execution_count": 10,
     "metadata": {},
     "output_type": "execute_result"
    }
   ],
   "source": [
    "import random\n",
    "\n",
    "shrink_x_train = np.asarray(x_train)\n",
    "print(shrink_x_train.shape)\n",
    "x_train_for_fit_index = np.random.choice(len(shrink_x_train), size = 15000, replace = False, p = None)\n",
    "\n",
    "x_train_for_fit = shrink_x_train[x_train_for_fit_index]\n",
    "x_train_for_fit.shape"
   ]
  },
  {
   "cell_type": "markdown",
   "metadata": {},
   "source": [
    "## Create Feature Extractor With Perfect Knowledge \n",
    "\n",
    "- Feature extractor is a CNN trained using ALL of the classes\n",
    "- This is not realistic in the real world because all of the classes will not be known\n",
    "- This is a good \"optimal\" feature space to compare against\n",
    "- Goal would be to get as close to this performance as possible"
   ]
  },
  {
   "cell_type": "code",
   "execution_count": 11,
   "metadata": {},
   "outputs": [],
   "source": [
    "##\n",
    "## Perfect Knowledge feature extractor\n",
    "##\n",
    "import plotly.express as plotex\n",
    "from sklearn.decomposition import PCA\n",
    "\n",
    "\n",
    "x_train_flattened = x_train_for_fit.reshape(15000,3072) #reshaping cube arrays into a flat vector \n",
    "#perfect_pca = PCA(svd_solver = 'full') #needs to be changed potentially with fancy graph information\n",
    "perfect_pca = PCA(n_components = 128)\n",
    "perfect_pca.fit(x_train_flattened)\n",
    "\n",
    "\n",
    "exp_var_cumul = np.cumsum(perfect_pca.explained_variance_ratio_)\n",
    "\n",
    "#print(exp_var_cumul)\n",
    "#print(perfect_pca.explained_variance_ratio_)\n",
    "\n",
    "#plotex.area(\n",
    "#    x=range(1, exp_var_cumul.shape[0] + 1),\n",
    " #   y=exp_var_cumul,\n",
    "  #  labels={\"x\": \"# Components\", \"y\": \"Explained Variance\"}\n",
    "#)\n",
    "#perfect_pca_features = perfect_pca.transform(x_train_flattened) #pca.transform(x_test.reshape(y, 3072)) <--- that would be testing for EVM "
   ]
  },
  {
   "cell_type": "code",
   "execution_count": 12,
   "metadata": {},
   "outputs": [],
   "source": [
    "#samp = [[.6], [.65], [.7]]\n",
    "#pca_found = False\n",
    "#index = 0 \n",
    "\n",
    "#pca_index_list =[]\n",
    "\n",
    "#print(exp_var_cumul.dtype)\n",
    "#iter_exp_var_cumul = [exp_var_cumul]\n",
    "#print(iter_exp_var_cumul)\n",
    "#while pca_found == False:\n",
    "#    for val in iter_exp_var_cumul:\n",
    "#        for value in val:\n",
    "#            index += 1\n",
    "#            #print(value)\n",
    " #           if value > .9:\n",
    " #               pca_num = index - 1\n",
    " #               pca_index_list.append(pca_num)\n",
    "#                #pca_found = True\n",
    "#                print(pca_index_list[1])\n",
    "            "
   ]
  },
  {
   "cell_type": "code",
   "execution_count": 13,
   "metadata": {},
   "outputs": [
    {
     "name": "stdout",
     "output_type": "stream",
     "text": [
      "128?\n",
      "0.9195197488464034\n"
     ]
    }
   ],
   "source": [
    "#print(exp_var_cumul.dtype)\n",
    "iter_exp_var_cumul = [exp_var_cumul]\n",
    "#print(iter_exp_var_cumul)\n",
    "index = -1\n",
    "\n",
    "for val in iter_exp_var_cumul:\n",
    "    for value in val:\n",
    "        index += 1\n",
    "        #print(value)\n",
    "        if index == 127:\n",
    "            print(\"128?\")\n",
    "            #pca_num = index - 1\n",
    "            #pca_index_list.append(pca_num)\n",
    "            #pca_found = True\n",
    "            print(value)"
   ]
  },
  {
   "cell_type": "markdown",
   "metadata": {},
   "source": [
    "## Define a set of experiments\n",
    "\n",
    "- Randomly select and remove classes from the training data\n",
    "- Split test data into known and unknown classes\n",
    "- Fit imperfect feature extraction model\n",
    "- Extract features using the perfect and imperfect extractors\n",
    "- Fit EVM using features for the perfect and imperfect\n",
    "- Evaluate performance (evaluation metrics may need to be improved, but this gives us an initial idea of performance)\n",
    "- Repeat\n"
   ]
  },
  {
   "cell_type": "code",
   "execution_count": 15,
   "metadata": {},
   "outputs": [
    {
     "name": "stdout",
     "output_type": "stream",
     "text": [
      "Iteration: 0\n",
      "\n",
      "<class 'numpy.ndarray'>\n",
      "(5000, 32, 32, 3)\n",
      "Fit Imperfect EVM\n",
      "Fit Perfect EVM\n"
     ]
    },
    {
     "name": "stderr",
     "output_type": "stream",
     "text": [
      "/home/hardyc/Documents/CiFar-5 Iterations/PCA/utils.py:129: RuntimeWarning: invalid value encountered in long_scalars\n",
      "  correct = np.sum(pred[con>=i] == truth[con>=i])/np.sum(con>=i)\n"
     ]
    },
    {
     "name": "stdout",
     "output_type": "stream",
     "text": [
      "Iteration: 1\n",
      "\n",
      "<class 'numpy.ndarray'>\n",
      "(5000, 32, 32, 3)\n",
      "Fit Imperfect EVM\n",
      "Fit Perfect EVM\n"
     ]
    },
    {
     "name": "stderr",
     "output_type": "stream",
     "text": [
      "/home/hardyc/Documents/CiFar-5 Iterations/PCA/utils.py:129: RuntimeWarning: invalid value encountered in long_scalars\n",
      "  correct = np.sum(pred[con>=i] == truth[con>=i])/np.sum(con>=i)\n"
     ]
    },
    {
     "name": "stdout",
     "output_type": "stream",
     "text": [
      "Iteration: 2\n",
      "\n",
      "<class 'numpy.ndarray'>\n",
      "(5000, 32, 32, 3)\n",
      "Fit Imperfect EVM\n",
      "Fit Perfect EVM\n"
     ]
    },
    {
     "name": "stderr",
     "output_type": "stream",
     "text": [
      "/home/hardyc/Documents/CiFar-5 Iterations/PCA/utils.py:129: RuntimeWarning: invalid value encountered in long_scalars\n",
      "  correct = np.sum(pred[con>=i] == truth[con>=i])/np.sum(con>=i)\n"
     ]
    },
    {
     "name": "stdout",
     "output_type": "stream",
     "text": [
      "Iteration: 3\n",
      "\n",
      "<class 'numpy.ndarray'>\n",
      "(5000, 32, 32, 3)\n",
      "Fit Imperfect EVM\n",
      "Fit Perfect EVM\n"
     ]
    },
    {
     "name": "stderr",
     "output_type": "stream",
     "text": [
      "/home/hardyc/Documents/CiFar-5 Iterations/PCA/utils.py:129: RuntimeWarning: invalid value encountered in long_scalars\n",
      "  correct = np.sum(pred[con>=i] == truth[con>=i])/np.sum(con>=i)\n"
     ]
    },
    {
     "name": "stdout",
     "output_type": "stream",
     "text": [
      "Iteration: 4\n",
      "\n",
      "<class 'numpy.ndarray'>\n",
      "(5000, 32, 32, 3)\n",
      "Fit Imperfect EVM\n",
      "Fit Perfect EVM\n"
     ]
    },
    {
     "name": "stderr",
     "output_type": "stream",
     "text": [
      "/home/hardyc/Documents/CiFar-5 Iterations/PCA/utils.py:129: RuntimeWarning: invalid value encountered in long_scalars\n",
      "  correct = np.sum(pred[con>=i] == truth[con>=i])/np.sum(con>=i)\n"
     ]
    },
    {
     "name": "stdout",
     "output_type": "stream",
     "text": [
      "Iteration: 5\n",
      "\n",
      "<class 'numpy.ndarray'>\n",
      "(5000, 32, 32, 3)\n",
      "Fit Imperfect EVM\n",
      "Fit Perfect EVM\n"
     ]
    },
    {
     "name": "stderr",
     "output_type": "stream",
     "text": [
      "/home/hardyc/Documents/CiFar-5 Iterations/PCA/utils.py:129: RuntimeWarning: invalid value encountered in long_scalars\n",
      "  correct = np.sum(pred[con>=i] == truth[con>=i])/np.sum(con>=i)\n"
     ]
    },
    {
     "name": "stdout",
     "output_type": "stream",
     "text": [
      "Iteration: 6\n",
      "\n",
      "<class 'numpy.ndarray'>\n",
      "(5000, 32, 32, 3)\n",
      "Fit Imperfect EVM\n",
      "Fit Perfect EVM\n"
     ]
    },
    {
     "name": "stderr",
     "output_type": "stream",
     "text": [
      "/home/hardyc/Documents/CiFar-5 Iterations/PCA/utils.py:129: RuntimeWarning: invalid value encountered in long_scalars\n",
      "  correct = np.sum(pred[con>=i] == truth[con>=i])/np.sum(con>=i)\n"
     ]
    },
    {
     "name": "stdout",
     "output_type": "stream",
     "text": [
      "Iteration: 7\n",
      "\n",
      "<class 'numpy.ndarray'>\n",
      "(5000, 32, 32, 3)\n",
      "Fit Imperfect EVM\n",
      "Fit Perfect EVM\n"
     ]
    },
    {
     "name": "stderr",
     "output_type": "stream",
     "text": [
      "/home/hardyc/Documents/CiFar-5 Iterations/PCA/utils.py:129: RuntimeWarning: invalid value encountered in long_scalars\n",
      "  correct = np.sum(pred[con>=i] == truth[con>=i])/np.sum(con>=i)\n"
     ]
    },
    {
     "name": "stdout",
     "output_type": "stream",
     "text": [
      "Iteration: 8\n",
      "\n",
      "<class 'numpy.ndarray'>\n",
      "(5000, 32, 32, 3)\n",
      "Fit Imperfect EVM\n",
      "Fit Perfect EVM\n"
     ]
    },
    {
     "name": "stderr",
     "output_type": "stream",
     "text": [
      "/home/hardyc/Documents/CiFar-5 Iterations/PCA/utils.py:129: RuntimeWarning: invalid value encountered in long_scalars\n",
      "  correct = np.sum(pred[con>=i] == truth[con>=i])/np.sum(con>=i)\n"
     ]
    },
    {
     "name": "stdout",
     "output_type": "stream",
     "text": [
      "Iteration: 9\n",
      "\n",
      "<class 'numpy.ndarray'>\n",
      "(5000, 32, 32, 3)\n",
      "Fit Imperfect EVM\n",
      "Fit Perfect EVM\n"
     ]
    },
    {
     "name": "stderr",
     "output_type": "stream",
     "text": [
      "/home/hardyc/Documents/CiFar-5 Iterations/PCA/utils.py:129: RuntimeWarning: invalid value encountered in long_scalars\n",
      "  correct = np.sum(pred[con>=i] == truth[con>=i])/np.sum(con>=i)\n"
     ]
    },
    {
     "name": "stdout",
     "output_type": "stream",
     "text": [
      "Iteration: 10\n",
      "\n",
      "<class 'numpy.ndarray'>\n",
      "(5000, 32, 32, 3)\n",
      "Fit Imperfect EVM\n",
      "Fit Perfect EVM\n"
     ]
    },
    {
     "name": "stderr",
     "output_type": "stream",
     "text": [
      "/home/hardyc/Documents/CiFar-5 Iterations/PCA/utils.py:129: RuntimeWarning: invalid value encountered in long_scalars\n",
      "  correct = np.sum(pred[con>=i] == truth[con>=i])/np.sum(con>=i)\n"
     ]
    },
    {
     "name": "stdout",
     "output_type": "stream",
     "text": [
      "Iteration: 11\n",
      "\n",
      "<class 'numpy.ndarray'>\n",
      "(5000, 32, 32, 3)\n",
      "Fit Imperfect EVM\n",
      "Fit Perfect EVM\n"
     ]
    },
    {
     "name": "stderr",
     "output_type": "stream",
     "text": [
      "/home/hardyc/Documents/CiFar-5 Iterations/PCA/utils.py:129: RuntimeWarning: invalid value encountered in long_scalars\n",
      "  correct = np.sum(pred[con>=i] == truth[con>=i])/np.sum(con>=i)\n"
     ]
    },
    {
     "name": "stdout",
     "output_type": "stream",
     "text": [
      "Iteration: 12\n",
      "\n",
      "<class 'numpy.ndarray'>\n",
      "(5000, 32, 32, 3)\n",
      "Fit Imperfect EVM\n",
      "Fit Perfect EVM\n"
     ]
    },
    {
     "name": "stderr",
     "output_type": "stream",
     "text": [
      "/home/hardyc/Documents/CiFar-5 Iterations/PCA/utils.py:129: RuntimeWarning: invalid value encountered in long_scalars\n",
      "  correct = np.sum(pred[con>=i] == truth[con>=i])/np.sum(con>=i)\n"
     ]
    },
    {
     "name": "stdout",
     "output_type": "stream",
     "text": [
      "Iteration: 13\n",
      "\n",
      "<class 'numpy.ndarray'>\n",
      "(5000, 32, 32, 3)\n",
      "Fit Imperfect EVM\n",
      "Fit Perfect EVM\n"
     ]
    },
    {
     "name": "stderr",
     "output_type": "stream",
     "text": [
      "/home/hardyc/Documents/CiFar-5 Iterations/PCA/utils.py:129: RuntimeWarning: invalid value encountered in long_scalars\n",
      "  correct = np.sum(pred[con>=i] == truth[con>=i])/np.sum(con>=i)\n"
     ]
    },
    {
     "name": "stdout",
     "output_type": "stream",
     "text": [
      "Iteration: 14\n",
      "\n",
      "<class 'numpy.ndarray'>\n",
      "(5000, 32, 32, 3)\n",
      "Fit Imperfect EVM\n",
      "Fit Perfect EVM\n"
     ]
    },
    {
     "name": "stderr",
     "output_type": "stream",
     "text": [
      "/home/hardyc/Documents/CiFar-5 Iterations/PCA/utils.py:129: RuntimeWarning: invalid value encountered in long_scalars\n",
      "  correct = np.sum(pred[con>=i] == truth[con>=i])/np.sum(con>=i)\n"
     ]
    },
    {
     "name": "stdout",
     "output_type": "stream",
     "text": [
      "Iteration: 15\n",
      "\n",
      "<class 'numpy.ndarray'>\n",
      "(5000, 32, 32, 3)\n",
      "Fit Imperfect EVM\n",
      "Fit Perfect EVM\n"
     ]
    },
    {
     "name": "stderr",
     "output_type": "stream",
     "text": [
      "/home/hardyc/Documents/CiFar-5 Iterations/PCA/utils.py:129: RuntimeWarning: invalid value encountered in long_scalars\n",
      "  correct = np.sum(pred[con>=i] == truth[con>=i])/np.sum(con>=i)\n"
     ]
    },
    {
     "name": "stdout",
     "output_type": "stream",
     "text": [
      "Iteration: 16\n",
      "\n",
      "<class 'numpy.ndarray'>\n",
      "(5000, 32, 32, 3)\n",
      "Fit Imperfect EVM\n",
      "Fit Perfect EVM\n"
     ]
    },
    {
     "name": "stderr",
     "output_type": "stream",
     "text": [
      "/home/hardyc/Documents/CiFar-5 Iterations/PCA/utils.py:129: RuntimeWarning: invalid value encountered in long_scalars\n",
      "  correct = np.sum(pred[con>=i] == truth[con>=i])/np.sum(con>=i)\n"
     ]
    },
    {
     "name": "stdout",
     "output_type": "stream",
     "text": [
      "Iteration: 17\n",
      "\n",
      "<class 'numpy.ndarray'>\n",
      "(5000, 32, 32, 3)\n",
      "Fit Imperfect EVM\n",
      "Fit Perfect EVM\n"
     ]
    },
    {
     "name": "stderr",
     "output_type": "stream",
     "text": [
      "/home/hardyc/Documents/CiFar-5 Iterations/PCA/utils.py:129: RuntimeWarning: invalid value encountered in long_scalars\n",
      "  correct = np.sum(pred[con>=i] == truth[con>=i])/np.sum(con>=i)\n"
     ]
    },
    {
     "name": "stdout",
     "output_type": "stream",
     "text": [
      "Iteration: 18\n",
      "\n",
      "<class 'numpy.ndarray'>\n",
      "(5000, 32, 32, 3)\n",
      "Fit Imperfect EVM\n",
      "Fit Perfect EVM\n"
     ]
    },
    {
     "name": "stderr",
     "output_type": "stream",
     "text": [
      "/home/hardyc/Documents/CiFar-5 Iterations/PCA/utils.py:129: RuntimeWarning: invalid value encountered in long_scalars\n",
      "  correct = np.sum(pred[con>=i] == truth[con>=i])/np.sum(con>=i)\n"
     ]
    },
    {
     "name": "stdout",
     "output_type": "stream",
     "text": [
      "Iteration: 19\n",
      "\n",
      "<class 'numpy.ndarray'>\n",
      "(5000, 32, 32, 3)\n",
      "Fit Imperfect EVM\n",
      "Fit Perfect EVM\n"
     ]
    },
    {
     "name": "stderr",
     "output_type": "stream",
     "text": [
      "/home/hardyc/Documents/CiFar-5 Iterations/PCA/utils.py:129: RuntimeWarning: invalid value encountered in long_scalars\n",
      "  correct = np.sum(pred[con>=i] == truth[con>=i])/np.sum(con>=i)\n"
     ]
    },
    {
     "name": "stdout",
     "output_type": "stream",
     "text": [
      "Iteration: 20\n",
      "\n",
      "<class 'numpy.ndarray'>\n",
      "(5000, 32, 32, 3)\n",
      "Fit Imperfect EVM\n",
      "Fit Perfect EVM\n"
     ]
    },
    {
     "name": "stderr",
     "output_type": "stream",
     "text": [
      "/home/hardyc/Documents/CiFar-5 Iterations/PCA/utils.py:129: RuntimeWarning: invalid value encountered in long_scalars\n",
      "  correct = np.sum(pred[con>=i] == truth[con>=i])/np.sum(con>=i)\n"
     ]
    },
    {
     "name": "stdout",
     "output_type": "stream",
     "text": [
      "Iteration: 21\n",
      "\n",
      "<class 'numpy.ndarray'>\n",
      "(5000, 32, 32, 3)\n",
      "Fit Imperfect EVM\n",
      "Fit Perfect EVM\n"
     ]
    },
    {
     "name": "stderr",
     "output_type": "stream",
     "text": [
      "/home/hardyc/Documents/CiFar-5 Iterations/PCA/utils.py:129: RuntimeWarning: invalid value encountered in long_scalars\n",
      "  correct = np.sum(pred[con>=i] == truth[con>=i])/np.sum(con>=i)\n"
     ]
    },
    {
     "name": "stdout",
     "output_type": "stream",
     "text": [
      "Iteration: 22\n",
      "\n",
      "<class 'numpy.ndarray'>\n",
      "(5000, 32, 32, 3)\n",
      "Fit Imperfect EVM\n",
      "Fit Perfect EVM\n"
     ]
    },
    {
     "name": "stderr",
     "output_type": "stream",
     "text": [
      "/home/hardyc/Documents/CiFar-5 Iterations/PCA/utils.py:129: RuntimeWarning: invalid value encountered in long_scalars\n",
      "  correct = np.sum(pred[con>=i] == truth[con>=i])/np.sum(con>=i)\n"
     ]
    },
    {
     "name": "stdout",
     "output_type": "stream",
     "text": [
      "Iteration: 23\n",
      "\n",
      "<class 'numpy.ndarray'>\n",
      "(5000, 32, 32, 3)\n",
      "Fit Imperfect EVM\n",
      "Fit Perfect EVM\n"
     ]
    },
    {
     "name": "stderr",
     "output_type": "stream",
     "text": [
      "/home/hardyc/Documents/CiFar-5 Iterations/PCA/utils.py:129: RuntimeWarning: invalid value encountered in long_scalars\n",
      "  correct = np.sum(pred[con>=i] == truth[con>=i])/np.sum(con>=i)\n"
     ]
    },
    {
     "name": "stdout",
     "output_type": "stream",
     "text": [
      "Iteration: 24\n",
      "\n",
      "<class 'numpy.ndarray'>\n",
      "(5000, 32, 32, 3)\n",
      "Fit Imperfect EVM\n",
      "Fit Perfect EVM\n"
     ]
    },
    {
     "name": "stderr",
     "output_type": "stream",
     "text": [
      "/home/hardyc/Documents/CiFar-5 Iterations/PCA/utils.py:129: RuntimeWarning: invalid value encountered in long_scalars\n",
      "  correct = np.sum(pred[con>=i] == truth[con>=i])/np.sum(con>=i)\n"
     ]
    },
    {
     "name": "stdout",
     "output_type": "stream",
     "text": [
      "Iteration: 25\n",
      "\n",
      "<class 'numpy.ndarray'>\n",
      "(5000, 32, 32, 3)\n",
      "Fit Imperfect EVM\n",
      "Fit Perfect EVM\n"
     ]
    },
    {
     "name": "stderr",
     "output_type": "stream",
     "text": [
      "/home/hardyc/Documents/CiFar-5 Iterations/PCA/utils.py:129: RuntimeWarning: invalid value encountered in long_scalars\n",
      "  correct = np.sum(pred[con>=i] == truth[con>=i])/np.sum(con>=i)\n"
     ]
    },
    {
     "name": "stdout",
     "output_type": "stream",
     "text": [
      "Iteration: 26\n",
      "\n",
      "<class 'numpy.ndarray'>\n",
      "(5000, 32, 32, 3)\n",
      "Fit Imperfect EVM\n",
      "Fit Perfect EVM\n"
     ]
    },
    {
     "name": "stderr",
     "output_type": "stream",
     "text": [
      "/home/hardyc/Documents/CiFar-5 Iterations/PCA/utils.py:129: RuntimeWarning: invalid value encountered in long_scalars\n",
      "  correct = np.sum(pred[con>=i] == truth[con>=i])/np.sum(con>=i)\n"
     ]
    },
    {
     "name": "stdout",
     "output_type": "stream",
     "text": [
      "Iteration: 27\n",
      "\n",
      "<class 'numpy.ndarray'>\n",
      "(5000, 32, 32, 3)\n",
      "Fit Imperfect EVM\n",
      "Fit Perfect EVM\n"
     ]
    },
    {
     "name": "stderr",
     "output_type": "stream",
     "text": [
      "/home/hardyc/Documents/CiFar-5 Iterations/PCA/utils.py:129: RuntimeWarning: invalid value encountered in long_scalars\n",
      "  correct = np.sum(pred[con>=i] == truth[con>=i])/np.sum(con>=i)\n"
     ]
    },
    {
     "name": "stdout",
     "output_type": "stream",
     "text": [
      "Iteration: 28\n",
      "\n",
      "<class 'numpy.ndarray'>\n",
      "(5000, 32, 32, 3)\n",
      "Fit Imperfect EVM\n",
      "Fit Perfect EVM\n"
     ]
    },
    {
     "name": "stderr",
     "output_type": "stream",
     "text": [
      "/home/hardyc/Documents/CiFar-5 Iterations/PCA/utils.py:129: RuntimeWarning: invalid value encountered in long_scalars\n",
      "  correct = np.sum(pred[con>=i] == truth[con>=i])/np.sum(con>=i)\n"
     ]
    },
    {
     "name": "stdout",
     "output_type": "stream",
     "text": [
      "Iteration: 29\n",
      "\n",
      "<class 'numpy.ndarray'>\n",
      "(5000, 32, 32, 3)\n",
      "Fit Imperfect EVM\n",
      "Fit Perfect EVM\n"
     ]
    },
    {
     "name": "stderr",
     "output_type": "stream",
     "text": [
      "/home/hardyc/Documents/CiFar-5 Iterations/PCA/utils.py:129: RuntimeWarning: invalid value encountered in long_scalars\n",
      "  correct = np.sum(pred[con>=i] == truth[con>=i])/np.sum(con>=i)\n"
     ]
    }
   ],
   "source": [
    "##\n",
    "import pandas as pd\n",
    "## Define places to store results\n",
    "##\n",
    "imp_known_correct_all = []\n",
    "imp_known_novel_all = []\n",
    "imp_unknown_correct_all = []\n",
    "imp_unknown_novel_all = []\n",
    "per_known_correct_all = []\n",
    "per_known_novel_all = []\n",
    "per_unknown_correct_all = []\n",
    "per_unknown_novel_all = []\n",
    "\n",
    "df = pd.DataFrame(columns=['Iteration', 'Unknown Classes', 'imp_known_correct_all', 'imp_known_novel_all', 'imp_unknown_novel_all','per_known_correct_all','per_known_novel_all','per_unknown_novel_all'])\n",
    "\n",
    "##\n",
    "## Begin experiments\n",
    "## imperfect cnn starts here\n",
    "for i in range(iterations):\n",
    "    print('Iteration: ' + str(i))\n",
    "    print()\n",
    "    \n",
    "    ##\n",
    "    ## Split the data into known and unknown classes\n",
    "    ##\n",
    "    toRemove = np.random.choice(10, num_to_remove, replace = False)                                         ## Randomly pick unknown classes\n",
    "    x_train_known, x_train_unknown, y_train_known, y_train_unknown = split_data(x_train, y_train, toRemove) ## Split train data (defined in utils.py)\n",
    "    x_test_known, x_test_unknown, y_test_known, y_test_unknown = split_data(x_test, y_test, toRemove)       ## Split test data (defined in utils.py)\n",
    "   \n",
    "    ##\n",
    "    #df = df.append({'Iteration':i, 'Unknown Classes': toRemove}, ignore_index=True)\n",
    "    #df.to_csv(r'./pca_df.csv', index=False,header=True)\n",
    "    ## Train a classifier based feature extractor using only the known classes\n",
    "    ##\n",
    "   \n",
    "    x_train_known=np.squeeze(x_train_known)\n",
    "    \n",
    "    #imperfect = feature_model(10-num_to_remove, x_train_known, y_train_known, epochs = epochs, batch_size = 32, verbose = 0)\n",
    "    x_train_known_flattened = x_train_known.reshape(25000,3072) #reshaping cube arrays into a flat vector \n",
    "    imperfect_pca = PCA(n_components = 128) #needs to be changed potentially with fancy graph information\n",
    "    imperfect_pca.fit(x_train_known_flattened)\n",
    "    \n",
    "    print(type(x_test_known))\n",
    "    print(x_test_known.shape)\n",
    "    x_test_known_flattened = x_test_known.reshape(5000,3072)\n",
    "    x_test_unknown_flattened = x_test_unknown.reshape(5000,3072)\n",
    "    #imperfect_pca_features = imperfect_pca.transform(x_train_flattened)\n",
    "    ##\n",
    "    ## Extract features with imperfect extractor\n",
    "    ##\n",
    "  \n",
    "    x_train_known_imp = imperfect_pca.transform(x_train_known_flattened) #train EVM\n",
    "    x_test_known_imp = imperfect_pca.transform(x_test_known_flattened) #Test EVM\n",
    "    x_test_unknown_imp = imperfect_pca.transform(x_test_unknown_flattened) #Experimental test EVM\n",
    "\n",
    "    ##\n",
    "    x_train_known_imp = np.squeeze(x_train_known_imp)\n",
    "    x_test_known_imp = np.squeeze(x_test_known_imp)\n",
    "    x_test_unknown_imp = np.squeeze(x_test_unknown_imp)\n",
    "    ## Extract features with perfect extractor\n",
    "    ##\n",
    "    x_train_known_per = perfect_pca.transform(x_train_known_flattened) #same but this time -- perfect\n",
    "    x_test_known_per = perfect_pca.transform(x_test_known_flattened)\n",
    "    x_test_unknown_per = perfect_pca.transform(x_test_unknown_flattened)\n",
    "\n",
    "    ##\n",
    "    x_train_known_per = np.squeeze(x_train_known_per)\n",
    "    x_test_known_per = np.squeeze(x_test_known_per)\n",
    "    x_test_unknown_per = np.squeeze(x_test_unknown_per)\n",
    "    ## Fit EVMs\n",
    "    ##\n",
    "    evm_options = evm_flat.EVMOptions(tailsize = tailsize, cover_threshold = cover_threshold , dist_func = dist_func, num_to_fuse = num_to_fuse, margin_scale = margin_scale)\n",
    "    \n",
    "    print('Fit Imperfect EVM')\n",
    "    evm_imp = evm_flat.ExtremeValueMachine('imperfect', evm_options)\n",
    "    evm_imp.train(x_train_known_imp, y_train_known)\n",
    "    print('Fit Perfect EVM')\n",
    "    evm_per = evm_flat.ExtremeValueMachine('perfect', evm_options)\n",
    "    evm_per.train(x_train_known_per, y_train_known)\n",
    "\n",
    "    ##\n",
    "    ## Make Predictions with EVM\n",
    "    ##\n",
    "    imp_pred_known = evm_imp.confidence(x_test_known_imp)\n",
    "    imp_pred_unknown = evm_imp.confidence(x_test_unknown_imp)\n",
    "    per_pred_known = evm_per.confidence(x_test_known_per)\n",
    "    per_pred_unknown = evm_per.confidence(x_test_unknown_per)\n",
    "\n",
    "    ##\n",
    "    ## Evaluate Predictions\n",
    "    ##\n",
    "    imp_known_correct, imp_known_novel = eval(imp_pred_known, y_test_known, thresholds)           ## eval defined in utils.py\n",
    "    imp_unknown_correct, imp_unknown_novel = eval(imp_pred_unknown, y_test_unknown, thresholds)\n",
    "    per_known_correct, per_known_novel = eval(per_pred_known, y_test_known, thresholds)\n",
    "    per_unknown_correct, per_unknown_novel = eval(per_pred_unknown, y_test_unknown, thresholds)\n",
    "    \n",
    "    ##\n",
    "    ## Store results\n",
    "    ##\n",
    "    imp_known_correct_all.append(imp_known_correct)      ## imp_known_correct: correct classification percentage of known instances by the imperfect EVM (instances called novel not considered)\n",
    "    imp_known_novel_all.append(imp_known_novel)          ## imp_known_novel: percentage of known instances called novel by the imperfect EVM \n",
    "    imp_unknown_novel_all.append(imp_unknown_novel)      ## imp_unknown_novel: percentage of unknown instances called novel by the imperfect EVM\n",
    "    per_known_correct_all.append(per_known_correct)      ## per_known_correct: correct classification percentage of known instances by the perfect EVM (instances called novel not considered)\n",
    "    per_known_novel_all.append(per_known_novel)          ## per_known_novel: percentage of known instances called novel by the perfect EVM\n",
    "    per_unknown_novel_all.append(per_unknown_novel)  \n",
    "    ## per_unknown_novel: percentage of unknown instances called novel by the perfect EVM\n",
    "    if i <= 5:\n",
    "        df = df.append({'Iteration':i, 'Unknown Classes': toRemove, 'imp_known_correct_all':imp_known_correct_all, 'imp_known_novel_all':imp_known_novel_all, 'imp_unknown_novel_all':imp_unknown_novel_all,'per_known_correct_all':per_known_correct_all,'per_known_novel_all':per_known_novel_all,'per_unknown_novel_all':per_unknown_novel_all}, ignore_index=True)\n",
    "        df.to_csv(r'./pca_df_cf5_five_iter(s).csv', index= False,header=True)\n",
    "        df.to_csv(r'./pca_df_cf5.csv', index= False,header=True)\n",
    "    else:\n",
    "        df = df.append({'Iteration':i, 'Unknown Classes': toRemove, 'imp_known_correct_all':imp_known_correct_all, 'imp_known_novel_all':imp_known_novel_all, 'imp_unknown_novel_all':imp_unknown_novel_all,'per_known_correct_all':per_known_correct_all,'per_known_novel_all':per_known_novel_all,'per_unknown_novel_all':per_unknown_novel_all}, ignore_index=True)\n",
    "        df.to_csv(r'./pca_df_cf5.csv', index= False,header=True)"
   ]
  },
  {
   "cell_type": "code",
   "execution_count": null,
   "metadata": {},
   "outputs": [],
   "source": [
    "print(x_train_known_imp)\n",
    "print(x_test_known_imp)\n",
    "print(x_test_unknown_imp)"
   ]
  },
  {
   "cell_type": "code",
   "execution_count": null,
   "metadata": {},
   "outputs": [],
   "source": [
    "print(imp_pred_known)\n",
    "print(imp_pred_unknown)\n",
    "print(per_pred_known)\n",
    "print(per_pred_unknown)"
   ]
  },
  {
   "cell_type": "code",
   "execution_count": 16,
   "metadata": {},
   "outputs": [
    {
     "name": "stdout",
     "output_type": "stream",
     "text": [
      "[[0.0264, 0.095, 0.1738, 0.2602, 0.3544, 0.452, 0.5518, 0.6762, 0.8274, 1.0], [0.0254, 0.09, 0.1626, 0.2604, 0.3562, 0.4556, 0.5678, 0.6846, 0.8394, 1.0], [0.0252, 0.0832, 0.1512, 0.2266, 0.313, 0.403, 0.5016, 0.6334, 0.7974, 1.0], [0.023, 0.073, 0.1434, 0.2222, 0.3108, 0.4054, 0.51, 0.6262, 0.788, 1.0], [0.027, 0.098, 0.1792, 0.2634, 0.353, 0.4494, 0.5558, 0.6706, 0.8276, 1.0], [0.021, 0.0778, 0.1452, 0.2264, 0.3188, 0.4154, 0.521, 0.6454, 0.7942, 1.0], [0.0234, 0.0808, 0.1534, 0.2298, 0.3216, 0.4112, 0.512, 0.6264, 0.7776, 1.0], [0.0234, 0.0764, 0.1432, 0.2224, 0.3058, 0.4018, 0.4958, 0.6158, 0.7734, 0.9996], [0.0172, 0.0674, 0.1312, 0.2082, 0.2942, 0.3864, 0.487, 0.6236, 0.7896, 1.0], [0.0244, 0.07, 0.1392, 0.223, 0.3158, 0.4138, 0.526, 0.6406, 0.7908, 1.0], [0.0254, 0.0754, 0.1436, 0.225, 0.313, 0.4038, 0.519, 0.6358, 0.7804, 1.0], [0.0192, 0.0696, 0.1292, 0.2012, 0.2942, 0.386, 0.483, 0.6086, 0.773, 1.0], [0.0184, 0.061, 0.1196, 0.1856, 0.2636, 0.3468, 0.4442, 0.573, 0.7458, 1.0], [0.0252, 0.0928, 0.1738, 0.257, 0.3404, 0.444, 0.5434, 0.6578, 0.816, 1.0], [0.0274, 0.083, 0.1466, 0.2222, 0.3048, 0.3886, 0.4926, 0.6134, 0.7718, 0.9996], [0.0274, 0.0848, 0.1532, 0.2318, 0.3132, 0.4012, 0.5016, 0.6262, 0.788, 1.0], [0.0214, 0.0632, 0.1228, 0.1904, 0.2744, 0.3696, 0.4722, 0.6004, 0.7726, 1.0], [0.0268, 0.0896, 0.1632, 0.2474, 0.3372, 0.4322, 0.5456, 0.672, 0.8264, 1.0], [0.0218, 0.0766, 0.145, 0.2274, 0.314, 0.4138, 0.5218, 0.6476, 0.7982, 1.0], [0.0234, 0.0792, 0.1404, 0.2214, 0.3028, 0.3976, 0.5004, 0.6202, 0.7752, 1.0], [0.0178, 0.0642, 0.1256, 0.1866, 0.2624, 0.3444, 0.4478, 0.5846, 0.7606, 1.0], [0.0226, 0.0804, 0.142, 0.22, 0.3026, 0.3946, 0.5084, 0.6374, 0.8052, 1.0], [0.0216, 0.0836, 0.1502, 0.2288, 0.3148, 0.405, 0.5086, 0.6258, 0.795, 1.0], [0.0268, 0.084, 0.1508, 0.2246, 0.3094, 0.3978, 0.5006, 0.6258, 0.7886, 1.0], [0.0238, 0.0734, 0.1418, 0.2288, 0.3212, 0.4116, 0.5092, 0.6342, 0.7908, 1.0], [0.0192, 0.0744, 0.1404, 0.2218, 0.3114, 0.408, 0.5146, 0.6324, 0.7962, 1.0], [0.028, 0.097, 0.173, 0.2644, 0.3578, 0.4588, 0.572, 0.6984, 0.8444, 1.0], [0.0266, 0.0892, 0.1638, 0.2478, 0.342, 0.4382, 0.5434, 0.6744, 0.8282, 1.0], [0.0234, 0.0824, 0.1478, 0.2224, 0.2976, 0.39, 0.4976, 0.6182, 0.7922, 1.0], [0.0196, 0.069, 0.1328, 0.2078, 0.2952, 0.3852, 0.4874, 0.6216, 0.7918, 1.0]]\n"
     ]
    }
   ],
   "source": [
    "#print(imp_known_correct_all)     ## imp_known_correct: correct classification percentage of known instances by the imperfect EVM (instances called novel not considered)\n",
    "print(imp_known_novel_all)        ## imp_known_novel: percentage of known instances called novel by the imperfect EVM \n",
    "#print(imp_unknown_novel_all)     ## imp_unknown_novel: percentage of unknown instances called novel by the imperfect EVM\n",
    "#print(per_known_correct_all)      ## per_known_correct: correct classification percentage of known instances by the perfect EVM (instances called novel not considered)\n",
    "#print(per_known_novel_all)         ## per_known_novel: percentage of known instances called novel by the perfect EVM\n",
    "#print(per_unknown_novel_all)"
   ]
  },
  {
   "cell_type": "code",
   "execution_count": 20,
   "metadata": {},
   "outputs": [
    {
     "data": {
      "image/png": "[encoded data removed]",
      "text/plain": [
       "<Figure size 1008x216 with 3 Axes>"
      ]
     },
     "metadata": {
      "needs_background": "light"
     },
     "output_type": "display_data"
    }
   ],
   "source": [
    "import matplotlib.pyplot as plt\n",
    "\n",
    "\n",
    "\n",
    "fig = plt.figure(figsize = (14, 3))\n",
    "ax1 = fig.add_subplot(131)\n",
    "ax2 = fig.add_subplot(132)\n",
    "ax3 = fig.add_subplot(133)\n",
    "\n",
    "ax1.title.set_text('Knowns: Correct Classification Rate')\n",
    "ax2.title.set_text('Knowns: False Novel Rate')\n",
    "ax3.title.set_text('Unknowns: True Novel Rate')\n",
    "\n",
    "ax1.plot(thresholds, np.mean(imp_known_correct_all, axis = 0), label = 'Imperfect')\n",
    "ax1.plot(thresholds, np.mean(per_known_correct_all, axis = 0), label = 'Perfect')\n",
    "\n",
    "\n",
    "ax2.plot(thresholds, np.mean(imp_known_novel_all, axis = 0), label = 'Imperfect')\n",
    "ax2.plot(thresholds, np.mean(per_known_novel_all, axis = 0), label = 'Perfect')\n",
    "\n",
    "ax3.plot(thresholds, np.mean(imp_unknown_novel_all, axis = 0), label = 'Imperfect')\n",
    "ax3.plot(thresholds, np.mean(per_unknown_novel_all, axis = 0), label = 'Perfect')\n",
    "\n",
    "handles, labels = ax1.get_legend_handles_labels()\n",
    "fig.legend(handles, labels, loc='upper left')\n",
    "\n",
    "plt.savefig('PCA_images_cf5_30iter.pdf')\n",
    "plt.show()"
   ]
  },
  {
   "cell_type": "code",
   "execution_count": null,
   "metadata": {},
   "outputs": [],
   "source": [
    "x_train_known_imp.shape"
   ]
  },
  {
   "cell_type": "code",
   "execution_count": null,
   "metadata": {},
   "outputs": [],
   "source": []
  }
 ],
 "metadata": {
  "kernelspec": {
   "display_name": "thesisEnv",
   "language": "python",
   "name": "thesisenv"
  },
  "language_info": {
   "codemirror_mode": {
    "name": "ipython",
    "version": 3
   },
   "file_extension": ".py",
   "mimetype": "text/x-python",
   "name": "python",
   "nbconvert_exporter": "python",
   "pygments_lexer": "ipython3",
   "version": "3.8.3"
  }
 },
 "nbformat": 4,
 "nbformat_minor": 4
}
