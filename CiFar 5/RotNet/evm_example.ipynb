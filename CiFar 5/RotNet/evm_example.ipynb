{
 "cells": [
  {
   "cell_type": "markdown",
   "metadata": {},
   "source": [
    "## Setup\n",
    "# RotNet CiFar 5 Perfect Only"
   ]
  },
  {
   "cell_type": "code",
   "execution_count": 1,
   "metadata": {},
   "outputs": [],
   "source": [
    "##\n",
    "## Restrict tensorflow to single GPU\n",
    "##\n",
    "import os \n",
    "os.environ['CUDA_DEVICE_ORDER'] = 'PCI_BUS_ID'\n",
    "os.environ['CUDA_VISIBLE_DEVICES'] = str(1)           \n",
    "## this says only use GPU 0  (can select 0-3)\n",
    "\n",
    "##\n",
    "## Import libraries\n",
    "##\n",
    "import evm_flat         ## We are using EVMs for a different project, so there are some things in here that may be confusing\n",
    "from utils import *     ## utils holds a few functions I wrote to help with the experiments in this notebook\n",
    "import numpy as np\n",
    "import tensorflow as tf\n",
    "\n",
    "##\n",
    "## Experiment Parameters\n",
    "##\n",
    "epochs = 10                 ## Iterations to train CNN for feature extractors\n",
    "num_to_remove = 5           ## Number of classes to remove and make \"unknown\"\n",
    "iterations = 30             ## Number of iterations (full experiments) to run\n",
    "thresholds = [.1, .2, .3, .4, .5, .6, .7, .8, .9, 1]  ## Confidence thresholds to evaluate over\n",
    "\n",
    "##\n",
    "## EVM Parameters (good initial values, but could be further optimized)\n",
    "##\n",
    "tailsize = 10000              ## EVM tail size\n",
    "cover_threshold = 0.5      ## EVM cover threshold\n",
    "dist_func = 'cosine'     ## EVM distance function\n",
    "num_to_fuse = 4             ## EVM number to fuse\n",
    "margin_scale = 0.5          ## EVM margin scale"
   ]
  },
  {
   "cell_type": "markdown",
   "metadata": {},
   "source": [
    "## Data"
   ]
  },
  {
   "cell_type": "code",
   "execution_count": 2,
   "metadata": {},
   "outputs": [],
   "source": [
    "##\n",
    "## Load CiFar10\n",
    "##\n",
    "import keras\n",
    "from keras.datasets import cifar10\n",
    "(x_train, y_train), (x_test, y_test) = cifar10.load_data()\n",
    "\n",
    "##\n",
    "## Get data in correct shape and normalize\n",
    "##\n",
    "#x_train = x_train = np.reshape(x_train, (x_train.shape[0], x_train.shape[1], x_train.shape[2], 1))/255.0   ## Add dimension and normalize\n",
    "#x_test = x_test = np.reshape(x_test, (x_test.shape[0], x_test.shape[1], x_test.shape[2], 1))/255.0         ## Add dimension and normalize\n",
    "#y_train = tf.keras.utils.to_categorical(y_train)     ## Make one-hot\n",
    "#y_test = tf.keras.utils.to_categorical(y_test)       ## Make one-hot"
   ]
  },
  {
   "cell_type": "code",
   "execution_count": 3,
   "metadata": {},
   "outputs": [],
   "source": [
    "import numpy as np\n",
    "import os\n",
    "import random\n",
    "import sklearn\n",
    "from matplotlib import pyplot as plt\n",
    "import tensorflow\n",
    "from tensorflow.keras import losses, layers, models, metrics, Model\n",
    "from tensorflow.keras import optimizers\n",
    "from tensorflow.keras import regularizers\n",
    "from tensorflow.keras.callbacks import LearningRateScheduler\n",
    "from tensorflow.keras.preprocessing.image import ImageDataGenerator\n",
    "from sklearn import svm\n",
    "from sklearn import metrics\n",
    "import PIL, PIL.ImageOps, PIL.ImageEnhance, PIL.ImageDraw\n",
    "#import torch\n",
    "from PIL import Image\n",
    "from tensorflow.keras.applications.resnet50 import ResNet50, preprocess_input"
   ]
  },
  {
   "cell_type": "code",
   "execution_count": 4,
   "metadata": {},
   "outputs": [],
   "source": [
    "def unpickle(file):\n",
    "    import pickle\n",
    "    with open(file, 'rb') as fo:\n",
    "        dict = pickle.load(fo, encoding='bytes')\n",
    "    return dict"
   ]
  },
  {
   "cell_type": "code",
   "execution_count": 5,
   "metadata": {},
   "outputs": [],
   "source": [
    "files = []\n",
    "for i in range(6):\n",
    "    name =  ''\n",
    "    if i == 5:\n",
    "        name = 'SelfSupervision-main/cifar-10-batches-py/test_batch'\n",
    "    else:\n",
    "        name = 'SelfSupervision-main/cifar-10-batches-py/data_batch_' + str(i + 1)\n",
    "    files.append(unpickle(name))"
   ]
  },
  {
   "cell_type": "code",
   "execution_count": 6,
   "metadata": {},
   "outputs": [],
   "source": [
    "rotations_num = 4\n",
    "augment_num = 10\n",
    "\n",
    "saved_name = 'selfsupervised'\n",
    "cnn_name = 'mycnn'\n",
    "\n",
    "selfsupervised_epochs = 80\n",
    "selfsupervised_batch_size = 128\n",
    "supervised_epochs = 50\n",
    "supervised_batch_size = 128\n",
    "supervised_trainval_ratio = 1. / 6 #1/6 is implied in CIFAR-10\n",
    "\n",
    "feature_layer_trained = 'conv2_block3_out'\n",
    "feature_layer = 'conv2_block3_out'\n",
    "first_resnet_layer = 'conv2_block1_out'\n",
    "second_resnet_layer = 'conv2_block2_out'\n",
    "feature_layer_cnn = 'out_layer'"
   ]
  },
  {
   "cell_type": "code",
   "execution_count": 7,
   "metadata": {},
   "outputs": [],
   "source": [
    "combined_data = np.zeros((60000 * rotations_num, 32, 32, 3), dtype = np.float32)\n",
    "combined_labels = np.zeros((60000 * rotations_num, rotations_num), dtype = np.float32)\n",
    "true_labels = np.zeros((60000 * rotations_num, 10), dtype = np.float32)\n",
    "\n",
    "\n",
    "for i in range(len(files)):\n",
    "    data_len = files[i][b\"data\"].shape[0]\n",
    "    \n",
    "    for j in range(data_len):\n",
    "        row = files[i][b\"data\"][j]\n",
    "        true_labels[rotations_num * (data_len * i + j)][files[i][b\"labels\"][j]] = 1.\n",
    "        \n",
    "        for k in range(files[i][b\"data\"].shape[1]):\n",
    "            combined_data[rotations_num * (data_len * i + j)][(k & 1023) >> 5][k & 31][k >> 10] = row[k]\n",
    "        combined_labels[rotations_num * (data_len * i + j)][0] = 1.\n",
    "        \n",
    "        for t in range(1, rotations_num):\n",
    "            true_labels[rotations_num * (data_len * i + j) + t][files[i][b\"labels\"][j]] = 1.\n",
    "            combined_data[rotations_num * (data_len * i + j) + t] = np.rot90(combined_data[rotations_num * (data_len * i + j)], t)\n",
    "            combined_labels[rotations_num * (data_len * i + j) + t][t] = 1."
   ]
  },
  {
   "cell_type": "code",
   "execution_count": 8,
   "metadata": {},
   "outputs": [
    {
     "data": {
      "image/png": "[encoded data removed]",
      "text/plain": [
       "<Figure size 432x288 with 1 Axes>"
      ]
     },
     "metadata": {
      "needs_background": "light"
     },
     "output_type": "display_data"
    },
    {
     "name": "stdout",
     "output_type": "stream",
     "text": [
      "[1. 0. 0. 0.]\n",
      "[1. 0. 0. 0. 0. 0. 0. 0. 0. 0.]\n"
     ]
    },
    {
     "data": {
      "image/png": "[encoded data removed]",
      "text/plain": [
       "<Figure size 432x288 with 1 Axes>"
      ]
     },
     "metadata": {
      "needs_background": "light"
     },
     "output_type": "display_data"
    },
    {
     "name": "stdout",
     "output_type": "stream",
     "text": [
      "[0. 1. 0. 0.]\n",
      "[1. 0. 0. 0. 0. 0. 0. 0. 0. 0.]\n"
     ]
    },
    {
     "data": {
      "image/png": "[encoded data removed]",
      "text/plain": [
       "<Figure size 432x288 with 1 Axes>"
      ]
     },
     "metadata": {
      "needs_background": "light"
     },
     "output_type": "display_data"
    },
    {
     "name": "stdout",
     "output_type": "stream",
     "text": [
      "[0. 0. 1. 0.]\n",
      "[1. 0. 0. 0. 0. 0. 0. 0. 0. 0.]\n"
     ]
    },
    {
     "data": {
      "image/png": "[encoded data removed]",
      "text/plain": [
       "<Figure size 432x288 with 1 Axes>"
      ]
     },
     "metadata": {
      "needs_background": "light"
     },
     "output_type": "display_data"
    },
    {
     "name": "stdout",
     "output_type": "stream",
     "text": [
      "[0. 0. 0. 1.]\n",
      "[1. 0. 0. 0. 0. 0. 0. 0. 0. 0.]\n"
     ]
    }
   ],
   "source": [
    "r = random.randint(0, 60000)\n",
    "\n",
    "for i in range(rotations_num):\n",
    "    plt.imshow(combined_data[r * rotations_num + i].astype(int))\n",
    "    plt.show()\n",
    "    print(combined_labels[r * rotations_num + i])\n",
    "    print(true_labels[r * rotations_num + i])"
   ]
  },
  {
   "cell_type": "code",
   "execution_count": 9,
   "metadata": {},
   "outputs": [],
   "source": [
    "#print(len(files[2][b\"labels\"]))"
   ]
  },
  {
   "cell_type": "code",
   "execution_count": 10,
   "metadata": {},
   "outputs": [],
   "source": [
    "# def get_conv_model_modded():\n",
    "#     base = ResNet50(include_top=False, weights=None, input_shape=(32, 32, 3))\n",
    "#     l = base.get_layer(feature_layer_trained).output\n",
    "#     l = layers.Flatten()(l)\n",
    "#     l = layers.BatchNormalization()(l)\n",
    "#     l = layers.Dropout(0.5)(l)\n",
    "#     l = layers.Dense(200, kernel_regularizer=regularizers.l1_l2(l1 = 0.0001, l2 = 0.0005), kernel_initializer='he_uniform', name = 'good layer')(l)\n",
    "#     l = layers.BatchNormalization()(l)\n",
    "#     l = layers.Activation('relu')(l)\n",
    "#     l = layers.Dropout(0.5)(l)\n",
    "#     l = layers.Dense(200, kernel_regularizer=regularizers.l1_l2(l1 = 0.0001, l2 = 0.0005), kernel_initializer='he_uniform',\n",
    "#                      name = 'good_layer')(l)\n",
    "#     l = layers.BatchNormalization()(l)\n",
    "#     l = layers.Activation('relu')(l)\n",
    "#     l = layers.Dropout(0.5)(l)\n",
    "#     l = layers.Dense(rotations_num, kernel_regularizer=regularizers.l1_l2(l1 = 0.00005, l2 = 0.0001), activation = 'softmax')(l)\n",
    "    \n",
    "#     return tensorflow.keras.Model(inputs = base.input, outputs = base.get_layer('good layer').output)\n",
    "\n",
    "def get_conv_model():\n",
    "    base = ResNet50(include_top=False, weights=None, input_shape=(32, 32, 3))\n",
    "    l = base.get_layer(feature_layer_trained).output\n",
    "    l = layers.Flatten()(l)\n",
    "    l = layers.BatchNormalization()(l)\n",
    "    l = layers.Dropout(0.5)(l)\n",
    "    l = layers.Dense(200, kernel_regularizer=regularizers.l1_l2(l1 = 0.0001, l2 = 0.0005), kernel_initializer='he_uniform', name = 'good_layer')(l)\n",
    "    l = layers.BatchNormalization()(l)\n",
    "    l = layers.Activation('relu')(l)\n",
    "    l = layers.Dropout(0.5)(l)\n",
    "    l = layers.Dense(200, kernel_regularizer=regularizers.l1_l2(l1 = 0.0001, l2 = 0.0005), kernel_initializer='he_uniform')(l)\n",
    "    l = layers.BatchNormalization()(l)\n",
    "    l = layers.Activation('relu')(l)\n",
    "    l = layers.Dropout(0.5)(l)\n",
    "    l = layers.Dense(rotations_num, kernel_regularizer=regularizers.l1_l2(l1 = 0.00005, l2 = 0.0001), activation = 'softmax')(l)\n",
    "    \n",
    "    return tensorflow.keras.Model(inputs = base.input, outputs = l)\n",
    "\n",
    "def self_supervised_train(unlabeled, percent, use_datagen = False, **kwargs):\n",
    "    if percent >= 100:\n",
    "        return None\n",
    "    \n",
    "    model = get_conv_model()\n",
    "    model.summary()\n",
    "    model.compile(optimizer = optimizers.Adam(), loss = 'categorical_crossentropy', metrics=['accuracy'])\n",
    "    \n",
    "    if use_datagen:\n",
    "        log = model.fit(kwargs['datagen'].flow(np.asarray([combined_data[i] for i in unlabeled]), \n",
    "                    np.asarray([combined_labels[i] for i in unlabeled]),\n",
    "                    batch_size = selfsupervised_batch_size),\n",
    "                    epochs = selfsupervised_epochs, \n",
    "                    steps_per_epoch = len(unlabeled) // selfsupervised_batch_size,\n",
    "                    shuffle = True,\n",
    "                    #callbacks = [LearningRateScheduler(lr_schedule_conv)],\n",
    "                            validation_data = (np.asarray(combined_data[50000 * rotations_num:]), \n",
    "                                               np.asarray(combined_labels[50000 * rotations_num:])))\n",
    "    else:    \n",
    "        log = model.fit(np.asarray([combined_data[i] for i in unlabeled]) / 256., \n",
    "                    np.asarray([combined_labels[i] for i in unlabeled]), \n",
    "                    epochs = selfsupervised_epochs, \n",
    "                    batch_size = selfsupervised_batch_size, \n",
    "                    shuffle = True,\n",
    "                    #callbacks = [LearningRateScheduler(lr_schedule_conv)],\n",
    "                            validation_data = (np.asarray([combined_data[(50000 + i) * rotations_num] for i in range(10000)])  / 256., \n",
    "                                               np.asarray([combined_labels[(50000 + i) * rotations_num] for i in range(10000)])))\n",
    "    model.save(saved_name + \"_\" + str(percent))\n",
    "    \n",
    "    return log, model"
   ]
  },
  {
   "cell_type": "code",
   "execution_count": 11,
   "metadata": {},
   "outputs": [
    {
     "name": "stdout",
     "output_type": "stream",
     "text": [
      "Model: \"model\"\n",
      "__________________________________________________________________________________________________\n",
      "Layer (type)                    Output Shape         Param #     Connected to                     \n",
      "==================================================================================================\n",
      "input_1 (InputLayer)            [(None, 32, 32, 3)]  0                                            \n",
      "__________________________________________________________________________________________________\n",
      "conv1_pad (ZeroPadding2D)       (None, 38, 38, 3)    0           input_1[0][0]                    \n",
      "__________________________________________________________________________________________________\n",
      "conv1_conv (Conv2D)             (None, 16, 16, 64)   9472        conv1_pad[0][0]                  \n",
      "__________________________________________________________________________________________________\n",
      "conv1_bn (BatchNormalization)   (None, 16, 16, 64)   256         conv1_conv[0][0]                 \n",
      "__________________________________________________________________________________________________\n",
      "conv1_relu (Activation)         (None, 16, 16, 64)   0           conv1_bn[0][0]                   \n",
      "__________________________________________________________________________________________________\n",
      "pool1_pad (ZeroPadding2D)       (None, 18, 18, 64)   0           conv1_relu[0][0]                 \n",
      "__________________________________________________________________________________________________\n",
      "pool1_pool (MaxPooling2D)       (None, 8, 8, 64)     0           pool1_pad[0][0]                  \n",
      "__________________________________________________________________________________________________\n",
      "conv2_block1_1_conv (Conv2D)    (None, 8, 8, 64)     4160        pool1_pool[0][0]                 \n",
      "__________________________________________________________________________________________________\n",
      "conv2_block1_1_bn (BatchNormali (None, 8, 8, 64)     256         conv2_block1_1_conv[0][0]        \n",
      "__________________________________________________________________________________________________\n",
      "conv2_block1_1_relu (Activation (None, 8, 8, 64)     0           conv2_block1_1_bn[0][0]          \n",
      "__________________________________________________________________________________________________\n",
      "conv2_block1_2_conv (Conv2D)    (None, 8, 8, 64)     36928       conv2_block1_1_relu[0][0]        \n",
      "__________________________________________________________________________________________________\n",
      "conv2_block1_2_bn (BatchNormali (None, 8, 8, 64)     256         conv2_block1_2_conv[0][0]        \n",
      "__________________________________________________________________________________________________\n",
      "conv2_block1_2_relu (Activation (None, 8, 8, 64)     0           conv2_block1_2_bn[0][0]          \n",
      "__________________________________________________________________________________________________\n",
      "conv2_block1_0_conv (Conv2D)    (None, 8, 8, 256)    16640       pool1_pool[0][0]                 \n",
      "__________________________________________________________________________________________________\n",
      "conv2_block1_3_conv (Conv2D)    (None, 8, 8, 256)    16640       conv2_block1_2_relu[0][0]        \n",
      "__________________________________________________________________________________________________\n",
      "conv2_block1_0_bn (BatchNormali (None, 8, 8, 256)    1024        conv2_block1_0_conv[0][0]        \n",
      "__________________________________________________________________________________________________\n",
      "conv2_block1_3_bn (BatchNormali (None, 8, 8, 256)    1024        conv2_block1_3_conv[0][0]        \n",
      "__________________________________________________________________________________________________\n",
      "conv2_block1_add (Add)          (None, 8, 8, 256)    0           conv2_block1_0_bn[0][0]          \n",
      "                                                                 conv2_block1_3_bn[0][0]          \n",
      "__________________________________________________________________________________________________\n",
      "conv2_block1_out (Activation)   (None, 8, 8, 256)    0           conv2_block1_add[0][0]           \n",
      "__________________________________________________________________________________________________\n",
      "conv2_block2_1_conv (Conv2D)    (None, 8, 8, 64)     16448       conv2_block1_out[0][0]           \n",
      "__________________________________________________________________________________________________\n",
      "conv2_block2_1_bn (BatchNormali (None, 8, 8, 64)     256         conv2_block2_1_conv[0][0]        \n",
      "__________________________________________________________________________________________________\n",
      "conv2_block2_1_relu (Activation (None, 8, 8, 64)     0           conv2_block2_1_bn[0][0]          \n",
      "__________________________________________________________________________________________________\n",
      "conv2_block2_2_conv (Conv2D)    (None, 8, 8, 64)     36928       conv2_block2_1_relu[0][0]        \n",
      "__________________________________________________________________________________________________\n",
      "conv2_block2_2_bn (BatchNormali (None, 8, 8, 64)     256         conv2_block2_2_conv[0][0]        \n",
      "__________________________________________________________________________________________________\n",
      "conv2_block2_2_relu (Activation (None, 8, 8, 64)     0           conv2_block2_2_bn[0][0]          \n",
      "__________________________________________________________________________________________________\n",
      "conv2_block2_3_conv (Conv2D)    (None, 8, 8, 256)    16640       conv2_block2_2_relu[0][0]        \n",
      "__________________________________________________________________________________________________\n",
      "conv2_block2_3_bn (BatchNormali (None, 8, 8, 256)    1024        conv2_block2_3_conv[0][0]        \n",
      "__________________________________________________________________________________________________\n",
      "conv2_block2_add (Add)          (None, 8, 8, 256)    0           conv2_block1_out[0][0]           \n",
      "                                                                 conv2_block2_3_bn[0][0]          \n",
      "__________________________________________________________________________________________________\n",
      "conv2_block2_out (Activation)   (None, 8, 8, 256)    0           conv2_block2_add[0][0]           \n",
      "__________________________________________________________________________________________________\n",
      "conv2_block3_1_conv (Conv2D)    (None, 8, 8, 64)     16448       conv2_block2_out[0][0]           \n",
      "__________________________________________________________________________________________________\n",
      "conv2_block3_1_bn (BatchNormali (None, 8, 8, 64)     256         conv2_block3_1_conv[0][0]        \n",
      "__________________________________________________________________________________________________\n",
      "conv2_block3_1_relu (Activation (None, 8, 8, 64)     0           conv2_block3_1_bn[0][0]          \n",
      "__________________________________________________________________________________________________\n",
      "conv2_block3_2_conv (Conv2D)    (None, 8, 8, 64)     36928       conv2_block3_1_relu[0][0]        \n",
      "__________________________________________________________________________________________________\n",
      "conv2_block3_2_bn (BatchNormali (None, 8, 8, 64)     256         conv2_block3_2_conv[0][0]        \n",
      "__________________________________________________________________________________________________\n",
      "conv2_block3_2_relu (Activation (None, 8, 8, 64)     0           conv2_block3_2_bn[0][0]          \n",
      "__________________________________________________________________________________________________\n",
      "conv2_block3_3_conv (Conv2D)    (None, 8, 8, 256)    16640       conv2_block3_2_relu[0][0]        \n",
      "__________________________________________________________________________________________________\n",
      "conv2_block3_3_bn (BatchNormali (None, 8, 8, 256)    1024        conv2_block3_3_conv[0][0]        \n",
      "__________________________________________________________________________________________________\n",
      "conv2_block3_add (Add)          (None, 8, 8, 256)    0           conv2_block2_out[0][0]           \n",
      "                                                                 conv2_block3_3_bn[0][0]          \n",
      "__________________________________________________________________________________________________\n",
      "conv2_block3_out (Activation)   (None, 8, 8, 256)    0           conv2_block3_add[0][0]           \n",
      "__________________________________________________________________________________________________\n",
      "flatten (Flatten)               (None, 16384)        0           conv2_block3_out[0][0]           \n",
      "__________________________________________________________________________________________________\n",
      "batch_normalization (BatchNorma (None, 16384)        65536       flatten[0][0]                    \n",
      "__________________________________________________________________________________________________\n",
      "dropout (Dropout)               (None, 16384)        0           batch_normalization[0][0]        \n",
      "__________________________________________________________________________________________________\n",
      "good_layer (Dense)              (None, 200)          3277000     dropout[0][0]                    \n",
      "__________________________________________________________________________________________________\n",
      "batch_normalization_1 (BatchNor (None, 200)          800         good_layer[0][0]                 \n",
      "__________________________________________________________________________________________________\n",
      "activation (Activation)         (None, 200)          0           batch_normalization_1[0][0]      \n",
      "__________________________________________________________________________________________________\n",
      "dropout_1 (Dropout)             (None, 200)          0           activation[0][0]                 \n",
      "__________________________________________________________________________________________________\n",
      "dense (Dense)                   (None, 200)          40200       dropout_1[0][0]                  \n",
      "__________________________________________________________________________________________________\n",
      "batch_normalization_2 (BatchNor (None, 200)          800         dense[0][0]                      \n",
      "__________________________________________________________________________________________________\n",
      "activation_1 (Activation)       (None, 200)          0           batch_normalization_2[0][0]      \n",
      "__________________________________________________________________________________________________\n",
      "dropout_2 (Dropout)             (None, 200)          0           activation_1[0][0]               \n",
      "__________________________________________________________________________________________________\n",
      "dense_1 (Dense)                 (None, 4)            804         dropout_2[0][0]                  \n",
      "==================================================================================================\n",
      "Total params: 3,614,900\n",
      "Trainable params: 3,578,388\n",
      "Non-trainable params: 36,512\n",
      "__________________________________________________________________________________________________\n",
      "Epoch 1/80\n",
      "1563/1563 [==============================] - 19s 12ms/step - loss: 2.4329 - accuracy: 0.5778 - val_loss: 1.8586 - val_accuracy: 0.5704\n",
      "Epoch 2/80\n",
      "1563/1563 [==============================] - 19s 12ms/step - loss: 1.7181 - accuracy: 0.6567 - val_loss: 1.8122 - val_accuracy: 0.6291\n",
      "Epoch 3/80\n",
      "1563/1563 [==============================] - 19s 12ms/step - loss: 1.6648 - accuracy: 0.6978 - val_loss: 1.8632 - val_accuracy: 0.6055\n",
      "Epoch 4/80\n",
      "1563/1563 [==============================] - 19s 12ms/step - loss: 1.5977 - accuracy: 0.7274 - val_loss: 1.5923 - val_accuracy: 0.7471\n",
      "Epoch 5/80\n",
      "1563/1563 [==============================] - 19s 12ms/step - loss: 1.5267 - accuracy: 0.7508 - val_loss: 2.0170 - val_accuracy: 0.6102\n",
      "Epoch 6/80\n",
      "1563/1563 [==============================] - 19s 12ms/step - loss: 1.4594 - accuracy: 0.7683 - val_loss: 1.5291 - val_accuracy: 0.7268\n",
      "Epoch 7/80\n",
      "1563/1563 [==============================] - 19s 12ms/step - loss: 1.4010 - accuracy: 0.7827 - val_loss: 1.3115 - val_accuracy: 0.7775\n",
      "Epoch 8/80\n",
      "1563/1563 [==============================] - 19s 12ms/step - loss: 1.3512 - accuracy: 0.7961 - val_loss: 1.5142 - val_accuracy: 0.7327\n",
      "Epoch 9/80\n",
      "1563/1563 [==============================] - 18s 11ms/step - loss: 1.3083 - accuracy: 0.8065 - val_loss: 1.3163 - val_accuracy: 0.7853\n",
      "Epoch 10/80\n",
      "1563/1563 [==============================] - 19s 12ms/step - loss: 1.2676 - accuracy: 0.8147 - val_loss: 1.5971 - val_accuracy: 0.7003\n",
      "Epoch 11/80\n",
      "1563/1563 [==============================] - 19s 12ms/step - loss: 1.2257 - accuracy: 0.8236 - val_loss: 1.5185 - val_accuracy: 0.7038\n",
      "Epoch 12/80\n",
      "1563/1563 [==============================] - 19s 12ms/step - loss: 1.1926 - accuracy: 0.8296 - val_loss: 1.4150 - val_accuracy: 0.7251\n",
      "Epoch 13/80\n",
      "1563/1563 [==============================] - 19s 12ms/step - loss: 1.1508 - accuracy: 0.8378 - val_loss: 1.1183 - val_accuracy: 0.8400\n",
      "Epoch 14/80\n",
      "1563/1563 [==============================] - 18s 12ms/step - loss: 1.1100 - accuracy: 0.8448 - val_loss: 1.4561 - val_accuracy: 0.7274\n",
      "Epoch 15/80\n",
      "1563/1563 [==============================] - 19s 12ms/step - loss: 1.0855 - accuracy: 0.8498 - val_loss: 1.4216 - val_accuracy: 0.7101\n",
      "Epoch 16/80\n",
      "1563/1563 [==============================] - 19s 12ms/step - loss: 1.0480 - accuracy: 0.8550 - val_loss: 1.6632 - val_accuracy: 0.6370\n",
      "Epoch 17/80\n",
      "1563/1563 [==============================] - 19s 12ms/step - loss: 1.0193 - accuracy: 0.8609 - val_loss: 1.2798 - val_accuracy: 0.7550\n",
      "Epoch 18/80\n",
      "1563/1563 [==============================] - 19s 12ms/step - loss: 0.9956 - accuracy: 0.8660 - val_loss: 1.1803 - val_accuracy: 0.7968\n",
      "Epoch 19/80\n",
      "1563/1563 [==============================] - 19s 12ms/step - loss: 0.9663 - accuracy: 0.8699 - val_loss: 1.0091 - val_accuracy: 0.8461\n",
      "Epoch 20/80\n",
      "1563/1563 [==============================] - 19s 12ms/step - loss: 0.9449 - accuracy: 0.8733 - val_loss: 1.1756 - val_accuracy: 0.7969\n",
      "Epoch 21/80\n",
      "1563/1563 [==============================] - 20s 13ms/step - loss: 0.9221 - accuracy: 0.8785 - val_loss: 0.8998 - val_accuracy: 0.8839\n",
      "Epoch 22/80\n",
      "1563/1563 [==============================] - 19s 12ms/step - loss: 0.9038 - accuracy: 0.8828 - val_loss: 1.1694 - val_accuracy: 0.7853\n",
      "Epoch 23/80\n",
      "1563/1563 [==============================] - 18s 12ms/step - loss: 0.8871 - accuracy: 0.8849 - val_loss: 1.1500 - val_accuracy: 0.8137\n",
      "Epoch 24/80\n",
      "1563/1563 [==============================] - 18s 11ms/step - loss: 0.8656 - accuracy: 0.8889 - val_loss: 1.1168 - val_accuracy: 0.8011\n",
      "Epoch 25/80\n",
      "1563/1563 [==============================] - 19s 12ms/step - loss: 0.8492 - accuracy: 0.8908 - val_loss: 1.0776 - val_accuracy: 0.8213\n",
      "Epoch 26/80\n",
      "1563/1563 [==============================] - 19s 12ms/step - loss: 0.8340 - accuracy: 0.8940 - val_loss: 1.6454 - val_accuracy: 0.6702\n",
      "Epoch 27/80\n",
      "1563/1563 [==============================] - 19s 12ms/step - loss: 0.8211 - accuracy: 0.8963 - val_loss: 1.0405 - val_accuracy: 0.8340\n",
      "Epoch 28/80\n",
      "1563/1563 [==============================] - 19s 12ms/step - loss: 0.8046 - accuracy: 0.9001 - val_loss: 1.5525 - val_accuracy: 0.6705\n",
      "Epoch 29/80\n",
      "1563/1563 [==============================] - 19s 12ms/step - loss: 0.7895 - accuracy: 0.9034 - val_loss: 1.1500 - val_accuracy: 0.7891\n",
      "Epoch 30/80\n",
      "1563/1563 [==============================] - 19s 12ms/step - loss: 0.7771 - accuracy: 0.9057 - val_loss: 1.4511 - val_accuracy: 0.7069\n",
      "Epoch 31/80\n",
      "1563/1563 [==============================] - 19s 12ms/step - loss: 0.7667 - accuracy: 0.9078 - val_loss: 1.1532 - val_accuracy: 0.7921\n",
      "Epoch 32/80\n",
      "1563/1563 [==============================] - 19s 12ms/step - loss: 0.7570 - accuracy: 0.9099 - val_loss: 1.1208 - val_accuracy: 0.8053\n",
      "Epoch 33/80\n",
      "1563/1563 [==============================] - 18s 12ms/step - loss: 0.7458 - accuracy: 0.9124 - val_loss: 1.0701 - val_accuracy: 0.8147\n",
      "Epoch 34/80\n",
      "1563/1563 [==============================] - 19s 12ms/step - loss: 0.7354 - accuracy: 0.9136 - val_loss: 1.0710 - val_accuracy: 0.8030\n",
      "Epoch 35/80\n",
      "1563/1563 [==============================] - 19s 12ms/step - loss: 0.7258 - accuracy: 0.9157 - val_loss: 1.2976 - val_accuracy: 0.7549\n",
      "Epoch 36/80\n",
      "1563/1563 [==============================] - 18s 12ms/step - loss: 0.7129 - accuracy: 0.9177 - val_loss: 0.9548 - val_accuracy: 0.8415\n",
      "Epoch 37/80\n",
      "1563/1563 [==============================] - 18s 12ms/step - loss: 0.7060 - accuracy: 0.9197 - val_loss: 1.0541 - val_accuracy: 0.8248\n",
      "Epoch 38/80\n",
      "1563/1563 [==============================] - 19s 12ms/step - loss: 0.6991 - accuracy: 0.9207 - val_loss: 1.0679 - val_accuracy: 0.8101\n",
      "Epoch 39/80\n",
      "1563/1563 [==============================] - 19s 12ms/step - loss: 0.6915 - accuracy: 0.9234 - val_loss: 1.1620 - val_accuracy: 0.7852\n",
      "Epoch 40/80\n",
      "1563/1563 [==============================] - 19s 12ms/step - loss: 0.6821 - accuracy: 0.9248 - val_loss: 0.9198 - val_accuracy: 0.8549\n",
      "Epoch 41/80\n",
      "1563/1563 [==============================] - 19s 12ms/step - loss: 0.6780 - accuracy: 0.9257 - val_loss: 1.2853 - val_accuracy: 0.7541\n",
      "Epoch 42/80\n",
      "1563/1563 [==============================] - 19s 12ms/step - loss: 0.6650 - accuracy: 0.9283 - val_loss: 1.3712 - val_accuracy: 0.7349\n",
      "Epoch 43/80\n",
      "1563/1563 [==============================] - 19s 12ms/step - loss: 0.6606 - accuracy: 0.9285 - val_loss: 0.9121 - val_accuracy: 0.8465\n",
      "Epoch 44/80\n",
      "1563/1563 [==============================] - 19s 12ms/step - loss: 0.6542 - accuracy: 0.9305 - val_loss: 1.4661 - val_accuracy: 0.7057\n",
      "Epoch 45/80\n",
      "1563/1563 [==============================] - 19s 12ms/step - loss: 0.6478 - accuracy: 0.9320 - val_loss: 1.1029 - val_accuracy: 0.7998\n",
      "Epoch 46/80\n",
      "1563/1563 [==============================] - 19s 12ms/step - loss: 0.6449 - accuracy: 0.9326 - val_loss: 1.2458 - val_accuracy: 0.7667\n",
      "Epoch 47/80\n",
      "1563/1563 [==============================] - 19s 12ms/step - loss: 0.6404 - accuracy: 0.9345 - val_loss: 1.1837 - val_accuracy: 0.7753\n",
      "Epoch 48/80\n",
      "1563/1563 [==============================] - 19s 12ms/step - loss: 0.6302 - accuracy: 0.9354 - val_loss: 1.3625 - val_accuracy: 0.7588\n",
      "Epoch 49/80\n",
      "1563/1563 [==============================] - 19s 12ms/step - loss: 0.6288 - accuracy: 0.9372 - val_loss: 1.0987 - val_accuracy: 0.8261\n",
      "Epoch 50/80\n",
      "1563/1563 [==============================] - 20s 13ms/step - loss: 0.6232 - accuracy: 0.9377 - val_loss: 1.1733 - val_accuracy: 0.7987\n",
      "Epoch 51/80\n",
      "1563/1563 [==============================] - 19s 12ms/step - loss: 0.6155 - accuracy: 0.9393 - val_loss: 0.9366 - val_accuracy: 0.8468\n",
      "Epoch 52/80\n",
      "1563/1563 [==============================] - 19s 12ms/step - loss: 0.6156 - accuracy: 0.9397 - val_loss: 0.9830 - val_accuracy: 0.8383\n",
      "Epoch 53/80\n",
      "1563/1563 [==============================] - 20s 12ms/step - loss: 0.6114 - accuracy: 0.9400 - val_loss: 1.1412 - val_accuracy: 0.7792\n",
      "Epoch 54/80\n",
      "1563/1563 [==============================] - 19s 12ms/step - loss: 0.6083 - accuracy: 0.9414 - val_loss: 0.9744 - val_accuracy: 0.8371\n",
      "Epoch 55/80\n",
      "1563/1563 [==============================] - 19s 12ms/step - loss: 0.6011 - accuracy: 0.9425 - val_loss: 1.1221 - val_accuracy: 0.8036\n",
      "Epoch 56/80\n",
      "1563/1563 [==============================] - 20s 13ms/step - loss: 0.5954 - accuracy: 0.9434 - val_loss: 1.4348 - val_accuracy: 0.7397\n",
      "Epoch 57/80\n",
      "1563/1563 [==============================] - 19s 12ms/step - loss: 0.5932 - accuracy: 0.9441 - val_loss: 1.3780 - val_accuracy: 0.7463\n",
      "Epoch 58/80\n",
      "1563/1563 [==============================] - 19s 12ms/step - loss: 0.5923 - accuracy: 0.9445 - val_loss: 1.1566 - val_accuracy: 0.8070\n",
      "Epoch 59/80\n",
      "1563/1563 [==============================] - 19s 12ms/step - loss: 0.5859 - accuracy: 0.9454 - val_loss: 1.2061 - val_accuracy: 0.7713\n",
      "Epoch 60/80\n",
      "1563/1563 [==============================] - 19s 12ms/step - loss: 0.5808 - accuracy: 0.9471 - val_loss: 1.2311 - val_accuracy: 0.7720\n",
      "Epoch 61/80\n",
      "1563/1563 [==============================] - 19s 12ms/step - loss: 0.5837 - accuracy: 0.9479 - val_loss: 1.1274 - val_accuracy: 0.8078\n",
      "Epoch 62/80\n",
      "1563/1563 [==============================] - 19s 12ms/step - loss: 0.5756 - accuracy: 0.9484 - val_loss: 1.1631 - val_accuracy: 0.8031\n",
      "Epoch 63/80\n",
      "1563/1563 [==============================] - 19s 12ms/step - loss: 0.5750 - accuracy: 0.9478 - val_loss: 1.3280 - val_accuracy: 0.7672\n",
      "Epoch 64/80\n",
      "1563/1563 [==============================] - 19s 12ms/step - loss: 0.5689 - accuracy: 0.9490 - val_loss: 1.1574 - val_accuracy: 0.7980\n",
      "Epoch 65/80\n",
      "1563/1563 [==============================] - 19s 12ms/step - loss: 0.5680 - accuracy: 0.9497 - val_loss: 1.4080 - val_accuracy: 0.7516\n",
      "Epoch 66/80\n",
      "1563/1563 [==============================] - 19s 12ms/step - loss: 0.5661 - accuracy: 0.9501 - val_loss: 1.2209 - val_accuracy: 0.7919\n",
      "Epoch 67/80\n",
      "1563/1563 [==============================] - 19s 12ms/step - loss: 0.5606 - accuracy: 0.9508 - val_loss: 1.3165 - val_accuracy: 0.7638\n",
      "Epoch 68/80\n",
      "1563/1563 [==============================] - 19s 12ms/step - loss: 0.5564 - accuracy: 0.9517 - val_loss: 1.0877 - val_accuracy: 0.8415\n",
      "Epoch 69/80\n",
      "1563/1563 [==============================] - 19s 12ms/step - loss: 0.5541 - accuracy: 0.9526 - val_loss: 1.0349 - val_accuracy: 0.8256\n",
      "Epoch 70/80\n",
      "1563/1563 [==============================] - 19s 12ms/step - loss: 0.5532 - accuracy: 0.9525 - val_loss: 1.0706 - val_accuracy: 0.8290\n",
      "Epoch 71/80\n",
      "1563/1563 [==============================] - 19s 12ms/step - loss: 0.5448 - accuracy: 0.9540 - val_loss: 1.4471 - val_accuracy: 0.7583\n",
      "Epoch 72/80\n",
      "1563/1563 [==============================] - 19s 12ms/step - loss: 0.5461 - accuracy: 0.9531 - val_loss: 1.4676 - val_accuracy: 0.7419\n",
      "Epoch 73/80\n",
      "1563/1563 [==============================] - 19s 12ms/step - loss: 0.5396 - accuracy: 0.9544 - val_loss: 1.4319 - val_accuracy: 0.7467\n",
      "Epoch 74/80\n",
      "1563/1563 [==============================] - 19s 12ms/step - loss: 0.5463 - accuracy: 0.9546 - val_loss: 1.5015 - val_accuracy: 0.7519\n",
      "Epoch 75/80\n",
      "1563/1563 [==============================] - 19s 12ms/step - loss: 0.5353 - accuracy: 0.9561 - val_loss: 1.1425 - val_accuracy: 0.8103\n",
      "Epoch 76/80\n",
      "1563/1563 [==============================] - 19s 12ms/step - loss: 0.5370 - accuracy: 0.9559 - val_loss: 1.2661 - val_accuracy: 0.7984\n",
      "Epoch 77/80\n",
      "1563/1563 [==============================] - 19s 12ms/step - loss: 0.5318 - accuracy: 0.9563 - val_loss: 1.1071 - val_accuracy: 0.8189\n",
      "Epoch 78/80\n",
      "1563/1563 [==============================] - 19s 12ms/step - loss: 0.5289 - accuracy: 0.9576 - val_loss: 1.0838 - val_accuracy: 0.8290\n",
      "Epoch 79/80\n",
      "1563/1563 [==============================] - 19s 12ms/step - loss: 0.5313 - accuracy: 0.9566 - val_loss: 1.2465 - val_accuracy: 0.8048\n",
      "Epoch 80/80\n",
      "1563/1563 [==============================] - 19s 12ms/step - loss: 0.5267 - accuracy: 0.9576 - val_loss: 1.0286 - val_accuracy: 0.8337\n",
      "WARNING:tensorflow:From /home/hardyc/anaconda3/envs/thesisEnv/lib/python3.8/site-packages/tensorflow/python/ops/resource_variable_ops.py:1813: calling BaseResourceVariable.__init__ (from tensorflow.python.ops.resource_variable_ops) with constraint is deprecated and will be removed in a future version.\n",
      "Instructions for updating:\n",
      "If using Keras pass *_constraint arguments to layers.\n",
      "INFO:tensorflow:Assets written to: selfsupervised_0/assets\n"
     ]
    }
   ],
   "source": [
    "feat_log, great_model = self_supervised_train([i for i in range(50000 * rotations_num)], 0)"
   ]
  },
  {
   "cell_type": "markdown",
   "metadata": {},
   "source": [
    "## Create Feature Extractor With Perfect Knowledge \n",
    "\n",
    "- Feature extractor is a CNN trained using ALL of the classes\n",
    "- This is not realistic in the real world because all of the classes will not be known\n",
    "- This is a good \"optimal\" feature space to compare against\n",
    "- Goal would be to get as close to this performance as possible"
   ]
  },
  {
   "cell_type": "code",
   "execution_count": 12,
   "metadata": {},
   "outputs": [],
   "source": [
    "rotNet_features=tensorflow.keras.Model(inputs = great_model.input, outputs = great_model.get_layer('good_layer').output)"
   ]
  },
  {
   "cell_type": "code",
   "execution_count": 13,
   "metadata": {},
   "outputs": [],
   "source": [
    "import keras.utils\n",
    "y_train=tf.keras.utils.to_categorical(y_train) #one hot encoding the y vectors \n",
    "y_test=tf.keras.utils.to_categorical(y_test)"
   ]
  },
  {
   "cell_type": "markdown",
   "metadata": {},
   "source": [
    "## Define a set of experiments\n",
    "\n",
    "- Randomly select and remove classes from the training data\n",
    "- Split test data into known and unknown classes\n",
    "- Fit imperfect feature extraction model\n",
    "- Extract features using the perfect and imperfect extractors\n",
    "- Fit EVM using features for the perfect and imperfect\n",
    "- Evaluate performance (evaluation metrics may need to be improved, but this gives us an initial idea of performance)\n",
    "- Repeat\n"
   ]
  },
  {
   "cell_type": "code",
   "execution_count": 16,
   "metadata": {},
   "outputs": [
    {
     "name": "stdout",
     "output_type": "stream",
     "text": [
      "Iteration: 0\n",
      "\n",
      "Fit Perfect EVM\n"
     ]
    },
    {
     "name": "stderr",
     "output_type": "stream",
     "text": [
      "/home/hardyc/Documents/CiFar-5 Iterations/RotNet/utils.py:125: RuntimeWarning: invalid value encountered in long_scalars\n",
      "  correct = np.sum(pred[con>=i] == truth[con>=i])/np.sum(con>=i)\n"
     ]
    },
    {
     "name": "stdout",
     "output_type": "stream",
     "text": [
      "Iteration: 1\n",
      "\n",
      "Fit Perfect EVM\n"
     ]
    },
    {
     "name": "stderr",
     "output_type": "stream",
     "text": [
      "/home/hardyc/Documents/CiFar-5 Iterations/RotNet/utils.py:125: RuntimeWarning: invalid value encountered in long_scalars\n",
      "  correct = np.sum(pred[con>=i] == truth[con>=i])/np.sum(con>=i)\n"
     ]
    },
    {
     "name": "stdout",
     "output_type": "stream",
     "text": [
      "Iteration: 2\n",
      "\n",
      "Fit Perfect EVM\n"
     ]
    },
    {
     "name": "stderr",
     "output_type": "stream",
     "text": [
      "/home/hardyc/Documents/CiFar-5 Iterations/RotNet/utils.py:125: RuntimeWarning: invalid value encountered in long_scalars\n",
      "  correct = np.sum(pred[con>=i] == truth[con>=i])/np.sum(con>=i)\n"
     ]
    },
    {
     "name": "stdout",
     "output_type": "stream",
     "text": [
      "Iteration: 3\n",
      "\n",
      "Fit Perfect EVM\n"
     ]
    },
    {
     "name": "stderr",
     "output_type": "stream",
     "text": [
      "/home/hardyc/Documents/CiFar-5 Iterations/RotNet/utils.py:125: RuntimeWarning: invalid value encountered in long_scalars\n",
      "  correct = np.sum(pred[con>=i] == truth[con>=i])/np.sum(con>=i)\n"
     ]
    },
    {
     "name": "stdout",
     "output_type": "stream",
     "text": [
      "Iteration: 4\n",
      "\n",
      "Fit Perfect EVM\n"
     ]
    },
    {
     "name": "stderr",
     "output_type": "stream",
     "text": [
      "/home/hardyc/Documents/CiFar-5 Iterations/RotNet/utils.py:125: RuntimeWarning: invalid value encountered in long_scalars\n",
      "  correct = np.sum(pred[con>=i] == truth[con>=i])/np.sum(con>=i)\n"
     ]
    },
    {
     "name": "stdout",
     "output_type": "stream",
     "text": [
      "Iteration: 5\n",
      "\n",
      "Fit Perfect EVM\n"
     ]
    },
    {
     "name": "stderr",
     "output_type": "stream",
     "text": [
      "/home/hardyc/Documents/CiFar-5 Iterations/RotNet/utils.py:125: RuntimeWarning: invalid value encountered in long_scalars\n",
      "  correct = np.sum(pred[con>=i] == truth[con>=i])/np.sum(con>=i)\n"
     ]
    },
    {
     "name": "stdout",
     "output_type": "stream",
     "text": [
      "Iteration: 6\n",
      "\n",
      "Fit Perfect EVM\n"
     ]
    },
    {
     "name": "stderr",
     "output_type": "stream",
     "text": [
      "/home/hardyc/Documents/CiFar-5 Iterations/RotNet/utils.py:125: RuntimeWarning: invalid value encountered in long_scalars\n",
      "  correct = np.sum(pred[con>=i] == truth[con>=i])/np.sum(con>=i)\n"
     ]
    },
    {
     "name": "stdout",
     "output_type": "stream",
     "text": [
      "Iteration: 7\n",
      "\n",
      "Fit Perfect EVM\n"
     ]
    },
    {
     "name": "stderr",
     "output_type": "stream",
     "text": [
      "/home/hardyc/Documents/CiFar-5 Iterations/RotNet/utils.py:125: RuntimeWarning: invalid value encountered in long_scalars\n",
      "  correct = np.sum(pred[con>=i] == truth[con>=i])/np.sum(con>=i)\n"
     ]
    },
    {
     "name": "stdout",
     "output_type": "stream",
     "text": [
      "Iteration: 8\n",
      "\n",
      "Fit Perfect EVM\n"
     ]
    },
    {
     "name": "stderr",
     "output_type": "stream",
     "text": [
      "/home/hardyc/Documents/CiFar-5 Iterations/RotNet/utils.py:125: RuntimeWarning: invalid value encountered in long_scalars\n",
      "  correct = np.sum(pred[con>=i] == truth[con>=i])/np.sum(con>=i)\n"
     ]
    },
    {
     "name": "stdout",
     "output_type": "stream",
     "text": [
      "Iteration: 9\n",
      "\n",
      "Fit Perfect EVM\n"
     ]
    },
    {
     "name": "stderr",
     "output_type": "stream",
     "text": [
      "/home/hardyc/Documents/CiFar-5 Iterations/RotNet/utils.py:125: RuntimeWarning: invalid value encountered in long_scalars\n",
      "  correct = np.sum(pred[con>=i] == truth[con>=i])/np.sum(con>=i)\n"
     ]
    },
    {
     "name": "stdout",
     "output_type": "stream",
     "text": [
      "Iteration: 10\n",
      "\n",
      "Fit Perfect EVM\n"
     ]
    },
    {
     "name": "stderr",
     "output_type": "stream",
     "text": [
      "/home/hardyc/Documents/CiFar-5 Iterations/RotNet/utils.py:125: RuntimeWarning: invalid value encountered in long_scalars\n",
      "  correct = np.sum(pred[con>=i] == truth[con>=i])/np.sum(con>=i)\n"
     ]
    },
    {
     "name": "stdout",
     "output_type": "stream",
     "text": [
      "Iteration: 11\n",
      "\n",
      "Fit Perfect EVM\n"
     ]
    },
    {
     "name": "stderr",
     "output_type": "stream",
     "text": [
      "/home/hardyc/Documents/CiFar-5 Iterations/RotNet/utils.py:125: RuntimeWarning: invalid value encountered in long_scalars\n",
      "  correct = np.sum(pred[con>=i] == truth[con>=i])/np.sum(con>=i)\n"
     ]
    },
    {
     "name": "stdout",
     "output_type": "stream",
     "text": [
      "Iteration: 12\n",
      "\n",
      "Fit Perfect EVM\n"
     ]
    },
    {
     "name": "stderr",
     "output_type": "stream",
     "text": [
      "/home/hardyc/Documents/CiFar-5 Iterations/RotNet/utils.py:125: RuntimeWarning: invalid value encountered in long_scalars\n",
      "  correct = np.sum(pred[con>=i] == truth[con>=i])/np.sum(con>=i)\n"
     ]
    },
    {
     "name": "stdout",
     "output_type": "stream",
     "text": [
      "Iteration: 13\n",
      "\n",
      "Fit Perfect EVM\n"
     ]
    },
    {
     "name": "stderr",
     "output_type": "stream",
     "text": [
      "/home/hardyc/Documents/CiFar-5 Iterations/RotNet/utils.py:125: RuntimeWarning: invalid value encountered in long_scalars\n",
      "  correct = np.sum(pred[con>=i] == truth[con>=i])/np.sum(con>=i)\n"
     ]
    },
    {
     "name": "stdout",
     "output_type": "stream",
     "text": [
      "Iteration: 14\n",
      "\n",
      "Fit Perfect EVM\n"
     ]
    },
    {
     "name": "stderr",
     "output_type": "stream",
     "text": [
      "/home/hardyc/Documents/CiFar-5 Iterations/RotNet/utils.py:125: RuntimeWarning: invalid value encountered in long_scalars\n",
      "  correct = np.sum(pred[con>=i] == truth[con>=i])/np.sum(con>=i)\n"
     ]
    },
    {
     "name": "stdout",
     "output_type": "stream",
     "text": [
      "Iteration: 15\n",
      "\n",
      "Fit Perfect EVM\n"
     ]
    },
    {
     "name": "stderr",
     "output_type": "stream",
     "text": [
      "/home/hardyc/Documents/CiFar-5 Iterations/RotNet/utils.py:125: RuntimeWarning: invalid value encountered in long_scalars\n",
      "  correct = np.sum(pred[con>=i] == truth[con>=i])/np.sum(con>=i)\n"
     ]
    },
    {
     "name": "stdout",
     "output_type": "stream",
     "text": [
      "Iteration: 16\n",
      "\n",
      "Fit Perfect EVM\n"
     ]
    },
    {
     "name": "stderr",
     "output_type": "stream",
     "text": [
      "/home/hardyc/Documents/CiFar-5 Iterations/RotNet/utils.py:125: RuntimeWarning: invalid value encountered in long_scalars\n",
      "  correct = np.sum(pred[con>=i] == truth[con>=i])/np.sum(con>=i)\n"
     ]
    },
    {
     "name": "stdout",
     "output_type": "stream",
     "text": [
      "Iteration: 17\n",
      "\n",
      "Fit Perfect EVM\n"
     ]
    },
    {
     "name": "stderr",
     "output_type": "stream",
     "text": [
      "/home/hardyc/Documents/CiFar-5 Iterations/RotNet/utils.py:125: RuntimeWarning: invalid value encountered in long_scalars\n",
      "  correct = np.sum(pred[con>=i] == truth[con>=i])/np.sum(con>=i)\n"
     ]
    },
    {
     "name": "stdout",
     "output_type": "stream",
     "text": [
      "Iteration: 18\n",
      "\n",
      "Fit Perfect EVM\n"
     ]
    },
    {
     "name": "stderr",
     "output_type": "stream",
     "text": [
      "/home/hardyc/Documents/CiFar-5 Iterations/RotNet/utils.py:125: RuntimeWarning: invalid value encountered in long_scalars\n",
      "  correct = np.sum(pred[con>=i] == truth[con>=i])/np.sum(con>=i)\n"
     ]
    },
    {
     "name": "stdout",
     "output_type": "stream",
     "text": [
      "Iteration: 19\n",
      "\n",
      "Fit Perfect EVM\n"
     ]
    },
    {
     "name": "stderr",
     "output_type": "stream",
     "text": [
      "/home/hardyc/Documents/CiFar-5 Iterations/RotNet/utils.py:125: RuntimeWarning: invalid value encountered in long_scalars\n",
      "  correct = np.sum(pred[con>=i] == truth[con>=i])/np.sum(con>=i)\n"
     ]
    },
    {
     "name": "stdout",
     "output_type": "stream",
     "text": [
      "Iteration: 20\n",
      "\n",
      "Fit Perfect EVM\n"
     ]
    },
    {
     "name": "stderr",
     "output_type": "stream",
     "text": [
      "/home/hardyc/Documents/CiFar-5 Iterations/RotNet/utils.py:125: RuntimeWarning: invalid value encountered in long_scalars\n",
      "  correct = np.sum(pred[con>=i] == truth[con>=i])/np.sum(con>=i)\n"
     ]
    },
    {
     "name": "stdout",
     "output_type": "stream",
     "text": [
      "Iteration: 21\n",
      "\n",
      "Fit Perfect EVM\n"
     ]
    },
    {
     "name": "stderr",
     "output_type": "stream",
     "text": [
      "/home/hardyc/Documents/CiFar-5 Iterations/RotNet/utils.py:125: RuntimeWarning: invalid value encountered in long_scalars\n",
      "  correct = np.sum(pred[con>=i] == truth[con>=i])/np.sum(con>=i)\n"
     ]
    },
    {
     "name": "stdout",
     "output_type": "stream",
     "text": [
      "Iteration: 22\n",
      "\n",
      "Fit Perfect EVM\n"
     ]
    },
    {
     "name": "stderr",
     "output_type": "stream",
     "text": [
      "/home/hardyc/Documents/CiFar-5 Iterations/RotNet/utils.py:125: RuntimeWarning: invalid value encountered in long_scalars\n",
      "  correct = np.sum(pred[con>=i] == truth[con>=i])/np.sum(con>=i)\n"
     ]
    },
    {
     "name": "stdout",
     "output_type": "stream",
     "text": [
      "Iteration: 23\n",
      "\n",
      "Fit Perfect EVM\n"
     ]
    },
    {
     "name": "stderr",
     "output_type": "stream",
     "text": [
      "/home/hardyc/Documents/CiFar-5 Iterations/RotNet/utils.py:125: RuntimeWarning: invalid value encountered in long_scalars\n",
      "  correct = np.sum(pred[con>=i] == truth[con>=i])/np.sum(con>=i)\n"
     ]
    },
    {
     "name": "stdout",
     "output_type": "stream",
     "text": [
      "Iteration: 24\n",
      "\n",
      "Fit Perfect EVM\n"
     ]
    },
    {
     "name": "stderr",
     "output_type": "stream",
     "text": [
      "/home/hardyc/Documents/CiFar-5 Iterations/RotNet/utils.py:125: RuntimeWarning: invalid value encountered in long_scalars\n",
      "  correct = np.sum(pred[con>=i] == truth[con>=i])/np.sum(con>=i)\n"
     ]
    },
    {
     "name": "stdout",
     "output_type": "stream",
     "text": [
      "Iteration: 25\n",
      "\n",
      "Fit Perfect EVM\n"
     ]
    },
    {
     "name": "stderr",
     "output_type": "stream",
     "text": [
      "/home/hardyc/Documents/CiFar-5 Iterations/RotNet/utils.py:125: RuntimeWarning: invalid value encountered in long_scalars\n",
      "  correct = np.sum(pred[con>=i] == truth[con>=i])/np.sum(con>=i)\n"
     ]
    },
    {
     "name": "stdout",
     "output_type": "stream",
     "text": [
      "Iteration: 26\n",
      "\n",
      "Fit Perfect EVM\n"
     ]
    },
    {
     "name": "stderr",
     "output_type": "stream",
     "text": [
      "/home/hardyc/Documents/CiFar-5 Iterations/RotNet/utils.py:125: RuntimeWarning: invalid value encountered in long_scalars\n",
      "  correct = np.sum(pred[con>=i] == truth[con>=i])/np.sum(con>=i)\n"
     ]
    },
    {
     "name": "stdout",
     "output_type": "stream",
     "text": [
      "Iteration: 27\n",
      "\n",
      "Fit Perfect EVM\n"
     ]
    },
    {
     "name": "stderr",
     "output_type": "stream",
     "text": [
      "/home/hardyc/Documents/CiFar-5 Iterations/RotNet/utils.py:125: RuntimeWarning: invalid value encountered in long_scalars\n",
      "  correct = np.sum(pred[con>=i] == truth[con>=i])/np.sum(con>=i)\n"
     ]
    },
    {
     "name": "stdout",
     "output_type": "stream",
     "text": [
      "Iteration: 28\n",
      "\n",
      "Fit Perfect EVM\n"
     ]
    },
    {
     "name": "stderr",
     "output_type": "stream",
     "text": [
      "/home/hardyc/Documents/CiFar-5 Iterations/RotNet/utils.py:125: RuntimeWarning: invalid value encountered in long_scalars\n",
      "  correct = np.sum(pred[con>=i] == truth[con>=i])/np.sum(con>=i)\n"
     ]
    },
    {
     "name": "stdout",
     "output_type": "stream",
     "text": [
      "Iteration: 29\n",
      "\n",
      "Fit Perfect EVM\n"
     ]
    },
    {
     "name": "stderr",
     "output_type": "stream",
     "text": [
      "/home/hardyc/Documents/CiFar-5 Iterations/RotNet/utils.py:125: RuntimeWarning: invalid value encountered in long_scalars\n",
      "  correct = np.sum(pred[con>=i] == truth[con>=i])/np.sum(con>=i)\n"
     ]
    }
   ],
   "source": [
    "import pandas as pd\n",
    "\n",
    "##\n",
    "## Define places to store results\n",
    "##\n",
    "#imp_known_correct_all = []\n",
    "#imp_known_novel_all = []\n",
    "#imp_unknown_correct_all = []\n",
    "#imp_unknown_novel_all = []\n",
    "per_known_correct_all = []\n",
    "per_known_novel_all = []\n",
    "per_unknown_correct_all = []\n",
    "per_unknown_novel_all = []\n",
    "\n",
    "\n",
    "df = pd.DataFrame(columns=['Iteration', 'Unknown Classes', 'per_known_correct_all','per_known_novel_all','per_unknown_novel_all'])\n",
    "##\n",
    "## Begin experiments\n",
    "##\n",
    "for i in range(iterations):\n",
    "    print('Iteration: ' + str(i))\n",
    "    print()\n",
    "    \n",
    "    ##\n",
    "    ## Split the data into known and unknown classes\n",
    "    ##\n",
    "    toRemove = np.random.choice(10, num_to_remove, replace = False)                                         ## Randomly pick unknown classes\n",
    "    x_train_known, x_train_unknown, y_train_known, y_train_unknown = split_data(x_train, y_train, toRemove) ## Split train data (defined in utils.py)\n",
    "    x_test_known, x_test_unknown, y_test_known, y_test_unknown = split_data(x_test, y_test, toRemove)       ## Split test data (defined in utils.py)\n",
    "\n",
    "    ##\n",
    "    ## Train a classifier based feature extractor using only the known classes\n",
    "    ##\n",
    "    #imperfect = feature_model(10-num_to_remove, x_train_known, y_train_known, epochs = epochs, batch_size = 32, verbose = 0)\n",
    "\n",
    "    ##\n",
    "    ## Extract features with imperfect extractor\n",
    "    ##\n",
    "    #x_train_known_imp = imperfect.predict(x_train_known)\n",
    "    #x_test_known_imp = imperfect.predict(x_test_known)\n",
    "    #x_test_unknown_imp = imperfect.predict(x_test_unknown)\n",
    "\n",
    "    ##\n",
    "    ## Extract features with perfect extractor\n",
    "    ##\n",
    "    x_train_known_per = rotNet_features.predict(x_train_known)\n",
    "    x_test_known_per = rotNet_features.predict(x_test_known)\n",
    "    x_test_unknown_per = rotNet_features.predict(x_test_unknown)\n",
    "\n",
    "    ##\n",
    "    ## Fit EVMs\n",
    "    ##\n",
    "    evm_options = evm_flat.EVMOptions(tailsize = tailsize, cover_threshold = cover_threshold , dist_func = dist_func, num_to_fuse = num_to_fuse, margin_scale = margin_scale)\n",
    "    \n",
    "    #print('Fit Imperfect EVM')\n",
    "    #evm_imp = evm_flat.ExtremeValueMachine('imperfect', evm_options)\n",
    "    #evm_imp.train(x_train_known_imp, y_train_known)\n",
    "    print('Fit Perfect EVM')\n",
    "    evm_per = evm_flat.ExtremeValueMachine('perfect', evm_options)\n",
    "    evm_per.train(x_train_known_per, y_train_known)\n",
    "\n",
    "    ##\n",
    "    ## Make Predictions with EVM\n",
    "    ##\n",
    "    #imp_pred_known = evm_imp.confidence(x_test_known_imp)\n",
    "    #imp_pred_unknown = evm_imp.confidence(x_test_unknown_imp)\n",
    "    per_pred_known = evm_per.confidence(x_test_known_per)\n",
    "    per_pred_unknown = evm_per.confidence(x_test_unknown_per)\n",
    "\n",
    "    ##\n",
    "    ## Evaluate Predictions\n",
    "    ##\n",
    "    #imp_known_correct, imp_known_novel = eval(imp_pred_known, y_test_known, thresholds)           ## eval defined in utils.py\n",
    "    #imp_unknown_correct, imp_unknown_novel = eval(imp_pred_unknown, y_test_unknown, thresholds)\n",
    "    per_known_correct, per_known_novel = eval(per_pred_known, y_test_known, thresholds)\n",
    "    per_unknown_correct, per_unknown_novel = eval(per_pred_unknown, y_test_unknown, thresholds)\n",
    "    \n",
    "    ##\n",
    "    ## Store results\n",
    "    ##\n",
    "    #imp_known_correct_all.append(imp_known_correct)      ## imp_known_correct: correct classification percentage of known instances by the imperfect EVM (instances called novel not considered)\n",
    "    #imp_known_novel_all.append(imp_known_novel)          ## imp_known_novel: percentage of known instances called novel by the imperfect EVM \n",
    "    #imp_unknown_novel_all.append(imp_unknown_novel)      ## imp_unknown_novel: percentage of unknown instances called novel by the imperfect EVM\n",
    "    per_known_correct_all.append(per_known_correct)      ## per_known_correct: correct classification percentage of known instances by the perfect EVM (instances called novel not considered)\n",
    "    per_known_novel_all.append(per_known_novel)          ## per_known_novel: percentage of known instances called novel by the perfect EVM\n",
    "    per_unknown_novel_all.append(per_unknown_novel)      ## per_unknown_novel: percentage of unknown instances called novel by the perfect EVM\n",
    "    if i <= 5:\n",
    "        df = df.append({'Iteration':i, 'Unknown Classes': toRemove, 'per_known_correct_all':per_known_correct_all,'per_known_novel_all':per_known_novel_all,'per_unknown_novel_all':per_unknown_novel_all}, ignore_index=True)\n",
    "        df.to_csv(r'./rotNet_df_cf5_five_iter(s).csv', index= False,header=True)\n",
    "        df.to_csv(r'./rotNet_df_cf5.csv', index= False,header=True)\n",
    "    else:\n",
    "        df = df.append({'Iteration':i, 'Unknown Classes': toRemove,'per_known_correct_all':per_known_correct_all,'per_known_novel_all':per_known_novel_all,'per_unknown_novel_all':per_unknown_novel_all}, ignore_index=True)\n",
    "        df.to_csv(r'./rotNet_df_cf5.csv', index= False,header=True)"
   ]
  },
  {
   "cell_type": "code",
   "execution_count": 18,
   "metadata": {},
   "outputs": [
    {
     "data": {
      "image/png": "[encoded data removed]",
      "text/plain": [
       "<Figure size 1008x216 with 3 Axes>"
      ]
     },
     "metadata": {
      "needs_background": "light"
     },
     "output_type": "display_data"
    }
   ],
   "source": [
    "import matplotlib.pyplot as plt\n",
    "\n",
    "\n",
    "\n",
    "fig = plt.figure(figsize = (14, 3))\n",
    "ax1 = fig.add_subplot(131)\n",
    "ax2 = fig.add_subplot(132)\n",
    "ax3 = fig.add_subplot(133)\n",
    "\n",
    "ax1.title.set_text('Knowns: Correct Classification Rate')\n",
    "ax2.title.set_text('Knowns: False Novel Rate')\n",
    "ax3.title.set_text('Unknowns: True Novel Rate')\n",
    "\n",
    "#ax1.plot(thresholds, np.mean(imp_known_correct_all, axis = 0), label = 'Imperfect')\n",
    "ax1.plot(thresholds, np.mean(per_known_correct_all, axis = 0), label = 'Perfect')\n",
    "\n",
    "\n",
    "#ax2.plot(thresholds, np.mean(imp_known_novel_all, axis = 0), label = 'Imperfect')\n",
    "ax2.plot(thresholds, np.mean(per_known_novel_all, axis = 0), label = 'Perfect')\n",
    "\n",
    "#ax3.plot(thresholds, np.mean(imp_unknown_novel_all, axis = 0), label = 'Imperfect')\n",
    "ax3.plot(thresholds, np.mean(per_unknown_novel_all, axis = 0), label = 'Perfect')\n",
    "\n",
    "handles, labels = ax1.get_legend_handles_labels()\n",
    "fig.legend(handles, labels, loc='upper left')\n",
    "\n",
    "plt.savefig('RotNet_images_cf5_30iter.pdf')\n",
    "plt.show()"
   ]
  },
  {
   "cell_type": "code",
   "execution_count": null,
   "metadata": {},
   "outputs": [],
   "source": []
  }
 ],
 "metadata": {
  "kernelspec": {
   "display_name": "thesisEnv",
   "language": "python",
   "name": "thesisenv"
  },
  "language_info": {
   "codemirror_mode": {
    "name": "ipython",
    "version": 3
   },
   "file_extension": ".py",
   "mimetype": "text/x-python",
   "name": "python",
   "nbconvert_exporter": "python",
   "pygments_lexer": "ipython3",
   "version": "3.8.3"
  }
 },
 "nbformat": 4,
 "nbformat_minor": 4
}
