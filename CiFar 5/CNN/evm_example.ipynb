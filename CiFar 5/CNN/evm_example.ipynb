{
 "cells": [
  {
   "cell_type": "markdown",
   "metadata": {},
   "source": [
    "## Setup\n",
    "# CNN Cifar 5"
   ]
  },
  {
   "cell_type": "code",
   "execution_count": 1,
   "metadata": {},
   "outputs": [],
   "source": [
    "##\n",
    "## Restrict tensorflow to single GPU\n",
    "##\n",
    "import os \n",
    "os.environ['CUDA_DEVICE_ORDER'] = 'PCI_BUS_ID'\n",
    "os.environ['CUDA_VISIBLE_DEVICES'] = str(2)           \n",
    "## this says only use GPU 0  (can select 0-3)\n",
    "\n",
    "##\n",
    "## Import libraries\n",
    "##\n",
    "import evm_flat         ## We are using EVMs for a different project, so there are some things in here that may be confusing\n",
    "from utils import *     ## utils holds a few functions I wrote to help with the experiments in this notebook\n",
    "import numpy as np\n",
    "import tensorflow as tf\n",
    "\n",
    "##\n",
    "## Experiment Parameters\n",
    "##\n",
    "epochs = 10                 ## Iterations to train CNN for feature extractors\n",
    "num_to_remove = 5           ## Number of classes to remove and make \"unknown\"\n",
    "iterations = 30              ## Number of iterations (full experiments) to run\n",
    "thresholds = [.1, .2, .3, .4, .5, .6, .7, .8, .9, 1]  ## Confidence thresholds to evaluate over\n",
    "\n",
    "##\n",
    "## EVM Parameters (good initial values, but could be further optimized)\n",
    "##\n",
    "tailsize = 10000              ## EVM tail size\n",
    "cover_threshold = 0.5      ## EVM cover threshold\n",
    "dist_func = 'cosine'     ## EVM distance function\n",
    "num_to_fuse = 4             ## EVM number to fuse\n",
    "margin_scale = 0.5          ## EVM margin scale"
   ]
  },
  {
   "cell_type": "markdown",
   "metadata": {},
   "source": [
    "## Data"
   ]
  },
  {
   "cell_type": "code",
   "execution_count": 2,
   "metadata": {},
   "outputs": [],
   "source": [
    "##\n",
    "## Load CiFar10\n",
    "##\n",
    "import keras\n",
    "from keras.datasets import cifar10\n",
    "(x_train, y_train), (x_test, y_test) = cifar10.load_data()\n",
    "\n",
    "##\n",
    "## Get data in correct shape and normalize\n",
    "##\n",
    "#x_train = x_train = np.reshape(x_train, (x_train.shape[0], x_train.shape[1], x_train.shape[2], 1))/255.0   ## Add dimension and normalize\n",
    "#x_test = x_test = np.reshape(x_test, (x_test.shape[0], x_test.shape[1], x_test.shape[2], 1))/255.0         ## Add dimension and normalize\n",
    "#y_train = tf.keras.utils.to_categorical(y_train)     ## Make one-hot\n",
    "#y_test = tf.keras.utils.to_categorical(y_test)       ## Make one-hot"
   ]
  },
  {
   "cell_type": "code",
   "execution_count": 3,
   "metadata": {},
   "outputs": [
    {
     "name": "stdout",
     "output_type": "stream",
     "text": [
      "(50000, 32, 32, 3)\n",
      "(50000, 1)\n",
      "(10000, 32, 32, 3)\n",
      "(10000, 1)\n"
     ]
    }
   ],
   "source": [
    "print(x_train.shape)\n",
    "print(y_train.shape)\n",
    "print(x_test.shape)\n",
    "print(y_test.shape)"
   ]
  },
  {
   "cell_type": "code",
   "execution_count": 4,
   "metadata": {},
   "outputs": [],
   "source": [
    "import keras.utils\n",
    "y_train = tf.keras.utils.to_categorical(y_train) \n",
    "y_test = tf.keras.utils.to_categorical(y_test) "
   ]
  },
  {
   "cell_type": "markdown",
   "metadata": {},
   "source": [
    "## Create Feature Extractor With Perfect Knowledge \n",
    "\n",
    "- Feature extractor is a CNN trained using ALL of the classes\n",
    "- This is not realistic in the real world because all of the classes will not be known\n",
    "- This is a good \"optimal\" feature space to compare against\n",
    "- Goal would be to get as close to this performance as possible"
   ]
  },
  {
   "cell_type": "code",
   "execution_count": 5,
   "metadata": {},
   "outputs": [
    {
     "name": "stdout",
     "output_type": "stream",
     "text": [
      "313/313 [==============================] - 1s 3ms/step - loss: 0.8331 - accuracy: 0.7051\n",
      "[0.8331470489501953, 0.7050999999046326]\n"
     ]
    }
   ],
   "source": [
    "##\n",
    "## Perfect Knowledge feature extractor\n",
    "##\n",
    "perfect = feature_model2(10, x_train, y_train, x_test, y_test)   ## This function is defined in utils.py"
   ]
  },
  {
   "cell_type": "markdown",
   "metadata": {},
   "source": [
    "## Define a set of experiments\n",
    "\n",
    "- Randomly select and remove classes from the training data\n",
    "- Split test data into known and unknown classes\n",
    "- Fit imperfect feature extraction model\n",
    "- Extract features using the perfect and imperfect extractors\n",
    "- Fit EVM using features for the perfect and imperfect\n",
    "- Evaluate performance (evaluation metrics may need to be improved, but this gives us an initial idea of performance)\n",
    "- Repeat\n"
   ]
  },
  {
   "cell_type": "code",
   "execution_count": 6,
   "metadata": {},
   "outputs": [
    {
     "name": "stdout",
     "output_type": "stream",
     "text": [
      "Iteration: 0\n",
      "\n",
      "(25000, 32, 32, 3)\n",
      "(25000, 5)\n",
      "(5000, 32, 32, 3)\n",
      "(5000, 5)\n",
      "(25000, 32, 32, 3)\n",
      "(25000, 5)\n",
      "(5000, 32, 32, 3)\n",
      "(5000, 5)\n",
      "(25000, 5)\n",
      "157/157 [==============================] - 1s 3ms/step - loss: 0.8021 - accuracy: 0.6840\n",
      "[0.8021003603935242, 0.6840000152587891]\n",
      "Fit Imperfect EVM\n",
      "(25000, 128)\n",
      "(25000, 5)\n",
      "Fit Perfect EVM\n"
     ]
    },
    {
     "name": "stderr",
     "output_type": "stream",
     "text": [
      "/home/hardyc/Documents/CiFar-5 Iterations/Walter CNN/utils.py:173: RuntimeWarning: invalid value encountered in long_scalars\n",
      "  correct = np.sum(pred[con>=i] == truth[con>=i])/np.sum(con>=i)\n"
     ]
    },
    {
     "name": "stdout",
     "output_type": "stream",
     "text": [
      "Iteration: 1\n",
      "\n",
      "(25000, 32, 32, 3)\n",
      "(25000, 5)\n",
      "(5000, 32, 32, 3)\n",
      "(5000, 5)\n",
      "(25000, 32, 32, 3)\n",
      "(25000, 5)\n",
      "(5000, 32, 32, 3)\n",
      "(5000, 5)\n",
      "(25000, 5)\n",
      "157/157 [==============================] - 0s 3ms/step - loss: 0.7224 - accuracy: 0.7254\n",
      "[0.7223798036575317, 0.7253999710083008]\n",
      "Fit Imperfect EVM\n",
      "(25000, 128)\n",
      "(25000, 5)\n",
      "Fit Perfect EVM\n"
     ]
    },
    {
     "name": "stderr",
     "output_type": "stream",
     "text": [
      "/home/hardyc/Documents/CiFar-5 Iterations/Walter CNN/utils.py:173: RuntimeWarning: invalid value encountered in long_scalars\n",
      "  correct = np.sum(pred[con>=i] == truth[con>=i])/np.sum(con>=i)\n"
     ]
    },
    {
     "name": "stdout",
     "output_type": "stream",
     "text": [
      "Iteration: 2\n",
      "\n",
      "(25000, 32, 32, 3)\n",
      "(25000, 5)\n",
      "(5000, 32, 32, 3)\n",
      "(5000, 5)\n",
      "(25000, 32, 32, 3)\n",
      "(25000, 5)\n",
      "(5000, 32, 32, 3)\n",
      "(5000, 5)\n",
      "(25000, 5)\n",
      "157/157 [==============================] - 0s 2ms/step - loss: 0.8368 - accuracy: 0.6698\n",
      "[0.8367613554000854, 0.6697999835014343]\n",
      "Fit Imperfect EVM\n",
      "(25000, 128)\n",
      "(25000, 5)\n",
      "Fit Perfect EVM\n"
     ]
    },
    {
     "name": "stderr",
     "output_type": "stream",
     "text": [
      "/home/hardyc/Documents/CiFar-5 Iterations/Walter CNN/utils.py:173: RuntimeWarning: invalid value encountered in long_scalars\n",
      "  correct = np.sum(pred[con>=i] == truth[con>=i])/np.sum(con>=i)\n"
     ]
    },
    {
     "name": "stdout",
     "output_type": "stream",
     "text": [
      "Iteration: 3\n",
      "\n",
      "(25000, 32, 32, 3)\n",
      "(25000, 5)\n",
      "(5000, 32, 32, 3)\n",
      "(5000, 5)\n",
      "(25000, 32, 32, 3)\n",
      "(25000, 5)\n",
      "(5000, 32, 32, 3)\n",
      "(5000, 5)\n",
      "(25000, 5)\n",
      "157/157 [==============================] - 0s 3ms/step - loss: 0.7040 - accuracy: 0.7186\n",
      "[0.7039660215377808, 0.7185999751091003]\n",
      "Fit Imperfect EVM\n",
      "(25000, 128)\n",
      "(25000, 5)\n",
      "Fit Perfect EVM\n"
     ]
    },
    {
     "name": "stderr",
     "output_type": "stream",
     "text": [
      "/home/hardyc/Documents/CiFar-5 Iterations/Walter CNN/utils.py:173: RuntimeWarning: invalid value encountered in long_scalars\n",
      "  correct = np.sum(pred[con>=i] == truth[con>=i])/np.sum(con>=i)\n"
     ]
    },
    {
     "name": "stdout",
     "output_type": "stream",
     "text": [
      "Iteration: 4\n",
      "\n",
      "(25000, 32, 32, 3)\n",
      "(25000, 5)\n",
      "(5000, 32, 32, 3)\n",
      "(5000, 5)\n",
      "(25000, 32, 32, 3)\n",
      "(25000, 5)\n",
      "(5000, 32, 32, 3)\n",
      "(5000, 5)\n",
      "(25000, 5)\n",
      "157/157 [==============================] - 0s 3ms/step - loss: 0.5325 - accuracy: 0.7990\n",
      "[0.5325086116790771, 0.7990000247955322]\n",
      "Fit Imperfect EVM\n",
      "(25000, 128)\n",
      "(25000, 5)\n",
      "Fit Perfect EVM\n"
     ]
    },
    {
     "name": "stderr",
     "output_type": "stream",
     "text": [
      "/home/hardyc/Documents/CiFar-5 Iterations/Walter CNN/utils.py:173: RuntimeWarning: invalid value encountered in long_scalars\n",
      "  correct = np.sum(pred[con>=i] == truth[con>=i])/np.sum(con>=i)\n"
     ]
    },
    {
     "name": "stdout",
     "output_type": "stream",
     "text": [
      "Iteration: 5\n",
      "\n",
      "(25000, 32, 32, 3)\n",
      "(25000, 5)\n",
      "(5000, 32, 32, 3)\n",
      "(5000, 5)\n",
      "(25000, 32, 32, 3)\n",
      "(25000, 5)\n",
      "(5000, 32, 32, 3)\n",
      "(5000, 5)\n",
      "(25000, 5)\n",
      "157/157 [==============================] - 0s 3ms/step - loss: 0.4792 - accuracy: 0.8176\n",
      "[0.47922056913375854, 0.8176000118255615]\n",
      "Fit Imperfect EVM\n",
      "(25000, 128)\n",
      "(25000, 5)\n",
      "Fit Perfect EVM\n"
     ]
    },
    {
     "name": "stderr",
     "output_type": "stream",
     "text": [
      "/home/hardyc/Documents/CiFar-5 Iterations/Walter CNN/utils.py:173: RuntimeWarning: invalid value encountered in long_scalars\n",
      "  correct = np.sum(pred[con>=i] == truth[con>=i])/np.sum(con>=i)\n"
     ]
    },
    {
     "name": "stdout",
     "output_type": "stream",
     "text": [
      "Iteration: 6\n",
      "\n",
      "(25000, 32, 32, 3)\n",
      "(25000, 5)\n",
      "(5000, 32, 32, 3)\n",
      "(5000, 5)\n",
      "(25000, 32, 32, 3)\n",
      "(25000, 5)\n",
      "(5000, 32, 32, 3)\n",
      "(5000, 5)\n",
      "(25000, 5)\n",
      "157/157 [==============================] - 0s 3ms/step - loss: 0.6607 - accuracy: 0.7282\n",
      "[0.6607000231742859, 0.7282000184059143]\n",
      "Fit Imperfect EVM\n",
      "(25000, 128)\n",
      "(25000, 5)\n",
      "Fit Perfect EVM\n"
     ]
    },
    {
     "name": "stderr",
     "output_type": "stream",
     "text": [
      "/home/hardyc/Documents/CiFar-5 Iterations/Walter CNN/utils.py:173: RuntimeWarning: invalid value encountered in long_scalars\n",
      "  correct = np.sum(pred[con>=i] == truth[con>=i])/np.sum(con>=i)\n"
     ]
    },
    {
     "name": "stdout",
     "output_type": "stream",
     "text": [
      "Iteration: 7\n",
      "\n",
      "(25000, 32, 32, 3)\n",
      "(25000, 5)\n",
      "(5000, 32, 32, 3)\n",
      "(5000, 5)\n",
      "(25000, 32, 32, 3)\n",
      "(25000, 5)\n",
      "(5000, 32, 32, 3)\n",
      "(5000, 5)\n",
      "(25000, 5)\n",
      "157/157 [==============================] - 0s 3ms/step - loss: 0.5246 - accuracy: 0.7994\n",
      "[0.524622917175293, 0.7993999719619751]\n",
      "Fit Imperfect EVM\n",
      "(25000, 128)\n",
      "(25000, 5)\n",
      "Fit Perfect EVM\n"
     ]
    },
    {
     "name": "stderr",
     "output_type": "stream",
     "text": [
      "/home/hardyc/Documents/CiFar-5 Iterations/Walter CNN/utils.py:173: RuntimeWarning: invalid value encountered in long_scalars\n",
      "  correct = np.sum(pred[con>=i] == truth[con>=i])/np.sum(con>=i)\n"
     ]
    },
    {
     "name": "stdout",
     "output_type": "stream",
     "text": [
      "Iteration: 8\n",
      "\n",
      "(25000, 32, 32, 3)\n",
      "(25000, 5)\n",
      "(5000, 32, 32, 3)\n",
      "(5000, 5)\n",
      "(25000, 32, 32, 3)\n",
      "(25000, 5)\n",
      "(5000, 32, 32, 3)\n",
      "(5000, 5)\n",
      "(25000, 5)\n",
      "157/157 [==============================] - 0s 3ms/step - loss: 0.5595 - accuracy: 0.7864\n",
      "[0.5594733357429504, 0.7864000201225281]\n",
      "Fit Imperfect EVM\n",
      "(25000, 128)\n",
      "(25000, 5)\n",
      "Fit Perfect EVM\n"
     ]
    },
    {
     "name": "stderr",
     "output_type": "stream",
     "text": [
      "/home/hardyc/Documents/CiFar-5 Iterations/Walter CNN/utils.py:173: RuntimeWarning: invalid value encountered in long_scalars\n",
      "  correct = np.sum(pred[con>=i] == truth[con>=i])/np.sum(con>=i)\n"
     ]
    },
    {
     "name": "stdout",
     "output_type": "stream",
     "text": [
      "Iteration: 9\n",
      "\n",
      "(25000, 32, 32, 3)\n",
      "(25000, 5)\n",
      "(5000, 32, 32, 3)\n",
      "(5000, 5)\n",
      "(25000, 32, 32, 3)\n",
      "(25000, 5)\n",
      "(5000, 32, 32, 3)\n",
      "(5000, 5)\n",
      "(25000, 5)\n",
      "157/157 [==============================] - 0s 3ms/step - loss: 0.7116 - accuracy: 0.7216\n",
      "[0.7115921378135681, 0.7215999960899353]\n",
      "Fit Imperfect EVM\n",
      "(25000, 128)\n",
      "(25000, 5)\n",
      "Fit Perfect EVM\n"
     ]
    },
    {
     "name": "stderr",
     "output_type": "stream",
     "text": [
      "/home/hardyc/Documents/CiFar-5 Iterations/Walter CNN/utils.py:173: RuntimeWarning: invalid value encountered in long_scalars\n",
      "  correct = np.sum(pred[con>=i] == truth[con>=i])/np.sum(con>=i)\n"
     ]
    },
    {
     "name": "stdout",
     "output_type": "stream",
     "text": [
      "Iteration: 10\n",
      "\n",
      "(25000, 32, 32, 3)\n",
      "(25000, 5)\n",
      "(5000, 32, 32, 3)\n",
      "(5000, 5)\n",
      "(25000, 32, 32, 3)\n",
      "(25000, 5)\n",
      "(5000, 32, 32, 3)\n",
      "(5000, 5)\n",
      "(25000, 5)\n",
      "157/157 [==============================] - 0s 3ms/step - loss: 0.4677 - accuracy: 0.8292\n",
      "[0.4677211344242096, 0.829200029373169]\n",
      "Fit Imperfect EVM\n",
      "(25000, 128)\n",
      "(25000, 5)\n",
      "Fit Perfect EVM\n"
     ]
    },
    {
     "name": "stderr",
     "output_type": "stream",
     "text": [
      "/home/hardyc/Documents/CiFar-5 Iterations/Walter CNN/utils.py:173: RuntimeWarning: invalid value encountered in long_scalars\n",
      "  correct = np.sum(pred[con>=i] == truth[con>=i])/np.sum(con>=i)\n"
     ]
    },
    {
     "name": "stdout",
     "output_type": "stream",
     "text": [
      "Iteration: 11\n",
      "\n",
      "(25000, 32, 32, 3)\n",
      "(25000, 5)\n",
      "(5000, 32, 32, 3)\n",
      "(5000, 5)\n",
      "(25000, 32, 32, 3)\n",
      "(25000, 5)\n",
      "(5000, 32, 32, 3)\n",
      "(5000, 5)\n",
      "(25000, 5)\n",
      "157/157 [==============================] - 0s 3ms/step - loss: 0.6830 - accuracy: 0.7304\n",
      "[0.6830345988273621, 0.730400025844574]\n",
      "Fit Imperfect EVM\n",
      "(25000, 128)\n",
      "(25000, 5)\n",
      "Fit Perfect EVM\n"
     ]
    },
    {
     "name": "stderr",
     "output_type": "stream",
     "text": [
      "/home/hardyc/Documents/CiFar-5 Iterations/Walter CNN/utils.py:173: RuntimeWarning: invalid value encountered in long_scalars\n",
      "  correct = np.sum(pred[con>=i] == truth[con>=i])/np.sum(con>=i)\n"
     ]
    },
    {
     "name": "stdout",
     "output_type": "stream",
     "text": [
      "Iteration: 12\n",
      "\n",
      "(25000, 32, 32, 3)\n",
      "(25000, 5)\n",
      "(5000, 32, 32, 3)\n",
      "(5000, 5)\n",
      "(25000, 32, 32, 3)\n",
      "(25000, 5)\n",
      "(5000, 32, 32, 3)\n",
      "(5000, 5)\n",
      "(25000, 5)\n",
      "157/157 [==============================] - 0s 3ms/step - loss: 0.4913 - accuracy: 0.8134\n",
      "[0.4912900924682617, 0.8133999705314636]\n",
      "Fit Imperfect EVM\n",
      "(25000, 128)\n",
      "(25000, 5)\n",
      "Fit Perfect EVM\n"
     ]
    },
    {
     "name": "stderr",
     "output_type": "stream",
     "text": [
      "/home/hardyc/Documents/CiFar-5 Iterations/Walter CNN/utils.py:173: RuntimeWarning: invalid value encountered in long_scalars\n",
      "  correct = np.sum(pred[con>=i] == truth[con>=i])/np.sum(con>=i)\n"
     ]
    },
    {
     "name": "stdout",
     "output_type": "stream",
     "text": [
      "Iteration: 13\n",
      "\n",
      "(25000, 32, 32, 3)\n",
      "(25000, 5)\n",
      "(5000, 32, 32, 3)\n",
      "(5000, 5)\n",
      "(25000, 32, 32, 3)\n",
      "(25000, 5)\n",
      "(5000, 32, 32, 3)\n",
      "(5000, 5)\n",
      "(25000, 5)\n",
      "157/157 [==============================] - 0s 2ms/step - loss: 0.7113 - accuracy: 0.7186\n",
      "[0.7112811803817749, 0.7185999751091003]\n",
      "Fit Imperfect EVM\n",
      "(25000, 128)\n",
      "(25000, 5)\n",
      "Fit Perfect EVM\n"
     ]
    },
    {
     "name": "stderr",
     "output_type": "stream",
     "text": [
      "/home/hardyc/Documents/CiFar-5 Iterations/Walter CNN/utils.py:173: RuntimeWarning: invalid value encountered in long_scalars\n",
      "  correct = np.sum(pred[con>=i] == truth[con>=i])/np.sum(con>=i)\n"
     ]
    },
    {
     "name": "stdout",
     "output_type": "stream",
     "text": [
      "Iteration: 14\n",
      "\n",
      "(25000, 32, 32, 3)\n",
      "(25000, 5)\n",
      "(5000, 32, 32, 3)\n",
      "(5000, 5)\n",
      "(25000, 32, 32, 3)\n",
      "(25000, 5)\n",
      "(5000, 32, 32, 3)\n",
      "(5000, 5)\n",
      "(25000, 5)\n",
      "157/157 [==============================] - 0s 2ms/step - loss: 0.8392 - accuracy: 0.6644\n",
      "[0.8392475843429565, 0.6643999814987183]\n",
      "Fit Imperfect EVM\n",
      "(25000, 128)\n",
      "(25000, 5)\n",
      "Fit Perfect EVM\n"
     ]
    },
    {
     "name": "stderr",
     "output_type": "stream",
     "text": [
      "/home/hardyc/Documents/CiFar-5 Iterations/Walter CNN/utils.py:173: RuntimeWarning: invalid value encountered in long_scalars\n",
      "  correct = np.sum(pred[con>=i] == truth[con>=i])/np.sum(con>=i)\n"
     ]
    },
    {
     "name": "stdout",
     "output_type": "stream",
     "text": [
      "Iteration: 15\n",
      "\n",
      "(25000, 32, 32, 3)\n",
      "(25000, 5)\n",
      "(5000, 32, 32, 3)\n",
      "(5000, 5)\n",
      "(25000, 32, 32, 3)\n",
      "(25000, 5)\n",
      "(5000, 32, 32, 3)\n",
      "(5000, 5)\n",
      "(25000, 5)\n",
      "157/157 [==============================] - 0s 2ms/step - loss: 0.7517 - accuracy: 0.6892\n",
      "[0.7516964077949524, 0.6891999840736389]\n",
      "Fit Imperfect EVM\n",
      "(25000, 128)\n",
      "(25000, 5)\n",
      "Fit Perfect EVM\n"
     ]
    },
    {
     "name": "stderr",
     "output_type": "stream",
     "text": [
      "/home/hardyc/Documents/CiFar-5 Iterations/Walter CNN/utils.py:173: RuntimeWarning: invalid value encountered in long_scalars\n",
      "  correct = np.sum(pred[con>=i] == truth[con>=i])/np.sum(con>=i)\n"
     ]
    },
    {
     "name": "stdout",
     "output_type": "stream",
     "text": [
      "Iteration: 16\n",
      "\n",
      "(25000, 32, 32, 3)\n",
      "(25000, 5)\n",
      "(5000, 32, 32, 3)\n",
      "(5000, 5)\n",
      "(25000, 32, 32, 3)\n",
      "(25000, 5)\n",
      "(5000, 32, 32, 3)\n",
      "(5000, 5)\n",
      "(25000, 5)\n",
      "157/157 [==============================] - 0s 2ms/step - loss: 0.7133 - accuracy: 0.7198\n",
      "[0.7133127450942993, 0.7197999954223633]\n",
      "Fit Imperfect EVM\n",
      "(25000, 128)\n",
      "(25000, 5)\n",
      "Fit Perfect EVM\n"
     ]
    },
    {
     "name": "stderr",
     "output_type": "stream",
     "text": [
      "/home/hardyc/Documents/CiFar-5 Iterations/Walter CNN/utils.py:173: RuntimeWarning: invalid value encountered in long_scalars\n",
      "  correct = np.sum(pred[con>=i] == truth[con>=i])/np.sum(con>=i)\n"
     ]
    },
    {
     "name": "stdout",
     "output_type": "stream",
     "text": [
      "Iteration: 17\n",
      "\n",
      "(25000, 32, 32, 3)\n",
      "(25000, 5)\n",
      "(5000, 32, 32, 3)\n",
      "(5000, 5)\n",
      "(25000, 32, 32, 3)\n",
      "(25000, 5)\n",
      "(5000, 32, 32, 3)\n",
      "(5000, 5)\n",
      "(25000, 5)\n",
      "157/157 [==============================] - 0s 2ms/step - loss: 0.7024 - accuracy: 0.7322\n",
      "[0.7023888826370239, 0.732200026512146]\n",
      "Fit Imperfect EVM\n",
      "(25000, 128)\n",
      "(25000, 5)\n",
      "Fit Perfect EVM\n"
     ]
    },
    {
     "name": "stderr",
     "output_type": "stream",
     "text": [
      "/home/hardyc/Documents/CiFar-5 Iterations/Walter CNN/utils.py:173: RuntimeWarning: invalid value encountered in long_scalars\n",
      "  correct = np.sum(pred[con>=i] == truth[con>=i])/np.sum(con>=i)\n"
     ]
    },
    {
     "name": "stdout",
     "output_type": "stream",
     "text": [
      "Iteration: 18\n",
      "\n",
      "(25000, 32, 32, 3)\n",
      "(25000, 5)\n",
      "(5000, 32, 32, 3)\n",
      "(5000, 5)\n",
      "(25000, 32, 32, 3)\n",
      "(25000, 5)\n",
      "(5000, 32, 32, 3)\n",
      "(5000, 5)\n",
      "(25000, 5)\n",
      "157/157 [==============================] - 0s 3ms/step - loss: 0.6452 - accuracy: 0.7380\n",
      "[0.6451568603515625, 0.7379999756813049]\n",
      "Fit Imperfect EVM\n",
      "(25000, 128)\n",
      "(25000, 5)\n",
      "Fit Perfect EVM\n"
     ]
    },
    {
     "name": "stderr",
     "output_type": "stream",
     "text": [
      "/home/hardyc/Documents/CiFar-5 Iterations/Walter CNN/utils.py:173: RuntimeWarning: invalid value encountered in long_scalars\n",
      "  correct = np.sum(pred[con>=i] == truth[con>=i])/np.sum(con>=i)\n"
     ]
    },
    {
     "name": "stdout",
     "output_type": "stream",
     "text": [
      "Iteration: 19\n",
      "\n",
      "(25000, 32, 32, 3)\n",
      "(25000, 5)\n",
      "(5000, 32, 32, 3)\n",
      "(5000, 5)\n",
      "(25000, 32, 32, 3)\n",
      "(25000, 5)\n",
      "(5000, 32, 32, 3)\n",
      "(5000, 5)\n",
      "(25000, 5)\n",
      "157/157 [==============================] - 0s 3ms/step - loss: 0.7922 - accuracy: 0.6880\n",
      "[0.7921781539916992, 0.6880000233650208]\n",
      "Fit Imperfect EVM\n",
      "(25000, 128)\n",
      "(25000, 5)\n",
      "Fit Perfect EVM\n"
     ]
    },
    {
     "name": "stderr",
     "output_type": "stream",
     "text": [
      "/home/hardyc/Documents/CiFar-5 Iterations/Walter CNN/utils.py:173: RuntimeWarning: invalid value encountered in long_scalars\n",
      "  correct = np.sum(pred[con>=i] == truth[con>=i])/np.sum(con>=i)\n"
     ]
    },
    {
     "name": "stdout",
     "output_type": "stream",
     "text": [
      "Iteration: 20\n",
      "\n",
      "(25000, 32, 32, 3)\n",
      "(25000, 5)\n",
      "(5000, 32, 32, 3)\n",
      "(5000, 5)\n",
      "(25000, 32, 32, 3)\n",
      "(25000, 5)\n",
      "(5000, 32, 32, 3)\n",
      "(5000, 5)\n",
      "(25000, 5)\n",
      "157/157 [==============================] - 0s 3ms/step - loss: 0.5517 - accuracy: 0.7804\n",
      "[0.5517343282699585, 0.7803999781608582]\n",
      "Fit Imperfect EVM\n",
      "(25000, 128)\n",
      "(25000, 5)\n",
      "Fit Perfect EVM\n"
     ]
    },
    {
     "name": "stderr",
     "output_type": "stream",
     "text": [
      "/home/hardyc/Documents/CiFar-5 Iterations/Walter CNN/utils.py:173: RuntimeWarning: invalid value encountered in long_scalars\n",
      "  correct = np.sum(pred[con>=i] == truth[con>=i])/np.sum(con>=i)\n"
     ]
    },
    {
     "name": "stdout",
     "output_type": "stream",
     "text": [
      "Iteration: 21\n",
      "\n",
      "(25000, 32, 32, 3)\n",
      "(25000, 5)\n",
      "(5000, 32, 32, 3)\n",
      "(5000, 5)\n",
      "(25000, 32, 32, 3)\n",
      "(25000, 5)\n",
      "(5000, 32, 32, 3)\n",
      "(5000, 5)\n",
      "(25000, 5)\n",
      "157/157 [==============================] - 0s 3ms/step - loss: 0.4624 - accuracy: 0.8212\n",
      "[0.46243155002593994, 0.8212000131607056]\n",
      "Fit Imperfect EVM\n",
      "(25000, 128)\n",
      "(25000, 5)\n",
      "Fit Perfect EVM\n"
     ]
    },
    {
     "name": "stderr",
     "output_type": "stream",
     "text": [
      "/home/hardyc/Documents/CiFar-5 Iterations/Walter CNN/utils.py:173: RuntimeWarning: invalid value encountered in long_scalars\n",
      "  correct = np.sum(pred[con>=i] == truth[con>=i])/np.sum(con>=i)\n"
     ]
    },
    {
     "name": "stdout",
     "output_type": "stream",
     "text": [
      "Iteration: 22\n",
      "\n",
      "(25000, 32, 32, 3)\n",
      "(25000, 5)\n",
      "(5000, 32, 32, 3)\n",
      "(5000, 5)\n",
      "(25000, 32, 32, 3)\n",
      "(25000, 5)\n",
      "(5000, 32, 32, 3)\n",
      "(5000, 5)\n",
      "(25000, 5)\n",
      "157/157 [==============================] - 0s 3ms/step - loss: 0.4809 - accuracy: 0.8230\n",
      "[0.48089146614074707, 0.8230000138282776]\n",
      "Fit Imperfect EVM\n",
      "(25000, 128)\n",
      "(25000, 5)\n",
      "Fit Perfect EVM\n"
     ]
    },
    {
     "name": "stderr",
     "output_type": "stream",
     "text": [
      "/home/hardyc/Documents/CiFar-5 Iterations/Walter CNN/utils.py:173: RuntimeWarning: invalid value encountered in long_scalars\n",
      "  correct = np.sum(pred[con>=i] == truth[con>=i])/np.sum(con>=i)\n"
     ]
    },
    {
     "name": "stdout",
     "output_type": "stream",
     "text": [
      "Iteration: 23\n",
      "\n",
      "(25000, 32, 32, 3)\n",
      "(25000, 5)\n",
      "(5000, 32, 32, 3)\n",
      "(5000, 5)\n",
      "(25000, 32, 32, 3)\n",
      "(25000, 5)\n",
      "(5000, 32, 32, 3)\n",
      "(5000, 5)\n",
      "(25000, 5)\n",
      "157/157 [==============================] - 0s 3ms/step - loss: 0.6691 - accuracy: 0.7432\n",
      "[0.669072687625885, 0.7432000041007996]\n",
      "Fit Imperfect EVM\n",
      "(25000, 128)\n",
      "(25000, 5)\n",
      "Fit Perfect EVM\n"
     ]
    },
    {
     "name": "stderr",
     "output_type": "stream",
     "text": [
      "/home/hardyc/Documents/CiFar-5 Iterations/Walter CNN/utils.py:173: RuntimeWarning: invalid value encountered in long_scalars\n",
      "  correct = np.sum(pred[con>=i] == truth[con>=i])/np.sum(con>=i)\n"
     ]
    },
    {
     "name": "stdout",
     "output_type": "stream",
     "text": [
      "Iteration: 24\n",
      "\n",
      "(25000, 32, 32, 3)\n",
      "(25000, 5)\n",
      "(5000, 32, 32, 3)\n",
      "(5000, 5)\n",
      "(25000, 32, 32, 3)\n",
      "(25000, 5)\n",
      "(5000, 32, 32, 3)\n",
      "(5000, 5)\n",
      "(25000, 5)\n",
      "157/157 [==============================] - 0s 3ms/step - loss: 0.4102 - accuracy: 0.8492\n",
      "[0.4101674258708954, 0.8492000102996826]\n",
      "Fit Imperfect EVM\n",
      "(25000, 128)\n",
      "(25000, 5)\n",
      "Fit Perfect EVM\n"
     ]
    },
    {
     "name": "stderr",
     "output_type": "stream",
     "text": [
      "/home/hardyc/Documents/CiFar-5 Iterations/Walter CNN/utils.py:173: RuntimeWarning: invalid value encountered in long_scalars\n",
      "  correct = np.sum(pred[con>=i] == truth[con>=i])/np.sum(con>=i)\n"
     ]
    },
    {
     "name": "stdout",
     "output_type": "stream",
     "text": [
      "Iteration: 25\n",
      "\n",
      "(25000, 32, 32, 3)\n",
      "(25000, 5)\n",
      "(5000, 32, 32, 3)\n",
      "(5000, 5)\n",
      "(25000, 32, 32, 3)\n",
      "(25000, 5)\n",
      "(5000, 32, 32, 3)\n",
      "(5000, 5)\n",
      "(25000, 5)\n",
      "157/157 [==============================] - 0s 3ms/step - loss: 0.5354 - accuracy: 0.7710\n",
      "[0.535419762134552, 0.7710000276565552]\n",
      "Fit Imperfect EVM\n",
      "(25000, 128)\n",
      "(25000, 5)\n",
      "Fit Perfect EVM\n"
     ]
    },
    {
     "name": "stderr",
     "output_type": "stream",
     "text": [
      "/home/hardyc/Documents/CiFar-5 Iterations/Walter CNN/utils.py:173: RuntimeWarning: invalid value encountered in long_scalars\n",
      "  correct = np.sum(pred[con>=i] == truth[con>=i])/np.sum(con>=i)\n"
     ]
    },
    {
     "name": "stdout",
     "output_type": "stream",
     "text": [
      "Iteration: 26\n",
      "\n",
      "(25000, 32, 32, 3)\n",
      "(25000, 5)\n",
      "(5000, 32, 32, 3)\n",
      "(5000, 5)\n",
      "(25000, 32, 32, 3)\n",
      "(25000, 5)\n",
      "(5000, 32, 32, 3)\n",
      "(5000, 5)\n",
      "(25000, 5)\n",
      "157/157 [==============================] - 0s 3ms/step - loss: 0.8860 - accuracy: 0.6486\n",
      "[0.8859992027282715, 0.6485999822616577]\n",
      "Fit Imperfect EVM\n",
      "(25000, 128)\n",
      "(25000, 5)\n",
      "Fit Perfect EVM\n"
     ]
    },
    {
     "name": "stderr",
     "output_type": "stream",
     "text": [
      "/home/hardyc/Documents/CiFar-5 Iterations/Walter CNN/utils.py:173: RuntimeWarning: invalid value encountered in long_scalars\n",
      "  correct = np.sum(pred[con>=i] == truth[con>=i])/np.sum(con>=i)\n"
     ]
    },
    {
     "name": "stdout",
     "output_type": "stream",
     "text": [
      "Iteration: 27\n",
      "\n",
      "(25000, 32, 32, 3)\n",
      "(25000, 5)\n",
      "(5000, 32, 32, 3)\n",
      "(5000, 5)\n",
      "(25000, 32, 32, 3)\n",
      "(25000, 5)\n",
      "(5000, 32, 32, 3)\n",
      "(5000, 5)\n",
      "(25000, 5)\n",
      "157/157 [==============================] - 1s 3ms/step - loss: 0.7267 - accuracy: 0.7142\n",
      "[0.7266883254051208, 0.7142000198364258]\n",
      "Fit Imperfect EVM\n",
      "(25000, 128)\n",
      "(25000, 5)\n",
      "Fit Perfect EVM\n"
     ]
    },
    {
     "name": "stderr",
     "output_type": "stream",
     "text": [
      "/home/hardyc/Documents/CiFar-5 Iterations/Walter CNN/utils.py:173: RuntimeWarning: invalid value encountered in long_scalars\n",
      "  correct = np.sum(pred[con>=i] == truth[con>=i])/np.sum(con>=i)\n"
     ]
    },
    {
     "name": "stdout",
     "output_type": "stream",
     "text": [
      "Iteration: 28\n",
      "\n",
      "(25000, 32, 32, 3)\n",
      "(25000, 5)\n",
      "(5000, 32, 32, 3)\n",
      "(5000, 5)\n",
      "(25000, 32, 32, 3)\n",
      "(25000, 5)\n",
      "(5000, 32, 32, 3)\n",
      "(5000, 5)\n",
      "(25000, 5)\n",
      "157/157 [==============================] - 1s 3ms/step - loss: 0.5093 - accuracy: 0.8132\n",
      "[0.5092877149581909, 0.8131999969482422]\n",
      "Fit Imperfect EVM\n",
      "(25000, 128)\n",
      "(25000, 5)\n",
      "Fit Perfect EVM\n"
     ]
    },
    {
     "name": "stderr",
     "output_type": "stream",
     "text": [
      "/home/hardyc/Documents/CiFar-5 Iterations/Walter CNN/utils.py:173: RuntimeWarning: invalid value encountered in long_scalars\n",
      "  correct = np.sum(pred[con>=i] == truth[con>=i])/np.sum(con>=i)\n"
     ]
    },
    {
     "name": "stdout",
     "output_type": "stream",
     "text": [
      "Iteration: 29\n",
      "\n",
      "(25000, 32, 32, 3)\n",
      "(25000, 5)\n",
      "(5000, 32, 32, 3)\n",
      "(5000, 5)\n",
      "(25000, 32, 32, 3)\n",
      "(25000, 5)\n",
      "(5000, 32, 32, 3)\n",
      "(5000, 5)\n",
      "(25000, 5)\n",
      "157/157 [==============================] - 0s 3ms/step - loss: 0.5152 - accuracy: 0.8062\n",
      "[0.5152248740196228, 0.8062000274658203]\n",
      "Fit Imperfect EVM\n",
      "(25000, 128)\n",
      "(25000, 5)\n",
      "Fit Perfect EVM\n"
     ]
    },
    {
     "name": "stderr",
     "output_type": "stream",
     "text": [
      "/home/hardyc/Documents/CiFar-5 Iterations/Walter CNN/utils.py:173: RuntimeWarning: invalid value encountered in long_scalars\n",
      "  correct = np.sum(pred[con>=i] == truth[con>=i])/np.sum(con>=i)\n"
     ]
    }
   ],
   "source": [
    "import pandas as pd\n",
    "##\n",
    "## Define places to store results\n",
    "##\n",
    "imp_known_correct_all = []\n",
    "imp_known_novel_all = []\n",
    "imp_unknown_correct_all = []\n",
    "imp_unknown_novel_all = []\n",
    "per_known_correct_all = []\n",
    "per_known_novel_all = []\n",
    "per_unknown_correct_all = []\n",
    "per_unknown_novel_all = []\n",
    "\n",
    "\n",
    "df = pd.DataFrame(columns=['Iteration', 'Unknown Classes', 'imp_known_correct_all', 'imp_known_novel_all', 'imp_unknown_novel_all','per_known_correct_all','per_known_novel_all','per_unknown_novel_all'])\n",
    "\n",
    "##\n",
    "## Begin experiments\n",
    "##\n",
    "for i in range(iterations):\n",
    "    print('Iteration: ' + str(i))\n",
    "    print()\n",
    "    \n",
    "    ##\n",
    "    ## Split the data into known and unknown classes\n",
    "    ##\n",
    "    toRemove = np.random.choice(10, num_to_remove, replace = False)                                         ## Randomly pick unknown classes\n",
    "    x_train_known, x_train_unknown, y_train_known, y_train_unknown = split_data(x_train, y_train, toRemove) ## Split train data (defined in utils.py)\n",
    "    x_test_known, x_test_unknown, y_test_known, y_test_unknown = split_data(x_test, y_test, toRemove)       ## Split test data (defined in utils.py)\n",
    "\n",
    "    print(x_train_known.shape)\n",
    "    print(y_train_known.shape)\n",
    "    print(x_test_known.shape)\n",
    "    print(y_test_known.shape)\n",
    "    \n",
    "    ##\n",
    "    ## Train a classifier based feature extractor using only the known classes\n",
    "    ##\n",
    "    #y_train_known = tf.keras.utils.to_categorical(y_train_known) \n",
    "    #y_test_known = tf.keras.utils.to_categorical(y_test_known) \n",
    "    \n",
    "    print(x_train_known.shape)\n",
    "    print(y_train_known.shape)\n",
    "    print(x_test_known.shape)\n",
    "    print(y_test_known.shape)\n",
    "    \n",
    "    y_train_known = np.squeeze(y_train_known)\n",
    "    print(y_train_known.shape)\n",
    "    imperfect = feature_model2(10-num_to_remove, x_train_known, y_train_known, x_test_known, y_test_known, epochs = epochs, batch_size = 32, verbose = 0)\n",
    "\n",
    "    ##\n",
    "    ## Extract features with imperfect extractor\n",
    "    ##\n",
    "    x_train_known_imp = imperfect.predict(x_train_known)\n",
    "    x_test_known_imp = imperfect.predict(x_test_known)\n",
    "    x_test_unknown_imp = imperfect.predict(x_test_unknown)\n",
    "\n",
    "    ##\n",
    "    ## Extract features with perfect extractor\n",
    "    ##\n",
    "    x_train_known_per = perfect.predict(x_train_known)\n",
    "    x_test_known_per = perfect.predict(x_test_known)\n",
    "    x_test_unknown_per = perfect.predict(x_test_unknown)\n",
    "\n",
    "    ##\n",
    "    ## Fit EVMs\n",
    "    ##\n",
    "    evm_options = evm_flat.EVMOptions(tailsize = tailsize, cover_threshold = cover_threshold , dist_func = dist_func, num_to_fuse = num_to_fuse, margin_scale = margin_scale)\n",
    "    \n",
    "    print('Fit Imperfect EVM')\n",
    "    evm_imp = evm_flat.ExtremeValueMachine('imperfect', evm_options)\n",
    "    print(x_train_known_imp.shape)\n",
    "    print(y_train_known.shape)\n",
    "    evm_imp.train(x_train_known_imp, y_train_known)\n",
    "    print('Fit Perfect EVM')\n",
    "    evm_per = evm_flat.ExtremeValueMachine('perfect', evm_options)\n",
    "    evm_per.train(x_train_known_per, y_train_known)\n",
    "\n",
    "    ##\n",
    "    ## Make Predictions with EVM\n",
    "    ##\n",
    "    imp_pred_known = evm_imp.confidence(x_test_known_imp)\n",
    "    imp_pred_unknown = evm_imp.confidence(x_test_unknown_imp)\n",
    "    per_pred_known = evm_per.confidence(x_test_known_per)\n",
    "    per_pred_unknown = evm_per.confidence(x_test_unknown_per)\n",
    "\n",
    "    ##\n",
    "    ## Evaluate Predictions\n",
    "    ##\n",
    "    imp_known_correct, imp_known_novel = eval(imp_pred_known, y_test_known, thresholds)           ## eval defined in utils.py\n",
    "    imp_unknown_correct, imp_unknown_novel = eval(imp_pred_unknown, y_test_unknown, thresholds)\n",
    "    per_known_correct, per_known_novel = eval(per_pred_known, y_test_known, thresholds)\n",
    "    per_unknown_correct, per_unknown_novel = eval(per_pred_unknown, y_test_unknown, thresholds)\n",
    "    \n",
    "    ##\n",
    "    ## Store results\n",
    "    ##\n",
    "    imp_known_correct_all.append(imp_known_correct)      ## imp_known_correct: correct classification percentage of known instances by the imperfect EVM (instances called novel not considered)\n",
    "    imp_known_novel_all.append(imp_known_novel)          ## imp_known_novel: percentage of known instances called novel by the imperfect EVM \n",
    "    imp_unknown_novel_all.append(imp_unknown_novel)      ## imp_unknown_novel: percentage of unknown instances called novel by the imperfect EVM\n",
    "    per_known_correct_all.append(per_known_correct)      ## per_known_correct: correct classification percentage of known instances by the perfect EVM (instances called novel not considered)\n",
    "    per_known_novel_all.append(per_known_novel)          ## per_known_novel: percentage of known instances called novel by the perfect EVM\n",
    "    per_unknown_novel_all.append(per_unknown_novel)      ## per_unknown_novel: percentage of unknown instances called novel by the perfect EVM\n",
    "    if i <= 5:\n",
    "        df = df.append({'Iteration':i, 'Unknown Classes': toRemove, 'imp_known_correct_all':imp_known_correct_all, 'imp_known_novel_all':imp_known_novel_all, 'imp_unknown_novel_all':imp_unknown_novel_all,'per_known_correct_all':per_known_correct_all,'per_known_novel_all':per_known_novel_all,'per_unknown_novel_all':per_unknown_novel_all}, ignore_index=True)\n",
    "        df.to_csv(r'./cnn_df_cf2_five_iter(s).csv', index= False,header=True)\n",
    "        df.to_csv(r'./cnn_df_cf2.csv', index= False,header=True)\n",
    "    else:\n",
    "        df = df.append({'Iteration':i, 'Unknown Classes': toRemove, 'imp_known_correct_all':imp_known_correct_all, 'imp_known_novel_all':imp_known_novel_all, 'imp_unknown_novel_all':imp_unknown_novel_all,'per_known_correct_all':per_known_correct_all,'per_known_novel_all':per_known_novel_all,'per_unknown_novel_all':per_unknown_novel_all}, ignore_index=True)\n",
    "        df.to_csv(r'./cnn_df_cf2.csv', index= False,header=True)"
   ]
  },
  {
   "cell_type": "code",
   "execution_count": 8,
   "metadata": {},
   "outputs": [
    {
     "data": {
      "image/png": "[encoded data removed]",
      "text/plain": [
       "<Figure size 1008x216 with 3 Axes>"
      ]
     },
     "metadata": {
      "needs_background": "light"
     },
     "output_type": "display_data"
    }
   ],
   "source": [
    "import matplotlib.pyplot as plt\n",
    "\n",
    "\n",
    "\n",
    "fig = plt.figure(figsize = (14, 3))\n",
    "ax1 = fig.add_subplot(131)\n",
    "ax2 = fig.add_subplot(132)\n",
    "ax3 = fig.add_subplot(133)\n",
    "\n",
    "ax1.title.set_text('Knowns: Correct Classification Rate')\n",
    "ax2.title.set_text('Knowns: False Novel Rate')\n",
    "ax3.title.set_text('Unknowns: True Novel Rate')\n",
    "\n",
    "ax1.plot(thresholds, np.mean(imp_known_correct_all, axis = 0), label = 'Imperfect')\n",
    "ax1.plot(thresholds, np.mean(per_known_correct_all, axis = 0), label = 'Perfect')\n",
    "\n",
    "\n",
    "ax2.plot(thresholds, np.mean(imp_known_novel_all, axis = 0), label = 'Imperfect')\n",
    "ax2.plot(thresholds, np.mean(per_known_novel_all, axis = 0), label = 'Perfect')\n",
    "\n",
    "ax3.plot(thresholds, np.mean(imp_unknown_novel_all, axis = 0), label = 'Imperfect')\n",
    "ax3.plot(thresholds, np.mean(per_unknown_novel_all, axis = 0), label = 'Perfect')\n",
    "\n",
    "handles, labels = ax1.get_legend_handles_labels()\n",
    "fig.legend(handles, labels, loc='upper left')\n",
    "\n",
    "plt.savefig('CNN_images_cf5_30iter.pdf')\n",
    "plt.show()"
   ]
  },
  {
   "cell_type": "code",
   "execution_count": 20,
   "metadata": {},
   "outputs": [
    {
     "name": "stdout",
     "output_type": "stream",
     "text": [
      "[[0.0, 0.0052, 0.0172, 0.0336, 0.0644, 0.1028, 0.1676, 0.2674, 0.4746, 1.0], [0.0012, 0.0032, 0.0074, 0.0166, 0.0334, 0.0616, 0.1064, 0.1992, 0.4296, 1.0], [0.0006, 0.0038, 0.0158, 0.032, 0.0608, 0.0984, 0.1676, 0.2828, 0.5314, 1.0], [0.0004, 0.0026, 0.0084, 0.0206, 0.047, 0.0838, 0.148, 0.2696, 0.489, 1.0], [0.0002, 0.002, 0.005, 0.0136, 0.0238, 0.0438, 0.0806, 0.1598, 0.3792, 1.0], [0.0002, 0.001, 0.0034, 0.008, 0.0154, 0.0344, 0.0806, 0.1892, 0.5002, 1.0], [0.0004, 0.002, 0.0058, 0.0148, 0.0304, 0.0674, 0.1312, 0.2716, 0.6212, 1.0], [0.0, 0.0012, 0.0036, 0.0102, 0.0184, 0.0348, 0.0686, 0.1416, 0.3188, 1.0], [0.0, 0.002, 0.0088, 0.0168, 0.0344, 0.0578, 0.1024, 0.2012, 0.4264, 1.0], [0.0, 0.0018, 0.0052, 0.012, 0.027, 0.0526, 0.097, 0.198, 0.4314, 1.0], [0.0002, 0.0008, 0.0044, 0.0084, 0.0186, 0.0364, 0.078, 0.1576, 0.3662, 1.0], [0.0004, 0.0024, 0.0092, 0.0216, 0.0456, 0.082, 0.1456, 0.2472, 0.4636, 1.0], [0.0, 0.0002, 0.002, 0.0056, 0.0144, 0.0296, 0.0668, 0.1838, 0.5132, 1.0], [0.0002, 0.0008, 0.003, 0.0082, 0.0182, 0.0372, 0.0802, 0.1978, 0.5372, 1.0], [0.0004, 0.0046, 0.014, 0.034, 0.0658, 0.1126, 0.1768, 0.2946, 0.535, 1.0], [0.0008, 0.0034, 0.012, 0.029, 0.0596, 0.1036, 0.1878, 0.3484, 0.6558, 1.0], [0.0, 0.0012, 0.0042, 0.0084, 0.0194, 0.0408, 0.0846, 0.1756, 0.4576, 1.0], [0.0002, 0.0018, 0.005, 0.0126, 0.0292, 0.057, 0.1134, 0.2332, 0.5512, 1.0], [0.0002, 0.0014, 0.005, 0.0146, 0.0286, 0.057, 0.1162, 0.2462, 0.5502, 1.0], [0.0004, 0.002, 0.0086, 0.0186, 0.033, 0.0626, 0.1194, 0.2484, 0.5588, 1.0], [0.0, 0.0006, 0.0056, 0.016, 0.0354, 0.0638, 0.1124, 0.247, 0.4938, 1.0], [0.0002, 0.0006, 0.0026, 0.009, 0.0222, 0.0444, 0.081, 0.1698, 0.4132, 1.0], [0.0, 0.0016, 0.0052, 0.0102, 0.0194, 0.0366, 0.074, 0.156, 0.355, 1.0], [0.0002, 0.0022, 0.006, 0.015, 0.0272, 0.0518, 0.1036, 0.209, 0.4766, 1.0], [0.0004, 0.0014, 0.0044, 0.0084, 0.0172, 0.0316, 0.0632, 0.1436, 0.3792, 1.0], [0.0, 0.0012, 0.0044, 0.011, 0.0262, 0.0464, 0.0922, 0.2426, 0.6132, 1.0], [0.0, 0.0032, 0.0112, 0.0248, 0.051, 0.0996, 0.175, 0.334, 0.657, 1.0], [0.0006, 0.0022, 0.008, 0.0174, 0.0328, 0.0684, 0.1254, 0.2482, 0.5828, 1.0], [0.0004, 0.002, 0.0066, 0.0158, 0.0314, 0.0512, 0.0948, 0.1808, 0.3974, 1.0], [0.0, 0.0004, 0.0028, 0.0084, 0.0222, 0.045, 0.0786, 0.162, 0.3842, 1.0]]\n",
      "[2.53333333e-04 1.96000000e-03 6.82666667e-03 1.58400000e-02\n",
      " 3.24133333e-02 5.98333333e-02 1.10633333e-01 2.20206667e-01\n",
      " 4.84766667e-01 1.00000000e+00]\n"
     ]
    }
   ],
   "source": [
    "#print(imp_known_correct_all)\n",
    "print(imp_known_novel_all)\n",
    "print(np.mean(imp_known_novel_all, axis = 0))"
   ]
  },
  {
   "cell_type": "code",
   "execution_count": 25,
   "metadata": {},
   "outputs": [
    {
     "name": "stdout",
     "output_type": "stream",
     "text": [
      "[[0.         0.         2.316617   ... 0.         0.27032337 2.6178281 ]\n",
      " [3.09473    0.         3.9569597  ... 3.0561898  0.8326596  0.        ]\n",
      " [1.8025745  0.         0.         ... 1.2786716  0.         0.        ]\n",
      " ...\n",
      " [0.         3.7198727  0.         ... 3.797779   4.300847   0.        ]\n",
      " [2.1178799  0.         0.         ... 1.4942993  2.2446127  4.189491  ]\n",
      " [4.2678866  0.         0.9550949  ... 5.565894   1.4587125  0.        ]]\n"
     ]
    }
   ],
   "source": [
    "print(x_train_known_imp)"
   ]
  },
  {
   "cell_type": "code",
   "execution_count": 22,
   "metadata": {},
   "outputs": [
    {
     "name": "stdout",
     "output_type": "stream",
     "text": [
      "[0.0, 0.0004, 0.0028, 0.0084, 0.0222, 0.045, 0.0786, 0.162, 0.3842, 1.0]\n",
      "[0.8204, 0.8207282913165266, 0.8221018852787806, 0.8247277127874143, 0.8306402127224382, 0.8391623036649215, 0.8476231821141741, 0.8704057279236277, 0.9324455992205262, nan]\n"
     ]
    }
   ],
   "source": [
    "print(imp_known_novel)\n",
    "print(imp_known_correct)"
   ]
  },
  {
   "cell_type": "code",
   "execution_count": 23,
   "metadata": {},
   "outputs": [
    {
     "name": "stdout",
     "output_type": "stream",
     "text": [
      "[[0.92141912 0.54474396 0.24720859 0.28102318 0.51982872]\n",
      " [0.3729681  0.72037704 0.94860999 0.31188523 0.35115612]\n",
      " [0.33518098 0.5835177  0.98197872 0.55761801 0.21944205]\n",
      " ...\n",
      " [0.50649221 0.75467576 0.1449165  0.90637229 0.3954678 ]\n",
      " [0.91778846 0.37357961 0.42675056 0.63112111 0.85997514]\n",
      " [0.44433764 0.75778691 0.18313878 0.89353345 0.43977949]]\n"
     ]
    }
   ],
   "source": [
    "print(imp_pred_known)"
   ]
  },
  {
   "cell_type": "code",
   "execution_count": 17,
   "metadata": {},
   "outputs": [
    {
     "ename": "ValueError",
     "evalue": "x and y must have same first dimension, but have shapes (10,) and (1,)",
     "output_type": "error",
     "traceback": [
      "\u001b[0;31m---------------------------------------------------------------------------\u001b[0m",
      "\u001b[0;31mValueError\u001b[0m                                Traceback (most recent call last)",
      "\u001b[0;32m<ipython-input-17-6866332eed83>\u001b[0m in \u001b[0;36m<module>\u001b[0;34m\u001b[0m\n\u001b[1;32m      8\u001b[0m \u001b[0max3\u001b[0m\u001b[0;34m.\u001b[0m\u001b[0mtitle\u001b[0m\u001b[0;34m.\u001b[0m\u001b[0mset_text\u001b[0m\u001b[0;34m(\u001b[0m\u001b[0;34m'Unknowns: True Novel Rate'\u001b[0m\u001b[0;34m)\u001b[0m\u001b[0;34m\u001b[0m\u001b[0;34m\u001b[0m\u001b[0m\n\u001b[1;32m      9\u001b[0m \u001b[0;34m\u001b[0m\u001b[0m\n\u001b[0;32m---> 10\u001b[0;31m \u001b[0max1\u001b[0m\u001b[0;34m.\u001b[0m\u001b[0mplot\u001b[0m\u001b[0;34m(\u001b[0m\u001b[0mthresholds\u001b[0m\u001b[0;34m,\u001b[0m \u001b[0mlen\u001b[0m\u001b[0;34m(\u001b[0m\u001b[0mimp_known_correct_all\u001b[0m\u001b[0;34m)\u001b[0m\u001b[0;34m,\u001b[0m \u001b[0mlabel\u001b[0m \u001b[0;34m=\u001b[0m \u001b[0;34m'Imperfect'\u001b[0m\u001b[0;34m)\u001b[0m\u001b[0;34m\u001b[0m\u001b[0;34m\u001b[0m\u001b[0m\n\u001b[0m\u001b[1;32m     11\u001b[0m \u001b[0max1\u001b[0m\u001b[0;34m.\u001b[0m\u001b[0mplot\u001b[0m\u001b[0;34m(\u001b[0m\u001b[0mthresholds\u001b[0m\u001b[0;34m,\u001b[0m \u001b[0mlen\u001b[0m\u001b[0;34m(\u001b[0m\u001b[0mper_known_correct_all\u001b[0m\u001b[0;34m)\u001b[0m\u001b[0;34m,\u001b[0m \u001b[0mlabel\u001b[0m \u001b[0;34m=\u001b[0m \u001b[0;34m'Perfect'\u001b[0m\u001b[0;34m)\u001b[0m\u001b[0;34m\u001b[0m\u001b[0;34m\u001b[0m\u001b[0m\n\u001b[1;32m     12\u001b[0m \u001b[0;34m\u001b[0m\u001b[0m\n",
      "\u001b[0;32m~/anaconda3/envs/thesisEnv/lib/python3.8/site-packages/matplotlib/axes/_axes.py\u001b[0m in \u001b[0;36mplot\u001b[0;34m(self, scalex, scaley, data, *args, **kwargs)\u001b[0m\n\u001b[1;32m   1741\u001b[0m         \"\"\"\n\u001b[1;32m   1742\u001b[0m         \u001b[0mkwargs\u001b[0m \u001b[0;34m=\u001b[0m \u001b[0mcbook\u001b[0m\u001b[0;34m.\u001b[0m\u001b[0mnormalize_kwargs\u001b[0m\u001b[0;34m(\u001b[0m\u001b[0mkwargs\u001b[0m\u001b[0;34m,\u001b[0m \u001b[0mmlines\u001b[0m\u001b[0;34m.\u001b[0m\u001b[0mLine2D\u001b[0m\u001b[0;34m)\u001b[0m\u001b[0;34m\u001b[0m\u001b[0;34m\u001b[0m\u001b[0m\n\u001b[0;32m-> 1743\u001b[0;31m         \u001b[0mlines\u001b[0m \u001b[0;34m=\u001b[0m \u001b[0;34m[\u001b[0m\u001b[0;34m*\u001b[0m\u001b[0mself\u001b[0m\u001b[0;34m.\u001b[0m\u001b[0m_get_lines\u001b[0m\u001b[0;34m(\u001b[0m\u001b[0;34m*\u001b[0m\u001b[0margs\u001b[0m\u001b[0;34m,\u001b[0m \u001b[0mdata\u001b[0m\u001b[0;34m=\u001b[0m\u001b[0mdata\u001b[0m\u001b[0;34m,\u001b[0m \u001b[0;34m**\u001b[0m\u001b[0mkwargs\u001b[0m\u001b[0;34m)\u001b[0m\u001b[0;34m]\u001b[0m\u001b[0;34m\u001b[0m\u001b[0;34m\u001b[0m\u001b[0m\n\u001b[0m\u001b[1;32m   1744\u001b[0m         \u001b[0;32mfor\u001b[0m \u001b[0mline\u001b[0m \u001b[0;32min\u001b[0m \u001b[0mlines\u001b[0m\u001b[0;34m:\u001b[0m\u001b[0;34m\u001b[0m\u001b[0;34m\u001b[0m\u001b[0m\n\u001b[1;32m   1745\u001b[0m             \u001b[0mself\u001b[0m\u001b[0;34m.\u001b[0m\u001b[0madd_line\u001b[0m\u001b[0;34m(\u001b[0m\u001b[0mline\u001b[0m\u001b[0;34m)\u001b[0m\u001b[0;34m\u001b[0m\u001b[0;34m\u001b[0m\u001b[0m\n",
      "\u001b[0;32m~/anaconda3/envs/thesisEnv/lib/python3.8/site-packages/matplotlib/axes/_base.py\u001b[0m in \u001b[0;36m__call__\u001b[0;34m(self, data, *args, **kwargs)\u001b[0m\n\u001b[1;32m    271\u001b[0m                 \u001b[0mthis\u001b[0m \u001b[0;34m+=\u001b[0m \u001b[0margs\u001b[0m\u001b[0;34m[\u001b[0m\u001b[0;36m0\u001b[0m\u001b[0;34m]\u001b[0m\u001b[0;34m,\u001b[0m\u001b[0;34m\u001b[0m\u001b[0;34m\u001b[0m\u001b[0m\n\u001b[1;32m    272\u001b[0m                 \u001b[0margs\u001b[0m \u001b[0;34m=\u001b[0m \u001b[0margs\u001b[0m\u001b[0;34m[\u001b[0m\u001b[0;36m1\u001b[0m\u001b[0;34m:\u001b[0m\u001b[0;34m]\u001b[0m\u001b[0;34m\u001b[0m\u001b[0;34m\u001b[0m\u001b[0m\n\u001b[0;32m--> 273\u001b[0;31m             \u001b[0;32myield\u001b[0m \u001b[0;32mfrom\u001b[0m \u001b[0mself\u001b[0m\u001b[0;34m.\u001b[0m\u001b[0m_plot_args\u001b[0m\u001b[0;34m(\u001b[0m\u001b[0mthis\u001b[0m\u001b[0;34m,\u001b[0m \u001b[0mkwargs\u001b[0m\u001b[0;34m)\u001b[0m\u001b[0;34m\u001b[0m\u001b[0;34m\u001b[0m\u001b[0m\n\u001b[0m\u001b[1;32m    274\u001b[0m \u001b[0;34m\u001b[0m\u001b[0m\n\u001b[1;32m    275\u001b[0m     \u001b[0;32mdef\u001b[0m \u001b[0mget_next_color\u001b[0m\u001b[0;34m(\u001b[0m\u001b[0mself\u001b[0m\u001b[0;34m)\u001b[0m\u001b[0;34m:\u001b[0m\u001b[0;34m\u001b[0m\u001b[0;34m\u001b[0m\u001b[0m\n",
      "\u001b[0;32m~/anaconda3/envs/thesisEnv/lib/python3.8/site-packages/matplotlib/axes/_base.py\u001b[0m in \u001b[0;36m_plot_args\u001b[0;34m(self, tup, kwargs)\u001b[0m\n\u001b[1;32m    397\u001b[0m \u001b[0;34m\u001b[0m\u001b[0m\n\u001b[1;32m    398\u001b[0m         \u001b[0;32mif\u001b[0m \u001b[0mx\u001b[0m\u001b[0;34m.\u001b[0m\u001b[0mshape\u001b[0m\u001b[0;34m[\u001b[0m\u001b[0;36m0\u001b[0m\u001b[0;34m]\u001b[0m \u001b[0;34m!=\u001b[0m \u001b[0my\u001b[0m\u001b[0;34m.\u001b[0m\u001b[0mshape\u001b[0m\u001b[0;34m[\u001b[0m\u001b[0;36m0\u001b[0m\u001b[0;34m]\u001b[0m\u001b[0;34m:\u001b[0m\u001b[0;34m\u001b[0m\u001b[0;34m\u001b[0m\u001b[0m\n\u001b[0;32m--> 399\u001b[0;31m             raise ValueError(f\"x and y must have same first dimension, but \"\n\u001b[0m\u001b[1;32m    400\u001b[0m                              f\"have shapes {x.shape} and {y.shape}\")\n\u001b[1;32m    401\u001b[0m         \u001b[0;32mif\u001b[0m \u001b[0mx\u001b[0m\u001b[0;34m.\u001b[0m\u001b[0mndim\u001b[0m \u001b[0;34m>\u001b[0m \u001b[0;36m2\u001b[0m \u001b[0;32mor\u001b[0m \u001b[0my\u001b[0m\u001b[0;34m.\u001b[0m\u001b[0mndim\u001b[0m \u001b[0;34m>\u001b[0m \u001b[0;36m2\u001b[0m\u001b[0;34m:\u001b[0m\u001b[0;34m\u001b[0m\u001b[0;34m\u001b[0m\u001b[0m\n",
      "\u001b[0;31mValueError\u001b[0m: x and y must have same first dimension, but have shapes (10,) and (1,)"
     ]
    },
    {
     "data": {
      "image/png": "[encoded data removed]",
      "text/plain": [
       "<Figure size 1008x216 with 3 Axes>"
      ]
     },
     "metadata": {
      "needs_background": "light"
     },
     "output_type": "display_data"
    }
   ],
   "source": [
    "fig = plt.figure(figsize = (14, 3))\n",
    "ax1 = fig.add_subplot(131)\n",
    "ax2 = fig.add_subplot(132)\n",
    "ax3 = fig.add_subplot(133)\n",
    "\n",
    "ax1.title.set_text('Knowns: Correct Classification Rate')\n",
    "ax2.title.set_text('Knowns: False Novel Rate')\n",
    "ax3.title.set_text('Unknowns: True Novel Rate')\n",
    "\n",
    "ax1.plot(thresholds, len(imp_known_correct_all), label = 'Imperfect')\n",
    "ax1.plot(thresholds, len(per_known_correct_all), label = 'Perfect')\n",
    "\n",
    "\n",
    "ax2.plot(thresholds, len(imp_known_novel_all), label = 'Imperfect')\n",
    "ax2.plot(thresholds, len(per_known_novel_all), label = 'Perfect')\n",
    "\n",
    "ax3.plot(thresholds, len(imp_unknown_novel_all), label = 'Imperfect')\n",
    "ax3.plot(thresholds, len(per_unknown_novel_all), label = 'Perfect')\n",
    "\n",
    "handles, labels = ax1.get_legend_handles_labels()\n",
    "fig.legend(handles, labels, loc='upper left')\n",
    "\n",
    "#plt.savefig('CNN_images_cf5_30iter.pdf')\n",
    "plt.show()"
   ]
  },
  {
   "cell_type": "code",
   "execution_count": null,
   "metadata": {},
   "outputs": [],
   "source": []
  }
 ],
 "metadata": {
  "kernelspec": {
   "display_name": "thesisEnv",
   "language": "python",
   "name": "thesisenv"
  },
  "language_info": {
   "codemirror_mode": {
    "name": "ipython",
    "version": 3
   },
   "file_extension": ".py",
   "mimetype": "text/x-python",
   "name": "python",
   "nbconvert_exporter": "python",
   "pygments_lexer": "ipython3",
   "version": "3.8.3"
  }
 },
 "nbformat": 4,
 "nbformat_minor": 4
}
