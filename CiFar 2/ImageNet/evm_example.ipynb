{
 "cells": [
  {
   "cell_type": "markdown",
   "metadata": {},
   "source": [
    "## Setup\n",
    "# ImageNet CiFar 2"
   ]
  },
  {
   "cell_type": "code",
   "execution_count": 24,
   "metadata": {},
   "outputs": [],
   "source": [
    "##\n",
    "## Restrict tensorflow to single GPU\n",
    "##\n",
    "import os \n",
    "os.environ['CUDA_DEVICE_ORDER'] = 'PCI_BUS_ID'\n",
    "os.environ['CUDA_VISIBLE_DEVICES'] = str(2)           \n",
    "## this says only use GPU 0  (can select 0-3)\n",
    "\n",
    "##\n",
    "## Import libraries\n",
    "##\n",
    "import evm_flat         ## We are using EVMs for a different project, so there are some things in here that may be confusing\n",
    "from utils import *     ## utils holds a few functions I wrote to help with the experiments in this notebook\n",
    "import numpy as np\n",
    "import tensorflow as tf\n",
    "import os\n",
    "import keras\n",
    "from keras.preprocessing import image\n",
    "from keras.applications.imagenet_utils import decode_predictions, preprocess_input\n",
    "from keras.models import Model\n",
    "import tensorflow\n",
    "##\n",
    "## Experiment Parameters\n",
    "##\n",
    "epochs = 10                 ## Iterations to train CNN for feature extractors\n",
    "num_to_remove = 2           ## Number of classes to remove and make \"unknown\"\n",
    "iterations = 30            ## Number of iterations (full experiments) to run\n",
    "thresholds = [.1, .2, .3, .4, .5, .6, .7, .8, .9, 1]  ## Confidence thresholds to evaluate over\n",
    "\n",
    "##\n",
    "## EVM Parameters (good initial values, but could be further optimized)\n",
    "##\n",
    "tailsize = 10000              ## EVM tail size\n",
    "cover_threshold = 0.5      ## EVM cover threshold\n",
    "dist_func = 'cosine'     ## EVM distance function\n",
    "num_to_fuse = 4             ## EVM number to fuse\n",
    "margin_scale = 0.5          ## EVM margin scale"
   ]
  },
  {
   "cell_type": "markdown",
   "metadata": {},
   "source": [
    "## Data"
   ]
  },
  {
   "cell_type": "code",
   "execution_count": 25,
   "metadata": {},
   "outputs": [],
   "source": [
    "##\n",
    "## Load CiFar10\n",
    "##\n",
    "import keras\n",
    "from keras.datasets import cifar10\n",
    "(x_train, y_train), (x_test, y_test) = cifar10.load_data()\n",
    "\n",
    "##\n",
    "## Get data in correct shape and normalize\n",
    "##\n",
    "#x_train = x_train = np.reshape(x_train, (x_train.shape[0], x_train.shape[1], x_train.shape[2], 1))/255.0   ## Add dimension and normalize\n",
    "#x_test = x_test = np.reshape(x_test, (x_test.shape[0], x_test.shape[1], x_test.shape[2], 1))/255.0         ## Add dimension and normalize\n",
    "#y_train = tf.keras.utils.to_categorical(y_train)     ## Make one-hot\n",
    "#y_test = tf.keras.utils.to_categorical(y_test)       ## Make one-hot"
   ]
  },
  {
   "cell_type": "code",
   "execution_count": 26,
   "metadata": {},
   "outputs": [],
   "source": [
    "import keras.utils\n",
    "y_train=tf.keras.utils.to_categorical(y_train) #one hot encoding the y vectors \n",
    "y_test=tf.keras.utils.to_categorical(y_test)\n",
    "#hot_y_train.shape\n",
    "#hot_y_test.shape\n",
    "#y_train.shape"
   ]
  },
  {
   "cell_type": "markdown",
   "metadata": {},
   "source": [
    "## Create Feature Extractor With Perfect Knowledge \n",
    "\n",
    "- Feature extractor is a CNN trained using ALL of the classes\n",
    "- This is not realistic in the real world because all of the classes will not be known\n",
    "- This is a good \"optimal\" feature space to compare against\n",
    "- Goal would be to get as close to this performance as possible"
   ]
  },
  {
   "cell_type": "code",
   "execution_count": 27,
   "metadata": {},
   "outputs": [],
   "source": [
    "##\n",
    "## Perfect Knowledge feature extractor\n",
    "##\n",
    "#perfect = feature_model()   ## This function is defined in utils.py\n",
    "\n",
    "#no model training, already trained on imageNet\n",
    "\n",
    "model = tensorflow.keras.applications.ResNet50V2(weights='imagenet', include_top=False)"
   ]
  },
  {
   "cell_type": "markdown",
   "metadata": {},
   "source": [
    "## Define a set of experiments\n",
    "\n",
    "- Randomly select and remove classes from the training data\n",
    "- Split test data into known and unknown classes\n",
    "- Fit imperfect feature extraction model\n",
    "- Extract features using the perfect and imperfect extractors\n",
    "- Fit EVM using features for the perfect and imperfect\n",
    "- Evaluate performance (evaluation metrics may need to be improved, but this gives us an initial idea of performance)\n",
    "- Repeat\n"
   ]
  },
  {
   "cell_type": "code",
   "execution_count": 28,
   "metadata": {},
   "outputs": [
    {
     "name": "stdout",
     "output_type": "stream",
     "text": [
      "Iteration: 0\n",
      "\n",
      "Fit Imperfect EVM\n",
      "Fit Perfect EVM\n"
     ]
    },
    {
     "name": "stderr",
     "output_type": "stream",
     "text": [
      "/home/hardyc/Documents/CiFar-2 Iterations/ImageNet/utils.py:135: RuntimeWarning: invalid value encountered in long_scalars\n",
      "  correct = np.sum(pred[con>=i] == truth[con>=i])/np.sum(con>=i)\n"
     ]
    },
    {
     "name": "stdout",
     "output_type": "stream",
     "text": [
      "Iteration: 1\n",
      "\n",
      "Fit Imperfect EVM\n",
      "Fit Perfect EVM\n"
     ]
    },
    {
     "name": "stderr",
     "output_type": "stream",
     "text": [
      "/home/hardyc/Documents/CiFar-2 Iterations/ImageNet/utils.py:135: RuntimeWarning: invalid value encountered in long_scalars\n",
      "  correct = np.sum(pred[con>=i] == truth[con>=i])/np.sum(con>=i)\n"
     ]
    },
    {
     "name": "stdout",
     "output_type": "stream",
     "text": [
      "Iteration: 2\n",
      "\n",
      "Fit Imperfect EVM\n",
      "Fit Perfect EVM\n"
     ]
    },
    {
     "name": "stderr",
     "output_type": "stream",
     "text": [
      "/home/hardyc/Documents/CiFar-2 Iterations/ImageNet/utils.py:135: RuntimeWarning: invalid value encountered in long_scalars\n",
      "  correct = np.sum(pred[con>=i] == truth[con>=i])/np.sum(con>=i)\n"
     ]
    },
    {
     "name": "stdout",
     "output_type": "stream",
     "text": [
      "Iteration: 3\n",
      "\n",
      "Fit Imperfect EVM\n",
      "Fit Perfect EVM\n"
     ]
    },
    {
     "name": "stderr",
     "output_type": "stream",
     "text": [
      "/home/hardyc/Documents/CiFar-2 Iterations/ImageNet/utils.py:135: RuntimeWarning: invalid value encountered in long_scalars\n",
      "  correct = np.sum(pred[con>=i] == truth[con>=i])/np.sum(con>=i)\n"
     ]
    },
    {
     "name": "stdout",
     "output_type": "stream",
     "text": [
      "Iteration: 4\n",
      "\n",
      "Fit Imperfect EVM\n",
      "Fit Perfect EVM\n"
     ]
    },
    {
     "name": "stderr",
     "output_type": "stream",
     "text": [
      "/home/hardyc/Documents/CiFar-2 Iterations/ImageNet/utils.py:135: RuntimeWarning: invalid value encountered in long_scalars\n",
      "  correct = np.sum(pred[con>=i] == truth[con>=i])/np.sum(con>=i)\n"
     ]
    },
    {
     "name": "stdout",
     "output_type": "stream",
     "text": [
      "Iteration: 5\n",
      "\n",
      "Fit Imperfect EVM\n",
      "Fit Perfect EVM\n"
     ]
    },
    {
     "name": "stderr",
     "output_type": "stream",
     "text": [
      "/home/hardyc/Documents/CiFar-2 Iterations/ImageNet/utils.py:135: RuntimeWarning: invalid value encountered in long_scalars\n",
      "  correct = np.sum(pred[con>=i] == truth[con>=i])/np.sum(con>=i)\n"
     ]
    },
    {
     "name": "stdout",
     "output_type": "stream",
     "text": [
      "Iteration: 6\n",
      "\n",
      "Fit Imperfect EVM\n",
      "Fit Perfect EVM\n"
     ]
    },
    {
     "name": "stderr",
     "output_type": "stream",
     "text": [
      "/home/hardyc/Documents/CiFar-2 Iterations/ImageNet/utils.py:135: RuntimeWarning: invalid value encountered in long_scalars\n",
      "  correct = np.sum(pred[con>=i] == truth[con>=i])/np.sum(con>=i)\n"
     ]
    },
    {
     "name": "stdout",
     "output_type": "stream",
     "text": [
      "Iteration: 7\n",
      "\n",
      "Fit Imperfect EVM\n",
      "Fit Perfect EVM\n"
     ]
    },
    {
     "name": "stderr",
     "output_type": "stream",
     "text": [
      "/home/hardyc/Documents/CiFar-2 Iterations/ImageNet/utils.py:135: RuntimeWarning: invalid value encountered in long_scalars\n",
      "  correct = np.sum(pred[con>=i] == truth[con>=i])/np.sum(con>=i)\n"
     ]
    },
    {
     "name": "stdout",
     "output_type": "stream",
     "text": [
      "Iteration: 8\n",
      "\n",
      "Fit Imperfect EVM\n",
      "Fit Perfect EVM\n"
     ]
    },
    {
     "name": "stderr",
     "output_type": "stream",
     "text": [
      "/home/hardyc/Documents/CiFar-2 Iterations/ImageNet/utils.py:135: RuntimeWarning: invalid value encountered in long_scalars\n",
      "  correct = np.sum(pred[con>=i] == truth[con>=i])/np.sum(con>=i)\n"
     ]
    },
    {
     "name": "stdout",
     "output_type": "stream",
     "text": [
      "Iteration: 9\n",
      "\n",
      "Fit Imperfect EVM\n",
      "Fit Perfect EVM\n"
     ]
    },
    {
     "name": "stderr",
     "output_type": "stream",
     "text": [
      "/home/hardyc/Documents/CiFar-2 Iterations/ImageNet/utils.py:135: RuntimeWarning: invalid value encountered in long_scalars\n",
      "  correct = np.sum(pred[con>=i] == truth[con>=i])/np.sum(con>=i)\n"
     ]
    },
    {
     "name": "stdout",
     "output_type": "stream",
     "text": [
      "Iteration: 10\n",
      "\n",
      "Fit Imperfect EVM\n",
      "Fit Perfect EVM\n"
     ]
    },
    {
     "name": "stderr",
     "output_type": "stream",
     "text": [
      "/home/hardyc/Documents/CiFar-2 Iterations/ImageNet/utils.py:135: RuntimeWarning: invalid value encountered in long_scalars\n",
      "  correct = np.sum(pred[con>=i] == truth[con>=i])/np.sum(con>=i)\n"
     ]
    },
    {
     "name": "stdout",
     "output_type": "stream",
     "text": [
      "Iteration: 11\n",
      "\n",
      "Fit Imperfect EVM\n",
      "Fit Perfect EVM\n"
     ]
    },
    {
     "name": "stderr",
     "output_type": "stream",
     "text": [
      "/home/hardyc/Documents/CiFar-2 Iterations/ImageNet/utils.py:135: RuntimeWarning: invalid value encountered in long_scalars\n",
      "  correct = np.sum(pred[con>=i] == truth[con>=i])/np.sum(con>=i)\n"
     ]
    },
    {
     "name": "stdout",
     "output_type": "stream",
     "text": [
      "Iteration: 12\n",
      "\n",
      "Fit Imperfect EVM\n",
      "Fit Perfect EVM\n"
     ]
    },
    {
     "name": "stderr",
     "output_type": "stream",
     "text": [
      "/home/hardyc/Documents/CiFar-2 Iterations/ImageNet/utils.py:135: RuntimeWarning: invalid value encountered in long_scalars\n",
      "  correct = np.sum(pred[con>=i] == truth[con>=i])/np.sum(con>=i)\n"
     ]
    },
    {
     "name": "stdout",
     "output_type": "stream",
     "text": [
      "Iteration: 13\n",
      "\n",
      "Fit Imperfect EVM\n",
      "Fit Perfect EVM\n"
     ]
    },
    {
     "name": "stderr",
     "output_type": "stream",
     "text": [
      "/home/hardyc/Documents/CiFar-2 Iterations/ImageNet/utils.py:135: RuntimeWarning: invalid value encountered in long_scalars\n",
      "  correct = np.sum(pred[con>=i] == truth[con>=i])/np.sum(con>=i)\n"
     ]
    },
    {
     "name": "stdout",
     "output_type": "stream",
     "text": [
      "Iteration: 14\n",
      "\n",
      "Fit Imperfect EVM\n",
      "Fit Perfect EVM\n"
     ]
    },
    {
     "name": "stderr",
     "output_type": "stream",
     "text": [
      "/home/hardyc/Documents/CiFar-2 Iterations/ImageNet/utils.py:135: RuntimeWarning: invalid value encountered in long_scalars\n",
      "  correct = np.sum(pred[con>=i] == truth[con>=i])/np.sum(con>=i)\n"
     ]
    },
    {
     "name": "stdout",
     "output_type": "stream",
     "text": [
      "Iteration: 15\n",
      "\n",
      "Fit Imperfect EVM\n",
      "Fit Perfect EVM\n"
     ]
    },
    {
     "name": "stderr",
     "output_type": "stream",
     "text": [
      "/home/hardyc/Documents/CiFar-2 Iterations/ImageNet/utils.py:135: RuntimeWarning: invalid value encountered in long_scalars\n",
      "  correct = np.sum(pred[con>=i] == truth[con>=i])/np.sum(con>=i)\n"
     ]
    },
    {
     "name": "stdout",
     "output_type": "stream",
     "text": [
      "Iteration: 16\n",
      "\n",
      "Fit Imperfect EVM\n",
      "Fit Perfect EVM\n"
     ]
    },
    {
     "name": "stderr",
     "output_type": "stream",
     "text": [
      "/home/hardyc/Documents/CiFar-2 Iterations/ImageNet/utils.py:135: RuntimeWarning: invalid value encountered in long_scalars\n",
      "  correct = np.sum(pred[con>=i] == truth[con>=i])/np.sum(con>=i)\n"
     ]
    },
    {
     "name": "stdout",
     "output_type": "stream",
     "text": [
      "Iteration: 17\n",
      "\n",
      "Fit Imperfect EVM\n",
      "Fit Perfect EVM\n"
     ]
    },
    {
     "name": "stderr",
     "output_type": "stream",
     "text": [
      "/home/hardyc/Documents/CiFar-2 Iterations/ImageNet/utils.py:135: RuntimeWarning: invalid value encountered in long_scalars\n",
      "  correct = np.sum(pred[con>=i] == truth[con>=i])/np.sum(con>=i)\n"
     ]
    },
    {
     "name": "stdout",
     "output_type": "stream",
     "text": [
      "Iteration: 18\n",
      "\n",
      "Fit Imperfect EVM\n",
      "Fit Perfect EVM\n"
     ]
    },
    {
     "name": "stderr",
     "output_type": "stream",
     "text": [
      "/home/hardyc/Documents/CiFar-2 Iterations/ImageNet/utils.py:135: RuntimeWarning: invalid value encountered in long_scalars\n",
      "  correct = np.sum(pred[con>=i] == truth[con>=i])/np.sum(con>=i)\n"
     ]
    },
    {
     "name": "stdout",
     "output_type": "stream",
     "text": [
      "Iteration: 19\n",
      "\n",
      "Fit Imperfect EVM\n",
      "Fit Perfect EVM\n"
     ]
    },
    {
     "name": "stderr",
     "output_type": "stream",
     "text": [
      "/home/hardyc/Documents/CiFar-2 Iterations/ImageNet/utils.py:135: RuntimeWarning: invalid value encountered in long_scalars\n",
      "  correct = np.sum(pred[con>=i] == truth[con>=i])/np.sum(con>=i)\n"
     ]
    },
    {
     "name": "stdout",
     "output_type": "stream",
     "text": [
      "Iteration: 20\n",
      "\n",
      "Fit Imperfect EVM\n",
      "Fit Perfect EVM\n"
     ]
    },
    {
     "name": "stderr",
     "output_type": "stream",
     "text": [
      "/home/hardyc/Documents/CiFar-2 Iterations/ImageNet/utils.py:135: RuntimeWarning: invalid value encountered in long_scalars\n",
      "  correct = np.sum(pred[con>=i] == truth[con>=i])/np.sum(con>=i)\n"
     ]
    },
    {
     "name": "stdout",
     "output_type": "stream",
     "text": [
      "Iteration: 21\n",
      "\n",
      "Fit Imperfect EVM\n",
      "Fit Perfect EVM\n"
     ]
    },
    {
     "name": "stderr",
     "output_type": "stream",
     "text": [
      "/home/hardyc/Documents/CiFar-2 Iterations/ImageNet/utils.py:135: RuntimeWarning: invalid value encountered in long_scalars\n",
      "  correct = np.sum(pred[con>=i] == truth[con>=i])/np.sum(con>=i)\n"
     ]
    },
    {
     "name": "stdout",
     "output_type": "stream",
     "text": [
      "Iteration: 22\n",
      "\n",
      "Fit Imperfect EVM\n",
      "Fit Perfect EVM\n"
     ]
    },
    {
     "name": "stderr",
     "output_type": "stream",
     "text": [
      "/home/hardyc/Documents/CiFar-2 Iterations/ImageNet/utils.py:135: RuntimeWarning: invalid value encountered in long_scalars\n",
      "  correct = np.sum(pred[con>=i] == truth[con>=i])/np.sum(con>=i)\n"
     ]
    },
    {
     "name": "stdout",
     "output_type": "stream",
     "text": [
      "Iteration: 23\n",
      "\n",
      "Fit Imperfect EVM\n",
      "Fit Perfect EVM\n"
     ]
    },
    {
     "name": "stderr",
     "output_type": "stream",
     "text": [
      "/home/hardyc/Documents/CiFar-2 Iterations/ImageNet/utils.py:135: RuntimeWarning: invalid value encountered in long_scalars\n",
      "  correct = np.sum(pred[con>=i] == truth[con>=i])/np.sum(con>=i)\n"
     ]
    },
    {
     "name": "stdout",
     "output_type": "stream",
     "text": [
      "Iteration: 24\n",
      "\n",
      "Fit Imperfect EVM\n",
      "Fit Perfect EVM\n"
     ]
    },
    {
     "name": "stderr",
     "output_type": "stream",
     "text": [
      "/home/hardyc/Documents/CiFar-2 Iterations/ImageNet/utils.py:135: RuntimeWarning: invalid value encountered in long_scalars\n",
      "  correct = np.sum(pred[con>=i] == truth[con>=i])/np.sum(con>=i)\n"
     ]
    },
    {
     "name": "stdout",
     "output_type": "stream",
     "text": [
      "Iteration: 25\n",
      "\n",
      "Fit Imperfect EVM\n",
      "Fit Perfect EVM\n"
     ]
    },
    {
     "name": "stderr",
     "output_type": "stream",
     "text": [
      "/home/hardyc/Documents/CiFar-2 Iterations/ImageNet/utils.py:135: RuntimeWarning: invalid value encountered in long_scalars\n",
      "  correct = np.sum(pred[con>=i] == truth[con>=i])/np.sum(con>=i)\n"
     ]
    },
    {
     "name": "stdout",
     "output_type": "stream",
     "text": [
      "Iteration: 26\n",
      "\n",
      "Fit Imperfect EVM\n",
      "Fit Perfect EVM\n"
     ]
    },
    {
     "name": "stderr",
     "output_type": "stream",
     "text": [
      "/home/hardyc/Documents/CiFar-2 Iterations/ImageNet/utils.py:135: RuntimeWarning: invalid value encountered in long_scalars\n",
      "  correct = np.sum(pred[con>=i] == truth[con>=i])/np.sum(con>=i)\n"
     ]
    },
    {
     "name": "stdout",
     "output_type": "stream",
     "text": [
      "Iteration: 27\n",
      "\n",
      "Fit Imperfect EVM\n",
      "Fit Perfect EVM\n"
     ]
    },
    {
     "name": "stderr",
     "output_type": "stream",
     "text": [
      "/home/hardyc/Documents/CiFar-2 Iterations/ImageNet/utils.py:135: RuntimeWarning: invalid value encountered in long_scalars\n",
      "  correct = np.sum(pred[con>=i] == truth[con>=i])/np.sum(con>=i)\n"
     ]
    },
    {
     "name": "stdout",
     "output_type": "stream",
     "text": [
      "Iteration: 28\n",
      "\n",
      "Fit Imperfect EVM\n",
      "Fit Perfect EVM\n"
     ]
    },
    {
     "name": "stderr",
     "output_type": "stream",
     "text": [
      "/home/hardyc/Documents/CiFar-2 Iterations/ImageNet/utils.py:135: RuntimeWarning: invalid value encountered in long_scalars\n",
      "  correct = np.sum(pred[con>=i] == truth[con>=i])/np.sum(con>=i)\n"
     ]
    },
    {
     "name": "stdout",
     "output_type": "stream",
     "text": [
      "Iteration: 29\n",
      "\n",
      "Fit Imperfect EVM\n",
      "Fit Perfect EVM\n"
     ]
    },
    {
     "name": "stderr",
     "output_type": "stream",
     "text": [
      "/home/hardyc/Documents/CiFar-2 Iterations/ImageNet/utils.py:135: RuntimeWarning: invalid value encountered in long_scalars\n",
      "  correct = np.sum(pred[con>=i] == truth[con>=i])/np.sum(con>=i)\n"
     ]
    }
   ],
   "source": [
    "import pandas as pd\n",
    "from sklearn.decomposition import PCA\n",
    "##\n",
    "## Define places to store results\n",
    "##\n",
    "imp_known_correct_all = []\n",
    "imp_known_novel_all = []\n",
    "imp_unknown_correct_all = []\n",
    "imp_unknown_novel_all = []\n",
    "per_known_correct_all = []\n",
    "per_known_novel_all = []\n",
    "per_unknown_correct_all = []\n",
    "per_unknown_novel_all = []\n",
    "\n",
    "imp_pca = PCA(n_components=128)\n",
    "per_pca = PCA(n_components=128)\n",
    "\n",
    "df = pd.DataFrame(columns=['Iteration', 'Unknown Classes', 'imp_known_correct_all', 'imp_known_novel_all', 'imp_unknown_novel_all','per_known_correct_all','per_known_novel_all','per_unknown_novel_all'])\n",
    "##\n",
    "## Begin experiments\n",
    "##\n",
    "for i in range(iterations):\n",
    "    print('Iteration: ' + str(i))\n",
    "    print()\n",
    "    \n",
    "    ##\n",
    "    ## Split the data into known and unknown classes\n",
    "    ##\n",
    "    toRemove = np.random.choice(10, num_to_remove, replace = False)                                         ## Randomly pick unknown classes\n",
    "    x_train_known, x_train_unknown, y_train_known, y_train_unknown = split_data(x_train, y_train, toRemove) ## Split train data (defined in utils.py)\n",
    "    x_test_known, x_test_unknown, y_test_known, y_test_unknown = split_data(x_test, y_test, toRemove)       ## Split test data (defined in utils.py)\n",
    "    \n",
    "    ##\n",
    "    ## Train a classifier based feature extractor using only the known classes\n",
    "    ##\n",
    "    #imperfect = feature_model(10-num_to_remove, x_train_known, y_train_known, epochs = epochs, batch_size = 32, verbose = 0)\n",
    "    \n",
    "    \n",
    "    ##\n",
    "    ## Extract features with imperfect extractor\n",
    "    ##\n",
    "    x_train_known_imp = model.predict(x_train_known)\n",
    "    x_test_known_imp = model.predict(x_test_known)\n",
    "    x_test_unknown_imp = model.predict(x_test_unknown)\n",
    "    \n",
    "    #print(x_train_known_imp.shape)\n",
    "    \n",
    "    x_train_known_imp = np.squeeze(x_train_known_imp)\n",
    "    x_test_known_imp = np.squeeze(x_test_known_imp)\n",
    "    x_test_unknown_imp = np.squeeze(x_test_unknown_imp)\n",
    "    \n",
    "    #print(x_train_known_imp.shape)\n",
    "    \n",
    "    imp_pca.fit(x_train_known_imp)\n",
    "    #pca.fit(x_test_known_imp)\n",
    "    #pca.fit(x_test_unknown_imp)\n",
    "    \n",
    "    \n",
    "    x_train_known_imp = imp_pca.transform(x_train_known_imp)\n",
    "    x_test_known_imp = imp_pca.transform(x_test_known_imp)\n",
    "    x_test_unknown_imp = imp_pca.transform(x_test_unknown_imp)\n",
    "    \n",
    "    #print(x_train_known_imp)\n",
    "\n",
    "    ##\n",
    "    ## Extract features with perfect extractor\n",
    "    ##\n",
    "    x_train_known_per = model.predict(x_train_known)\n",
    "    x_test_known_per = model.predict(x_test_known)\n",
    "    x_test_unknown_per = model.predict(x_test_unknown)\n",
    "\n",
    "    x_train_known_per = np.squeeze(x_train_known_per)\n",
    "    x_test_known_per = np.squeeze(x_test_known_per)\n",
    "    x_test_unknown_per = np.squeeze(x_test_unknown_per)\n",
    "    \n",
    "    per_pca.fit(x_train_known_per)\n",
    "    #pca.fit(x_test_known_per)\n",
    "    #pca.fit(x_test_unknown_per)\n",
    "    \n",
    "    x_train_known_per = per_pca.transform(x_train_known_per)\n",
    "    x_test_known_per = per_pca.transform(x_test_known_per)\n",
    "    x_test_unknown_per = per_pca.transform(x_test_unknown_per)\n",
    "    ##\n",
    "    ## Fit EVMs\n",
    "    ##\n",
    "    evm_options = evm_flat.EVMOptions(tailsize = tailsize, cover_threshold = cover_threshold , dist_func = dist_func, num_to_fuse = num_to_fuse, margin_scale = margin_scale)\n",
    "    \n",
    "    print('Fit Imperfect EVM')\n",
    "    evm_imp = evm_flat.ExtremeValueMachine('imperfect', evm_options)\n",
    "    evm_imp.train(x_train_known_imp, y_train_known)\n",
    "    print('Fit Perfect EVM')\n",
    "    evm_per = evm_flat.ExtremeValueMachine('perfect', evm_options)\n",
    "    evm_per.train(x_train_known_per, y_train_known)\n",
    "\n",
    "    ##\n",
    "    ## Make Predictions with EVM\n",
    "    ##\n",
    "    imp_pred_known = evm_imp.confidence(x_test_known_imp)\n",
    "    imp_pred_unknown = evm_imp.confidence(x_test_unknown_imp)\n",
    "    per_pred_known = evm_per.confidence(x_test_known_per)\n",
    "    per_pred_unknown = evm_per.confidence(x_test_unknown_per)\n",
    "\n",
    "    ##\n",
    "    ## Evaluate Predictions\n",
    "    ##\n",
    "    imp_known_correct, imp_known_novel = eval(imp_pred_known, y_test_known, thresholds)           ## eval defined in utils.py\n",
    "    imp_unknown_correct, imp_unknown_novel = eval(imp_pred_unknown, y_test_unknown, thresholds)\n",
    "    per_known_correct, per_known_novel = eval(per_pred_known, y_test_known, thresholds)\n",
    "    per_unknown_correct, per_unknown_novel = eval(per_pred_unknown, y_test_unknown, thresholds)\n",
    "    \n",
    "    ##\n",
    "    ## Store results\n",
    "    ##\n",
    "    imp_known_correct_all.append(imp_known_correct)      ## imp_known_correct: correct classification percentage of known instances by the imperfect EVM (instances called novel not considered)\n",
    "    imp_known_novel_all.append(imp_known_novel)          ## imp_known_novel: percentage of known instances called novel by the imperfect EVM \n",
    "    imp_unknown_novel_all.append(imp_unknown_novel)      ## imp_unknown_novel: percentage of unknown instances called novel by the imperfect EVM\n",
    "    per_known_correct_all.append(per_known_correct)      ## per_known_correct: correct classification percentage of known instances by the perfect EVM (instances called novel not considered)\n",
    "    per_known_novel_all.append(per_known_novel)          ## per_known_novel: percentage of known instances called novel by the perfect EVM\n",
    "    per_unknown_novel_all.append(per_unknown_novel)      ## per_unknown_novel: percentage of unknown instances called novel by the perfect EVM\n",
    "    \n",
    "    if i <= 5:\n",
    "        df = df.append({'Iteration':i, 'Unknown Classes': toRemove, 'imp_known_correct_all':imp_known_correct_all, 'imp_known_novel_all':imp_known_novel_all, 'imp_unknown_novel_all':imp_unknown_novel_all,'per_known_correct_all':per_known_correct_all,'per_known_novel_all':per_known_novel_all,'per_unknown_novel_all':per_unknown_novel_all}, ignore_index=True)\n",
    "        df.to_csv(r'./imagenet_df_cf2_five_iter(s).csv', index= False,header=True)\n",
    "        df.to_csv(r'./imagenet_df_cf2.csv', index= False,header=True)\n",
    "    else:\n",
    "        df = df.append({'Iteration':i, 'Unknown Classes': toRemove, 'imp_known_correct_all':imp_known_correct_all, 'imp_known_novel_all':imp_known_novel_all, 'imp_unknown_novel_all':imp_unknown_novel_all,'per_known_correct_all':per_known_correct_all,'per_known_novel_all':per_known_novel_all,'per_unknown_novel_all':per_unknown_novel_all}, ignore_index=True)\n",
    "        df.to_csv(r'./imagenet_df_cf2.csv', index= False,header=True)"
   ]
  },
  {
   "cell_type": "code",
   "execution_count": 29,
   "metadata": {
    "scrolled": true
   },
   "outputs": [
    {
     "data": {
      "image/png": "[encoded data removed]",
      "text/plain": [
       "<Figure size 1008x216 with 3 Axes>"
      ]
     },
     "metadata": {
      "needs_background": "light"
     },
     "output_type": "display_data"
    }
   ],
   "source": [
    "import matplotlib.pyplot as plt\n",
    "\n",
    "\n",
    "\n",
    "fig = plt.figure(figsize = (14, 3))\n",
    "ax1 = fig.add_subplot(131)\n",
    "ax2 = fig.add_subplot(132)\n",
    "ax3 = fig.add_subplot(133)\n",
    "\n",
    "ax1.title.set_text('Knowns: Correct Classification Rate')\n",
    "ax2.title.set_text('Knowns: False Novel Rate')\n",
    "ax3.title.set_text('Unknowns: True Novel Rate')\n",
    "\n",
    "ax1.plot(thresholds, np.mean(imp_known_correct_all, axis = 0), label = 'Imperfect')\n",
    "ax1.plot(thresholds, np.mean(per_known_correct_all, axis = 0), label = 'Perfect')\n",
    "\n",
    "\n",
    "ax2.plot(thresholds, np.mean(imp_known_novel_all, axis = 0), label = 'Imperfect')\n",
    "ax2.plot(thresholds, np.mean(per_known_novel_all, axis = 0), label = 'Perfect')\n",
    "\n",
    "ax3.plot(thresholds, np.mean(imp_unknown_novel_all, axis = 0), label = 'Imperfect')\n",
    "ax3.plot(thresholds, np.mean(per_unknown_novel_all, axis = 0), label = 'Perfect')\n",
    "\n",
    "handles, labels = ax1.get_legend_handles_labels()\n",
    "fig.legend(handles, labels, loc='upper left')\n",
    "\n",
    "plt.savefig('ImageNet_images_cf2_30iter.pdf')\n",
    "plt.show()"
   ]
  },
  {
   "cell_type": "code",
   "execution_count": 30,
   "metadata": {},
   "outputs": [
    {
     "name": "stdout",
     "output_type": "stream",
     "text": [
      "[[0.3357919739967496, 0.33587786259541985, 0.3361852038248616, 0.3371647509578544, 0.3395274754446509, 0.3445121951219512, 0.3578127764997346, 0.38817891373801916, 0.48007590132827327, nan], [0.309125, 0.3089339339339339, 0.309065761347919, 0.3101063148456513, 0.3138170178714324, 0.31934253008511887, 0.3338197738051806, 0.37424547283702214, 0.446985446985447, nan], [0.32429053631703963, 0.32452735695505197, 0.3254437869822485, 0.3271171286243454, 0.33036899389434565, 0.33506194180351484, 0.34969975273754855, 0.3838319541693189, 0.4509493670886076, nan], [0.3062882860357545, 0.30645968953430147, 0.30680246447881304, 0.30828220858895705, 0.31034940879500467, 0.31567457429777324, 0.33119970738844184, 0.36127886323268205, 0.3879472693032015, nan], [0.313875, 0.313970956434652, 0.31447252609078336, 0.3169419900115252, 0.32171831360553266, 0.32594105631747883, 0.34510229947492305, 0.3859591298615689, 0.4625228519195612, nan], [0.31975, 0.3198998748435544, 0.3202614379084967, 0.3215656178050652, 0.3231342290807503, 0.33045134818288396, 0.3419319429198683, 0.3739250085999312, 0.4601226993865031, nan], [0.314625, 0.3147290702039795, 0.31486843761802846, 0.31649616368286443, 0.31980237681933504, 0.3253434668225665, 0.3366606170598911, 0.3755532856656452, 0.51171875, nan], [0.317875, 0.3179769654481723, 0.3185362173038229, 0.3188202247191011, 0.32185131001462963, 0.32749050540461583, 0.34084249084249085, 0.371957490572506, 0.4575892857142857, nan], [0.3099137392174022, 0.30993493493493496, 0.31026673376950176, 0.31087485589855257, 0.31279240743216147, 0.32107662891601707, 0.3352251922372757, 0.3871750433275563, 0.4793713163064833, nan], [0.307625, 0.3077211863346265, 0.30771166184425713, 0.30991313234542667, 0.31133828996282525, 0.31750613364121805, 0.3270217660591046, 0.3649936467598475, 0.41453831041257366, nan], [0.31703962995374424, 0.3172776179156762, 0.3173765548435733, 0.31857616738964023, 0.3215425531914894, 0.3266676397606189, 0.33828655292606863, 0.37985611510791367, 0.46099290780141844, nan], [0.300125, 0.29987484355444305, 0.3001004520341537, 0.3010354084110955, 0.3044290288153682, 0.30932513541209194, 0.32338122784101514, 0.36008599068434255, 0.47954545454545455, nan], [0.3146643330416302, 0.31480786080861184, 0.3145841197936328, 0.31533836510170143, 0.3165601703940362, 0.3231850117096019, 0.33642987249544626, 0.36523574947220266, 0.45907473309608543, nan], [0.28978622327790976, 0.2896810506566604, 0.29043609400527837, 0.2918531781557744, 0.29332622885307047, 0.3008953471304858, 0.31068493150684934, 0.3358750907770516, 0.4074074074074074, nan], [0.3257907238404801, 0.3261168814916781, 0.3267127592708988, 0.32783320542338196, 0.3305422647527911, 0.33807725820505374, 0.35288824905524563, 0.38312770923641215, 0.46153846153846156, nan], [0.3175, 0.317573483427142, 0.318118948824343, 0.31918701265499166, 0.3227654189423205, 0.32771644392794885, 0.3441346850108617, 0.37900477164280844, 0.44028520499108736, nan], [0.31, 0.3099649474211317, 0.3100326879557455, 0.31120491174213355, 0.31634282672344954, 0.32331378299120234, 0.336970358246954, 0.383598780074551, 0.45454545454545453, nan], [0.32141517689711213, 0.3217728809315137, 0.3221873035826524, 0.3239724278784784, 0.3271152564956695, 0.33425615619991256, 0.34497105643994214, 0.3755473223307511, 0.46218487394957986, nan], [0.307625, 0.30781738586616636, 0.3081563403292698, 0.30933876926997067, 0.31384533616795113, 0.3185141854343375, 0.3339382940108893, 0.3654230512991339, 0.4532871972318339, nan], [0.32725, 0.32732732732732733, 0.3274236137306677, 0.32851847117474114, 0.3305478180129991, 0.33530857060268826, 0.3453517143867091, 0.3865865232521354, 0.438871473354232, nan], [0.31453931741467683, 0.31480786080861184, 0.31484276729559746, 0.31666453510679116, 0.31927069470322067, 0.3225430154564013, 0.33248868778280544, 0.3744979919678715, 0.4627949183303085, nan], [0.32375, 0.32352572931012896, 0.3236180904522613, 0.3258900089319893, 0.328830618461131, 0.33420707732634336, 0.34376716090060405, 0.38904299583911234, 0.4522058823529412, nan], [0.28782195548887224, 0.2880210289147578, 0.28812279818822345, 0.28905351896793974, 0.2919221540922421, 0.29677513073794304, 0.3043633762517883, 0.32554365465757873, 0.38838475499092556, nan], [0.29728716089511187, 0.297622027534418, 0.29775987918449537, 0.29970554346434514, 0.30236576289207867, 0.30698689956331876, 0.3168873571558135, 0.35340403694834077, 0.4168336673346693, nan], [0.3305826456614154, 0.3309136420525657, 0.3314041268243583, 0.3324400204185809, 0.3351480547072102, 0.3388072601555748, 0.3502027861047434, 0.3775225085377212, 0.44582593250444047, nan], [0.32354044255531944, 0.3238238238238238, 0.32432432432432434, 0.32541810289799566, 0.3273667462211615, 0.33627550282158875, 0.3481818181818182, 0.3757850662944871, 0.43089430894308944, nan], [0.303125, 0.30316685442483415, 0.3030645566440593, 0.30483747120552857, 0.30741579017441084, 0.3126456876456876, 0.32987627365356625, 0.36496598639455785, 0.38958333333333334, nan], [0.3127890986373297, 0.31289878643813335, 0.31334087765623037, 0.31393568147013784, 0.3173089656999073, 0.324941792782305, 0.34044476586512384, 0.37660148347943356, 0.4359925788497217, nan], [0.31816477059632453, 0.31835252879318976, 0.319073980875692, 0.3208658895862687, 0.3251362488369002, 0.33042846768336964, 0.33760683760683763, 0.37408, 0.41967871485943775, nan], [0.31275, 0.31267993491050194, 0.31325604838709675, 0.313971340839304, 0.3186798503474078, 0.3258214597266647, 0.34081041968162085, 0.3764472378432021, 0.484251968503937, nan]]\n"
     ]
    }
   ],
   "source": [
    "print(per_known_correct_all)"
   ]
  },
  {
   "cell_type": "code",
   "execution_count": null,
   "metadata": {},
   "outputs": [],
   "source": []
  }
 ],
 "metadata": {
  "kernelspec": {
   "display_name": "thesisEnv",
   "language": "python",
   "name": "thesisenv"
  },
  "language_info": {
   "codemirror_mode": {
    "name": "ipython",
    "version": 3
   },
   "file_extension": ".py",
   "mimetype": "text/x-python",
   "name": "python",
   "nbconvert_exporter": "python",
   "pygments_lexer": "ipython3",
   "version": "3.8.3"
  }
 },
 "nbformat": 4,
 "nbformat_minor": 4
}
