{
 "cells": [
  {
   "cell_type": "markdown",
   "metadata": {},
   "source": [
    "## Setup\n",
    "# RotNet CiFar 2 (Perfect only)"
   ]
  },
  {
   "cell_type": "code",
   "execution_count": 1,
   "metadata": {},
   "outputs": [],
   "source": [
    "##\n",
    "## Restrict tensorflow to single GPU\n",
    "##\n",
    "import os \n",
    "os.environ['CUDA_DEVICE_ORDER'] = 'PCI_BUS_ID'\n",
    "os.environ['CUDA_VISIBLE_DEVICES'] = str(0)           \n",
    "## this says only use GPU 0  (can select 0-3)\n",
    "\n",
    "##\n",
    "## Import libraries\n",
    "##\n",
    "import evm_flat         ## We are using EVMs for a different project, so there are some things in here that may be confusing\n",
    "from utils import *     ## utils holds a few functions I wrote to help with the experiments in this notebook\n",
    "import numpy as np\n",
    "import tensorflow as tf\n",
    "\n",
    "##\n",
    "## Experiment Parameters\n",
    "##\n",
    "epochs = 10                 ## Iterations to train CNN for feature extractors\n",
    "num_to_remove = 2           ## Number of classes to remove and make \"unknown\"\n",
    "iterations = 30             ## Number of iterations (full experiments) to run\n",
    "thresholds = [.1, .2, .3, .4, .5, .6, .7, .8, .9, 1]  ## Confidence thresholds to evaluate over\n",
    "\n",
    "##\n",
    "## EVM Parameters (good initial values, but could be further optimized)\n",
    "##\n",
    "tailsize = 10000              ## EVM tail size\n",
    "cover_threshold = 0.5      ## EVM cover threshold\n",
    "dist_func = 'cosine'     ## EVM distance function\n",
    "num_to_fuse = 4             ## EVM number to fuse\n",
    "margin_scale = 0.5          ## EVM margin scale"
   ]
  },
  {
   "cell_type": "markdown",
   "metadata": {},
   "source": [
    "## Data"
   ]
  },
  {
   "cell_type": "code",
   "execution_count": 2,
   "metadata": {},
   "outputs": [],
   "source": [
    "##\n",
    "## Load CiFar10\n",
    "##\n",
    "import keras\n",
    "from keras.datasets import cifar10\n",
    "(x_train, y_train), (x_test, y_test) = cifar10.load_data()\n",
    "\n",
    "##\n",
    "## Get data in correct shape and normalize\n",
    "##\n",
    "#x_train = x_train = np.reshape(x_train, (x_train.shape[0], x_train.shape[1], x_train.shape[2], 1))/255.0   ## Add dimension and normalize\n",
    "#x_test = x_test = np.reshape(x_test, (x_test.shape[0], x_test.shape[1], x_test.shape[2], 1))/255.0         ## Add dimension and normalize\n",
    "#y_train = tf.keras.utils.to_categorical(y_train)     ## Make one-hot\n",
    "#y_test = tf.keras.utils.to_categorical(y_test)       ## Make one-hot"
   ]
  },
  {
   "cell_type": "code",
   "execution_count": 3,
   "metadata": {},
   "outputs": [],
   "source": [
    "import numpy as np\n",
    "import os\n",
    "import random\n",
    "import sklearn\n",
    "from matplotlib import pyplot as plt\n",
    "import tensorflow\n",
    "from tensorflow.keras import losses, layers, models, metrics, Model\n",
    "from tensorflow.keras import optimizers\n",
    "from tensorflow.keras import regularizers\n",
    "from tensorflow.keras.callbacks import LearningRateScheduler\n",
    "from tensorflow.keras.preprocessing.image import ImageDataGenerator\n",
    "from sklearn import svm\n",
    "from sklearn import metrics\n",
    "import PIL, PIL.ImageOps, PIL.ImageEnhance, PIL.ImageDraw\n",
    "#import torch\n",
    "from PIL import Image\n",
    "from tensorflow.keras.applications.resnet50 import ResNet50, preprocess_input"
   ]
  },
  {
   "cell_type": "code",
   "execution_count": 4,
   "metadata": {},
   "outputs": [],
   "source": [
    "def unpickle(file):\n",
    "    import pickle\n",
    "    with open(file, 'rb') as fo:\n",
    "        dict = pickle.load(fo, encoding='bytes')\n",
    "    return dict"
   ]
  },
  {
   "cell_type": "code",
   "execution_count": 5,
   "metadata": {},
   "outputs": [],
   "source": [
    "files = []\n",
    "for i in range(6):\n",
    "    name =  ''\n",
    "    if i == 5:\n",
    "        name = 'SelfSupervision-main/cifar-10-batches-py/test_batch'\n",
    "    else:\n",
    "        name = 'SelfSupervision-main/cifar-10-batches-py/data_batch_' + str(i + 1)\n",
    "    files.append(unpickle(name))"
   ]
  },
  {
   "cell_type": "code",
   "execution_count": 6,
   "metadata": {},
   "outputs": [],
   "source": [
    "rotations_num = 4\n",
    "augment_num = 10\n",
    "\n",
    "saved_name = 'selfsupervised'\n",
    "cnn_name = 'mycnn'\n",
    "\n",
    "selfsupervised_epochs = 80\n",
    "selfsupervised_batch_size = 128\n",
    "supervised_epochs = 50\n",
    "supervised_batch_size = 128\n",
    "supervised_trainval_ratio = 1. / 6 #1/6 is implied in CIFAR-10\n",
    "\n",
    "feature_layer_trained = 'conv2_block3_out'\n",
    "feature_layer = 'conv2_block3_out'\n",
    "first_resnet_layer = 'conv2_block1_out'\n",
    "second_resnet_layer = 'conv2_block2_out'\n",
    "feature_layer_cnn = 'out_layer'"
   ]
  },
  {
   "cell_type": "code",
   "execution_count": 7,
   "metadata": {},
   "outputs": [],
   "source": [
    "combined_data = np.zeros((60000 * rotations_num, 32, 32, 3), dtype = np.float32)\n",
    "combined_labels = np.zeros((60000 * rotations_num, rotations_num), dtype = np.float32)\n",
    "true_labels = np.zeros((60000 * rotations_num, 10), dtype = np.float32)\n",
    "\n",
    "\n",
    "for i in range(len(files)):\n",
    "    data_len = files[i][b\"data\"].shape[0]\n",
    "    \n",
    "    for j in range(data_len):\n",
    "        row = files[i][b\"data\"][j]\n",
    "        true_labels[rotations_num * (data_len * i + j)][files[i][b\"labels\"][j]] = 1.\n",
    "        \n",
    "        for k in range(files[i][b\"data\"].shape[1]):\n",
    "            combined_data[rotations_num * (data_len * i + j)][(k & 1023) >> 5][k & 31][k >> 10] = row[k]\n",
    "        combined_labels[rotations_num * (data_len * i + j)][0] = 1.\n",
    "        \n",
    "        for t in range(1, rotations_num):\n",
    "            true_labels[rotations_num * (data_len * i + j) + t][files[i][b\"labels\"][j]] = 1.\n",
    "            combined_data[rotations_num * (data_len * i + j) + t] = np.rot90(combined_data[rotations_num * (data_len * i + j)], t)\n",
    "            combined_labels[rotations_num * (data_len * i + j) + t][t] = 1."
   ]
  },
  {
   "cell_type": "code",
   "execution_count": 8,
   "metadata": {},
   "outputs": [
    {
     "data": {
      "image/png": "[encoded data removed]",
      "text/plain": [
       "<Figure size 432x288 with 1 Axes>"
      ]
     },
     "metadata": {
      "needs_background": "light"
     },
     "output_type": "display_data"
    },
    {
     "name": "stdout",
     "output_type": "stream",
     "text": [
      "[1. 0. 0. 0.]\n",
      "[0. 0. 1. 0. 0. 0. 0. 0. 0. 0.]\n"
     ]
    },
    {
     "data": {
      "image/png": "[encoded data removed]",
      "text/plain": [
       "<Figure size 432x288 with 1 Axes>"
      ]
     },
     "metadata": {
      "needs_background": "light"
     },
     "output_type": "display_data"
    },
    {
     "name": "stdout",
     "output_type": "stream",
     "text": [
      "[0. 1. 0. 0.]\n",
      "[0. 0. 1. 0. 0. 0. 0. 0. 0. 0.]\n"
     ]
    },
    {
     "data": {
      "image/png": "[encoded data removed]",
      "text/plain": [
       "<Figure size 432x288 with 1 Axes>"
      ]
     },
     "metadata": {
      "needs_background": "light"
     },
     "output_type": "display_data"
    },
    {
     "name": "stdout",
     "output_type": "stream",
     "text": [
      "[0. 0. 1. 0.]\n",
      "[0. 0. 1. 0. 0. 0. 0. 0. 0. 0.]\n"
     ]
    },
    {
     "data": {
      "image/png": "[encoded data removed]",
      "text/plain": [
       "<Figure size 432x288 with 1 Axes>"
      ]
     },
     "metadata": {
      "needs_background": "light"
     },
     "output_type": "display_data"
    },
    {
     "name": "stdout",
     "output_type": "stream",
     "text": [
      "[0. 0. 0. 1.]\n",
      "[0. 0. 1. 0. 0. 0. 0. 0. 0. 0.]\n"
     ]
    }
   ],
   "source": [
    "r = random.randint(0, 60000)\n",
    "\n",
    "for i in range(rotations_num):\n",
    "    plt.imshow(combined_data[r * rotations_num + i].astype(int))\n",
    "    plt.show()\n",
    "    print(combined_labels[r * rotations_num + i])\n",
    "    print(true_labels[r * rotations_num + i])"
   ]
  },
  {
   "cell_type": "code",
   "execution_count": 9,
   "metadata": {},
   "outputs": [],
   "source": [
    "#print(len(files[2][b\"labels\"]))"
   ]
  },
  {
   "cell_type": "code",
   "execution_count": 10,
   "metadata": {},
   "outputs": [],
   "source": [
    "# def get_conv_model_modded():\n",
    "#     base = ResNet50(include_top=False, weights=None, input_shape=(32, 32, 3))\n",
    "#     l = base.get_layer(feature_layer_trained).output\n",
    "#     l = layers.Flatten()(l)\n",
    "#     l = layers.BatchNormalization()(l)\n",
    "#     l = layers.Dropout(0.5)(l)\n",
    "#     l = layers.Dense(200, kernel_regularizer=regularizers.l1_l2(l1 = 0.0001, l2 = 0.0005), kernel_initializer='he_uniform', name = 'good layer')(l)\n",
    "#     l = layers.BatchNormalization()(l)\n",
    "#     l = layers.Activation('relu')(l)\n",
    "#     l = layers.Dropout(0.5)(l)\n",
    "#     l = layers.Dense(200, kernel_regularizer=regularizers.l1_l2(l1 = 0.0001, l2 = 0.0005), kernel_initializer='he_uniform',\n",
    "#                      name = 'good_layer')(l)\n",
    "#     l = layers.BatchNormalization()(l)\n",
    "#     l = layers.Activation('relu')(l)\n",
    "#     l = layers.Dropout(0.5)(l)\n",
    "#     l = layers.Dense(rotations_num, kernel_regularizer=regularizers.l1_l2(l1 = 0.00005, l2 = 0.0001), activation = 'softmax')(l)\n",
    "    \n",
    "#     return tensorflow.keras.Model(inputs = base.input, outputs = base.get_layer('good layer').output)\n",
    "\n",
    "def get_conv_model():\n",
    "    base = ResNet50(include_top=False, weights=None, input_shape=(32, 32, 3))\n",
    "    l = base.get_layer(feature_layer_trained).output\n",
    "    l = layers.Flatten()(l)\n",
    "    l = layers.BatchNormalization()(l)\n",
    "    l = layers.Dropout(0.5)(l)\n",
    "    l = layers.Dense(200, kernel_regularizer=regularizers.l1_l2(l1 = 0.0001, l2 = 0.0005), kernel_initializer='he_uniform', name = 'good_layer')(l)\n",
    "    l = layers.BatchNormalization()(l)\n",
    "    l = layers.Activation('relu')(l)\n",
    "    l = layers.Dropout(0.5)(l)\n",
    "    l = layers.Dense(200, kernel_regularizer=regularizers.l1_l2(l1 = 0.0001, l2 = 0.0005), kernel_initializer='he_uniform')(l)\n",
    "    l = layers.BatchNormalization()(l)\n",
    "    l = layers.Activation('relu')(l)\n",
    "    l = layers.Dropout(0.5)(l)\n",
    "    l = layers.Dense(rotations_num, kernel_regularizer=regularizers.l1_l2(l1 = 0.00005, l2 = 0.0001), activation = 'softmax')(l)\n",
    "    \n",
    "    return tensorflow.keras.Model(inputs = base.input, outputs = l)\n",
    "\n",
    "def self_supervised_train(unlabeled, percent, use_datagen = False, **kwargs):\n",
    "    if percent >= 100:\n",
    "        return None\n",
    "    \n",
    "    model = get_conv_model()\n",
    "    model.summary()\n",
    "    model.compile(optimizer = optimizers.Adam(), loss = 'categorical_crossentropy', metrics=['accuracy'])\n",
    "    \n",
    "    if use_datagen:\n",
    "        log = model.fit(kwargs['datagen'].flow(np.asarray([combined_data[i] for i in unlabeled]), \n",
    "                    np.asarray([combined_labels[i] for i in unlabeled]),\n",
    "                    batch_size = selfsupervised_batch_size),\n",
    "                    epochs = selfsupervised_epochs, \n",
    "                    steps_per_epoch = len(unlabeled) // selfsupervised_batch_size,\n",
    "                    shuffle = True,\n",
    "                    #callbacks = [LearningRateScheduler(lr_schedule_conv)],\n",
    "                            validation_data = (np.asarray(combined_data[50000 * rotations_num:]), \n",
    "                                               np.asarray(combined_labels[50000 * rotations_num:])))\n",
    "    else:    \n",
    "        log = model.fit(np.asarray([combined_data[i] for i in unlabeled]) / 256., \n",
    "                    np.asarray([combined_labels[i] for i in unlabeled]), \n",
    "                    epochs = selfsupervised_epochs, \n",
    "                    batch_size = selfsupervised_batch_size, \n",
    "                    shuffle = True,\n",
    "                    #callbacks = [LearningRateScheduler(lr_schedule_conv)],\n",
    "                            validation_data = (np.asarray([combined_data[(50000 + i) * rotations_num] for i in range(10000)])  / 256., \n",
    "                                               np.asarray([combined_labels[(50000 + i) * rotations_num] for i in range(10000)])))\n",
    "    model.save(saved_name + \"_\" + str(percent))\n",
    "    \n",
    "    return log, model"
   ]
  },
  {
   "cell_type": "code",
   "execution_count": 11,
   "metadata": {},
   "outputs": [
    {
     "name": "stdout",
     "output_type": "stream",
     "text": [
      "Model: \"model\"\n",
      "__________________________________________________________________________________________________\n",
      "Layer (type)                    Output Shape         Param #     Connected to                     \n",
      "==================================================================================================\n",
      "input_1 (InputLayer)            [(None, 32, 32, 3)]  0                                            \n",
      "__________________________________________________________________________________________________\n",
      "conv1_pad (ZeroPadding2D)       (None, 38, 38, 3)    0           input_1[0][0]                    \n",
      "__________________________________________________________________________________________________\n",
      "conv1_conv (Conv2D)             (None, 16, 16, 64)   9472        conv1_pad[0][0]                  \n",
      "__________________________________________________________________________________________________\n",
      "conv1_bn (BatchNormalization)   (None, 16, 16, 64)   256         conv1_conv[0][0]                 \n",
      "__________________________________________________________________________________________________\n",
      "conv1_relu (Activation)         (None, 16, 16, 64)   0           conv1_bn[0][0]                   \n",
      "__________________________________________________________________________________________________\n",
      "pool1_pad (ZeroPadding2D)       (None, 18, 18, 64)   0           conv1_relu[0][0]                 \n",
      "__________________________________________________________________________________________________\n",
      "pool1_pool (MaxPooling2D)       (None, 8, 8, 64)     0           pool1_pad[0][0]                  \n",
      "__________________________________________________________________________________________________\n",
      "conv2_block1_1_conv (Conv2D)    (None, 8, 8, 64)     4160        pool1_pool[0][0]                 \n",
      "__________________________________________________________________________________________________\n",
      "conv2_block1_1_bn (BatchNormali (None, 8, 8, 64)     256         conv2_block1_1_conv[0][0]        \n",
      "__________________________________________________________________________________________________\n",
      "conv2_block1_1_relu (Activation (None, 8, 8, 64)     0           conv2_block1_1_bn[0][0]          \n",
      "__________________________________________________________________________________________________\n",
      "conv2_block1_2_conv (Conv2D)    (None, 8, 8, 64)     36928       conv2_block1_1_relu[0][0]        \n",
      "__________________________________________________________________________________________________\n",
      "conv2_block1_2_bn (BatchNormali (None, 8, 8, 64)     256         conv2_block1_2_conv[0][0]        \n",
      "__________________________________________________________________________________________________\n",
      "conv2_block1_2_relu (Activation (None, 8, 8, 64)     0           conv2_block1_2_bn[0][0]          \n",
      "__________________________________________________________________________________________________\n",
      "conv2_block1_0_conv (Conv2D)    (None, 8, 8, 256)    16640       pool1_pool[0][0]                 \n",
      "__________________________________________________________________________________________________\n",
      "conv2_block1_3_conv (Conv2D)    (None, 8, 8, 256)    16640       conv2_block1_2_relu[0][0]        \n",
      "__________________________________________________________________________________________________\n",
      "conv2_block1_0_bn (BatchNormali (None, 8, 8, 256)    1024        conv2_block1_0_conv[0][0]        \n",
      "__________________________________________________________________________________________________\n",
      "conv2_block1_3_bn (BatchNormali (None, 8, 8, 256)    1024        conv2_block1_3_conv[0][0]        \n",
      "__________________________________________________________________________________________________\n",
      "conv2_block1_add (Add)          (None, 8, 8, 256)    0           conv2_block1_0_bn[0][0]          \n",
      "                                                                 conv2_block1_3_bn[0][0]          \n",
      "__________________________________________________________________________________________________\n",
      "conv2_block1_out (Activation)   (None, 8, 8, 256)    0           conv2_block1_add[0][0]           \n",
      "__________________________________________________________________________________________________\n",
      "conv2_block2_1_conv (Conv2D)    (None, 8, 8, 64)     16448       conv2_block1_out[0][0]           \n",
      "__________________________________________________________________________________________________\n",
      "conv2_block2_1_bn (BatchNormali (None, 8, 8, 64)     256         conv2_block2_1_conv[0][0]        \n",
      "__________________________________________________________________________________________________\n",
      "conv2_block2_1_relu (Activation (None, 8, 8, 64)     0           conv2_block2_1_bn[0][0]          \n",
      "__________________________________________________________________________________________________\n",
      "conv2_block2_2_conv (Conv2D)    (None, 8, 8, 64)     36928       conv2_block2_1_relu[0][0]        \n",
      "__________________________________________________________________________________________________\n",
      "conv2_block2_2_bn (BatchNormali (None, 8, 8, 64)     256         conv2_block2_2_conv[0][0]        \n",
      "__________________________________________________________________________________________________\n",
      "conv2_block2_2_relu (Activation (None, 8, 8, 64)     0           conv2_block2_2_bn[0][0]          \n",
      "__________________________________________________________________________________________________\n",
      "conv2_block2_3_conv (Conv2D)    (None, 8, 8, 256)    16640       conv2_block2_2_relu[0][0]        \n",
      "__________________________________________________________________________________________________\n",
      "conv2_block2_3_bn (BatchNormali (None, 8, 8, 256)    1024        conv2_block2_3_conv[0][0]        \n",
      "__________________________________________________________________________________________________\n",
      "conv2_block2_add (Add)          (None, 8, 8, 256)    0           conv2_block1_out[0][0]           \n",
      "                                                                 conv2_block2_3_bn[0][0]          \n",
      "__________________________________________________________________________________________________\n",
      "conv2_block2_out (Activation)   (None, 8, 8, 256)    0           conv2_block2_add[0][0]           \n",
      "__________________________________________________________________________________________________\n",
      "conv2_block3_1_conv (Conv2D)    (None, 8, 8, 64)     16448       conv2_block2_out[0][0]           \n",
      "__________________________________________________________________________________________________\n",
      "conv2_block3_1_bn (BatchNormali (None, 8, 8, 64)     256         conv2_block3_1_conv[0][0]        \n",
      "__________________________________________________________________________________________________\n",
      "conv2_block3_1_relu (Activation (None, 8, 8, 64)     0           conv2_block3_1_bn[0][0]          \n",
      "__________________________________________________________________________________________________\n",
      "conv2_block3_2_conv (Conv2D)    (None, 8, 8, 64)     36928       conv2_block3_1_relu[0][0]        \n",
      "__________________________________________________________________________________________________\n",
      "conv2_block3_2_bn (BatchNormali (None, 8, 8, 64)     256         conv2_block3_2_conv[0][0]        \n",
      "__________________________________________________________________________________________________\n",
      "conv2_block3_2_relu (Activation (None, 8, 8, 64)     0           conv2_block3_2_bn[0][0]          \n",
      "__________________________________________________________________________________________________\n",
      "conv2_block3_3_conv (Conv2D)    (None, 8, 8, 256)    16640       conv2_block3_2_relu[0][0]        \n",
      "__________________________________________________________________________________________________\n",
      "conv2_block3_3_bn (BatchNormali (None, 8, 8, 256)    1024        conv2_block3_3_conv[0][0]        \n",
      "__________________________________________________________________________________________________\n",
      "conv2_block3_add (Add)          (None, 8, 8, 256)    0           conv2_block2_out[0][0]           \n",
      "                                                                 conv2_block3_3_bn[0][0]          \n",
      "__________________________________________________________________________________________________\n",
      "conv2_block3_out (Activation)   (None, 8, 8, 256)    0           conv2_block3_add[0][0]           \n",
      "__________________________________________________________________________________________________\n",
      "flatten (Flatten)               (None, 16384)        0           conv2_block3_out[0][0]           \n",
      "__________________________________________________________________________________________________\n",
      "batch_normalization (BatchNorma (None, 16384)        65536       flatten[0][0]                    \n",
      "__________________________________________________________________________________________________\n",
      "dropout (Dropout)               (None, 16384)        0           batch_normalization[0][0]        \n",
      "__________________________________________________________________________________________________\n",
      "good_layer (Dense)              (None, 200)          3277000     dropout[0][0]                    \n",
      "__________________________________________________________________________________________________\n",
      "batch_normalization_1 (BatchNor (None, 200)          800         good_layer[0][0]                 \n",
      "__________________________________________________________________________________________________\n",
      "activation (Activation)         (None, 200)          0           batch_normalization_1[0][0]      \n",
      "__________________________________________________________________________________________________\n",
      "dropout_1 (Dropout)             (None, 200)          0           activation[0][0]                 \n",
      "__________________________________________________________________________________________________\n",
      "dense (Dense)                   (None, 200)          40200       dropout_1[0][0]                  \n",
      "__________________________________________________________________________________________________\n",
      "batch_normalization_2 (BatchNor (None, 200)          800         dense[0][0]                      \n",
      "__________________________________________________________________________________________________\n",
      "activation_1 (Activation)       (None, 200)          0           batch_normalization_2[0][0]      \n",
      "__________________________________________________________________________________________________\n",
      "dropout_2 (Dropout)             (None, 200)          0           activation_1[0][0]               \n",
      "__________________________________________________________________________________________________\n",
      "dense_1 (Dense)                 (None, 4)            804         dropout_2[0][0]                  \n",
      "==================================================================================================\n",
      "Total params: 3,614,900\n",
      "Trainable params: 3,578,388\n",
      "Non-trainable params: 36,512\n",
      "__________________________________________________________________________________________________\n",
      "Epoch 1/80\n",
      "1563/1563 [==============================] - 21s 13ms/step - loss: 2.4344 - accuracy: 0.5759 - val_loss: 1.9968 - val_accuracy: 0.5081\n",
      "Epoch 2/80\n",
      "1563/1563 [==============================] - 20s 13ms/step - loss: 1.7124 - accuracy: 0.6595 - val_loss: 2.0865 - val_accuracy: 0.5110\n",
      "Epoch 3/80\n",
      "1563/1563 [==============================] - 20s 13ms/step - loss: 1.6444 - accuracy: 0.7036 - val_loss: 1.8986 - val_accuracy: 0.6327\n",
      "Epoch 4/80\n",
      "1563/1563 [==============================] - 20s 13ms/step - loss: 1.5766 - accuracy: 0.7327 - val_loss: 1.1409 - val_accuracy: 0.9204\n",
      "Epoch 5/80\n",
      "1563/1563 [==============================] - 20s 13ms/step - loss: 1.5151 - accuracy: 0.7547 - val_loss: 1.5201 - val_accuracy: 0.7279\n",
      "Epoch 6/80\n",
      "1563/1563 [==============================] - 20s 13ms/step - loss: 1.4551 - accuracy: 0.7727 - val_loss: 1.2201 - val_accuracy: 0.8595\n",
      "Epoch 7/80\n",
      "1563/1563 [==============================] - 19s 12ms/step - loss: 1.3975 - accuracy: 0.7862 - val_loss: 1.3440 - val_accuracy: 0.7699\n",
      "Epoch 8/80\n",
      "1563/1563 [==============================] - 19s 12ms/step - loss: 1.3503 - accuracy: 0.7972 - val_loss: 1.3593 - val_accuracy: 0.7802\n",
      "Epoch 9/80\n",
      "1563/1563 [==============================] - 20s 13ms/step - loss: 1.3069 - accuracy: 0.8077 - val_loss: 1.3127 - val_accuracy: 0.8049\n",
      "Epoch 10/80\n",
      "1563/1563 [==============================] - 20s 13ms/step - loss: 1.2613 - accuracy: 0.8177 - val_loss: 2.0677 - val_accuracy: 0.5373\n",
      "Epoch 11/80\n",
      "1563/1563 [==============================] - 20s 13ms/step - loss: 1.2189 - accuracy: 0.8252 - val_loss: 1.4229 - val_accuracy: 0.7506\n",
      "Epoch 12/80\n",
      "1563/1563 [==============================] - 20s 13ms/step - loss: 1.1833 - accuracy: 0.8336 - val_loss: 1.4392 - val_accuracy: 0.7338\n",
      "Epoch 13/80\n",
      "1563/1563 [==============================] - 20s 13ms/step - loss: 1.1473 - accuracy: 0.8388 - val_loss: 2.0374 - val_accuracy: 0.5684\n",
      "Epoch 14/80\n",
      "1563/1563 [==============================] - 20s 13ms/step - loss: 1.1135 - accuracy: 0.8458 - val_loss: 1.4686 - val_accuracy: 0.7126\n",
      "Epoch 15/80\n",
      "1563/1563 [==============================] - 20s 13ms/step - loss: 1.0809 - accuracy: 0.8515 - val_loss: 1.2137 - val_accuracy: 0.7932\n",
      "Epoch 16/80\n",
      "1563/1563 [==============================] - 20s 13ms/step - loss: 1.0477 - accuracy: 0.8577 - val_loss: 1.4521 - val_accuracy: 0.7037\n",
      "Epoch 17/80\n",
      "1563/1563 [==============================] - 20s 13ms/step - loss: 1.0200 - accuracy: 0.8622 - val_loss: 1.7172 - val_accuracy: 0.6420\n",
      "Epoch 18/80\n",
      "1563/1563 [==============================] - 20s 13ms/step - loss: 0.9912 - accuracy: 0.8671 - val_loss: 1.1027 - val_accuracy: 0.8185\n",
      "Epoch 19/80\n",
      "1563/1563 [==============================] - 20s 13ms/step - loss: 0.9657 - accuracy: 0.8716 - val_loss: 1.0257 - val_accuracy: 0.8343\n",
      "Epoch 20/80\n",
      "1563/1563 [==============================] - 20s 13ms/step - loss: 0.9417 - accuracy: 0.8752 - val_loss: 1.2025 - val_accuracy: 0.7849\n",
      "Epoch 21/80\n",
      "1563/1563 [==============================] - 20s 13ms/step - loss: 0.9190 - accuracy: 0.8796 - val_loss: 0.7886 - val_accuracy: 0.9215\n",
      "Epoch 22/80\n",
      "1563/1563 [==============================] - 19s 12ms/step - loss: 0.9008 - accuracy: 0.8831 - val_loss: 1.4976 - val_accuracy: 0.7096\n",
      "Epoch 23/80\n",
      "1563/1563 [==============================] - 19s 12ms/step - loss: 0.8782 - accuracy: 0.8872 - val_loss: 1.1276 - val_accuracy: 0.8113\n",
      "Epoch 24/80\n",
      "1563/1563 [==============================] - 20s 13ms/step - loss: 0.8587 - accuracy: 0.8906 - val_loss: 0.9629 - val_accuracy: 0.8428\n",
      "Epoch 25/80\n",
      "1563/1563 [==============================] - 20s 13ms/step - loss: 0.8447 - accuracy: 0.8934 - val_loss: 1.3641 - val_accuracy: 0.7202\n",
      "Epoch 26/80\n",
      "1563/1563 [==============================] - 20s 13ms/step - loss: 0.8287 - accuracy: 0.8967 - val_loss: 0.9225 - val_accuracy: 0.8648\n",
      "Epoch 27/80\n",
      "1563/1563 [==============================] - 20s 13ms/step - loss: 0.8103 - accuracy: 0.8997 - val_loss: 1.0199 - val_accuracy: 0.8136\n",
      "Epoch 28/80\n",
      "1563/1563 [==============================] - 20s 13ms/step - loss: 0.7979 - accuracy: 0.9021 - val_loss: 0.9409 - val_accuracy: 0.8593\n",
      "Epoch 29/80\n",
      "1563/1563 [==============================] - 20s 13ms/step - loss: 0.7851 - accuracy: 0.9050 - val_loss: 1.1315 - val_accuracy: 0.7965\n",
      "Epoch 30/80\n",
      "1563/1563 [==============================] - 20s 13ms/step - loss: 0.7728 - accuracy: 0.9064 - val_loss: 1.3302 - val_accuracy: 0.7506\n",
      "Epoch 31/80\n",
      "1563/1563 [==============================] - 20s 13ms/step - loss: 0.7592 - accuracy: 0.9096 - val_loss: 1.8513 - val_accuracy: 0.6348\n",
      "Epoch 32/80\n",
      "1563/1563 [==============================] - 20s 13ms/step - loss: 0.7445 - accuracy: 0.9121 - val_loss: 1.0683 - val_accuracy: 0.8150\n",
      "Epoch 33/80\n",
      "1563/1563 [==============================] - 20s 12ms/step - loss: 0.7392 - accuracy: 0.9136 - val_loss: 1.0950 - val_accuracy: 0.8168\n",
      "Epoch 34/80\n",
      "1563/1563 [==============================] - 19s 12ms/step - loss: 0.7223 - accuracy: 0.9166 - val_loss: 1.6839 - val_accuracy: 0.6457\n",
      "Epoch 35/80\n",
      "1563/1563 [==============================] - 19s 12ms/step - loss: 0.7157 - accuracy: 0.9176 - val_loss: 1.1615 - val_accuracy: 0.7779\n",
      "Epoch 36/80\n",
      "1563/1563 [==============================] - 20s 12ms/step - loss: 0.7071 - accuracy: 0.9204 - val_loss: 1.1349 - val_accuracy: 0.7839\n",
      "Epoch 37/80\n",
      "1563/1563 [==============================] - 20s 13ms/step - loss: 0.6977 - accuracy: 0.9221 - val_loss: 1.0723 - val_accuracy: 0.8209\n",
      "Epoch 38/80\n",
      "1563/1563 [==============================] - 20s 13ms/step - loss: 0.6910 - accuracy: 0.9233 - val_loss: 1.1548 - val_accuracy: 0.7843\n",
      "Epoch 39/80\n",
      "1563/1563 [==============================] - 20s 13ms/step - loss: 0.6856 - accuracy: 0.9253 - val_loss: 0.8820 - val_accuracy: 0.8790\n",
      "Epoch 40/80\n",
      "1563/1563 [==============================] - 20s 13ms/step - loss: 0.6810 - accuracy: 0.9264 - val_loss: 1.0963 - val_accuracy: 0.8053\n",
      "Epoch 41/80\n",
      "1563/1563 [==============================] - 20s 13ms/step - loss: 0.6740 - accuracy: 0.9273 - val_loss: 1.0772 - val_accuracy: 0.8118\n",
      "Epoch 42/80\n",
      "1563/1563 [==============================] - 20s 13ms/step - loss: 0.6660 - accuracy: 0.9295 - val_loss: 1.0167 - val_accuracy: 0.8435\n",
      "Epoch 43/80\n",
      "1563/1563 [==============================] - 20s 13ms/step - loss: 0.6604 - accuracy: 0.9310 - val_loss: 1.2265 - val_accuracy: 0.7776\n",
      "Epoch 44/80\n",
      "1563/1563 [==============================] - 20s 13ms/step - loss: 0.6526 - accuracy: 0.9327 - val_loss: 1.1969 - val_accuracy: 0.7843\n",
      "Epoch 45/80\n",
      "1563/1563 [==============================] - 20s 13ms/step - loss: 0.6510 - accuracy: 0.9325 - val_loss: 1.1910 - val_accuracy: 0.7862\n",
      "Epoch 46/80\n",
      "1563/1563 [==============================] - 21s 13ms/step - loss: 0.6403 - accuracy: 0.9351 - val_loss: 1.1354 - val_accuracy: 0.8032\n",
      "Epoch 47/80\n",
      "1563/1563 [==============================] - 21s 13ms/step - loss: 0.6398 - accuracy: 0.9362 - val_loss: 1.2289 - val_accuracy: 0.7746\n",
      "Epoch 48/80\n",
      "1563/1563 [==============================] - 21s 13ms/step - loss: 0.6332 - accuracy: 0.9357 - val_loss: 1.3120 - val_accuracy: 0.7453\n",
      "Epoch 49/80\n",
      "1563/1563 [==============================] - 21s 13ms/step - loss: 0.6269 - accuracy: 0.9389 - val_loss: 1.2496 - val_accuracy: 0.7800\n",
      "Epoch 50/80\n",
      "1563/1563 [==============================] - 21s 13ms/step - loss: 0.6275 - accuracy: 0.9384 - val_loss: 1.0684 - val_accuracy: 0.8133\n",
      "Epoch 51/80\n",
      "1563/1563 [==============================] - 21s 13ms/step - loss: 0.6219 - accuracy: 0.9396 - val_loss: 1.2194 - val_accuracy: 0.7895\n",
      "Epoch 52/80\n",
      "1563/1563 [==============================] - 21s 13ms/step - loss: 0.6179 - accuracy: 0.9404 - val_loss: 1.1732 - val_accuracy: 0.7886\n",
      "Epoch 53/80\n",
      "1563/1563 [==============================] - 21s 13ms/step - loss: 0.6141 - accuracy: 0.9409 - val_loss: 1.1745 - val_accuracy: 0.8027\n",
      "Epoch 54/80\n",
      "1563/1563 [==============================] - 21s 13ms/step - loss: 0.6069 - accuracy: 0.9430 - val_loss: 1.1372 - val_accuracy: 0.8115\n",
      "Epoch 55/80\n",
      "1563/1563 [==============================] - 21s 13ms/step - loss: 0.6046 - accuracy: 0.9435 - val_loss: 1.3283 - val_accuracy: 0.7610\n",
      "Epoch 56/80\n",
      "1563/1563 [==============================] - 21s 13ms/step - loss: 0.6005 - accuracy: 0.9443 - val_loss: 1.1041 - val_accuracy: 0.8202\n",
      "Epoch 57/80\n",
      "1563/1563 [==============================] - 21s 13ms/step - loss: 0.5946 - accuracy: 0.9455 - val_loss: 1.1572 - val_accuracy: 0.8225\n",
      "Epoch 58/80\n",
      "1563/1563 [==============================] - 21s 13ms/step - loss: 0.5925 - accuracy: 0.9467 - val_loss: 1.1168 - val_accuracy: 0.8232\n",
      "Epoch 59/80\n",
      "1563/1563 [==============================] - 21s 13ms/step - loss: 0.5923 - accuracy: 0.9464 - val_loss: 1.2428 - val_accuracy: 0.7885\n",
      "Epoch 60/80\n",
      "1563/1563 [==============================] - 21s 13ms/step - loss: 0.5871 - accuracy: 0.9473 - val_loss: 1.4372 - val_accuracy: 0.7452\n",
      "Epoch 61/80\n",
      "1563/1563 [==============================] - 21s 13ms/step - loss: 0.5852 - accuracy: 0.9487 - val_loss: 1.2560 - val_accuracy: 0.7973\n",
      "Epoch 62/80\n",
      "1563/1563 [==============================] - 21s 13ms/step - loss: 0.5812 - accuracy: 0.9488 - val_loss: 0.9800 - val_accuracy: 0.8421\n",
      "Epoch 63/80\n",
      "1563/1563 [==============================] - 21s 13ms/step - loss: 0.5744 - accuracy: 0.9498 - val_loss: 1.2021 - val_accuracy: 0.8055\n",
      "Epoch 64/80\n",
      "1563/1563 [==============================] - 21s 13ms/step - loss: 0.5700 - accuracy: 0.9508 - val_loss: 1.2105 - val_accuracy: 0.7927\n",
      "Epoch 65/80\n",
      "1563/1563 [==============================] - 21s 13ms/step - loss: 0.5698 - accuracy: 0.9511 - val_loss: 1.3934 - val_accuracy: 0.7499\n",
      "Epoch 66/80\n",
      "1563/1563 [==============================] - 21s 13ms/step - loss: 0.5659 - accuracy: 0.9512 - val_loss: 1.2352 - val_accuracy: 0.7996\n",
      "Epoch 67/80\n",
      "1563/1563 [==============================] - 21s 14ms/step - loss: 0.5670 - accuracy: 0.9520 - val_loss: 1.5883 - val_accuracy: 0.6981\n",
      "Epoch 68/80\n",
      "1563/1563 [==============================] - 21s 13ms/step - loss: 0.5574 - accuracy: 0.9526 - val_loss: 1.1335 - val_accuracy: 0.8167\n",
      "Epoch 69/80\n",
      "1563/1563 [==============================] - 21s 14ms/step - loss: 0.5591 - accuracy: 0.9535 - val_loss: 1.1920 - val_accuracy: 0.8077\n",
      "Epoch 70/80\n",
      "1563/1563 [==============================] - 21s 13ms/step - loss: 0.5546 - accuracy: 0.9542 - val_loss: 1.3596 - val_accuracy: 0.7623\n",
      "Epoch 71/80\n",
      "1563/1563 [==============================] - 21s 13ms/step - loss: 0.5510 - accuracy: 0.9539 - val_loss: 1.1481 - val_accuracy: 0.8017\n",
      "Epoch 72/80\n",
      "1563/1563 [==============================] - 21s 13ms/step - loss: 0.5473 - accuracy: 0.9548 - val_loss: 1.1287 - val_accuracy: 0.8115\n",
      "Epoch 73/80\n",
      "1563/1563 [==============================] - 21s 13ms/step - loss: 0.5444 - accuracy: 0.9552 - val_loss: 1.5120 - val_accuracy: 0.7485\n",
      "Epoch 74/80\n",
      "1563/1563 [==============================] - 21s 13ms/step - loss: 0.5421 - accuracy: 0.9556 - val_loss: 1.0009 - val_accuracy: 0.8474\n",
      "Epoch 75/80\n",
      "1563/1563 [==============================] - 21s 13ms/step - loss: 0.5361 - accuracy: 0.9568 - val_loss: 1.1368 - val_accuracy: 0.8171\n",
      "Epoch 76/80\n",
      "1563/1563 [==============================] - 20s 13ms/step - loss: 0.5355 - accuracy: 0.9570 - val_loss: 1.1596 - val_accuracy: 0.8114\n",
      "Epoch 77/80\n",
      "1563/1563 [==============================] - 22s 14ms/step - loss: 0.5298 - accuracy: 0.9579 - val_loss: 1.2039 - val_accuracy: 0.7972\n",
      "Epoch 78/80\n",
      "1563/1563 [==============================] - 21s 14ms/step - loss: 0.5305 - accuracy: 0.9580 - val_loss: 1.2391 - val_accuracy: 0.7975\n",
      "Epoch 79/80\n",
      "1563/1563 [==============================] - 20s 13ms/step - loss: 0.5265 - accuracy: 0.9579 - val_loss: 1.1025 - val_accuracy: 0.8193\n",
      "Epoch 80/80\n",
      "1563/1563 [==============================] - 21s 14ms/step - loss: 0.5242 - accuracy: 0.9586 - val_loss: 1.3425 - val_accuracy: 0.7825\n",
      "WARNING:tensorflow:From /home/hardyc/anaconda3/envs/thesisEnv/lib/python3.8/site-packages/tensorflow/python/ops/resource_variable_ops.py:1813: calling BaseResourceVariable.__init__ (from tensorflow.python.ops.resource_variable_ops) with constraint is deprecated and will be removed in a future version.\n",
      "Instructions for updating:\n",
      "If using Keras pass *_constraint arguments to layers.\n",
      "INFO:tensorflow:Assets written to: selfsupervised_0/assets\n"
     ]
    }
   ],
   "source": [
    "feat_log, great_model = self_supervised_train([i for i in range(50000 * rotations_num)], 0)"
   ]
  },
  {
   "cell_type": "markdown",
   "metadata": {},
   "source": [
    "## Create Feature Extractor With Perfect Knowledge \n",
    "\n",
    "- Feature extractor is a CNN trained using ALL of the classes\n",
    "- This is not realistic in the real world because all of the classes will not be known\n",
    "- This is a good \"optimal\" feature space to compare against\n",
    "- Goal would be to get as close to this performance as possible"
   ]
  },
  {
   "cell_type": "code",
   "execution_count": 12,
   "metadata": {},
   "outputs": [],
   "source": [
    "rotNet_features=tensorflow.keras.Model(inputs = great_model.input, outputs = great_model.get_layer('good_layer').output)"
   ]
  },
  {
   "cell_type": "code",
   "execution_count": 13,
   "metadata": {},
   "outputs": [],
   "source": [
    "import keras.utils\n",
    "y_train=tf.keras.utils.to_categorical(y_train) #one hot encoding the y vectors \n",
    "y_test=tf.keras.utils.to_categorical(y_test)"
   ]
  },
  {
   "cell_type": "markdown",
   "metadata": {},
   "source": [
    "## Define a set of experiments\n",
    "\n",
    "- Randomly select and remove classes from the training data\n",
    "- Split test data into known and unknown classes\n",
    "- Fit imperfect feature extraction model\n",
    "- Extract features using the perfect and imperfect extractors\n",
    "- Fit EVM using features for the perfect and imperfect\n",
    "- Evaluate performance (evaluation metrics may need to be improved, but this gives us an initial idea of performance)\n",
    "- Repeat\n"
   ]
  },
  {
   "cell_type": "code",
   "execution_count": 16,
   "metadata": {},
   "outputs": [
    {
     "name": "stdout",
     "output_type": "stream",
     "text": [
      "Iteration: 0\n",
      "\n",
      "Fit Perfect EVM\n"
     ]
    },
    {
     "name": "stderr",
     "output_type": "stream",
     "text": [
      "/home/hardyc/Documents/CiFar-2 Iterations/RotNet/utils.py:125: RuntimeWarning: invalid value encountered in long_scalars\n",
      "  correct = np.sum(pred[con>=i] == truth[con>=i])/np.sum(con>=i)\n"
     ]
    },
    {
     "name": "stdout",
     "output_type": "stream",
     "text": [
      "Iteration: 1\n",
      "\n",
      "Fit Perfect EVM\n"
     ]
    },
    {
     "name": "stderr",
     "output_type": "stream",
     "text": [
      "/home/hardyc/Documents/CiFar-2 Iterations/RotNet/utils.py:125: RuntimeWarning: invalid value encountered in long_scalars\n",
      "  correct = np.sum(pred[con>=i] == truth[con>=i])/np.sum(con>=i)\n"
     ]
    },
    {
     "name": "stdout",
     "output_type": "stream",
     "text": [
      "Iteration: 2\n",
      "\n",
      "Fit Perfect EVM\n"
     ]
    },
    {
     "name": "stderr",
     "output_type": "stream",
     "text": [
      "/home/hardyc/Documents/CiFar-2 Iterations/RotNet/utils.py:125: RuntimeWarning: invalid value encountered in long_scalars\n",
      "  correct = np.sum(pred[con>=i] == truth[con>=i])/np.sum(con>=i)\n"
     ]
    },
    {
     "name": "stdout",
     "output_type": "stream",
     "text": [
      "Iteration: 3\n",
      "\n",
      "Fit Perfect EVM\n"
     ]
    },
    {
     "name": "stderr",
     "output_type": "stream",
     "text": [
      "/home/hardyc/Documents/CiFar-2 Iterations/RotNet/utils.py:125: RuntimeWarning: invalid value encountered in long_scalars\n",
      "  correct = np.sum(pred[con>=i] == truth[con>=i])/np.sum(con>=i)\n"
     ]
    },
    {
     "name": "stdout",
     "output_type": "stream",
     "text": [
      "Iteration: 4\n",
      "\n",
      "Fit Perfect EVM\n"
     ]
    },
    {
     "name": "stderr",
     "output_type": "stream",
     "text": [
      "/home/hardyc/Documents/CiFar-2 Iterations/RotNet/utils.py:125: RuntimeWarning: invalid value encountered in long_scalars\n",
      "  correct = np.sum(pred[con>=i] == truth[con>=i])/np.sum(con>=i)\n"
     ]
    },
    {
     "name": "stdout",
     "output_type": "stream",
     "text": [
      "Iteration: 5\n",
      "\n",
      "Fit Perfect EVM\n"
     ]
    },
    {
     "name": "stderr",
     "output_type": "stream",
     "text": [
      "/home/hardyc/Documents/CiFar-2 Iterations/RotNet/utils.py:125: RuntimeWarning: invalid value encountered in long_scalars\n",
      "  correct = np.sum(pred[con>=i] == truth[con>=i])/np.sum(con>=i)\n"
     ]
    },
    {
     "name": "stdout",
     "output_type": "stream",
     "text": [
      "Iteration: 6\n",
      "\n",
      "Fit Perfect EVM\n"
     ]
    },
    {
     "name": "stderr",
     "output_type": "stream",
     "text": [
      "/home/hardyc/Documents/CiFar-2 Iterations/RotNet/utils.py:125: RuntimeWarning: invalid value encountered in long_scalars\n",
      "  correct = np.sum(pred[con>=i] == truth[con>=i])/np.sum(con>=i)\n"
     ]
    },
    {
     "name": "stdout",
     "output_type": "stream",
     "text": [
      "Iteration: 7\n",
      "\n",
      "Fit Perfect EVM\n"
     ]
    },
    {
     "name": "stderr",
     "output_type": "stream",
     "text": [
      "/home/hardyc/Documents/CiFar-2 Iterations/RotNet/utils.py:125: RuntimeWarning: invalid value encountered in long_scalars\n",
      "  correct = np.sum(pred[con>=i] == truth[con>=i])/np.sum(con>=i)\n"
     ]
    },
    {
     "name": "stdout",
     "output_type": "stream",
     "text": [
      "Iteration: 8\n",
      "\n",
      "Fit Perfect EVM\n"
     ]
    },
    {
     "name": "stderr",
     "output_type": "stream",
     "text": [
      "/home/hardyc/Documents/CiFar-2 Iterations/RotNet/utils.py:125: RuntimeWarning: invalid value encountered in long_scalars\n",
      "  correct = np.sum(pred[con>=i] == truth[con>=i])/np.sum(con>=i)\n"
     ]
    },
    {
     "name": "stdout",
     "output_type": "stream",
     "text": [
      "Iteration: 9\n",
      "\n",
      "Fit Perfect EVM\n"
     ]
    },
    {
     "name": "stderr",
     "output_type": "stream",
     "text": [
      "/home/hardyc/Documents/CiFar-2 Iterations/RotNet/utils.py:125: RuntimeWarning: invalid value encountered in long_scalars\n",
      "  correct = np.sum(pred[con>=i] == truth[con>=i])/np.sum(con>=i)\n"
     ]
    },
    {
     "name": "stdout",
     "output_type": "stream",
     "text": [
      "Iteration: 10\n",
      "\n",
      "Fit Perfect EVM\n"
     ]
    },
    {
     "name": "stderr",
     "output_type": "stream",
     "text": [
      "/home/hardyc/Documents/CiFar-2 Iterations/RotNet/utils.py:125: RuntimeWarning: invalid value encountered in long_scalars\n",
      "  correct = np.sum(pred[con>=i] == truth[con>=i])/np.sum(con>=i)\n"
     ]
    },
    {
     "name": "stdout",
     "output_type": "stream",
     "text": [
      "Iteration: 11\n",
      "\n",
      "Fit Perfect EVM\n"
     ]
    },
    {
     "name": "stderr",
     "output_type": "stream",
     "text": [
      "/home/hardyc/Documents/CiFar-2 Iterations/RotNet/utils.py:125: RuntimeWarning: invalid value encountered in long_scalars\n",
      "  correct = np.sum(pred[con>=i] == truth[con>=i])/np.sum(con>=i)\n"
     ]
    },
    {
     "name": "stdout",
     "output_type": "stream",
     "text": [
      "Iteration: 12\n",
      "\n",
      "Fit Perfect EVM\n"
     ]
    },
    {
     "name": "stderr",
     "output_type": "stream",
     "text": [
      "/home/hardyc/Documents/CiFar-2 Iterations/RotNet/utils.py:125: RuntimeWarning: invalid value encountered in long_scalars\n",
      "  correct = np.sum(pred[con>=i] == truth[con>=i])/np.sum(con>=i)\n"
     ]
    },
    {
     "name": "stdout",
     "output_type": "stream",
     "text": [
      "Iteration: 13\n",
      "\n",
      "Fit Perfect EVM\n"
     ]
    },
    {
     "name": "stderr",
     "output_type": "stream",
     "text": [
      "/home/hardyc/Documents/CiFar-2 Iterations/RotNet/utils.py:125: RuntimeWarning: invalid value encountered in long_scalars\n",
      "  correct = np.sum(pred[con>=i] == truth[con>=i])/np.sum(con>=i)\n"
     ]
    },
    {
     "name": "stdout",
     "output_type": "stream",
     "text": [
      "Iteration: 14\n",
      "\n",
      "Fit Perfect EVM\n"
     ]
    },
    {
     "name": "stderr",
     "output_type": "stream",
     "text": [
      "/home/hardyc/Documents/CiFar-2 Iterations/RotNet/utils.py:125: RuntimeWarning: invalid value encountered in long_scalars\n",
      "  correct = np.sum(pred[con>=i] == truth[con>=i])/np.sum(con>=i)\n"
     ]
    },
    {
     "name": "stdout",
     "output_type": "stream",
     "text": [
      "Iteration: 15\n",
      "\n",
      "Fit Perfect EVM\n"
     ]
    },
    {
     "name": "stderr",
     "output_type": "stream",
     "text": [
      "/home/hardyc/Documents/CiFar-2 Iterations/RotNet/utils.py:125: RuntimeWarning: invalid value encountered in long_scalars\n",
      "  correct = np.sum(pred[con>=i] == truth[con>=i])/np.sum(con>=i)\n"
     ]
    },
    {
     "name": "stdout",
     "output_type": "stream",
     "text": [
      "Iteration: 16\n",
      "\n",
      "Fit Perfect EVM\n"
     ]
    },
    {
     "name": "stderr",
     "output_type": "stream",
     "text": [
      "/home/hardyc/Documents/CiFar-2 Iterations/RotNet/utils.py:125: RuntimeWarning: invalid value encountered in long_scalars\n",
      "  correct = np.sum(pred[con>=i] == truth[con>=i])/np.sum(con>=i)\n"
     ]
    },
    {
     "name": "stdout",
     "output_type": "stream",
     "text": [
      "Iteration: 17\n",
      "\n",
      "Fit Perfect EVM\n"
     ]
    },
    {
     "name": "stderr",
     "output_type": "stream",
     "text": [
      "/home/hardyc/Documents/CiFar-2 Iterations/RotNet/utils.py:125: RuntimeWarning: invalid value encountered in long_scalars\n",
      "  correct = np.sum(pred[con>=i] == truth[con>=i])/np.sum(con>=i)\n"
     ]
    },
    {
     "name": "stdout",
     "output_type": "stream",
     "text": [
      "Iteration: 18\n",
      "\n",
      "Fit Perfect EVM\n"
     ]
    },
    {
     "name": "stderr",
     "output_type": "stream",
     "text": [
      "/home/hardyc/Documents/CiFar-2 Iterations/RotNet/utils.py:125: RuntimeWarning: invalid value encountered in long_scalars\n",
      "  correct = np.sum(pred[con>=i] == truth[con>=i])/np.sum(con>=i)\n"
     ]
    },
    {
     "name": "stdout",
     "output_type": "stream",
     "text": [
      "Iteration: 19\n",
      "\n",
      "Fit Perfect EVM\n"
     ]
    },
    {
     "name": "stderr",
     "output_type": "stream",
     "text": [
      "/home/hardyc/Documents/CiFar-2 Iterations/RotNet/utils.py:125: RuntimeWarning: invalid value encountered in long_scalars\n",
      "  correct = np.sum(pred[con>=i] == truth[con>=i])/np.sum(con>=i)\n"
     ]
    },
    {
     "name": "stdout",
     "output_type": "stream",
     "text": [
      "Iteration: 20\n",
      "\n",
      "Fit Perfect EVM\n"
     ]
    },
    {
     "name": "stderr",
     "output_type": "stream",
     "text": [
      "/home/hardyc/Documents/CiFar-2 Iterations/RotNet/utils.py:125: RuntimeWarning: invalid value encountered in long_scalars\n",
      "  correct = np.sum(pred[con>=i] == truth[con>=i])/np.sum(con>=i)\n"
     ]
    },
    {
     "name": "stdout",
     "output_type": "stream",
     "text": [
      "Iteration: 21\n",
      "\n",
      "Fit Perfect EVM\n"
     ]
    },
    {
     "name": "stderr",
     "output_type": "stream",
     "text": [
      "/home/hardyc/Documents/CiFar-2 Iterations/RotNet/utils.py:125: RuntimeWarning: invalid value encountered in long_scalars\n",
      "  correct = np.sum(pred[con>=i] == truth[con>=i])/np.sum(con>=i)\n"
     ]
    },
    {
     "name": "stdout",
     "output_type": "stream",
     "text": [
      "Iteration: 22\n",
      "\n",
      "Fit Perfect EVM\n"
     ]
    },
    {
     "name": "stderr",
     "output_type": "stream",
     "text": [
      "/home/hardyc/Documents/CiFar-2 Iterations/RotNet/utils.py:125: RuntimeWarning: invalid value encountered in long_scalars\n",
      "  correct = np.sum(pred[con>=i] == truth[con>=i])/np.sum(con>=i)\n"
     ]
    },
    {
     "name": "stdout",
     "output_type": "stream",
     "text": [
      "Iteration: 23\n",
      "\n",
      "Fit Perfect EVM\n"
     ]
    },
    {
     "name": "stderr",
     "output_type": "stream",
     "text": [
      "/home/hardyc/Documents/CiFar-2 Iterations/RotNet/utils.py:125: RuntimeWarning: invalid value encountered in long_scalars\n",
      "  correct = np.sum(pred[con>=i] == truth[con>=i])/np.sum(con>=i)\n"
     ]
    },
    {
     "name": "stdout",
     "output_type": "stream",
     "text": [
      "Iteration: 24\n",
      "\n",
      "Fit Perfect EVM\n"
     ]
    },
    {
     "name": "stderr",
     "output_type": "stream",
     "text": [
      "/home/hardyc/Documents/CiFar-2 Iterations/RotNet/utils.py:125: RuntimeWarning: invalid value encountered in long_scalars\n",
      "  correct = np.sum(pred[con>=i] == truth[con>=i])/np.sum(con>=i)\n"
     ]
    },
    {
     "name": "stdout",
     "output_type": "stream",
     "text": [
      "Iteration: 25\n",
      "\n",
      "Fit Perfect EVM\n"
     ]
    },
    {
     "name": "stderr",
     "output_type": "stream",
     "text": [
      "/home/hardyc/Documents/CiFar-2 Iterations/RotNet/utils.py:125: RuntimeWarning: invalid value encountered in long_scalars\n",
      "  correct = np.sum(pred[con>=i] == truth[con>=i])/np.sum(con>=i)\n"
     ]
    },
    {
     "name": "stdout",
     "output_type": "stream",
     "text": [
      "Iteration: 26\n",
      "\n",
      "Fit Perfect EVM\n"
     ]
    },
    {
     "name": "stderr",
     "output_type": "stream",
     "text": [
      "/home/hardyc/Documents/CiFar-2 Iterations/RotNet/utils.py:125: RuntimeWarning: invalid value encountered in long_scalars\n",
      "  correct = np.sum(pred[con>=i] == truth[con>=i])/np.sum(con>=i)\n"
     ]
    },
    {
     "name": "stdout",
     "output_type": "stream",
     "text": [
      "Iteration: 27\n",
      "\n",
      "Fit Perfect EVM\n"
     ]
    },
    {
     "name": "stderr",
     "output_type": "stream",
     "text": [
      "/home/hardyc/Documents/CiFar-2 Iterations/RotNet/utils.py:125: RuntimeWarning: invalid value encountered in long_scalars\n",
      "  correct = np.sum(pred[con>=i] == truth[con>=i])/np.sum(con>=i)\n"
     ]
    },
    {
     "name": "stdout",
     "output_type": "stream",
     "text": [
      "Iteration: 28\n",
      "\n",
      "Fit Perfect EVM\n"
     ]
    },
    {
     "name": "stderr",
     "output_type": "stream",
     "text": [
      "/home/hardyc/Documents/CiFar-2 Iterations/RotNet/utils.py:125: RuntimeWarning: invalid value encountered in long_scalars\n",
      "  correct = np.sum(pred[con>=i] == truth[con>=i])/np.sum(con>=i)\n"
     ]
    },
    {
     "name": "stdout",
     "output_type": "stream",
     "text": [
      "Iteration: 29\n",
      "\n",
      "Fit Perfect EVM\n"
     ]
    },
    {
     "name": "stderr",
     "output_type": "stream",
     "text": [
      "/home/hardyc/Documents/CiFar-2 Iterations/RotNet/utils.py:125: RuntimeWarning: invalid value encountered in long_scalars\n",
      "  correct = np.sum(pred[con>=i] == truth[con>=i])/np.sum(con>=i)\n"
     ]
    }
   ],
   "source": [
    "import pandas as pd\n",
    "##\n",
    "## Define places to store results\n",
    "##\n",
    "#imp_known_correct_all = []\n",
    "#imp_known_novel_all = []\n",
    "#imp_unknown_correct_all = []\n",
    "#imp_unknown_novel_all = []\n",
    "per_known_correct_all = []\n",
    "per_known_novel_all = []\n",
    "per_unknown_correct_all = []\n",
    "per_unknown_novel_all = []\n",
    "\n",
    "\n",
    "df = pd.DataFrame(columns=['Iteration', 'Unknown Classes', 'per_known_correct_all','per_known_novel_all','per_unknown_novel_all'])\n",
    "##\n",
    "## Begin experiments\n",
    "##\n",
    "for i in range(iterations):\n",
    "    print('Iteration: ' + str(i))\n",
    "    print()\n",
    "    \n",
    "    ##\n",
    "    ## Split the data into known and unknown classes\n",
    "    ##\n",
    "    toRemove = np.random.choice(10, num_to_remove, replace = False)                                         ## Randomly pick unknown classes\n",
    "    x_train_known, x_train_unknown, y_train_known, y_train_unknown = split_data(x_train, y_train, toRemove) ## Split train data (defined in utils.py)\n",
    "    x_test_known, x_test_unknown, y_test_known, y_test_unknown = split_data(x_test, y_test, toRemove)       ## Split test data (defined in utils.py)\n",
    "\n",
    "    ##\n",
    "    ## Train a classifier based feature extractor using only the known classes\n",
    "    ##\n",
    "    #imperfect = feature_model(10-num_to_remove, x_train_known, y_train_known, epochs = epochs, batch_size = 32, verbose = 0)\n",
    "\n",
    "    ##\n",
    "    ## Extract features with imperfect extractor\n",
    "    ##\n",
    "    #x_train_known_imp = imperfect.predict(x_train_known)\n",
    "    #x_test_known_imp = imperfect.predict(x_test_known)\n",
    "    #x_test_unknown_imp = imperfect.predict(x_test_unknown)\n",
    "\n",
    "    ##\n",
    "    ## Extract features with perfect extractor\n",
    "    ##\n",
    "    x_train_known_per = rotNet_features.predict(x_train_known)\n",
    "    x_test_known_per = rotNet_features.predict(x_test_known)\n",
    "    x_test_unknown_per = rotNet_features.predict(x_test_unknown)\n",
    "\n",
    "    ##\n",
    "    ## Fit EVMs\n",
    "    ##\n",
    "    evm_options = evm_flat.EVMOptions(tailsize = tailsize, cover_threshold = cover_threshold , dist_func = dist_func, num_to_fuse = num_to_fuse, margin_scale = margin_scale)\n",
    "    \n",
    "    #print('Fit Imperfect EVM')\n",
    "    #evm_imp = evm_flat.ExtremeValueMachine('imperfect', evm_options)\n",
    "    #evm_imp.train(x_train_known_imp, y_train_known)\n",
    "    print('Fit Perfect EVM')\n",
    "    evm_per = evm_flat.ExtremeValueMachine('perfect', evm_options)\n",
    "    evm_per.train(x_train_known_per, y_train_known)\n",
    "\n",
    "    ##\n",
    "    ## Make Predictions with EVM\n",
    "    ##\n",
    "    #imp_pred_known = evm_imp.confidence(x_test_known_imp)\n",
    "    #imp_pred_unknown = evm_imp.confidence(x_test_unknown_imp)\n",
    "    per_pred_known = evm_per.confidence(x_test_known_per)\n",
    "    per_pred_unknown = evm_per.confidence(x_test_unknown_per)\n",
    "\n",
    "    ##\n",
    "    ## Evaluate Predictions\n",
    "    ##\n",
    "    #imp_known_correct, imp_known_novel = eval(imp_pred_known, y_test_known, thresholds)           ## eval defined in utils.py\n",
    "    #imp_unknown_correct, imp_unknown_novel = eval(imp_pred_unknown, y_test_unknown, thresholds)\n",
    "    per_known_correct, per_known_novel = eval(per_pred_known, y_test_known, thresholds)\n",
    "    per_unknown_correct, per_unknown_novel = eval(per_pred_unknown, y_test_unknown, thresholds)\n",
    "    \n",
    "    ##\n",
    "    ## Store results\n",
    "    ##\n",
    "    #imp_known_correct_all.append(imp_known_correct)      ## imp_known_correct: correct classification percentage of known instances by the imperfect EVM (instances called novel not considered)\n",
    "    #imp_known_novel_all.append(imp_known_novel)          ## imp_known_novel: percentage of known instances called novel by the imperfect EVM \n",
    "    #imp_unknown_novel_all.append(imp_unknown_novel)      ## imp_unknown_novel: percentage of unknown instances called novel by the imperfect EVM\n",
    "    per_known_correct_all.append(per_known_correct)      ## per_known_correct: correct classification percentage of known instances by the perfect EVM (instances called novel not considered)\n",
    "    per_known_novel_all.append(per_known_novel)          ## per_known_novel: percentage of known instances called novel by the perfect EVM\n",
    "    per_unknown_novel_all.append(per_unknown_novel)      ## per_unknown_novel: percentage of unknown instances called novel by the perfect EVM\n",
    "    if i <= 5:\n",
    "        df = df.append({'Iteration':i, 'Unknown Classes': toRemove, 'per_known_correct_all':per_known_correct_all,'per_known_novel_all':per_known_novel_all,'per_unknown_novel_all':per_unknown_novel_all}, ignore_index=True)\n",
    "        df.to_csv(r'./rotNet_df_cf5_five_iter(s).csv', index= False,header=True)\n",
    "        df.to_csv(r'./rotNet_df_cf5.csv', index= False,header=True)\n",
    "    else:\n",
    "        df = df.append({'Iteration':i, 'Unknown Classes': toRemove,'per_known_correct_all':per_known_correct_all,'per_known_novel_all':per_known_novel_all,'per_unknown_novel_all':per_unknown_novel_all}, ignore_index=True)\n",
    "        df.to_csv(r'./rotNet_df_cf5.csv', index= False,header=True)"
   ]
  },
  {
   "cell_type": "code",
   "execution_count": 18,
   "metadata": {},
   "outputs": [
    {
     "data": {
      "image/png": "[encoded data removed]",
      "text/plain": [
       "<Figure size 1008x216 with 3 Axes>"
      ]
     },
     "metadata": {
      "needs_background": "light"
     },
     "output_type": "display_data"
    }
   ],
   "source": [
    "import matplotlib.pyplot as plt\n",
    "\n",
    "\n",
    "\n",
    "fig = plt.figure(figsize = (14, 3))\n",
    "ax1 = fig.add_subplot(131)\n",
    "ax2 = fig.add_subplot(132)\n",
    "ax3 = fig.add_subplot(133)\n",
    "\n",
    "ax1.title.set_text('Knowns: Correct Classification Rate')\n",
    "ax2.title.set_text('Knowns: False Novel Rate')\n",
    "ax3.title.set_text('Unknowns: True Novel Rate')\n",
    "\n",
    "#ax1.plot(thresholds, np.mean(imp_known_correct_all, axis = 0), label = 'Imperfect')\n",
    "ax1.plot(thresholds, np.mean(per_known_correct_all, axis = 0), label = 'Perfect')\n",
    "\n",
    "\n",
    "#ax2.plot(thresholds, np.mean(imp_known_novel_all, axis = 0), label = 'Imperfect')\n",
    "ax2.plot(thresholds, np.mean(per_known_novel_all, axis = 0), label = 'Perfect')\n",
    "\n",
    "#ax3.plot(thresholds, np.mean(imp_unknown_novel_all, axis = 0), label = 'Imperfect')\n",
    "ax3.plot(thresholds, np.mean(per_unknown_novel_all, axis = 0), label = 'Perfect')\n",
    "\n",
    "handles, labels = ax1.get_legend_handles_labels()\n",
    "fig.legend(handles, labels, loc='upper left')\n",
    "\n",
    "plt.savefig('RotNet_images_cf2_30iter.pdf')\n",
    "plt.show()"
   ]
  },
  {
   "cell_type": "code",
   "execution_count": null,
   "metadata": {},
   "outputs": [],
   "source": []
  }
 ],
 "metadata": {
  "kernelspec": {
   "display_name": "thesisEnv",
   "language": "python",
   "name": "thesisenv"
  },
  "language_info": {
   "codemirror_mode": {
    "name": "ipython",
    "version": 3
   },
   "file_extension": ".py",
   "mimetype": "text/x-python",
   "name": "python",
   "nbconvert_exporter": "python",
   "pygments_lexer": "ipython3",
   "version": "3.8.3"
  }
 },
 "nbformat": 4,
 "nbformat_minor": 4
}
