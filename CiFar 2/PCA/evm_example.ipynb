{
 "cells": [
  {
   "cell_type": "markdown",
   "metadata": {},
   "source": [
    "## Setup\n",
    "# PCA Cifar 2"
   ]
  },
  {
   "cell_type": "code",
   "execution_count": 7,
   "metadata": {},
   "outputs": [],
   "source": [
    "##\n",
    "## Restrict tensorflow to single GPU\n",
    "##\n",
    "import os \n",
    "os.environ['CUDA_DEVICE_ORDER'] = 'PCI_BUS_ID'\n",
    "os.environ['CUDA_VISIBLE_DEVICES'] = str(0)           \n",
    "## this says only use GPU 0  (can select 0-3)\n",
    "\n",
    "##\n",
    "## Import libraries\n",
    "##\n",
    "import evm_flat         ## We are using EVMs for a different project, so there are some things in here that may be confusing\n",
    "from utils import *     ## utils holds a few functions I wrote to help with the experiments in this notebook\n",
    "import numpy as np\n",
    "import tensorflow as tf\n",
    "\n",
    "##\n",
    "## Experiment Parameters\n",
    "##\n",
    "epochs = 10               ## Iterations to train CNN for feature extractors\n",
    "num_to_remove = 2           ## Number of classes to remove and make \"unknown\"\n",
    "iterations = 30              ## Number of iterations (full experiments) to run\n",
    "thresholds = [.1, .2, .3, .4, .5, .6, .7, .8, .9, 1]  ## Confidence thresholds to evaluate over\n",
    "\n",
    "##\n",
    "## EVM Parameters (good initial values, but could be further optimized)\n",
    "##\n",
    "tailsize = 10000              ## EVM tail size\n",
    "cover_threshold = 0.5      ## EVM cover threshold\n",
    "dist_func = 'cosine'     ## EVM distance function\n",
    "num_to_fuse = 4             ## EVM number to fuse\n",
    "margin_scale = 0.5          ## EVM margin scale"
   ]
  },
  {
   "cell_type": "markdown",
   "metadata": {},
   "source": [
    "## Data"
   ]
  },
  {
   "cell_type": "code",
   "execution_count": 8,
   "metadata": {},
   "outputs": [
    {
     "name": "stdout",
     "output_type": "stream",
     "text": [
      "(50000, 32, 32, 3)\n"
     ]
    }
   ],
   "source": [
    "##\n",
    "## Load CiFar10\n",
    "##\n",
    "import keras\n",
    "from keras.datasets import cifar10\n",
    "(x_train, y_train), (x_test, y_test) = cifar10.load_data()\n",
    "print(x_train.shape)\n",
    "##\n",
    "## Get data in correct shape and normalize\n",
    "##\n",
    "#x_train = x_train = np.reshape(x_train, (x_train.shape[0], x_train.shape[1], x_train.shape[2], 1))/255.0   ## Add dimension and normalize\n",
    "#x_test = x_test = np.reshape(x_test, (x_test.shape[0], x_test.shape[1], x_test.shape[2], 1))/255.0         ## Add dimension and normalize\n",
    "#y_train = tf.keras.utils.to_categorical(y_train)     ## Make one-hot\n",
    "#y_test = tf.keras.utils.to_categorical(y_test)       ## Make one-hot"
   ]
  },
  {
   "cell_type": "code",
   "execution_count": 9,
   "metadata": {},
   "outputs": [
    {
     "data": {
      "text/plain": [
       "(50000, 10)"
      ]
     },
     "execution_count": 9,
     "metadata": {},
     "output_type": "execute_result"
    }
   ],
   "source": [
    "import keras.utils\n",
    "y_train = tf.keras.utils.to_categorical(y_train) #one hot encode y vectors\n",
    "y_test = tf.keras.utils.to_categorical(y_test)\n",
    "\n",
    "y_train.shape"
   ]
  },
  {
   "cell_type": "code",
   "execution_count": 10,
   "metadata": {},
   "outputs": [
    {
     "name": "stdout",
     "output_type": "stream",
     "text": [
      "(50000, 32, 32, 3)\n"
     ]
    },
    {
     "data": {
      "text/plain": [
       "(15000, 32, 32, 3)"
      ]
     },
     "execution_count": 10,
     "metadata": {},
     "output_type": "execute_result"
    }
   ],
   "source": [
    "import random\n",
    "\n",
    "shrink_x_train = np.asarray(x_train)\n",
    "print(shrink_x_train.shape)\n",
    "x_train_for_fit_index = np.random.choice(len(shrink_x_train), size = 15000, replace = False, p = None)\n",
    "\n",
    "x_train_for_fit = shrink_x_train[x_train_for_fit_index]\n",
    "x_train_for_fit.shape"
   ]
  },
  {
   "cell_type": "markdown",
   "metadata": {},
   "source": [
    "## Create Feature Extractor With Perfect Knowledge \n",
    "\n",
    "- Feature extractor is a CNN trained using ALL of the classes\n",
    "- This is not realistic in the real world because all of the classes will not be known\n",
    "- This is a good \"optimal\" feature space to compare against\n",
    "- Goal would be to get as close to this performance as possible"
   ]
  },
  {
   "cell_type": "code",
   "execution_count": 11,
   "metadata": {},
   "outputs": [],
   "source": [
    "##\n",
    "## Perfect Knowledge feature extractor\n",
    "##\n",
    "import plotly.express as plotex\n",
    "from sklearn.decomposition import PCA\n",
    "\n",
    "\n",
    "x_train_flattened = x_train_for_fit.reshape(15000,3072) #reshaping cube arrays into a flat vector \n",
    "#perfect_pca = PCA(svd_solver = 'full') #needs to be changed potentially with fancy graph information\n",
    "perfect_pca = PCA(n_components = 128)\n",
    "perfect_pca.fit(x_train_flattened)\n",
    "\n",
    "\n",
    "exp_var_cumul = np.cumsum(perfect_pca.explained_variance_ratio_)\n",
    "\n",
    "#print(exp_var_cumul)\n",
    "#print(perfect_pca.explained_variance_ratio_)\n",
    "\n",
    "#plotex.area(\n",
    "#    x=range(1, exp_var_cumul.shape[0] + 1),\n",
    " #   y=exp_var_cumul,\n",
    "  #  labels={\"x\": \"# Components\", \"y\": \"Explained Variance\"}\n",
    "#)\n",
    "#perfect_pca_features = perfect_pca.transform(x_train_flattened) #pca.transform(x_test.reshape(y, 3072)) <--- that would be testing for EVM "
   ]
  },
  {
   "cell_type": "code",
   "execution_count": 12,
   "metadata": {},
   "outputs": [],
   "source": [
    "#samp = [[.6], [.65], [.7]]\n",
    "#pca_found = False\n",
    "#index = 0 \n",
    "\n",
    "#pca_index_list =[]\n",
    "\n",
    "#print(exp_var_cumul.dtype)\n",
    "#iter_exp_var_cumul = [exp_var_cumul]\n",
    "#print(iter_exp_var_cumul)\n",
    "#while pca_found == False:\n",
    "#    for val in iter_exp_var_cumul:\n",
    "#        for value in val:\n",
    "#            index += 1\n",
    "#            #print(value)\n",
    " #           if value > .9:\n",
    " #               pca_num = index - 1\n",
    " #               pca_index_list.append(pca_num)\n",
    "#                #pca_found = True\n",
    "#                print(pca_index_list[1])\n",
    "                \n",
    "            "
   ]
  },
  {
   "cell_type": "code",
   "execution_count": 13,
   "metadata": {},
   "outputs": [
    {
     "name": "stdout",
     "output_type": "stream",
     "text": [
      "128?\n",
      "0.9195438179768411\n"
     ]
    }
   ],
   "source": [
    "#print(exp_var_cumul.dtype)\n",
    "iter_exp_var_cumul = [exp_var_cumul]\n",
    "#print(iter_exp_var_cumul)\n",
    "index = -1\n",
    "\n",
    "for val in iter_exp_var_cumul:\n",
    "    for value in val:\n",
    "        index += 1\n",
    "        #print(value)\n",
    "        if index == 127:\n",
    "            print(\"128?\")\n",
    "            #pca_num = index - 1\n",
    "            #pca_index_list.append(pca_num)\n",
    "            #pca_found = True\n",
    "            print(value)"
   ]
  },
  {
   "cell_type": "markdown",
   "metadata": {},
   "source": [
    "## Define a set of experiments\n",
    "\n",
    "- Randomly select and remove classes from the training data\n",
    "- Split test data into known and unknown classes\n",
    "- Fit imperfect feature extraction model\n",
    "- Extract features using the perfect and imperfect extractors\n",
    "- Fit EVM using features for the perfect and imperfect\n",
    "- Evaluate performance (evaluation metrics may need to be improved, but this gives us an initial idea of performance)\n",
    "- Repeat\n"
   ]
  },
  {
   "cell_type": "code",
   "execution_count": 14,
   "metadata": {},
   "outputs": [
    {
     "name": "stdout",
     "output_type": "stream",
     "text": [
      "Iteration: 0\n",
      "\n",
      "<class 'numpy.ndarray'>\n",
      "(8000, 32, 32, 3)\n",
      "Fit Imperfect EVM\n",
      "Fit Perfect EVM\n"
     ]
    },
    {
     "name": "stderr",
     "output_type": "stream",
     "text": [
      "/home/hardyc/Documents/CiFar-2 Iterations/PCA/utils.py:129: RuntimeWarning: invalid value encountered in long_scalars\n",
      "  correct = np.sum(pred[con>=i] == truth[con>=i])/np.sum(con>=i)\n"
     ]
    },
    {
     "name": "stdout",
     "output_type": "stream",
     "text": [
      "Iteration: 1\n",
      "\n",
      "<class 'numpy.ndarray'>\n",
      "(8000, 32, 32, 3)\n",
      "Fit Imperfect EVM\n",
      "Fit Perfect EVM\n"
     ]
    },
    {
     "name": "stderr",
     "output_type": "stream",
     "text": [
      "/home/hardyc/Documents/CiFar-2 Iterations/PCA/utils.py:129: RuntimeWarning: invalid value encountered in long_scalars\n",
      "  correct = np.sum(pred[con>=i] == truth[con>=i])/np.sum(con>=i)\n"
     ]
    },
    {
     "name": "stdout",
     "output_type": "stream",
     "text": [
      "Iteration: 2\n",
      "\n",
      "<class 'numpy.ndarray'>\n",
      "(8000, 32, 32, 3)\n",
      "Fit Imperfect EVM\n",
      "Fit Perfect EVM\n"
     ]
    },
    {
     "name": "stderr",
     "output_type": "stream",
     "text": [
      "/home/hardyc/Documents/CiFar-2 Iterations/PCA/utils.py:129: RuntimeWarning: invalid value encountered in long_scalars\n",
      "  correct = np.sum(pred[con>=i] == truth[con>=i])/np.sum(con>=i)\n"
     ]
    },
    {
     "name": "stdout",
     "output_type": "stream",
     "text": [
      "Iteration: 3\n",
      "\n",
      "<class 'numpy.ndarray'>\n",
      "(8000, 32, 32, 3)\n",
      "Fit Imperfect EVM\n",
      "Fit Perfect EVM\n"
     ]
    },
    {
     "name": "stderr",
     "output_type": "stream",
     "text": [
      "/home/hardyc/Documents/CiFar-2 Iterations/PCA/utils.py:129: RuntimeWarning: invalid value encountered in long_scalars\n",
      "  correct = np.sum(pred[con>=i] == truth[con>=i])/np.sum(con>=i)\n"
     ]
    },
    {
     "name": "stdout",
     "output_type": "stream",
     "text": [
      "Iteration: 4\n",
      "\n",
      "<class 'numpy.ndarray'>\n",
      "(8000, 32, 32, 3)\n",
      "Fit Imperfect EVM\n",
      "Fit Perfect EVM\n"
     ]
    },
    {
     "name": "stderr",
     "output_type": "stream",
     "text": [
      "/home/hardyc/Documents/CiFar-2 Iterations/PCA/utils.py:129: RuntimeWarning: invalid value encountered in long_scalars\n",
      "  correct = np.sum(pred[con>=i] == truth[con>=i])/np.sum(con>=i)\n"
     ]
    },
    {
     "name": "stdout",
     "output_type": "stream",
     "text": [
      "Iteration: 5\n",
      "\n",
      "<class 'numpy.ndarray'>\n",
      "(8000, 32, 32, 3)\n",
      "Fit Imperfect EVM\n",
      "Fit Perfect EVM\n"
     ]
    },
    {
     "name": "stderr",
     "output_type": "stream",
     "text": [
      "/home/hardyc/Documents/CiFar-2 Iterations/PCA/utils.py:129: RuntimeWarning: invalid value encountered in long_scalars\n",
      "  correct = np.sum(pred[con>=i] == truth[con>=i])/np.sum(con>=i)\n"
     ]
    },
    {
     "name": "stdout",
     "output_type": "stream",
     "text": [
      "Iteration: 6\n",
      "\n",
      "<class 'numpy.ndarray'>\n",
      "(8000, 32, 32, 3)\n",
      "Fit Imperfect EVM\n",
      "Fit Perfect EVM\n"
     ]
    },
    {
     "name": "stderr",
     "output_type": "stream",
     "text": [
      "/home/hardyc/Documents/CiFar-2 Iterations/PCA/utils.py:129: RuntimeWarning: invalid value encountered in long_scalars\n",
      "  correct = np.sum(pred[con>=i] == truth[con>=i])/np.sum(con>=i)\n"
     ]
    },
    {
     "name": "stdout",
     "output_type": "stream",
     "text": [
      "Iteration: 7\n",
      "\n",
      "<class 'numpy.ndarray'>\n",
      "(8000, 32, 32, 3)\n",
      "Fit Imperfect EVM\n",
      "Fit Perfect EVM\n"
     ]
    },
    {
     "name": "stderr",
     "output_type": "stream",
     "text": [
      "/home/hardyc/Documents/CiFar-2 Iterations/PCA/utils.py:129: RuntimeWarning: invalid value encountered in long_scalars\n",
      "  correct = np.sum(pred[con>=i] == truth[con>=i])/np.sum(con>=i)\n"
     ]
    },
    {
     "name": "stdout",
     "output_type": "stream",
     "text": [
      "Iteration: 8\n",
      "\n",
      "<class 'numpy.ndarray'>\n",
      "(8000, 32, 32, 3)\n",
      "Fit Imperfect EVM\n",
      "Fit Perfect EVM\n"
     ]
    },
    {
     "name": "stderr",
     "output_type": "stream",
     "text": [
      "/home/hardyc/Documents/CiFar-2 Iterations/PCA/utils.py:129: RuntimeWarning: invalid value encountered in long_scalars\n",
      "  correct = np.sum(pred[con>=i] == truth[con>=i])/np.sum(con>=i)\n"
     ]
    },
    {
     "name": "stdout",
     "output_type": "stream",
     "text": [
      "Iteration: 9\n",
      "\n",
      "<class 'numpy.ndarray'>\n",
      "(8000, 32, 32, 3)\n",
      "Fit Imperfect EVM\n",
      "Fit Perfect EVM\n"
     ]
    },
    {
     "name": "stderr",
     "output_type": "stream",
     "text": [
      "/home/hardyc/Documents/CiFar-2 Iterations/PCA/utils.py:129: RuntimeWarning: invalid value encountered in long_scalars\n",
      "  correct = np.sum(pred[con>=i] == truth[con>=i])/np.sum(con>=i)\n"
     ]
    },
    {
     "name": "stdout",
     "output_type": "stream",
     "text": [
      "Iteration: 10\n",
      "\n",
      "<class 'numpy.ndarray'>\n",
      "(8000, 32, 32, 3)\n",
      "Fit Imperfect EVM\n",
      "Fit Perfect EVM\n"
     ]
    },
    {
     "name": "stderr",
     "output_type": "stream",
     "text": [
      "/home/hardyc/Documents/CiFar-2 Iterations/PCA/utils.py:129: RuntimeWarning: invalid value encountered in long_scalars\n",
      "  correct = np.sum(pred[con>=i] == truth[con>=i])/np.sum(con>=i)\n"
     ]
    },
    {
     "name": "stdout",
     "output_type": "stream",
     "text": [
      "Iteration: 11\n",
      "\n",
      "<class 'numpy.ndarray'>\n",
      "(8000, 32, 32, 3)\n",
      "Fit Imperfect EVM\n",
      "Fit Perfect EVM\n"
     ]
    },
    {
     "name": "stderr",
     "output_type": "stream",
     "text": [
      "/home/hardyc/Documents/CiFar-2 Iterations/PCA/utils.py:129: RuntimeWarning: invalid value encountered in long_scalars\n",
      "  correct = np.sum(pred[con>=i] == truth[con>=i])/np.sum(con>=i)\n"
     ]
    },
    {
     "name": "stdout",
     "output_type": "stream",
     "text": [
      "Iteration: 12\n",
      "\n",
      "<class 'numpy.ndarray'>\n",
      "(8000, 32, 32, 3)\n",
      "Fit Imperfect EVM\n",
      "Fit Perfect EVM\n"
     ]
    },
    {
     "name": "stderr",
     "output_type": "stream",
     "text": [
      "/home/hardyc/Documents/CiFar-2 Iterations/PCA/utils.py:129: RuntimeWarning: invalid value encountered in long_scalars\n",
      "  correct = np.sum(pred[con>=i] == truth[con>=i])/np.sum(con>=i)\n"
     ]
    },
    {
     "name": "stdout",
     "output_type": "stream",
     "text": [
      "Iteration: 13\n",
      "\n",
      "<class 'numpy.ndarray'>\n",
      "(8000, 32, 32, 3)\n",
      "Fit Imperfect EVM\n",
      "Fit Perfect EVM\n"
     ]
    },
    {
     "name": "stderr",
     "output_type": "stream",
     "text": [
      "/home/hardyc/Documents/CiFar-2 Iterations/PCA/utils.py:129: RuntimeWarning: invalid value encountered in long_scalars\n",
      "  correct = np.sum(pred[con>=i] == truth[con>=i])/np.sum(con>=i)\n"
     ]
    },
    {
     "name": "stdout",
     "output_type": "stream",
     "text": [
      "Iteration: 14\n",
      "\n",
      "<class 'numpy.ndarray'>\n",
      "(8000, 32, 32, 3)\n",
      "Fit Imperfect EVM\n",
      "Fit Perfect EVM\n"
     ]
    },
    {
     "name": "stderr",
     "output_type": "stream",
     "text": [
      "/home/hardyc/Documents/CiFar-2 Iterations/PCA/utils.py:129: RuntimeWarning: invalid value encountered in long_scalars\n",
      "  correct = np.sum(pred[con>=i] == truth[con>=i])/np.sum(con>=i)\n"
     ]
    },
    {
     "name": "stdout",
     "output_type": "stream",
     "text": [
      "Iteration: 15\n",
      "\n",
      "<class 'numpy.ndarray'>\n",
      "(8000, 32, 32, 3)\n",
      "Fit Imperfect EVM\n",
      "Fit Perfect EVM\n"
     ]
    },
    {
     "name": "stderr",
     "output_type": "stream",
     "text": [
      "/home/hardyc/Documents/CiFar-2 Iterations/PCA/utils.py:129: RuntimeWarning: invalid value encountered in long_scalars\n",
      "  correct = np.sum(pred[con>=i] == truth[con>=i])/np.sum(con>=i)\n"
     ]
    },
    {
     "name": "stdout",
     "output_type": "stream",
     "text": [
      "Iteration: 16\n",
      "\n",
      "<class 'numpy.ndarray'>\n",
      "(8000, 32, 32, 3)\n",
      "Fit Imperfect EVM\n",
      "Fit Perfect EVM\n"
     ]
    },
    {
     "name": "stderr",
     "output_type": "stream",
     "text": [
      "/home/hardyc/Documents/CiFar-2 Iterations/PCA/utils.py:129: RuntimeWarning: invalid value encountered in long_scalars\n",
      "  correct = np.sum(pred[con>=i] == truth[con>=i])/np.sum(con>=i)\n"
     ]
    },
    {
     "name": "stdout",
     "output_type": "stream",
     "text": [
      "Iteration: 17\n",
      "\n",
      "<class 'numpy.ndarray'>\n",
      "(8000, 32, 32, 3)\n",
      "Fit Imperfect EVM\n",
      "Fit Perfect EVM\n"
     ]
    },
    {
     "name": "stderr",
     "output_type": "stream",
     "text": [
      "/home/hardyc/Documents/CiFar-2 Iterations/PCA/utils.py:129: RuntimeWarning: invalid value encountered in long_scalars\n",
      "  correct = np.sum(pred[con>=i] == truth[con>=i])/np.sum(con>=i)\n"
     ]
    },
    {
     "name": "stdout",
     "output_type": "stream",
     "text": [
      "Iteration: 18\n",
      "\n",
      "<class 'numpy.ndarray'>\n",
      "(8000, 32, 32, 3)\n",
      "Fit Imperfect EVM\n",
      "Fit Perfect EVM\n"
     ]
    },
    {
     "name": "stderr",
     "output_type": "stream",
     "text": [
      "/home/hardyc/Documents/CiFar-2 Iterations/PCA/utils.py:129: RuntimeWarning: invalid value encountered in long_scalars\n",
      "  correct = np.sum(pred[con>=i] == truth[con>=i])/np.sum(con>=i)\n"
     ]
    },
    {
     "name": "stdout",
     "output_type": "stream",
     "text": [
      "Iteration: 19\n",
      "\n",
      "<class 'numpy.ndarray'>\n",
      "(8000, 32, 32, 3)\n",
      "Fit Imperfect EVM\n",
      "Fit Perfect EVM\n"
     ]
    },
    {
     "name": "stderr",
     "output_type": "stream",
     "text": [
      "/home/hardyc/Documents/CiFar-2 Iterations/PCA/utils.py:129: RuntimeWarning: invalid value encountered in long_scalars\n",
      "  correct = np.sum(pred[con>=i] == truth[con>=i])/np.sum(con>=i)\n"
     ]
    },
    {
     "name": "stdout",
     "output_type": "stream",
     "text": [
      "Iteration: 20\n",
      "\n",
      "<class 'numpy.ndarray'>\n",
      "(8000, 32, 32, 3)\n",
      "Fit Imperfect EVM\n",
      "Fit Perfect EVM\n"
     ]
    },
    {
     "name": "stderr",
     "output_type": "stream",
     "text": [
      "/home/hardyc/Documents/CiFar-2 Iterations/PCA/utils.py:129: RuntimeWarning: invalid value encountered in long_scalars\n",
      "  correct = np.sum(pred[con>=i] == truth[con>=i])/np.sum(con>=i)\n"
     ]
    },
    {
     "name": "stdout",
     "output_type": "stream",
     "text": [
      "Iteration: 21\n",
      "\n",
      "<class 'numpy.ndarray'>\n",
      "(8000, 32, 32, 3)\n",
      "Fit Imperfect EVM\n",
      "Fit Perfect EVM\n"
     ]
    },
    {
     "name": "stderr",
     "output_type": "stream",
     "text": [
      "/home/hardyc/Documents/CiFar-2 Iterations/PCA/utils.py:129: RuntimeWarning: invalid value encountered in long_scalars\n",
      "  correct = np.sum(pred[con>=i] == truth[con>=i])/np.sum(con>=i)\n"
     ]
    },
    {
     "name": "stdout",
     "output_type": "stream",
     "text": [
      "Iteration: 22\n",
      "\n",
      "<class 'numpy.ndarray'>\n",
      "(8000, 32, 32, 3)\n",
      "Fit Imperfect EVM\n",
      "Fit Perfect EVM\n"
     ]
    },
    {
     "name": "stderr",
     "output_type": "stream",
     "text": [
      "/home/hardyc/Documents/CiFar-2 Iterations/PCA/utils.py:129: RuntimeWarning: invalid value encountered in long_scalars\n",
      "  correct = np.sum(pred[con>=i] == truth[con>=i])/np.sum(con>=i)\n"
     ]
    },
    {
     "name": "stdout",
     "output_type": "stream",
     "text": [
      "Iteration: 23\n",
      "\n",
      "<class 'numpy.ndarray'>\n",
      "(8000, 32, 32, 3)\n",
      "Fit Imperfect EVM\n",
      "Fit Perfect EVM\n"
     ]
    },
    {
     "name": "stderr",
     "output_type": "stream",
     "text": [
      "/home/hardyc/Documents/CiFar-2 Iterations/PCA/utils.py:129: RuntimeWarning: invalid value encountered in long_scalars\n",
      "  correct = np.sum(pred[con>=i] == truth[con>=i])/np.sum(con>=i)\n"
     ]
    },
    {
     "name": "stdout",
     "output_type": "stream",
     "text": [
      "Iteration: 24\n",
      "\n",
      "<class 'numpy.ndarray'>\n",
      "(8000, 32, 32, 3)\n",
      "Fit Imperfect EVM\n",
      "Fit Perfect EVM\n"
     ]
    },
    {
     "name": "stderr",
     "output_type": "stream",
     "text": [
      "/home/hardyc/Documents/CiFar-2 Iterations/PCA/utils.py:129: RuntimeWarning: invalid value encountered in long_scalars\n",
      "  correct = np.sum(pred[con>=i] == truth[con>=i])/np.sum(con>=i)\n"
     ]
    },
    {
     "name": "stdout",
     "output_type": "stream",
     "text": [
      "Iteration: 25\n",
      "\n",
      "<class 'numpy.ndarray'>\n",
      "(8000, 32, 32, 3)\n",
      "Fit Imperfect EVM\n",
      "Fit Perfect EVM\n"
     ]
    },
    {
     "name": "stderr",
     "output_type": "stream",
     "text": [
      "/home/hardyc/Documents/CiFar-2 Iterations/PCA/utils.py:129: RuntimeWarning: invalid value encountered in long_scalars\n",
      "  correct = np.sum(pred[con>=i] == truth[con>=i])/np.sum(con>=i)\n"
     ]
    },
    {
     "name": "stdout",
     "output_type": "stream",
     "text": [
      "Iteration: 26\n",
      "\n",
      "<class 'numpy.ndarray'>\n",
      "(8000, 32, 32, 3)\n",
      "Fit Imperfect EVM\n",
      "Fit Perfect EVM\n"
     ]
    },
    {
     "name": "stderr",
     "output_type": "stream",
     "text": [
      "/home/hardyc/Documents/CiFar-2 Iterations/PCA/utils.py:129: RuntimeWarning: invalid value encountered in long_scalars\n",
      "  correct = np.sum(pred[con>=i] == truth[con>=i])/np.sum(con>=i)\n"
     ]
    },
    {
     "name": "stdout",
     "output_type": "stream",
     "text": [
      "Iteration: 27\n",
      "\n",
      "<class 'numpy.ndarray'>\n",
      "(8000, 32, 32, 3)\n",
      "Fit Imperfect EVM\n",
      "Fit Perfect EVM\n"
     ]
    },
    {
     "name": "stderr",
     "output_type": "stream",
     "text": [
      "/home/hardyc/Documents/CiFar-2 Iterations/PCA/utils.py:129: RuntimeWarning: invalid value encountered in long_scalars\n",
      "  correct = np.sum(pred[con>=i] == truth[con>=i])/np.sum(con>=i)\n"
     ]
    },
    {
     "name": "stdout",
     "output_type": "stream",
     "text": [
      "Iteration: 28\n",
      "\n",
      "<class 'numpy.ndarray'>\n",
      "(8000, 32, 32, 3)\n",
      "Fit Imperfect EVM\n",
      "Fit Perfect EVM\n"
     ]
    },
    {
     "name": "stderr",
     "output_type": "stream",
     "text": [
      "/home/hardyc/Documents/CiFar-2 Iterations/PCA/utils.py:129: RuntimeWarning: invalid value encountered in long_scalars\n",
      "  correct = np.sum(pred[con>=i] == truth[con>=i])/np.sum(con>=i)\n"
     ]
    },
    {
     "name": "stdout",
     "output_type": "stream",
     "text": [
      "Iteration: 29\n",
      "\n",
      "<class 'numpy.ndarray'>\n",
      "(8000, 32, 32, 3)\n",
      "Fit Imperfect EVM\n",
      "Fit Perfect EVM\n"
     ]
    },
    {
     "name": "stderr",
     "output_type": "stream",
     "text": [
      "/home/hardyc/Documents/CiFar-2 Iterations/PCA/utils.py:129: RuntimeWarning: invalid value encountered in long_scalars\n",
      "  correct = np.sum(pred[con>=i] == truth[con>=i])/np.sum(con>=i)\n"
     ]
    }
   ],
   "source": [
    "##\n",
    "import pandas as pd\n",
    "## Define places to store results\n",
    "##\n",
    "imp_known_correct_all = []\n",
    "imp_known_novel_all = []\n",
    "imp_unknown_correct_all = []\n",
    "imp_unknown_novel_all = []\n",
    "per_known_correct_all = []\n",
    "per_known_novel_all = []\n",
    "per_unknown_correct_all = []\n",
    "per_unknown_novel_all = []\n",
    "\n",
    "df = pd.DataFrame(columns=['Iteration', 'Unknown Classes', 'imp_known_correct_all', 'imp_known_novel_all', 'imp_unknown_novel_all','per_known_correct_all','per_known_novel_all','per_unknown_novel_all'])\n",
    "\n",
    "##\n",
    "## Begin experiments\n",
    "## imperfect cnn starts here\n",
    "for i in range(iterations):\n",
    "    print('Iteration: ' + str(i))\n",
    "    print()\n",
    "    \n",
    "    ##\n",
    "    ## Split the data into known and unknown classes\n",
    "    ##\n",
    "    toRemove = np.random.choice(10, num_to_remove, replace = False)                                         ## Randomly pick unknown classes\n",
    "    x_train_known, x_train_unknown, y_train_known, y_train_unknown = split_data(x_train, y_train, toRemove) ## Split train data (defined in utils.py)\n",
    "    x_test_known, x_test_unknown, y_test_known, y_test_unknown = split_data(x_test, y_test, toRemove)       ## Split test data (defined in utils.py)\n",
    "   \n",
    "    ##\n",
    "    #df = df.append({'Iteration':i, 'Unknown Classes': toRemove}, ignore_index=True)\n",
    "    #df.to_csv(r'./pca_df.csv', index=False,header=True)\n",
    "    ## Train a classifier based feature extractor using only the known classes\n",
    "    ##\n",
    "   \n",
    "    x_train_known=np.squeeze(x_train_known)\n",
    "    \n",
    "    #imperfect = feature_model(10-num_to_remove, x_train_known, y_train_known, epochs = epochs, batch_size = 32, verbose = 0)\n",
    "    x_train_known_flattened = x_train_known.reshape(40000,3072) #reshaping cube arrays into a flat vector \n",
    "    imperfect_pca = PCA(n_components = 128) #needs to be changed potentially with fancy graph information\n",
    "    imperfect_pca.fit(x_train_known_flattened)\n",
    "    \n",
    "    print(type(x_test_known))\n",
    "    print(x_test_known.shape)\n",
    "    x_test_known_flattened = x_test_known.reshape(8000,3072)\n",
    "    x_test_unknown_flattened = x_test_unknown.reshape(2000,3072)\n",
    "    #imperfect_pca_features = imperfect_pca.transform(x_train_flattened)\n",
    "    ##\n",
    "    ## Extract features with imperfect extractor\n",
    "    ##\n",
    "  \n",
    "    x_train_known_imp = imperfect_pca.transform(x_train_known_flattened) #train EVM\n",
    "    x_test_known_imp = imperfect_pca.transform(x_test_known_flattened) #Test EVM\n",
    "    x_test_unknown_imp = imperfect_pca.transform(x_test_unknown_flattened) #Experimental test EVM\n",
    "\n",
    "    ##\n",
    "    x_train_known_imp = np.squeeze(x_train_known_imp)\n",
    "    x_test_known_imp = np.squeeze(x_test_known_imp)\n",
    "    x_test_unknown_imp = np.squeeze(x_test_unknown_imp)\n",
    "    ## Extract features with perfect extractor\n",
    "    ##\n",
    "    x_train_known_per = perfect_pca.transform(x_train_known_flattened) #same but this time -- perfect\n",
    "    x_test_known_per = perfect_pca.transform(x_test_known_flattened)\n",
    "    x_test_unknown_per = perfect_pca.transform(x_test_unknown_flattened)\n",
    "\n",
    "    ##\n",
    "    x_train_known_per = np.squeeze(x_train_known_per)\n",
    "    x_test_known_per = np.squeeze(x_test_known_per)\n",
    "    x_test_unknown_per = np.squeeze(x_test_unknown_per)\n",
    "    ## Fit EVMs\n",
    "    ##\n",
    "    evm_options = evm_flat.EVMOptions(tailsize = tailsize, cover_threshold = cover_threshold , dist_func = dist_func, num_to_fuse = num_to_fuse, margin_scale = margin_scale)\n",
    "    \n",
    "    print('Fit Imperfect EVM')\n",
    "    evm_imp = evm_flat.ExtremeValueMachine('imperfect', evm_options)\n",
    "    evm_imp.train(x_train_known_imp, y_train_known)\n",
    "    print('Fit Perfect EVM')\n",
    "    evm_per = evm_flat.ExtremeValueMachine('perfect', evm_options)\n",
    "    evm_per.train(x_train_known_per, y_train_known)\n",
    "\n",
    "    ##\n",
    "    ## Make Predictions with EVM\n",
    "    ##\n",
    "    imp_pred_known = evm_imp.confidence(x_test_known_imp)\n",
    "    imp_pred_unknown = evm_imp.confidence(x_test_unknown_imp)\n",
    "    per_pred_known = evm_per.confidence(x_test_known_per)\n",
    "    per_pred_unknown = evm_per.confidence(x_test_unknown_per)\n",
    "\n",
    "    ##\n",
    "    ## Evaluate Predictions\n",
    "    ##\n",
    "    imp_known_correct, imp_known_novel = eval(imp_pred_known, y_test_known, thresholds)           ## eval defined in utils.py\n",
    "    imp_unknown_correct, imp_unknown_novel = eval(imp_pred_unknown, y_test_unknown, thresholds)\n",
    "    per_known_correct, per_known_novel = eval(per_pred_known, y_test_known, thresholds)\n",
    "    per_unknown_correct, per_unknown_novel = eval(per_pred_unknown, y_test_unknown, thresholds)\n",
    "    \n",
    "    ##\n",
    "    ## Store results\n",
    "    ##\n",
    "    imp_known_correct_all.append(imp_known_correct)      ## imp_known_correct: correct classification percentage of known instances by the imperfect EVM (instances called novel not considered)\n",
    "    imp_known_novel_all.append(imp_known_novel)          ## imp_known_novel: percentage of known instances called novel by the imperfect EVM \n",
    "    imp_unknown_novel_all.append(imp_unknown_novel)      ## imp_unknown_novel: percentage of unknown instances called novel by the imperfect EVM\n",
    "    per_known_correct_all.append(per_known_correct)      ## per_known_correct: correct classification percentage of known instances by the perfect EVM (instances called novel not considered)\n",
    "    per_known_novel_all.append(per_known_novel)          ## per_known_novel: percentage of known instances called novel by the perfect EVM\n",
    "    per_unknown_novel_all.append(per_unknown_novel)  \n",
    "    ## per_unknown_novel: percentage of unknown instances called novel by the perfect EVM\n",
    "    if i <= 5:\n",
    "        df = df.append({'Iteration':i, 'Unknown Classes': toRemove, 'imp_known_correct_all':imp_known_correct_all, 'imp_known_novel_all':imp_known_novel_all, 'imp_unknown_novel_all':imp_unknown_novel_all,'per_known_correct_all':per_known_correct_all,'per_known_novel_all':per_known_novel_all,'per_unknown_novel_all':per_unknown_novel_all}, ignore_index=True)\n",
    "        df.to_csv(r'./pca_df_cf2_five_iter(s).csv', index= False,header=True)\n",
    "        df.to_csv(r'./pca_df_cf2.csv', index= False,header=True)\n",
    "    else:\n",
    "        df = df.append({'Iteration':i, 'Unknown Classes': toRemove, 'imp_known_correct_all':imp_known_correct_all, 'imp_known_novel_all':imp_known_novel_all, 'imp_unknown_novel_all':imp_unknown_novel_all,'per_known_correct_all':per_known_correct_all,'per_known_novel_all':per_known_novel_all,'per_unknown_novel_all':per_unknown_novel_all}, ignore_index=True)\n",
    "        df.to_csv(r'./pca_df_cf2.csv', index= False,header=True)"
   ]
  },
  {
   "cell_type": "code",
   "execution_count": 15,
   "metadata": {},
   "outputs": [
    {
     "name": "stdout",
     "output_type": "stream",
     "text": [
      "[[-1553.21132564   676.71681901   333.03269596 ...    42.52398858\n",
      "      6.29984132   -87.51542535]\n",
      " [-2583.09087933    19.8674281    225.57860393 ...    11.73349235\n",
      "     60.85574966   -42.57760927]\n",
      " [ -675.57889005 -1269.35096957   256.28889873 ...   -35.96664031\n",
      "   -116.91013144   102.80005467]\n",
      " ...\n",
      " [ 1610.04589407   454.03169702 -1987.85943614 ...    35.16329662\n",
      "    -16.6275346     -3.48211996]\n",
      " [ 2934.55345419 -1138.6345814   1266.20362666 ...  -102.78493932\n",
      "     82.62370653  -104.10092979]\n",
      " [ 1080.10756559  -298.50405214 -1139.98707855 ...    63.17842031\n",
      "    177.6760292     59.59552033]]\n",
      "[[ -803.71741223   129.1131439    233.69695926 ...   -10.55811148\n",
      "    109.24808799  -228.55423057]\n",
      " [ 2499.12949662 -2700.90916055   973.22845989 ...     5.97557548\n",
      "    -41.8529638    113.28400993]\n",
      " [ 1166.52157917 -2398.56825689   905.93445928 ...   -45.41016584\n",
      "     47.48998386  -136.4515274 ]\n",
      " ...\n",
      " [ -778.22007854  2015.90482352   -79.45897523 ...   -12.97701661\n",
      "    -61.71436144   -47.8597143 ]\n",
      " [-3815.41311546   730.50558585    45.64138402 ...   -29.13188449\n",
      "     51.53071112     6.31431087]\n",
      " [-1408.36014016   458.58271191   933.84470686 ...   -16.91943983\n",
      "    -77.74531339    45.83725025]]\n",
      "[[ 1189.16232841 -1627.49046263  -450.87736847 ...   118.20986441\n",
      "     13.66958968    23.44224114]\n",
      " [-3068.76248023  -923.74167822  1584.43020142 ...   203.11626668\n",
      "     26.63570923   311.94817292]\n",
      " [ -239.12452374 -1084.87223115  -344.72316076 ...   164.16698621\n",
      "      3.85462039   -22.3630115 ]\n",
      " ...\n",
      " [ -178.47029707  1634.06511793   -32.8802266  ...    -7.72019829\n",
      "    111.49702602    28.29439642]\n",
      " [  191.74351905   326.37417862  -783.80231999 ...    48.09741144\n",
      "    289.18168554   -61.70216522]\n",
      " [ -419.00634024  -516.60664911  -609.85685648 ...  -111.88488007\n",
      "     41.50892448   -73.6290779 ]]\n"
     ]
    }
   ],
   "source": [
    "print(x_train_known_imp)\n",
    "print(x_test_known_imp)\n",
    "print(x_test_unknown_imp)"
   ]
  },
  {
   "cell_type": "code",
   "execution_count": 16,
   "metadata": {},
   "outputs": [
    {
     "name": "stdout",
     "output_type": "stream",
     "text": [
      "[[0.00213828 0.01775244 0.00622788 ... 0.01430279 0.02287568 0.00240041]\n",
      " [0.67726545 0.65236101 0.38564239 ... 0.4339457  0.15142565 0.88759286]\n",
      " [0.85956146 0.87459701 0.48621339 ... 0.51424237 0.18779166 0.94658206]\n",
      " ...\n",
      " [0.19402078 0.15799934 0.31065701 ... 0.68068752 0.49204099 0.17611605]\n",
      " [0.30467843 0.26178151 0.80849548 ... 0.83888228 0.59851361 0.55632857]\n",
      " [0.00393313 0.01274029 0.01040802 ... 0.02824672 0.03054563 0.00670591]]\n",
      "[[0.14363168 0.29404761 0.03828411 ... 0.09349876 0.03691057 0.32804827]\n",
      " [0.44618465 0.47070194 0.22333826 ... 0.28741806 0.22973413 0.19482977]\n",
      " [0.02167163 0.06432187 0.04187259 ... 0.01141275 0.00503492 0.01493135]\n",
      " ...\n",
      " [0.11167146 0.05440264 0.52611269 ... 0.3335187  0.26333587 0.08890472]\n",
      " [0.12433702 0.03470697 0.17339911 ... 0.16676119 0.01812892 0.01355151]\n",
      " [0.05197676 0.04073403 0.09989175 ... 0.0223288  0.03251308 0.03392923]]\n",
      "[[0.00314196 0.01979459 0.00764705 ... 0.01552775 0.0300327  0.00315428]\n",
      " [0.71181737 0.59679225 0.43166003 ... 0.4315118  0.14250593 0.8708804 ]\n",
      " [0.88415221 0.86166905 0.46723249 ... 0.50991748 0.17617708 0.96481768]\n",
      " ...\n",
      " [0.15037966 0.30554194 0.39775046 ... 0.7057678  0.50433421 0.15821005]\n",
      " [0.31262718 0.2560651  0.79646585 ... 0.89112572 0.65700818 0.55516593]\n",
      " [0.00482215 0.01500212 0.01271926 ... 0.05577775 0.03405238 0.00716992]]\n",
      "[[0.12095429 0.2856345  0.029981   ... 0.08553588 0.03111322 0.3112172 ]\n",
      " [0.45909125 0.47532744 0.25641183 ... 0.35088042 0.28429758 0.19552831]\n",
      " [0.02803851 0.06315928 0.0429323  ... 0.01046702 0.00486454 0.01838807]\n",
      " ...\n",
      " [0.12201914 0.06265639 0.45494305 ... 0.34070172 0.20958693 0.09662099]\n",
      " [0.13052987 0.03815791 0.16854424 ... 0.14937837 0.0220137  0.01461184]\n",
      " [0.04303146 0.02784751 0.09414122 ... 0.01842503 0.02872685 0.03265053]]\n"
     ]
    }
   ],
   "source": [
    "print(imp_pred_known)\n",
    "print(imp_pred_unknown)\n",
    "print(per_pred_known)\n",
    "print(per_pred_unknown)"
   ]
  },
  {
   "cell_type": "code",
   "execution_count": 17,
   "metadata": {},
   "outputs": [
    {
     "name": "stdout",
     "output_type": "stream",
     "text": [
      "[[0.49047292666209735, 0.5047706986765158, 0.5176429075511644, 0.5286064568859828, 0.5422982885085574, 0.5576241134751773, 0.5875, 0.6195358877495952, 0.6607319485657764, nan], [0.4845290251916758, 0.49984591679506934, 0.5125176304654443, 0.5230894973436861, 0.5384427629973151, 0.5564420803782506, 0.583710407239819, 0.6167115902964959, 0.6718446601941748, nan], [0.48658951667801226, 0.4970269858210093, 0.5119860017497813, 0.5226120462380855, 0.5365087040618955, 0.5546737213403881, 0.5688073394495413, 0.5965971459934138, 0.6487309644670051, nan], [0.48459422283356257, 0.49814126394052044, 0.510702281974173, 0.5217838060008221, 0.5330246161345357, 0.5463154779520568, 0.5703305149884704, 0.5884594447468698, 0.6111111111111112, nan], [0.4825279825279825, 0.4931108389467238, 0.5067484662576687, 0.5148979591836734, 0.5289094901195414, 0.5413223140495868, 0.558756633813495, 0.5918475383800953, 0.6364494806421152, nan], [0.5295318454001089, 0.5404953654459809, 0.5526992287917738, 0.5620452310717797, 0.5763455763455764, 0.5869746729752296, 0.6050508593475973, 0.6303911735205617, 0.6791393826005613, nan], [0.5293556736139491, 0.5407946618137701, 0.5558035714285714, 0.5655416012558869, 0.5827387802071347, 0.59581589958159, 0.612023767913317, 0.6461461461461462, 0.6967213114754098, nan], [0.5115900772671818, 0.5233856366928183, 0.5334695963208993, 0.544437904649794, 0.558993304086816, 0.5725062866722548, 0.5874645892351275, 0.6130831643002028, 0.648854961832061, nan], [0.48765264586160106, 0.5003785011355034, 0.5076687116564417, 0.5161416552533751, 0.5302090512290375, 0.5412894375857339, 0.5588637919233401, 0.5857212238950947, 0.6238938053097345, nan], [0.48319041785762895, 0.49825731171389603, 0.5100648242920505, 0.5173489278752437, 0.5345063985374772, 0.5485370522286027, 0.576672384219554, 0.6030977734753146, 0.630755864465682, nan], [0.5057815263229493, 0.5191605839416058, 0.5297241733767346, 0.5403556771545828, 0.5497262773722628, 0.5627044711014176, 0.5783339046966061, 0.5988483685220729, 0.6256781193490054, nan], [0.5129111171513998, 0.5229703268564543, 0.5337837837837838, 0.5427309391204148, 0.5572881355932203, 0.5752308527973927, 0.5889232886136911, 0.6248766041461007, 0.6794871794871795, nan], [0.4767995645666077, 0.4926347760060744, 0.5063247863247863, 0.5149514563106796, 0.5325591985428051, 0.5533133351513498, 0.5738890802617982, 0.6099463676255485, 0.6358078602620088, nan], [0.47668821345069456, 0.4903047091412742, 0.505588543485854, 0.5173729664591283, 0.5302922309337135, 0.5419760137064534, 0.5608058608058608, 0.5901041666666667, 0.6304147465437788, nan], [0.5142385472554685, 0.5276405188387894, 0.5415929203539823, 0.5484792814860175, 0.5585195866378274, 0.5678976446641466, 0.58808385435822, 0.6140617096611026, 0.6427931960608774, nan], [0.5058919138561561, 0.5170599729445363, 0.5287824758023434, 0.5415769908041479, 0.5559666975023126, 0.5684950773558368, 0.577186038143217, 0.6072708653353814, 0.6657060518731989, nan], [0.47768776603048196, 0.49360850146311414, 0.5067225423432862, 0.5189797148021691, 0.5341288782816229, 0.5423825887743413, 0.5650584795321637, 0.5969838793551742, 0.6318681318681318, nan], [0.5109439124487004, 0.5251887228470189, 0.5374340949033392, 0.5476817169467504, 0.5610402118950156, 0.5744365361803084, 0.5920245398773006, 0.6281267370761534, 0.6840458811261731, nan], [0.48412698412698413, 0.5002310892004314, 0.5141950273320403, 0.5233055159780176, 0.5363372093023255, 0.5441685912240185, 0.5646283412669352, 0.5830753353973168, 0.6320224719101124, nan], [0.5010216591744994, 0.515459230069718, 0.5294617082696553, 0.5404304828388597, 0.5516463689670726, 0.5667655786350149, 0.5882554945054945, 0.6115459882583171, 0.6357012750455373, nan], [0.4856095574260114, 0.4995483288166215, 0.5099460552933244, 0.5234254992319508, 0.5368991198375085, 0.5506974248927039, 0.5658159838817999, 0.5930451127819549, 0.6295652173913043, nan], [0.48947368421052634, 0.5024815761768687, 0.5143731927198503, 0.5237816764132553, 0.5346648301193756, 0.5489443378119002, 0.5652787579393084, 0.5893294175232501, 0.626991565135895, nan], [0.4913640690874473, 0.5044461190655615, 0.5153976311336718, 0.526416906820365, 0.5398689857691439, 0.5544554455445545, 0.5757372654155496, 0.6020843202273803, 0.6462585034013606, nan], [0.47549958937859294, 0.49146022464994615, 0.5032633621449991, 0.5127472975729146, 0.5268480616421863, 0.5329117562517965, 0.554945054945055, 0.5766312594840668, 0.6007428040854225, nan], [0.5178838569291445, 0.5292690324537458, 0.5395499488578247, 0.5493900039354584, 0.5626598465473146, 0.5760808534531162, 0.5998578535891969, 0.6328282828282829, 0.6594594594594595, nan], [0.4827914569446334, 0.49727437916414297, 0.5103989089669281, 0.519533527696793, 0.5363511659807956, 0.556500274273176, 0.5775862068965517, 0.609375, 0.6564685314685315, nan], [0.5234524134169621, 0.5334249084249084, 0.5465635738831615, 0.5582171608089534, 0.5663900414937759, 0.5790486664833654, 0.5899827288428324, 0.609744094488189, 0.647329650092081, nan], [0.5315524056153741, 0.5429438543247345, 0.55440948942754, 0.5672169811320755, 0.5808383233532934, 0.5949472515269295, 0.6139306965348268, 0.6481665014866204, 0.6891143911439115, nan], [0.48430676855895194, 0.49687070676232636, 0.5108771929824562, 0.5197568389057751, 0.5352998065764023, 0.5529100529100529, 0.5740952380952381, 0.5958605664488017, 0.6663254861821903, nan], [0.4890877050291446, 0.5036308623298034, 0.5135135135135135, 0.5212536728697356, 0.535243817887682, 0.5458310325786858, 0.5621096460791117, 0.5830903790087464, 0.6234347048300537, nan]]\n",
      "[[0.088125, 0.18775, 0.2915, 0.38825, 0.48875, 0.577, 0.67, 0.768375, 0.873625, 1.0], [0.087, 0.18875, 0.291, 0.38825, 0.487875, 0.577, 0.6685, 0.768125, 0.87125, 1.0], [0.081875, 0.180125, 0.285625, 0.383625, 0.483, 0.57475, 0.673, 0.77225, 0.876875, 1.0], [0.09125, 0.193, 0.293375, 0.39175, 0.487125, 0.577625, 0.67475, 0.770375, 0.8695, 1.0], [0.08425, 0.1835, 0.286875, 0.3875, 0.487625, 0.5765, 0.67025, 0.763875, 0.867625, 1.0], [0.0815, 0.177375, 0.270625, 0.364375, 0.458875, 0.550875, 0.643625, 0.75075, 0.866375, 1.0], [0.082375, 0.17575, 0.272, 0.363, 0.456875, 0.551875, 0.642375, 0.75025, 0.86275, 1.0], [0.077875, 0.1715, 0.266125, 0.362875, 0.458625, 0.552625, 0.647, 0.7535, 0.869, 1.0], [0.07875, 0.174375, 0.2665, 0.361125, 0.455875, 0.544375, 0.63475, 0.742625, 0.85875, 1.0], [0.081625, 0.175125, 0.26725, 0.35875, 0.453, 0.542875, 0.635625, 0.74175, 0.856125, 1.0], [0.081125, 0.178, 0.270375, 0.360375, 0.452, 0.5415, 0.635375, 0.7395, 0.86175, 1.0], [0.08025, 0.170125, 0.26, 0.349125, 0.446875, 0.53975, 0.636625, 0.74675, 0.8635, 1.0], [0.081375, 0.176875, 0.26875, 0.35625, 0.451, 0.541625, 0.637125, 0.743625, 0.856875, 1.0], [0.091125, 0.18775, 0.28425, 0.377625, 0.473875, 0.56225, 0.65875, 0.76, 0.864375, 1.0], [0.091375, 0.1905, 0.29375, 0.387625, 0.479875, 0.570125, 0.660125, 0.752875, 0.860375, 1.0], [0.077125, 0.168375, 0.263875, 0.361125, 0.4595, 0.555625, 0.652625, 0.755875, 0.869875, 1.0], [0.089625, 0.188375, 0.284125, 0.377625, 0.47625, 0.5635, 0.658, 0.759625, 0.8635, 1.0], [0.08625, 0.188625, 0.28875, 0.382625, 0.480875, 0.5785, 0.674, 0.775125, 0.880125, 1.0], [0.0865, 0.188625, 0.291125, 0.385875, 0.484, 0.567, 0.658625, 0.75775, 0.8665, 1.0], [0.082375, 0.17525, 0.263875, 0.355375, 0.44575, 0.536625, 0.636, 0.7445, 0.86275, 1.0], [0.07925, 0.16975, 0.2585, 0.349, 0.446125, 0.534, 0.62775, 0.734, 0.85625, 1.0], [0.07375, 0.168875, 0.265125, 0.35875, 0.4555, 0.544125, 0.64575, 0.744625, 0.866625, 1.0], [0.080875, 0.170625, 0.26125, 0.349375, 0.446625, 0.532875, 0.627, 0.736125, 0.853, 1.0], [0.08675, 0.187625, 0.291375, 0.387125, 0.480875, 0.565125, 0.65875, 0.752875, 0.865375, 1.0], [0.080875, 0.17575, 0.26675, 0.36475, 0.462375, 0.55475, 0.64825, 0.7525, 0.86125, 1.0], [0.081125, 0.1745, 0.26675, 0.356875, 0.45325, 0.54425, 0.6375, 0.744, 0.857, 1.0], [0.08325, 0.181, 0.2725, 0.363375, 0.45775, 0.545375, 0.638125, 0.746, 0.86425, 1.0], [0.082875, 0.17625, 0.272875, 0.364, 0.45725, 0.54975, 0.642875, 0.74775, 0.8645, 1.0], [0.084, 0.181125, 0.2875, 0.383125, 0.483, 0.57475, 0.671875, 0.7705, 0.877875, 1.0], [0.077875, 0.17375, 0.26925, 0.361875, 0.459125, 0.54725, 0.63975, 0.74275, 0.86025, 1.0]]\n",
      "[[0.0855, 0.1765, 0.2605, 0.3445, 0.418, 0.4935, 0.582, 0.6855, 0.814, 1.0], [0.0835, 0.1775, 0.26, 0.335, 0.4145, 0.4965, 0.5825, 0.685, 0.8125, 1.0], [0.081, 0.157, 0.2245, 0.289, 0.364, 0.445, 0.5415, 0.6605, 0.8025, 1.0], [0.0815, 0.1715, 0.2605, 0.3425, 0.4245, 0.5215, 0.606, 0.7125, 0.849, 1.0], [0.0785, 0.159, 0.2265, 0.307, 0.3995, 0.4875, 0.585, 0.7095, 0.8305, 1.0], [0.088, 0.195, 0.3, 0.396, 0.4965, 0.5955, 0.6795, 0.7805, 0.8935, 1.0], [0.1, 0.206, 0.305, 0.4135, 0.508, 0.6095, 0.7, 0.7935, 0.8895, 1.0], [0.097, 0.201, 0.2965, 0.389, 0.491, 0.5885, 0.6835, 0.787, 0.8955, 1.0], [0.1375, 0.2845, 0.4065, 0.5195, 0.6235, 0.7265, 0.812, 0.8995, 0.967, 1.0], [0.1575, 0.321, 0.446, 0.551, 0.6505, 0.7345, 0.8225, 0.892, 0.9555, 1.0], [0.131, 0.2635, 0.386, 0.5045, 0.62, 0.723, 0.8005, 0.881, 0.9495, 1.0], [0.1135, 0.2475, 0.367, 0.474, 0.568, 0.647, 0.7365, 0.822, 0.91, 1.0], [0.154, 0.32, 0.448, 0.5495, 0.648, 0.7335, 0.8215, 0.894, 0.9565, 1.0], [0.094, 0.207, 0.3105, 0.396, 0.4795, 0.5665, 0.651, 0.7445, 0.8515, 1.0], [0.0695, 0.164, 0.244, 0.3405, 0.4445, 0.5365, 0.6305, 0.742, 0.851, 1.0], [0.082, 0.1735, 0.2505, 0.34, 0.4185, 0.507, 0.59, 0.707, 0.8345, 1.0], [0.095, 0.205, 0.306, 0.397, 0.4865, 0.567, 0.6535, 0.7465, 0.8495, 1.0], [0.0705, 0.1445, 0.222, 0.294, 0.373, 0.444, 0.5395, 0.652, 0.7865, 1.0], [0.096, 0.1995, 0.288, 0.3895, 0.492, 0.5805, 0.673, 0.7705, 0.8765, 1.0], [0.137, 0.2825, 0.406, 0.519, 0.6335, 0.7205, 0.8, 0.8795, 0.956, 1.0], [0.1485, 0.3125, 0.441, 0.558, 0.6615, 0.742, 0.833, 0.903, 0.959, 1.0], [0.1145, 0.2345, 0.328, 0.438, 0.5375, 0.6315, 0.7245, 0.8265, 0.922, 1.0], [0.1485, 0.3115, 0.4385, 0.5605, 0.668, 0.7455, 0.834, 0.903, 0.9615, 1.0], [0.095, 0.195, 0.287, 0.3855, 0.485, 0.5775, 0.6725, 0.7695, 0.869, 1.0], [0.1105, 0.225, 0.338, 0.4375, 0.5345, 0.624, 0.716, 0.819, 0.9145, 1.0], [0.1545, 0.32, 0.446, 0.5505, 0.6505, 0.735, 0.8165, 0.8905, 0.956, 1.0], [0.1095, 0.223, 0.348, 0.4585, 0.5815, 0.686, 0.7785, 0.8755, 0.95, 1.0], [0.098, 0.207, 0.3075, 0.417, 0.518, 0.611, 0.7055, 0.7905, 0.8905, 1.0], [0.0795, 0.1545, 0.2265, 0.2865, 0.356, 0.4455, 0.5415, 0.6605, 0.7955, 1.0], [0.134, 0.283, 0.4045, 0.515, 0.6205, 0.725, 0.81, 0.891, 0.9635, 1.0]]\n",
      "[[0.48977350720658885, 0.5037732943169567, 0.5148636763412489, 0.5281402936378466, 0.5433568132135049, 0.5560816809707014, 0.5775927327781983, 0.61838588989845, 0.667644183773216, nan], [0.48977350720658885, 0.5037732943169567, 0.5148636763412489, 0.5281402936378466, 0.5433568132135049, 0.5560816809707014, 0.5775927327781983, 0.61838588989845, 0.667644183773216, nan], [0.489303719852841, 0.5010667479427003, 0.515230635335074, 0.5245835841862332, 0.5396634615384616, 0.5548726953467954, 0.5833333333333334, 0.601303639326453, 0.6701030927835051, nan], [0.4849567248248386, 0.49938003719776813, 0.5096069099242023, 0.521123872026251, 0.5343101343101343, 0.5451027091396249, 0.5703334610962054, 0.6009745533297238, 0.6310679611650486, nan], [0.48507564399618375, 0.49664019547953575, 0.5121185701830863, 0.5220304568527919, 0.5385728061716489, 0.5508350424846177, 0.572289156626506, 0.5921192758253461, 0.645224171539961, nan], [0.5279858368514231, 0.5386828160484481, 0.5520260989010989, 0.5592556317335945, 0.5739549839228296, 0.5882190265486725, 0.6046918767507002, 0.6228771228771228, 0.6748582230623819, nan], [0.5323966716682581, 0.542740224310397, 0.5563198624247635, 0.567551622418879, 0.5841743119266055, 0.6010505944152613, 0.6120898100172711, 0.6499508357915438, 0.6925133689839572, nan], [0.5091500610004067, 0.5199456029011786, 0.533515731874145, 0.5429411764705883, 0.5596414617329349, 0.5735417248116104, 0.5864502470007057, 0.6096446700507614, 0.6457739791073125, nan], [0.4901694915254237, 0.5034816833181955, 0.5142176059935297, 0.5233699921445405, 0.536308973172988, 0.548616817310326, 0.5590551181102362, 0.5799130854659584, 0.6297608503100088, nan], [0.4796182685753238, 0.49245169082125606, 0.5045747204337513, 0.5167020660359143, 0.5335761438652401, 0.548607318405243, 0.5678927466483328, 0.5995145631067961, 0.6379613356766256, nan], [0.5096624931954273, 0.5244978697504565, 0.5331960885229027, 0.5447425102800079, 0.5577752553916004, 0.5710397387044094, 0.5807770961145194, 0.6036644165863067, 0.6363636363636364, nan], [0.5103288937211199, 0.5206077015643803, 0.5335587489433643, 0.5428626100267891, 0.5592298980747452, 0.5739225313693399, 0.5932669185846788, 0.6194906953966699, 0.6678635547576302, nan], [0.4796182685753238, 0.49245169082125606, 0.5045747204337513, 0.5167020660359143, 0.5335761438652401, 0.548607318405243, 0.5678927466483328, 0.5995145631067961, 0.6379613356766256, nan], [0.4821673525377229, 0.4981544140264534, 0.5101898623933113, 0.5218174539631706, 0.5336015144344534, 0.5437997724687145, 0.5685409775817714, 0.595954356846473, 0.631244323342416, nan], [0.518487972508591, 0.5310185185185186, 0.5453422724064926, 0.557688380641209, 0.5673449612403101, 0.5765765765765766, 0.6013338273434605, 0.6159383033419024, 0.659217877094972, nan], [0.5056895150365754, 0.5159053218754711, 0.5271674331459717, 0.5379188712522046, 0.5516196690748078, 0.5649112925936356, 0.5796997855611151, 0.5980592441266599, 0.6431372549019608, nan], [0.4821673525377229, 0.4981544140264534, 0.5101898623933113, 0.5218174539631706, 0.5336015144344534, 0.5437997724687145, 0.5685409775817714, 0.595954356846473, 0.631244323342416, nan], [0.51020967520899, 0.5240815066378511, 0.5367350517271612, 0.5476477683956574, 0.5625753556788039, 0.58023598820059, 0.6007604562737643, 0.6248630887185104, 0.6827731092436975, nan], [0.4864457831325301, 0.5003844379517146, 0.5126404494382022, 0.5222878078567067, 0.535541586073501, 0.5430615164520743, 0.5645514223194749, 0.5925925925925926, 0.6353276353276354, nan], [0.5000679994560043, 0.5141430948419301, 0.5252371273712737, 0.5364773820981713, 0.5539226769161203, 0.562972972972973, 0.5732613099257259, 0.5986460348162476, 0.6233303650934996, nan], [0.49443388541949496, 0.5096356519120747, 0.5186686940361548, 0.53005569425773, 0.5450663070352888, 0.5566844919786096, 0.5719973457199734, 0.6007480130902291, 0.6459044368600683, nan], [0.49131547058031505, 0.5042194092827004, 0.5187829338772735, 0.530314807617567, 0.5431901279707495, 0.5536551724137931, 0.5705372616984402, 0.5868498527968596, 0.6363636363636364, nan], [0.49443388541949496, 0.5096356519120747, 0.5186686940361548, 0.53005569425773, 0.5450663070352888, 0.5566844919786096, 0.5719973457199734, 0.6007480130902291, 0.6459044368600683, nan], [0.4864457831325301, 0.5003844379517146, 0.5126404494382022, 0.5222878078567067, 0.535541586073501, 0.5430615164520743, 0.5645514223194749, 0.5925925925925926, 0.6353276353276354, nan], [0.511716621253406, 0.5226755649931746, 0.5357691651015879, 0.5453834115805947, 0.5630776340110906, 0.5758001122964627, 0.5927889713679746, 0.6301715438950555, 0.6767676767676768, nan], [0.4796182685753238, 0.49245169082125606, 0.5045747204337513, 0.5167020660359143, 0.5335761438652401, 0.548607318405243, 0.5678927466483328, 0.5995145631067961, 0.6379613356766256, nan], [0.5202241049467068, 0.5303884234577304, 0.540619621342513, 0.5519607843137255, 0.5621833256563795, 0.5777716492002206, 0.5848463687150838, 0.5990074441687345, 0.6283846872082166, nan], [0.5323966716682581, 0.542740224310397, 0.5563198624247635, 0.567551622418879, 0.5841743119266055, 0.6010505944152613, 0.6120898100172711, 0.6499508357915438, 0.6925133689839572, nan], [0.489303719852841, 0.5010667479427003, 0.515230635335074, 0.5245835841862332, 0.5396634615384616, 0.5548726953467954, 0.5833333333333334, 0.601303639326453, 0.6701030927835051, nan], [0.4901694915254237, 0.5034816833181955, 0.5142176059935297, 0.5233699921445405, 0.536308973172988, 0.548616817310326, 0.5590551181102362, 0.5799130854659584, 0.6297608503100088, nan]]\n",
      "[[0.089375, 0.188375, 0.289375, 0.387, 0.485375, 0.577625, 0.66975, 0.766125, 0.872125, 1.0], [0.089375, 0.188375, 0.289375, 0.387, 0.485375, 0.577625, 0.66975, 0.766125, 0.872125, 1.0], [0.082625, 0.17975, 0.281875, 0.377125, 0.48, 0.572875, 0.667, 0.769875, 0.87875, 1.0], [0.090125, 0.1935, 0.290875, 0.3905, 0.488125, 0.580125, 0.673875, 0.769125, 0.87125, 1.0], [0.082875, 0.1815, 0.283125, 0.384375, 0.4815, 0.573375, 0.668, 0.76525, 0.87175, 1.0], [0.082125, 0.174375, 0.272, 0.361875, 0.45575, 0.548, 0.643, 0.74975, 0.86775, 1.0], [0.083625, 0.17525, 0.273125, 0.364375, 0.455, 0.547875, 0.638125, 0.74575, 0.85975, 1.0], [0.077875, 0.17275, 0.269, 0.3625, 0.456125, 0.552125, 0.64575, 0.75375, 0.868375, 1.0], [0.078125, 0.17425, 0.265875, 0.3635, 0.4595, 0.543625, 0.634875, 0.741125, 0.858875, 1.0], [0.083125, 0.172, 0.26225, 0.352625, 0.450875, 0.54225, 0.636375, 0.7425, 0.85775, 1.0], [0.0815, 0.1785, 0.271375, 0.361625, 0.449375, 0.54075, 0.63325, 0.74075, 0.8625, 1.0], [0.08025, 0.169, 0.260625, 0.34675, 0.448125, 0.54175, 0.636125, 0.74475, 0.86075, 1.0], [0.083125, 0.172, 0.26225, 0.352625, 0.450875, 0.54225, 0.636375, 0.7425, 0.85775, 1.0], [0.08875, 0.18725, 0.282375, 0.3755, 0.47175, 0.5605, 0.659875, 0.759, 0.862375, 1.0], [0.090625, 0.19, 0.2915, 0.387875, 0.484, 0.569875, 0.662625, 0.756875, 0.86575, 1.0], [0.07725, 0.170875, 0.266125, 0.362125, 0.463625, 0.556125, 0.65025, 0.75525, 0.8725, 1.0], [0.08875, 0.18725, 0.282375, 0.3755, 0.47175, 0.5605, 0.659875, 0.759, 0.862375, 1.0], [0.087875, 0.19025, 0.287125, 0.37825, 0.481625, 0.57625, 0.67125, 0.77175, 0.881, 1.0], [0.087, 0.187125, 0.288, 0.385875, 0.483, 0.563125, 0.65725, 0.757, 0.868375, 1.0], [0.080875, 0.173625, 0.262, 0.350625, 0.447125, 0.5375, 0.62975, 0.7415, 0.859625, 1.0], [0.07925, 0.16975, 0.260125, 0.349125, 0.443875, 0.5325, 0.62325, 0.732625, 0.8535, 1.0], [0.071625, 0.1705, 0.264625, 0.35675, 0.453, 0.546875, 0.639375, 0.74525, 0.8625, 1.0], [0.07925, 0.16975, 0.260125, 0.349125, 0.443875, 0.5325, 0.62325, 0.732625, 0.8535, 1.0], [0.087, 0.187125, 0.288, 0.385875, 0.483, 0.563125, 0.65725, 0.757, 0.868375, 1.0], [0.0825, 0.175875, 0.267875, 0.361, 0.459, 0.55475, 0.646375, 0.75225, 0.863875, 1.0], [0.083125, 0.172, 0.26225, 0.352625, 0.450875, 0.54225, 0.636375, 0.7425, 0.85775, 1.0], [0.08525, 0.179375, 0.27375, 0.3625, 0.45725, 0.54675, 0.642, 0.748125, 0.866125, 1.0], [0.083625, 0.17525, 0.273125, 0.364375, 0.455, 0.547875, 0.638125, 0.74575, 0.85975, 1.0], [0.082625, 0.17975, 0.281875, 0.377125, 0.48, 0.572875, 0.667, 0.769875, 0.87875, 1.0], [0.078125, 0.17425, 0.265875, 0.3635, 0.4595, 0.543625, 0.634875, 0.741125, 0.858875, 1.0]]\n",
      "[[0.088, 0.183, 0.269, 0.346, 0.4235, 0.504, 0.5835, 0.6965, 0.8125, 1.0], [0.088, 0.183, 0.269, 0.346, 0.4235, 0.504, 0.5835, 0.6965, 0.8125, 1.0], [0.079, 0.1575, 0.2235, 0.2915, 0.3605, 0.45, 0.541, 0.651, 0.799, 1.0], [0.086, 0.1865, 0.275, 0.3675, 0.4515, 0.533, 0.624, 0.7285, 0.847, 1.0], [0.0805, 0.1585, 0.229, 0.3095, 0.406, 0.491, 0.591, 0.713, 0.8425, 1.0], [0.0935, 0.2015, 0.306, 0.4075, 0.5, 0.594, 0.6825, 0.788, 0.893, 1.0], [0.1035, 0.211, 0.32, 0.4135, 0.5265, 0.618, 0.7065, 0.794, 0.892, 1.0], [0.1015, 0.2125, 0.31, 0.402, 0.5035, 0.5975, 0.6895, 0.7975, 0.905, 1.0], [0.145, 0.295, 0.414, 0.5345, 0.6285, 0.728, 0.8205, 0.8965, 0.9665, 1.0], [0.179, 0.342, 0.465, 0.569, 0.668, 0.7455, 0.827, 0.895, 0.96, 1.0], [0.1375, 0.27, 0.392, 0.509, 0.6295, 0.7195, 0.801, 0.882, 0.953, 1.0], [0.1125, 0.2525, 0.3675, 0.48, 0.5675, 0.648, 0.7355, 0.8225, 0.909, 1.0], [0.179, 0.342, 0.465, 0.569, 0.668, 0.7455, 0.827, 0.895, 0.96, 1.0], [0.101, 0.2255, 0.322, 0.4065, 0.5015, 0.5775, 0.661, 0.7535, 0.8535, 1.0], [0.073, 0.163, 0.252, 0.346, 0.451, 0.549, 0.6335, 0.7525, 0.8655, 1.0], [0.09, 0.184, 0.27, 0.352, 0.43, 0.5205, 0.607, 0.7245, 0.845, 1.0], [0.101, 0.2255, 0.322, 0.4065, 0.5015, 0.5775, 0.661, 0.7535, 0.8535, 1.0], [0.0705, 0.1475, 0.2205, 0.2985, 0.369, 0.455, 0.54, 0.6565, 0.786, 1.0], [0.0975, 0.204, 0.2935, 0.398, 0.505, 0.5885, 0.6815, 0.7825, 0.8865, 1.0], [0.138, 0.28, 0.403, 0.5175, 0.631, 0.7205, 0.802, 0.883, 0.9525, 1.0], [0.152, 0.314, 0.4445, 0.5595, 0.665, 0.755, 0.836, 0.9075, 0.9635, 1.0], [0.124, 0.2455, 0.352, 0.45, 0.544, 0.635, 0.728, 0.8295, 0.92, 1.0], [0.152, 0.314, 0.4445, 0.5595, 0.665, 0.755, 0.836, 0.9075, 0.9635, 1.0], [0.0975, 0.204, 0.2935, 0.398, 0.505, 0.5885, 0.6815, 0.7825, 0.8865, 1.0], [0.1115, 0.234, 0.346, 0.4375, 0.5395, 0.6315, 0.719, 0.8225, 0.919, 1.0], [0.179, 0.342, 0.465, 0.569, 0.668, 0.7455, 0.827, 0.895, 0.96, 1.0], [0.1155, 0.23, 0.3575, 0.466, 0.5835, 0.687, 0.78, 0.882, 0.956, 1.0], [0.1035, 0.211, 0.32, 0.4135, 0.5265, 0.618, 0.7065, 0.794, 0.892, 1.0], [0.079, 0.1575, 0.2235, 0.2915, 0.3605, 0.45, 0.541, 0.651, 0.799, 1.0], [0.145, 0.295, 0.414, 0.5345, 0.6285, 0.728, 0.8205, 0.8965, 0.9665, 1.0]]\n"
     ]
    }
   ],
   "source": [
    "print(imp_known_correct_all)     ## imp_known_correct: correct classification percentage of known instances by the imperfect EVM (instances called novel not considered)\n",
    "print(imp_known_novel_all)        ## imp_known_novel: percentage of known instances called novel by the imperfect EVM \n",
    "print(imp_unknown_novel_all)     ## imp_unknown_novel: percentage of unknown instances called novel by the imperfect EVM\n",
    "print(per_known_correct_all)      ## per_known_correct: correct classification percentage of known instances by the perfect EVM (instances called novel not considered)\n",
    "print(per_known_novel_all)         ## per_known_novel: percentage of known instances called novel by the perfect EVM\n",
    "print(per_unknown_novel_all)"
   ]
  },
  {
   "cell_type": "code",
   "execution_count": 20,
   "metadata": {},
   "outputs": [
    {
     "data": {
      "image/png": "[encoded data removed]",
      "text/plain": [
       "<Figure size 1008x216 with 3 Axes>"
      ]
     },
     "metadata": {
      "needs_background": "light"
     },
     "output_type": "display_data"
    }
   ],
   "source": [
    "import matplotlib.pyplot as plt\n",
    "\n",
    "\n",
    "\n",
    "fig = plt.figure(figsize = (14, 3))\n",
    "ax1 = fig.add_subplot(131)\n",
    "ax2 = fig.add_subplot(132)\n",
    "ax3 = fig.add_subplot(133)\n",
    "\n",
    "ax1.title.set_text('Knowns: Correct Classification Rate')\n",
    "ax2.title.set_text('Knowns: False Novel Rate')\n",
    "ax3.title.set_text('Unknowns: True Novel Rate')\n",
    "\n",
    "ax1.plot(thresholds, np.mean(imp_known_correct_all, axis = 0), label = 'Imperfect')\n",
    "ax1.plot(thresholds, np.mean(per_known_correct_all, axis = 0), label = 'Perfect')\n",
    "\n",
    "\n",
    "ax2.plot(thresholds, np.mean(imp_known_novel_all, axis = 0), label = 'Imperfect')\n",
    "ax2.plot(thresholds, np.mean(per_known_novel_all, axis = 0), label = 'Perfect')\n",
    "\n",
    "ax3.plot(thresholds, np.mean(imp_unknown_novel_all, axis = 0), label = 'Imperfect')\n",
    "ax3.plot(thresholds, np.mean(per_unknown_novel_all, axis = 0), label = 'Perfect')\n",
    "\n",
    "handles, labels = ax1.get_legend_handles_labels()\n",
    "fig.legend(handles, labels, loc='upper left')\n",
    "\n",
    "plt.savefig('PCA_images_cf2_30iter.pdf')\n",
    "plt.show()"
   ]
  },
  {
   "cell_type": "code",
   "execution_count": 19,
   "metadata": {},
   "outputs": [
    {
     "data": {
      "text/plain": [
       "(40000, 128)"
      ]
     },
     "execution_count": 19,
     "metadata": {},
     "output_type": "execute_result"
    }
   ],
   "source": [
    "x_train_known_imp.shape"
   ]
  },
  {
   "cell_type": "code",
   "execution_count": null,
   "metadata": {},
   "outputs": [],
   "source": []
  }
 ],
 "metadata": {
  "kernelspec": {
   "display_name": "thesisEnv",
   "language": "python",
   "name": "thesisenv"
  },
  "language_info": {
   "codemirror_mode": {
    "name": "ipython",
    "version": 3
   },
   "file_extension": ".py",
   "mimetype": "text/x-python",
   "name": "python",
   "nbconvert_exporter": "python",
   "pygments_lexer": "ipython3",
   "version": "3.8.3"
  }
 },
 "nbformat": 4,
 "nbformat_minor": 4
}
