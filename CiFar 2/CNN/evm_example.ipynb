{
 "cells": [
  {
   "cell_type": "markdown",
   "metadata": {},
   "source": [
    "## Setup\n",
    "# CNN Cifar 2"
   ]
  },
  {
   "cell_type": "code",
   "execution_count": 1,
   "metadata": {},
   "outputs": [],
   "source": [
    "##\n",
    "## Restrict tensorflow to single GPU\n",
    "##\n",
    "import os \n",
    "os.environ['CUDA_DEVICE_ORDER'] = 'PCI_BUS_ID'\n",
    "os.environ['CUDA_VISIBLE_DEVICES'] = str(3)           \n",
    "## this says only use GPU 0  (can select 0-3)\n",
    "\n",
    "##\n",
    "## Import libraries\n",
    "##\n",
    "import evm_flat         ## We are using EVMs for a different project, so there are some things in here that may be confusing\n",
    "from utils import *     ## utils holds a few functions I wrote to help with the experiments in this notebook\n",
    "import numpy as np\n",
    "import tensorflow as tf\n",
    "\n",
    "##\n",
    "## Experiment Parameters\n",
    "##\n",
    "epochs = 10                 ## Iterations to train CNN for feature extractors\n",
    "num_to_remove = 2           ## Number of classes to remove and make \"unknown\"\n",
    "iterations = 30              ## Number of iterations (full experiments) to run\n",
    "thresholds = [.1, .2, .3, .4, .5, .6, .7, .8, .9, 1]  ## Confidence thresholds to evaluate over\n",
    "\n",
    "##\n",
    "## EVM Parameters (good initial values, but could be further optimized)\n",
    "##\n",
    "tailsize = 10000              ## EVM tail size\n",
    "cover_threshold = 0.5      ## EVM cover threshold\n",
    "dist_func = 'cosine'     ## EVM distance function\n",
    "num_to_fuse = 4             ## EVM number to fuse\n",
    "margin_scale = 0.5          ## EVM margin scale"
   ]
  },
  {
   "cell_type": "markdown",
   "metadata": {},
   "source": [
    "## Data"
   ]
  },
  {
   "cell_type": "code",
   "execution_count": 2,
   "metadata": {},
   "outputs": [],
   "source": [
    "##\n",
    "## Load CiFar10\n",
    "##\n",
    "import keras\n",
    "from keras.datasets import cifar10\n",
    "(x_train, y_train), (x_test, y_test) = cifar10.load_data()\n",
    "\n",
    "##\n",
    "## Get data in correct shape and normalize\n",
    "##\n",
    "#x_train = x_train = np.reshape(x_train, (x_train.shape[0], x_train.shape[1], x_train.shape[2], 1))/255.0   ## Add dimension and normalize\n",
    "#x_test = x_test = np.reshape(x_test, (x_test.shape[0], x_test.shape[1], x_test.shape[2], 1))/255.0         ## Add dimension and normalize\n",
    "#y_train = tf.keras.utils.to_categorical(y_train)     ## Make one-hot\n",
    "#y_test = tf.keras.utils.to_categorical(y_test)       ## Make one-hot"
   ]
  },
  {
   "cell_type": "code",
   "execution_count": 3,
   "metadata": {},
   "outputs": [
    {
     "name": "stdout",
     "output_type": "stream",
     "text": [
      "(50000, 32, 32, 3)\n",
      "(50000, 1)\n",
      "(10000, 32, 32, 3)\n",
      "(10000, 1)\n"
     ]
    }
   ],
   "source": [
    "print(x_train.shape)\n",
    "print(y_train.shape)\n",
    "print(x_test.shape)\n",
    "print(y_test.shape)"
   ]
  },
  {
   "cell_type": "code",
   "execution_count": 4,
   "metadata": {},
   "outputs": [],
   "source": [
    "import keras.utils\n",
    "y_train = tf.keras.utils.to_categorical(y_train) \n",
    "y_test = tf.keras.utils.to_categorical(y_test) "
   ]
  },
  {
   "cell_type": "markdown",
   "metadata": {},
   "source": [
    "## Create Feature Extractor With Perfect Knowledge \n",
    "\n",
    "- Feature extractor is a CNN trained using ALL of the classes\n",
    "- This is not realistic in the real world because all of the classes will not be known\n",
    "- This is a good \"optimal\" feature space to compare against\n",
    "- Goal would be to get as close to this performance as possible"
   ]
  },
  {
   "cell_type": "code",
   "execution_count": 5,
   "metadata": {},
   "outputs": [
    {
     "name": "stdout",
     "output_type": "stream",
     "text": [
      "313/313 [==============================] - 1s 3ms/step - loss: 0.9029 - accuracy: 0.6807\n",
      "[0.9028898477554321, 0.6807000041007996]\n"
     ]
    }
   ],
   "source": [
    "##\n",
    "## Perfect Knowledge feature extractor\n",
    "##\n",
    "perfect = feature_model2(10, x_train, y_train, x_test, y_test)   ## This function is defined in utils.py"
   ]
  },
  {
   "cell_type": "markdown",
   "metadata": {},
   "source": [
    "## Define a set of experiments\n",
    "\n",
    "- Randomly select and remove classes from the training data\n",
    "- Split test data into known and unknown classes\n",
    "- Fit imperfect feature extraction model\n",
    "- Extract features using the perfect and imperfect extractors\n",
    "- Fit EVM using features for the perfect and imperfect\n",
    "- Evaluate performance (evaluation metrics may need to be improved, but this gives us an initial idea of performance)\n",
    "- Repeat\n"
   ]
  },
  {
   "cell_type": "code",
   "execution_count": 6,
   "metadata": {},
   "outputs": [
    {
     "name": "stdout",
     "output_type": "stream",
     "text": [
      "Iteration: 0\n",
      "\n",
      "(40000, 32, 32, 3)\n",
      "(40000, 8)\n",
      "(8000, 32, 32, 3)\n",
      "(8000, 8)\n",
      "(40000, 32, 32, 3)\n",
      "(40000, 8)\n",
      "(8000, 32, 32, 3)\n",
      "(8000, 8)\n",
      "(40000, 8)\n",
      "250/250 [==============================] - 1s 2ms/step - loss: 0.8298 - accuracy: 0.6871\n",
      "[0.8298282623291016, 0.687125027179718]\n",
      "Fit Imperfect EVM\n",
      "(40000, 128)\n",
      "(40000, 8)\n",
      "Fit Perfect EVM\n"
     ]
    },
    {
     "name": "stderr",
     "output_type": "stream",
     "text": [
      "/home/hardyc/Documents/CiFar-2 Iterations/Walter CNN/utils.py:173: RuntimeWarning: invalid value encountered in long_scalars\n",
      "  correct = np.sum(pred[con>=i] == truth[con>=i])/np.sum(con>=i)\n"
     ]
    },
    {
     "name": "stdout",
     "output_type": "stream",
     "text": [
      "Iteration: 1\n",
      "\n",
      "(40000, 32, 32, 3)\n",
      "(40000, 8)\n",
      "(8000, 32, 32, 3)\n",
      "(8000, 8)\n",
      "(40000, 32, 32, 3)\n",
      "(40000, 8)\n",
      "(8000, 32, 32, 3)\n",
      "(8000, 8)\n",
      "(40000, 8)\n",
      "250/250 [==============================] - 1s 2ms/step - loss: 0.7130 - accuracy: 0.7401\n",
      "[0.7130224108695984, 0.7401250004768372]\n",
      "Fit Imperfect EVM\n",
      "(40000, 128)\n",
      "(40000, 8)\n",
      "Fit Perfect EVM\n"
     ]
    },
    {
     "name": "stderr",
     "output_type": "stream",
     "text": [
      "/home/hardyc/Documents/CiFar-2 Iterations/Walter CNN/utils.py:173: RuntimeWarning: invalid value encountered in long_scalars\n",
      "  correct = np.sum(pred[con>=i] == truth[con>=i])/np.sum(con>=i)\n"
     ]
    },
    {
     "name": "stdout",
     "output_type": "stream",
     "text": [
      "Iteration: 2\n",
      "\n",
      "(40000, 32, 32, 3)\n",
      "(40000, 8)\n",
      "(8000, 32, 32, 3)\n",
      "(8000, 8)\n",
      "(40000, 32, 32, 3)\n",
      "(40000, 8)\n",
      "(8000, 32, 32, 3)\n",
      "(8000, 8)\n",
      "(40000, 8)\n",
      "250/250 [==============================] - 1s 3ms/step - loss: 0.7498 - accuracy: 0.7290\n",
      "[0.7497632503509521, 0.7289999723434448]\n",
      "Fit Imperfect EVM\n",
      "(40000, 128)\n",
      "(40000, 8)\n",
      "Fit Perfect EVM\n"
     ]
    },
    {
     "name": "stderr",
     "output_type": "stream",
     "text": [
      "/home/hardyc/Documents/CiFar-2 Iterations/Walter CNN/utils.py:173: RuntimeWarning: invalid value encountered in long_scalars\n",
      "  correct = np.sum(pred[con>=i] == truth[con>=i])/np.sum(con>=i)\n"
     ]
    },
    {
     "name": "stdout",
     "output_type": "stream",
     "text": [
      "Iteration: 3\n",
      "\n",
      "(40000, 32, 32, 3)\n",
      "(40000, 8)\n",
      "(8000, 32, 32, 3)\n",
      "(8000, 8)\n",
      "(40000, 32, 32, 3)\n",
      "(40000, 8)\n",
      "(8000, 32, 32, 3)\n",
      "(8000, 8)\n",
      "(40000, 8)\n",
      "250/250 [==============================] - 1s 3ms/step - loss: 0.7945 - accuracy: 0.7149\n",
      "[0.7944516539573669, 0.7148749828338623]\n",
      "Fit Imperfect EVM\n",
      "(40000, 128)\n",
      "(40000, 8)\n",
      "Fit Perfect EVM\n"
     ]
    },
    {
     "name": "stderr",
     "output_type": "stream",
     "text": [
      "/home/hardyc/Documents/CiFar-2 Iterations/Walter CNN/utils.py:173: RuntimeWarning: invalid value encountered in long_scalars\n",
      "  correct = np.sum(pred[con>=i] == truth[con>=i])/np.sum(con>=i)\n"
     ]
    },
    {
     "name": "stdout",
     "output_type": "stream",
     "text": [
      "Iteration: 4\n",
      "\n",
      "(40000, 32, 32, 3)\n",
      "(40000, 8)\n",
      "(8000, 32, 32, 3)\n",
      "(8000, 8)\n",
      "(40000, 32, 32, 3)\n",
      "(40000, 8)\n",
      "(8000, 32, 32, 3)\n",
      "(8000, 8)\n",
      "(40000, 8)\n",
      "250/250 [==============================] - 1s 2ms/step - loss: 0.8115 - accuracy: 0.7020\n",
      "[0.8115034699440002, 0.7020000219345093]\n",
      "Fit Imperfect EVM\n",
      "(40000, 128)\n",
      "(40000, 8)\n",
      "Fit Perfect EVM\n"
     ]
    },
    {
     "name": "stderr",
     "output_type": "stream",
     "text": [
      "/home/hardyc/Documents/CiFar-2 Iterations/Walter CNN/utils.py:173: RuntimeWarning: invalid value encountered in long_scalars\n",
      "  correct = np.sum(pred[con>=i] == truth[con>=i])/np.sum(con>=i)\n"
     ]
    },
    {
     "name": "stdout",
     "output_type": "stream",
     "text": [
      "Iteration: 5\n",
      "\n",
      "(40000, 32, 32, 3)\n",
      "(40000, 8)\n",
      "(8000, 32, 32, 3)\n",
      "(8000, 8)\n",
      "(40000, 32, 32, 3)\n",
      "(40000, 8)\n",
      "(8000, 32, 32, 3)\n",
      "(8000, 8)\n",
      "(40000, 8)\n",
      "250/250 [==============================] - 1s 2ms/step - loss: 0.6881 - accuracy: 0.7404\n",
      "[0.6880710124969482, 0.7403749823570251]\n",
      "Fit Imperfect EVM\n",
      "(40000, 128)\n",
      "(40000, 8)\n",
      "Fit Perfect EVM\n"
     ]
    },
    {
     "name": "stderr",
     "output_type": "stream",
     "text": [
      "/home/hardyc/Documents/CiFar-2 Iterations/Walter CNN/utils.py:173: RuntimeWarning: invalid value encountered in long_scalars\n",
      "  correct = np.sum(pred[con>=i] == truth[con>=i])/np.sum(con>=i)\n"
     ]
    },
    {
     "name": "stdout",
     "output_type": "stream",
     "text": [
      "Iteration: 6\n",
      "\n",
      "(40000, 32, 32, 3)\n",
      "(40000, 8)\n",
      "(8000, 32, 32, 3)\n",
      "(8000, 8)\n",
      "(40000, 32, 32, 3)\n",
      "(40000, 8)\n",
      "(8000, 32, 32, 3)\n",
      "(8000, 8)\n",
      "(40000, 8)\n",
      "250/250 [==============================] - 1s 3ms/step - loss: 0.8909 - accuracy: 0.6817\n",
      "[0.8909487128257751, 0.6817499995231628]\n",
      "Fit Imperfect EVM\n",
      "(40000, 128)\n",
      "(40000, 8)\n",
      "Fit Perfect EVM\n"
     ]
    },
    {
     "name": "stderr",
     "output_type": "stream",
     "text": [
      "/home/hardyc/Documents/CiFar-2 Iterations/Walter CNN/utils.py:173: RuntimeWarning: invalid value encountered in long_scalars\n",
      "  correct = np.sum(pred[con>=i] == truth[con>=i])/np.sum(con>=i)\n"
     ]
    },
    {
     "name": "stdout",
     "output_type": "stream",
     "text": [
      "Iteration: 7\n",
      "\n",
      "(40000, 32, 32, 3)\n",
      "(40000, 8)\n",
      "(8000, 32, 32, 3)\n",
      "(8000, 8)\n",
      "(40000, 32, 32, 3)\n",
      "(40000, 8)\n",
      "(8000, 32, 32, 3)\n",
      "(8000, 8)\n",
      "(40000, 8)\n",
      "250/250 [==============================] - 1s 2ms/step - loss: 0.7829 - accuracy: 0.7119\n",
      "[0.7829366326332092, 0.7118750214576721]\n",
      "Fit Imperfect EVM\n",
      "(40000, 128)\n",
      "(40000, 8)\n",
      "Fit Perfect EVM\n"
     ]
    },
    {
     "name": "stderr",
     "output_type": "stream",
     "text": [
      "/home/hardyc/Documents/CiFar-2 Iterations/Walter CNN/utils.py:173: RuntimeWarning: invalid value encountered in long_scalars\n",
      "  correct = np.sum(pred[con>=i] == truth[con>=i])/np.sum(con>=i)\n"
     ]
    },
    {
     "name": "stdout",
     "output_type": "stream",
     "text": [
      "Iteration: 8\n",
      "\n",
      "(40000, 32, 32, 3)\n",
      "(40000, 8)\n",
      "(8000, 32, 32, 3)\n",
      "(8000, 8)\n",
      "(40000, 32, 32, 3)\n",
      "(40000, 8)\n",
      "(8000, 32, 32, 3)\n",
      "(8000, 8)\n",
      "(40000, 8)\n",
      "250/250 [==============================] - 1s 2ms/step - loss: 0.6542 - accuracy: 0.7614\n",
      "[0.6542364954948425, 0.7613750100135803]\n",
      "Fit Imperfect EVM\n",
      "(40000, 128)\n",
      "(40000, 8)\n",
      "Fit Perfect EVM\n"
     ]
    },
    {
     "name": "stderr",
     "output_type": "stream",
     "text": [
      "/home/hardyc/Documents/CiFar-2 Iterations/Walter CNN/utils.py:173: RuntimeWarning: invalid value encountered in long_scalars\n",
      "  correct = np.sum(pred[con>=i] == truth[con>=i])/np.sum(con>=i)\n"
     ]
    },
    {
     "name": "stdout",
     "output_type": "stream",
     "text": [
      "Iteration: 9\n",
      "\n",
      "(40000, 32, 32, 3)\n",
      "(40000, 8)\n",
      "(8000, 32, 32, 3)\n",
      "(8000, 8)\n",
      "(40000, 32, 32, 3)\n",
      "(40000, 8)\n",
      "(8000, 32, 32, 3)\n",
      "(8000, 8)\n",
      "(40000, 8)\n",
      "250/250 [==============================] - 1s 3ms/step - loss: 0.6870 - accuracy: 0.7599\n",
      "[0.6869717836380005, 0.7598749995231628]\n",
      "Fit Imperfect EVM\n",
      "(40000, 128)\n",
      "(40000, 8)\n",
      "Fit Perfect EVM\n"
     ]
    },
    {
     "name": "stderr",
     "output_type": "stream",
     "text": [
      "/home/hardyc/Documents/CiFar-2 Iterations/Walter CNN/utils.py:173: RuntimeWarning: invalid value encountered in long_scalars\n",
      "  correct = np.sum(pred[con>=i] == truth[con>=i])/np.sum(con>=i)\n"
     ]
    },
    {
     "name": "stdout",
     "output_type": "stream",
     "text": [
      "Iteration: 10\n",
      "\n",
      "(40000, 32, 32, 3)\n",
      "(40000, 8)\n",
      "(8000, 32, 32, 3)\n",
      "(8000, 8)\n",
      "(40000, 32, 32, 3)\n",
      "(40000, 8)\n",
      "(8000, 32, 32, 3)\n",
      "(8000, 8)\n",
      "(40000, 8)\n",
      "250/250 [==============================] - 1s 2ms/step - loss: 0.7350 - accuracy: 0.7325\n",
      "[0.7349575161933899, 0.7325000166893005]\n",
      "Fit Imperfect EVM\n",
      "(40000, 128)\n",
      "(40000, 8)\n",
      "Fit Perfect EVM\n"
     ]
    },
    {
     "name": "stderr",
     "output_type": "stream",
     "text": [
      "/home/hardyc/Documents/CiFar-2 Iterations/Walter CNN/utils.py:173: RuntimeWarning: invalid value encountered in long_scalars\n",
      "  correct = np.sum(pred[con>=i] == truth[con>=i])/np.sum(con>=i)\n"
     ]
    },
    {
     "name": "stdout",
     "output_type": "stream",
     "text": [
      "Iteration: 11\n",
      "\n",
      "(40000, 32, 32, 3)\n",
      "(40000, 8)\n",
      "(8000, 32, 32, 3)\n",
      "(8000, 8)\n",
      "(40000, 32, 32, 3)\n",
      "(40000, 8)\n",
      "(8000, 32, 32, 3)\n",
      "(8000, 8)\n",
      "(40000, 8)\n",
      "250/250 [==============================] - 1s 3ms/step - loss: 0.8070 - accuracy: 0.6984\n",
      "[0.8070079684257507, 0.6983749866485596]\n",
      "Fit Imperfect EVM\n",
      "(40000, 128)\n",
      "(40000, 8)\n",
      "Fit Perfect EVM\n"
     ]
    },
    {
     "name": "stderr",
     "output_type": "stream",
     "text": [
      "/home/hardyc/Documents/CiFar-2 Iterations/Walter CNN/utils.py:173: RuntimeWarning: invalid value encountered in long_scalars\n",
      "  correct = np.sum(pred[con>=i] == truth[con>=i])/np.sum(con>=i)\n"
     ]
    },
    {
     "name": "stdout",
     "output_type": "stream",
     "text": [
      "Iteration: 12\n",
      "\n",
      "(40000, 32, 32, 3)\n",
      "(40000, 8)\n",
      "(8000, 32, 32, 3)\n",
      "(8000, 8)\n",
      "(40000, 32, 32, 3)\n",
      "(40000, 8)\n",
      "(8000, 32, 32, 3)\n",
      "(8000, 8)\n",
      "(40000, 8)\n",
      "250/250 [==============================] - 1s 2ms/step - loss: 0.7635 - accuracy: 0.7246\n",
      "[0.7635262608528137, 0.7246249914169312]\n",
      "Fit Imperfect EVM\n",
      "(40000, 128)\n",
      "(40000, 8)\n",
      "Fit Perfect EVM\n"
     ]
    },
    {
     "name": "stderr",
     "output_type": "stream",
     "text": [
      "/home/hardyc/Documents/CiFar-2 Iterations/Walter CNN/utils.py:173: RuntimeWarning: invalid value encountered in long_scalars\n",
      "  correct = np.sum(pred[con>=i] == truth[con>=i])/np.sum(con>=i)\n"
     ]
    },
    {
     "name": "stdout",
     "output_type": "stream",
     "text": [
      "Iteration: 13\n",
      "\n",
      "(40000, 32, 32, 3)\n",
      "(40000, 8)\n",
      "(8000, 32, 32, 3)\n",
      "(8000, 8)\n",
      "(40000, 32, 32, 3)\n",
      "(40000, 8)\n",
      "(8000, 32, 32, 3)\n",
      "(8000, 8)\n",
      "(40000, 8)\n",
      "250/250 [==============================] - 1s 3ms/step - loss: 0.9288 - accuracy: 0.6610\n",
      "[0.9287693500518799, 0.6610000133514404]\n",
      "Fit Imperfect EVM\n",
      "(40000, 128)\n",
      "(40000, 8)\n",
      "Fit Perfect EVM\n"
     ]
    },
    {
     "name": "stderr",
     "output_type": "stream",
     "text": [
      "/home/hardyc/Documents/CiFar-2 Iterations/Walter CNN/utils.py:173: RuntimeWarning: invalid value encountered in long_scalars\n",
      "  correct = np.sum(pred[con>=i] == truth[con>=i])/np.sum(con>=i)\n"
     ]
    },
    {
     "name": "stdout",
     "output_type": "stream",
     "text": [
      "Iteration: 14\n",
      "\n",
      "(40000, 32, 32, 3)\n",
      "(40000, 8)\n",
      "(8000, 32, 32, 3)\n",
      "(8000, 8)\n",
      "(40000, 32, 32, 3)\n",
      "(40000, 8)\n",
      "(8000, 32, 32, 3)\n",
      "(8000, 8)\n",
      "(40000, 8)\n",
      "250/250 [==============================] - 1s 3ms/step - loss: 0.7433 - accuracy: 0.7272\n",
      "[0.7432759404182434, 0.7272499799728394]\n",
      "Fit Imperfect EVM\n",
      "(40000, 128)\n",
      "(40000, 8)\n",
      "Fit Perfect EVM\n"
     ]
    },
    {
     "name": "stderr",
     "output_type": "stream",
     "text": [
      "/home/hardyc/Documents/CiFar-2 Iterations/Walter CNN/utils.py:173: RuntimeWarning: invalid value encountered in long_scalars\n",
      "  correct = np.sum(pred[con>=i] == truth[con>=i])/np.sum(con>=i)\n"
     ]
    },
    {
     "name": "stdout",
     "output_type": "stream",
     "text": [
      "Iteration: 15\n",
      "\n",
      "(40000, 32, 32, 3)\n",
      "(40000, 8)\n",
      "(8000, 32, 32, 3)\n",
      "(8000, 8)\n",
      "(40000, 32, 32, 3)\n",
      "(40000, 8)\n",
      "(8000, 32, 32, 3)\n",
      "(8000, 8)\n",
      "(40000, 8)\n",
      "250/250 [==============================] - 1s 3ms/step - loss: 0.8546 - accuracy: 0.6842\n",
      "[0.8546159267425537, 0.684249997138977]\n",
      "Fit Imperfect EVM\n",
      "(40000, 128)\n",
      "(40000, 8)\n",
      "Fit Perfect EVM\n"
     ]
    },
    {
     "name": "stderr",
     "output_type": "stream",
     "text": [
      "/home/hardyc/Documents/CiFar-2 Iterations/Walter CNN/utils.py:173: RuntimeWarning: invalid value encountered in long_scalars\n",
      "  correct = np.sum(pred[con>=i] == truth[con>=i])/np.sum(con>=i)\n"
     ]
    },
    {
     "name": "stdout",
     "output_type": "stream",
     "text": [
      "Iteration: 16\n",
      "\n",
      "(40000, 32, 32, 3)\n",
      "(40000, 8)\n",
      "(8000, 32, 32, 3)\n",
      "(8000, 8)\n",
      "(40000, 32, 32, 3)\n",
      "(40000, 8)\n",
      "(8000, 32, 32, 3)\n",
      "(8000, 8)\n",
      "(40000, 8)\n",
      "250/250 [==============================] - 1s 3ms/step - loss: 0.7637 - accuracy: 0.7236\n",
      "[0.763650119304657, 0.7236250042915344]\n",
      "Fit Imperfect EVM\n",
      "(40000, 128)\n",
      "(40000, 8)\n",
      "Fit Perfect EVM\n"
     ]
    },
    {
     "name": "stderr",
     "output_type": "stream",
     "text": [
      "/home/hardyc/Documents/CiFar-2 Iterations/Walter CNN/utils.py:173: RuntimeWarning: invalid value encountered in long_scalars\n",
      "  correct = np.sum(pred[con>=i] == truth[con>=i])/np.sum(con>=i)\n"
     ]
    },
    {
     "name": "stdout",
     "output_type": "stream",
     "text": [
      "Iteration: 17\n",
      "\n",
      "(40000, 32, 32, 3)\n",
      "(40000, 8)\n",
      "(8000, 32, 32, 3)\n",
      "(8000, 8)\n",
      "(40000, 32, 32, 3)\n",
      "(40000, 8)\n",
      "(8000, 32, 32, 3)\n",
      "(8000, 8)\n",
      "(40000, 8)\n",
      "250/250 [==============================] - 1s 3ms/step - loss: 0.7906 - accuracy: 0.7117\n",
      "[0.7906221747398376, 0.7117499709129333]\n",
      "Fit Imperfect EVM\n",
      "(40000, 128)\n",
      "(40000, 8)\n",
      "Fit Perfect EVM\n"
     ]
    },
    {
     "name": "stderr",
     "output_type": "stream",
     "text": [
      "/home/hardyc/Documents/CiFar-2 Iterations/Walter CNN/utils.py:173: RuntimeWarning: invalid value encountered in long_scalars\n",
      "  correct = np.sum(pred[con>=i] == truth[con>=i])/np.sum(con>=i)\n"
     ]
    },
    {
     "name": "stdout",
     "output_type": "stream",
     "text": [
      "Iteration: 18\n",
      "\n",
      "(40000, 32, 32, 3)\n",
      "(40000, 8)\n",
      "(8000, 32, 32, 3)\n",
      "(8000, 8)\n",
      "(40000, 32, 32, 3)\n",
      "(40000, 8)\n",
      "(8000, 32, 32, 3)\n",
      "(8000, 8)\n",
      "(40000, 8)\n",
      "250/250 [==============================] - 1s 3ms/step - loss: 0.9522 - accuracy: 0.6532\n",
      "[0.9521512389183044, 0.653249979019165]\n",
      "Fit Imperfect EVM\n",
      "(40000, 128)\n",
      "(40000, 8)\n",
      "Fit Perfect EVM\n"
     ]
    },
    {
     "name": "stderr",
     "output_type": "stream",
     "text": [
      "/home/hardyc/Documents/CiFar-2 Iterations/Walter CNN/utils.py:173: RuntimeWarning: invalid value encountered in long_scalars\n",
      "  correct = np.sum(pred[con>=i] == truth[con>=i])/np.sum(con>=i)\n"
     ]
    },
    {
     "name": "stdout",
     "output_type": "stream",
     "text": [
      "Iteration: 19\n",
      "\n",
      "(40000, 32, 32, 3)\n",
      "(40000, 8)\n",
      "(8000, 32, 32, 3)\n",
      "(8000, 8)\n",
      "(40000, 32, 32, 3)\n",
      "(40000, 8)\n",
      "(8000, 32, 32, 3)\n",
      "(8000, 8)\n",
      "(40000, 8)\n",
      "250/250 [==============================] - 1s 3ms/step - loss: 0.6484 - accuracy: 0.7688\n",
      "[0.6483741402626038, 0.768750011920929]\n",
      "Fit Imperfect EVM\n",
      "(40000, 128)\n",
      "(40000, 8)\n",
      "Fit Perfect EVM\n"
     ]
    },
    {
     "name": "stderr",
     "output_type": "stream",
     "text": [
      "/home/hardyc/Documents/CiFar-2 Iterations/Walter CNN/utils.py:173: RuntimeWarning: invalid value encountered in long_scalars\n",
      "  correct = np.sum(pred[con>=i] == truth[con>=i])/np.sum(con>=i)\n"
     ]
    },
    {
     "name": "stdout",
     "output_type": "stream",
     "text": [
      "Iteration: 20\n",
      "\n",
      "(40000, 32, 32, 3)\n",
      "(40000, 8)\n",
      "(8000, 32, 32, 3)\n",
      "(8000, 8)\n",
      "(40000, 32, 32, 3)\n",
      "(40000, 8)\n",
      "(8000, 32, 32, 3)\n",
      "(8000, 8)\n",
      "(40000, 8)\n",
      "250/250 [==============================] - 1s 3ms/step - loss: 0.5810 - accuracy: 0.7946\n",
      "[0.5810049176216125, 0.7946249842643738]\n",
      "Fit Imperfect EVM\n",
      "(40000, 128)\n",
      "(40000, 8)\n",
      "Fit Perfect EVM\n"
     ]
    },
    {
     "name": "stderr",
     "output_type": "stream",
     "text": [
      "/home/hardyc/Documents/CiFar-2 Iterations/Walter CNN/utils.py:173: RuntimeWarning: invalid value encountered in long_scalars\n",
      "  correct = np.sum(pred[con>=i] == truth[con>=i])/np.sum(con>=i)\n"
     ]
    },
    {
     "name": "stdout",
     "output_type": "stream",
     "text": [
      "Iteration: 21\n",
      "\n",
      "(40000, 32, 32, 3)\n",
      "(40000, 8)\n",
      "(8000, 32, 32, 3)\n",
      "(8000, 8)\n",
      "(40000, 32, 32, 3)\n",
      "(40000, 8)\n",
      "(8000, 32, 32, 3)\n",
      "(8000, 8)\n",
      "(40000, 8)\n",
      "250/250 [==============================] - 1s 3ms/step - loss: 0.7322 - accuracy: 0.7389\n",
      "[0.732227087020874, 0.7388749718666077]\n",
      "Fit Imperfect EVM\n",
      "(40000, 128)\n",
      "(40000, 8)\n",
      "Fit Perfect EVM\n"
     ]
    },
    {
     "name": "stderr",
     "output_type": "stream",
     "text": [
      "/home/hardyc/Documents/CiFar-2 Iterations/Walter CNN/utils.py:173: RuntimeWarning: invalid value encountered in long_scalars\n",
      "  correct = np.sum(pred[con>=i] == truth[con>=i])/np.sum(con>=i)\n"
     ]
    },
    {
     "name": "stdout",
     "output_type": "stream",
     "text": [
      "Iteration: 22\n",
      "\n",
      "(40000, 32, 32, 3)\n",
      "(40000, 8)\n",
      "(8000, 32, 32, 3)\n",
      "(8000, 8)\n",
      "(40000, 32, 32, 3)\n",
      "(40000, 8)\n",
      "(8000, 32, 32, 3)\n",
      "(8000, 8)\n",
      "(40000, 8)\n",
      "250/250 [==============================] - 1s 3ms/step - loss: 0.8149 - accuracy: 0.7061\n",
      "[0.814925491809845, 0.706125020980835]\n",
      "Fit Imperfect EVM\n",
      "(40000, 128)\n",
      "(40000, 8)\n",
      "Fit Perfect EVM\n"
     ]
    },
    {
     "name": "stderr",
     "output_type": "stream",
     "text": [
      "/home/hardyc/Documents/CiFar-2 Iterations/Walter CNN/utils.py:173: RuntimeWarning: invalid value encountered in long_scalars\n",
      "  correct = np.sum(pred[con>=i] == truth[con>=i])/np.sum(con>=i)\n"
     ]
    },
    {
     "name": "stdout",
     "output_type": "stream",
     "text": [
      "Iteration: 23\n",
      "\n",
      "(40000, 32, 32, 3)\n",
      "(40000, 8)\n",
      "(8000, 32, 32, 3)\n",
      "(8000, 8)\n",
      "(40000, 32, 32, 3)\n",
      "(40000, 8)\n",
      "(8000, 32, 32, 3)\n",
      "(8000, 8)\n",
      "(40000, 8)\n",
      "250/250 [==============================] - 1s 3ms/step - loss: 0.6999 - accuracy: 0.7465\n",
      "[0.6999437808990479, 0.7465000152587891]\n",
      "Fit Imperfect EVM\n",
      "(40000, 128)\n",
      "(40000, 8)\n",
      "Fit Perfect EVM\n"
     ]
    },
    {
     "name": "stderr",
     "output_type": "stream",
     "text": [
      "/home/hardyc/Documents/CiFar-2 Iterations/Walter CNN/utils.py:173: RuntimeWarning: invalid value encountered in long_scalars\n",
      "  correct = np.sum(pred[con>=i] == truth[con>=i])/np.sum(con>=i)\n"
     ]
    },
    {
     "name": "stdout",
     "output_type": "stream",
     "text": [
      "Iteration: 24\n",
      "\n",
      "(40000, 32, 32, 3)\n",
      "(40000, 8)\n",
      "(8000, 32, 32, 3)\n",
      "(8000, 8)\n",
      "(40000, 32, 32, 3)\n",
      "(40000, 8)\n",
      "(8000, 32, 32, 3)\n",
      "(8000, 8)\n",
      "(40000, 8)\n",
      "250/250 [==============================] - 1s 3ms/step - loss: 0.8767 - accuracy: 0.6779\n",
      "[0.8766806721687317, 0.6778749823570251]\n",
      "Fit Imperfect EVM\n",
      "(40000, 128)\n",
      "(40000, 8)\n",
      "Fit Perfect EVM\n"
     ]
    },
    {
     "name": "stderr",
     "output_type": "stream",
     "text": [
      "/home/hardyc/Documents/CiFar-2 Iterations/Walter CNN/utils.py:173: RuntimeWarning: invalid value encountered in long_scalars\n",
      "  correct = np.sum(pred[con>=i] == truth[con>=i])/np.sum(con>=i)\n"
     ]
    },
    {
     "name": "stdout",
     "output_type": "stream",
     "text": [
      "Iteration: 25\n",
      "\n",
      "(40000, 32, 32, 3)\n",
      "(40000, 8)\n",
      "(8000, 32, 32, 3)\n",
      "(8000, 8)\n",
      "(40000, 32, 32, 3)\n",
      "(40000, 8)\n",
      "(8000, 32, 32, 3)\n",
      "(8000, 8)\n",
      "(40000, 8)\n",
      "250/250 [==============================] - 1s 3ms/step - loss: 0.8654 - accuracy: 0.6825\n",
      "[0.8653954267501831, 0.6825000047683716]\n",
      "Fit Imperfect EVM\n",
      "(40000, 128)\n",
      "(40000, 8)\n",
      "Fit Perfect EVM\n"
     ]
    },
    {
     "name": "stderr",
     "output_type": "stream",
     "text": [
      "/home/hardyc/Documents/CiFar-2 Iterations/Walter CNN/utils.py:173: RuntimeWarning: invalid value encountered in long_scalars\n",
      "  correct = np.sum(pred[con>=i] == truth[con>=i])/np.sum(con>=i)\n"
     ]
    },
    {
     "name": "stdout",
     "output_type": "stream",
     "text": [
      "Iteration: 26\n",
      "\n",
      "(40000, 32, 32, 3)\n",
      "(40000, 8)\n",
      "(8000, 32, 32, 3)\n",
      "(8000, 8)\n",
      "(40000, 32, 32, 3)\n",
      "(40000, 8)\n",
      "(8000, 32, 32, 3)\n",
      "(8000, 8)\n",
      "(40000, 8)\n",
      "250/250 [==============================] - 1s 3ms/step - loss: 0.8911 - accuracy: 0.6722\n",
      "[0.8910595178604126, 0.672249972820282]\n",
      "Fit Imperfect EVM\n",
      "(40000, 128)\n",
      "(40000, 8)\n",
      "Fit Perfect EVM\n"
     ]
    },
    {
     "name": "stderr",
     "output_type": "stream",
     "text": [
      "/home/hardyc/Documents/CiFar-2 Iterations/Walter CNN/utils.py:173: RuntimeWarning: invalid value encountered in long_scalars\n",
      "  correct = np.sum(pred[con>=i] == truth[con>=i])/np.sum(con>=i)\n"
     ]
    },
    {
     "name": "stdout",
     "output_type": "stream",
     "text": [
      "Iteration: 27\n",
      "\n",
      "(40000, 32, 32, 3)\n",
      "(40000, 8)\n",
      "(8000, 32, 32, 3)\n",
      "(8000, 8)\n",
      "(40000, 32, 32, 3)\n",
      "(40000, 8)\n",
      "(8000, 32, 32, 3)\n",
      "(8000, 8)\n",
      "(40000, 8)\n",
      "250/250 [==============================] - 1s 3ms/step - loss: 0.7614 - accuracy: 0.7319\n",
      "[0.761444628238678, 0.7318750023841858]\n",
      "Fit Imperfect EVM\n",
      "(40000, 128)\n",
      "(40000, 8)\n",
      "Fit Perfect EVM\n"
     ]
    },
    {
     "name": "stderr",
     "output_type": "stream",
     "text": [
      "/home/hardyc/Documents/CiFar-2 Iterations/Walter CNN/utils.py:173: RuntimeWarning: invalid value encountered in long_scalars\n",
      "  correct = np.sum(pred[con>=i] == truth[con>=i])/np.sum(con>=i)\n"
     ]
    },
    {
     "name": "stdout",
     "output_type": "stream",
     "text": [
      "Iteration: 28\n",
      "\n",
      "(40000, 32, 32, 3)\n",
      "(40000, 8)\n",
      "(8000, 32, 32, 3)\n",
      "(8000, 8)\n",
      "(40000, 32, 32, 3)\n",
      "(40000, 8)\n",
      "(8000, 32, 32, 3)\n",
      "(8000, 8)\n",
      "(40000, 8)\n",
      "250/250 [==============================] - 1s 3ms/step - loss: 0.8179 - accuracy: 0.6954\n",
      "[0.8179044127464294, 0.6953750252723694]\n",
      "Fit Imperfect EVM\n",
      "(40000, 128)\n",
      "(40000, 8)\n",
      "Fit Perfect EVM\n"
     ]
    },
    {
     "name": "stderr",
     "output_type": "stream",
     "text": [
      "/home/hardyc/Documents/CiFar-2 Iterations/Walter CNN/utils.py:173: RuntimeWarning: invalid value encountered in long_scalars\n",
      "  correct = np.sum(pred[con>=i] == truth[con>=i])/np.sum(con>=i)\n"
     ]
    },
    {
     "name": "stdout",
     "output_type": "stream",
     "text": [
      "Iteration: 29\n",
      "\n",
      "(40000, 32, 32, 3)\n",
      "(40000, 8)\n",
      "(8000, 32, 32, 3)\n",
      "(8000, 8)\n",
      "(40000, 32, 32, 3)\n",
      "(40000, 8)\n",
      "(8000, 32, 32, 3)\n",
      "(8000, 8)\n",
      "(40000, 8)\n",
      "250/250 [==============================] - 1s 3ms/step - loss: 0.7326 - accuracy: 0.7379\n",
      "[0.7325603365898132, 0.7378749847412109]\n",
      "Fit Imperfect EVM\n",
      "(40000, 128)\n",
      "(40000, 8)\n",
      "Fit Perfect EVM\n"
     ]
    },
    {
     "name": "stderr",
     "output_type": "stream",
     "text": [
      "/home/hardyc/Documents/CiFar-2 Iterations/Walter CNN/utils.py:173: RuntimeWarning: invalid value encountered in long_scalars\n",
      "  correct = np.sum(pred[con>=i] == truth[con>=i])/np.sum(con>=i)\n"
     ]
    }
   ],
   "source": [
    "import pandas as pd\n",
    "##\n",
    "## Define places to store results\n",
    "##\n",
    "imp_known_correct_all = []\n",
    "imp_known_novel_all = []\n",
    "imp_unknown_correct_all = []\n",
    "imp_unknown_novel_all = []\n",
    "per_known_correct_all = []\n",
    "per_known_novel_all = []\n",
    "per_unknown_correct_all = []\n",
    "per_unknown_novel_all = []\n",
    "\n",
    "\n",
    "df = pd.DataFrame(columns=['Iteration', 'Unknown Classes', 'imp_known_correct_all', 'imp_known_novel_all', 'imp_unknown_novel_all','per_known_correct_all','per_known_novel_all','per_unknown_novel_all'])\n",
    "\n",
    "##\n",
    "## Begin experiments\n",
    "##\n",
    "for i in range(iterations):\n",
    "    print('Iteration: ' + str(i))\n",
    "    print()\n",
    "    \n",
    "    ##\n",
    "    ## Split the data into known and unknown classes\n",
    "    ##\n",
    "    toRemove = np.random.choice(10, num_to_remove, replace = False)                                         ## Randomly pick unknown classes\n",
    "    x_train_known, x_train_unknown, y_train_known, y_train_unknown = split_data(x_train, y_train, toRemove) ## Split train data (defined in utils.py)\n",
    "    x_test_known, x_test_unknown, y_test_known, y_test_unknown = split_data(x_test, y_test, toRemove)       ## Split test data (defined in utils.py)\n",
    "\n",
    "    print(x_train_known.shape)\n",
    "    print(y_train_known.shape)\n",
    "    print(x_test_known.shape)\n",
    "    print(y_test_known.shape)\n",
    "    \n",
    "    ##\n",
    "    ## Train a classifier based feature extractor using only the known classes\n",
    "    ##\n",
    "    #y_train_known = tf.keras.utils.to_categorical(y_train_known) \n",
    "    #y_test_known = tf.keras.utils.to_categorical(y_test_known) \n",
    "    \n",
    "    print(x_train_known.shape)\n",
    "    print(y_train_known.shape)\n",
    "    print(x_test_known.shape)\n",
    "    print(y_test_known.shape)\n",
    "    \n",
    "    y_train_known = np.squeeze(y_train_known)\n",
    "    print(y_train_known.shape)\n",
    "    imperfect = feature_model2(10-num_to_remove, x_train_known, y_train_known, x_test_known, y_test_known, epochs = epochs, batch_size = 32, verbose = 0)\n",
    "\n",
    "    ##\n",
    "    ## Extract features with imperfect extractor\n",
    "    ##\n",
    "    x_train_known_imp = imperfect.predict(x_train_known)\n",
    "    x_test_known_imp = imperfect.predict(x_test_known)\n",
    "    x_test_unknown_imp = imperfect.predict(x_test_unknown)\n",
    "\n",
    "    ##\n",
    "    ## Extract features with perfect extractor\n",
    "    ##\n",
    "    x_train_known_per = perfect.predict(x_train_known)\n",
    "    x_test_known_per = perfect.predict(x_test_known)\n",
    "    x_test_unknown_per = perfect.predict(x_test_unknown)\n",
    "\n",
    "    ##\n",
    "    ## Fit EVMs\n",
    "    ##\n",
    "    evm_options = evm_flat.EVMOptions(tailsize = tailsize, cover_threshold = cover_threshold , dist_func = dist_func, num_to_fuse = num_to_fuse, margin_scale = margin_scale)\n",
    "    \n",
    "    print('Fit Imperfect EVM')\n",
    "    evm_imp = evm_flat.ExtremeValueMachine('imperfect', evm_options)\n",
    "    print(x_train_known_imp.shape)\n",
    "    print(y_train_known.shape)\n",
    "    evm_imp.train(x_train_known_imp, y_train_known)\n",
    "    print('Fit Perfect EVM')\n",
    "    evm_per = evm_flat.ExtremeValueMachine('perfect', evm_options)\n",
    "    evm_per.train(x_train_known_per, y_train_known)\n",
    "\n",
    "    ##\n",
    "    ## Make Predictions with EVM\n",
    "    ##\n",
    "    imp_pred_known = evm_imp.confidence(x_test_known_imp)\n",
    "    imp_pred_unknown = evm_imp.confidence(x_test_unknown_imp)\n",
    "    per_pred_known = evm_per.confidence(x_test_known_per)\n",
    "    per_pred_unknown = evm_per.confidence(x_test_unknown_per)\n",
    "\n",
    "    ##\n",
    "    ## Evaluate Predictions\n",
    "    ##\n",
    "    imp_known_correct, imp_known_novel = eval(imp_pred_known, y_test_known, thresholds)           ## eval defined in utils.py\n",
    "    imp_unknown_correct, imp_unknown_novel = eval(imp_pred_unknown, y_test_unknown, thresholds)\n",
    "    per_known_correct, per_known_novel = eval(per_pred_known, y_test_known, thresholds)\n",
    "    per_unknown_correct, per_unknown_novel = eval(per_pred_unknown, y_test_unknown, thresholds)\n",
    "    \n",
    "    ##\n",
    "    ## Store results\n",
    "    ##\n",
    "    imp_known_correct_all.append(imp_known_correct)      ## imp_known_correct: correct classification percentage of known instances by the imperfect EVM (instances called novel not considered)\n",
    "    imp_known_novel_all.append(imp_known_novel)          ## imp_known_novel: percentage of known instances called novel by the imperfect EVM \n",
    "    imp_unknown_novel_all.append(imp_unknown_novel)      ## imp_unknown_novel: percentage of unknown instances called novel by the imperfect EVM\n",
    "    per_known_correct_all.append(per_known_correct)      ## per_known_correct: correct classification percentage of known instances by the perfect EVM (instances called novel not considered)\n",
    "    per_known_novel_all.append(per_known_novel)          ## per_known_novel: percentage of known instances called novel by the perfect EVM\n",
    "    per_unknown_novel_all.append(per_unknown_novel)      ## per_unknown_novel: percentage of unknown instances called novel by the perfect EVM\n",
    "    if i <= 5:\n",
    "        df = df.append({'Iteration':i, 'Unknown Classes': toRemove, 'imp_known_correct_all':imp_known_correct_all, 'imp_known_novel_all':imp_known_novel_all, 'imp_unknown_novel_all':imp_unknown_novel_all,'per_known_correct_all':per_known_correct_all,'per_known_novel_all':per_known_novel_all,'per_unknown_novel_all':per_unknown_novel_all}, ignore_index=True)\n",
    "        df.to_csv(r'./cnn_df_cf2_five_iter(s).csv', index= False,header=True)\n",
    "        df.to_csv(r'./cnn_df_cf2.csv', index= False,header=True)\n",
    "    else:\n",
    "        df = df.append({'Iteration':i, 'Unknown Classes': toRemove, 'imp_known_correct_all':imp_known_correct_all, 'imp_known_novel_all':imp_known_novel_all, 'imp_unknown_novel_all':imp_unknown_novel_all,'per_known_correct_all':per_known_correct_all,'per_known_novel_all':per_known_novel_all,'per_unknown_novel_all':per_unknown_novel_all}, ignore_index=True)\n",
    "        df.to_csv(r'./cnn_df_cf2.csv', index= False,header=True)"
   ]
  },
  {
   "cell_type": "code",
   "execution_count": 8,
   "metadata": {},
   "outputs": [
    {
     "data": {
      "image/png": "[encoded data removed]",
      "text/plain": [
       "<Figure size 1008x216 with 3 Axes>"
      ]
     },
     "metadata": {
      "needs_background": "light"
     },
     "output_type": "display_data"
    }
   ],
   "source": [
    "import matplotlib.pyplot as plt\n",
    "\n",
    "\n",
    "\n",
    "fig = plt.figure(figsize = (14, 3))\n",
    "ax1 = fig.add_subplot(131)\n",
    "ax2 = fig.add_subplot(132)\n",
    "ax3 = fig.add_subplot(133)\n",
    "\n",
    "ax1.title.set_text('Knowns: Correct Classification Rate')\n",
    "ax2.title.set_text('Knowns: False Novel Rate')\n",
    "ax3.title.set_text('Unknowns: True Novel Rate')\n",
    "\n",
    "ax1.plot(thresholds, np.mean(imp_known_correct_all, axis = 0), label = 'Imperfect')\n",
    "ax1.plot(thresholds, np.mean(per_known_correct_all, axis = 0), label = 'Perfect')\n",
    "\n",
    "\n",
    "ax2.plot(thresholds, np.mean(imp_known_novel_all, axis = 0), label = 'Imperfect')\n",
    "ax2.plot(thresholds, np.mean(per_known_novel_all, axis = 0), label = 'Perfect')\n",
    "\n",
    "ax3.plot(thresholds, np.mean(imp_unknown_novel_all, axis = 0), label = 'Imperfect')\n",
    "ax3.plot(thresholds, np.mean(per_unknown_novel_all, axis = 0), label = 'Perfect')\n",
    "\n",
    "handles, labels = ax1.get_legend_handles_labels()\n",
    "fig.legend(handles, labels, loc='upper left')\n",
    "\n",
    "plt.savefig('CNN_images_cf2_30iter.pdf')\n",
    "plt.show()"
   ]
  },
  {
   "cell_type": "code",
   "execution_count": null,
   "metadata": {},
   "outputs": [],
   "source": []
  }
 ],
 "metadata": {
  "kernelspec": {
   "display_name": "thesisEnv",
   "language": "python",
   "name": "thesisenv"
  },
  "language_info": {
   "codemirror_mode": {
    "name": "ipython",
    "version": 3
   },
   "file_extension": ".py",
   "mimetype": "text/x-python",
   "name": "python",
   "nbconvert_exporter": "python",
   "pygments_lexer": "ipython3",
   "version": "3.8.3"
  }
 },
 "nbformat": 4,
 "nbformat_minor": 4
}
